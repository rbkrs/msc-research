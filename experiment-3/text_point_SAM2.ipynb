{
  "cells": [
    {
      "cell_type": "markdown",
      "metadata": {
        "id": "5tmd7-57XUet"
      },
      "source": [
        "# Run Inference with Molmo"
      ]
    },
    {
      "cell_type": "code",
      "execution_count": null,
      "metadata": {
        "cellView": "form",
        "colab": {
          "base_uri": "https://localhost:8080/",
          "height": 66,
          "referenced_widgets": [
            "5dc2bb39b83f465380eb44a3c2478cc4",
            "cb56b1b1486f4d8aa3ca4f25758cdc4e",
            "5ef03296d11c49b88d154a49ca9fc5fc",
            "44430f3259114deea869bd29c8cd7216",
            "8d85d7a9d9d4454b8cf4b81cbb7d6fab",
            "a88519900c964c60926dbe278359ae6f",
            "a60ac087ac674b7fac6f54682f51f375",
            "322bd07f19f44d0dbc75734b533e52ab",
            "5505d6f2ec184bb7b6927c3cda66aa9d",
            "edcb1f3aca7042f2802666a147133aa4",
            "0fb73b6d3355495ba57f398545a60f21"
          ]
        },
        "id": "DsAumdxsfUc7",
        "outputId": "feaf5d42-5d07-4580-ebe4-9e77ab09e5c8"
      },
      "outputs": [
        {
          "name": "stderr",
          "output_type": "stream",
          "text": [
            "Using a slow image processor as `use_fast` is unset and a slow processor was saved with this model. `use_fast=True` will be the default behavior in v4.52, even if the model was saved with a slow processor. This will result in minor differences in outputs. You'll still be able to use a slow processor with `use_fast=False`.\n"
          ]
        },
        {
          "data": {
            "application/vnd.jupyter.widget-view+json": {
              "model_id": "7746d50e13dd4554bfd91bdd7f45a3e4",
              "version_major": 2,
              "version_minor": 0
            },
            "text/plain": [
              "Loading checkpoint shards:   0%|          | 0/7 [00:00<?, ?it/s]"
            ]
          },
          "metadata": {},
          "output_type": "display_data"
        },
        {
          "name": "stderr",
          "output_type": "stream",
          "text": [
            "c:\\Users\\robkr\\anaconda3\\Lib\\site-packages\\bitsandbytes\\nn\\modules.py:451: UserWarning: Input type into Linear4bit is torch.float16, but bnb_4bit_compute_dtype=torch.float32 (default). This will lead to slow inference or training speed.\n",
            "  warnings.warn(\n"
          ]
        },
        {
          "name": "stdout",
          "output_type": "stream",
          "text": [
            " <point x=\"31.2\" y=\"48.3\" alt=\"kaytay\">kaytay</point>\n"
          ]
        }
      ],
      "source": [
        "import torch\n",
        "from transformers import AutoModelForCausalLM, AutoProcessor, GenerationConfig, BitsAndBytesConfig\n",
        "from PIL import Image\n",
        "import requests\n",
        "\n",
        "load_in_8bit = False\n",
        "load_in_4bit = True\n",
        "mixed_precision = \"bf16\"\n",
        "\n",
        "device_map = \"auto\"\n",
        "torch_dtype = torch.float16\n",
        "\n",
        "quantization_config = BitsAndBytesConfig(\n",
        "    load_in_4bit=True,    \n",
        "    llm_int8_enable_fp32_cpu_offload=True \n",
        ")\n",
        "\n",
        "# load the processor\n",
        "processor = AutoProcessor.from_pretrained(\n",
        "    'allenai/Molmo-7B-D-0924',\n",
        "    trust_remote_code=True,\n",
        "    device_map=device_map,\n",
        "    torch_dtype=torch.float16,\n",
        ")\n",
        "\n",
        "# load the model\n",
        "model = AutoModelForCausalLM.from_pretrained(\n",
        "    'allenai/Molmo-7B-D-0924',\n",
        "    trust_remote_code=True,\n",
        "    quantization_config=quantization_config,\n",
        "    device_map=device_map,\n",
        "    torch_dtype=torch.float16,\n",
        ")\n",
        "\n",
        "# (Randomly sampled) list of pseudowords to iterate over: mahnoo, lohmah, teepuh, kaytay\n",
        "prompt = 'mahnoo' # @param {type:\"string\"}\n",
        "\n",
        "# process the image and text\n",
        "img = Image.open(\"concat_images/9c.png\")\n",
        "inputs = processor.process(\n",
        "    images=[img],\n",
        "    text=\"Point to the {} in the scene.\".format(prompt),\n",
        ")\n",
        "inputs[\"images\"] = inputs[\"images\"].to(torch.float16)\n",
        "\n",
        "inputs = {k: v.to(model.device).unsqueeze(0) for k, v in inputs.items()}\n",
        "\n",
        "with torch.no_grad():\n",
        "        with torch.autocast(device_type=\"cuda\", enabled=True, dtype=torch.float32):\n",
        "                output = model.generate_from_batch(\n",
        "                    inputs,\n",
        "                    GenerationConfig(max_new_tokens=100, stop_strings=\"<|endoftext|>\"),\n",
        "                    tokenizer=processor.tokenizer\n",
        "                )\n",
        "\n",
        "                # only get generated tokens; decode them to text\n",
        "                generated_tokens = output[0,inputs['input_ids'].size(1):]\n",
        "                generated_text = processor.tokenizer.decode(generated_tokens, skip_special_tokens=True)\n",
        "\n",
        "                # print the generated text\n",
        "                print(generated_text)"
      ]
    },
    {
      "cell_type": "markdown",
      "metadata": {
        "id": "1kTbGTNGWPxJ"
      },
      "source": [
        "# Parsing Points from Molmo's Response\n",
        "## https://huggingface.co/allenai/Molmo-7B-O-0924/discussions/1"
      ]
    },
    {
      "cell_type": "code",
      "execution_count": 2,
      "metadata": {
        "id": "LJHfPCwMJb_0"
      },
      "outputs": [],
      "source": [
        "import re\n",
        "import numpy as np\n",
        "\n",
        "def extract_points(molmo_output, image_w, image_h):\n",
        "    all_points = []\n",
        "    for match in re.finditer(r'x\\d*=\"\\s*([0-9]+(?:\\.[0-9]+)?)\"\\s+y\\d*=\"\\s*([0-9]+(?:\\.[0-9]+)?)\"', molmo_output):\n",
        "        try:\n",
        "            point = [float(match.group(i)) for i in range(1, 3)]\n",
        "        except ValueError:\n",
        "            pass\n",
        "        else:\n",
        "            point = np.array(point)\n",
        "            if np.max(point) > 100:\n",
        "                # Treat as an invalid output\n",
        "                continue\n",
        "            point /= 100.0\n",
        "            point = point * np.array([image_w, image_h])\n",
        "            all_points.append(point)    \n",
        "    return all_points\n",
        "\n",
        "w, h = img.size\n",
        "points = extract_points(generated_text, w, h)"
      ]
    },
    {
      "cell_type": "code",
      "execution_count": 3,
      "metadata": {},
      "outputs": [
        {
          "name": "stdout",
          "output_type": "stream",
          "text": [
            "[array([ 69.888, 108.192])]\n"
          ]
        }
      ],
      "source": [
        "print(points)"
      ]
    },
    {
      "cell_type": "markdown",
      "metadata": {
        "id": "_WOwMjpuWBM0"
      },
      "source": [
        "# Segmenting with SAM2"
      ]
    },
    {
      "cell_type": "code",
      "execution_count": 4,
      "metadata": {
        "colab": {
          "base_uri": "https://localhost:8080/"
        },
        "id": "3uz0dZvZF3da",
        "outputId": "1f5be5a4-0e1d-4c36-d660-0c989f2b5272"
      },
      "outputs": [
        {
          "name": "stdout",
          "output_type": "stream",
          "text": [
            "using device: cuda\n"
          ]
        }
      ],
      "source": [
        "# select the device for computation\n",
        "if torch.cuda.is_available():\n",
        "    device = torch.device(\"cuda\")\n",
        "elif torch.backends.mps.is_available():\n",
        "    device = torch.device(\"mps\")\n",
        "else:\n",
        "    device = torch.device(\"cpu\")\n",
        "print(f\"using device: {device}\")\n",
        "\n",
        "if device.type == \"cuda\":\n",
        "    # use bfloat16 for the entire notebook\n",
        "    torch.autocast(\"cuda\", dtype=torch.bfloat16).__enter__()\n",
        "    # turn on tfloat32 for Ampere GPUs (https://pytorch.org/docs/stable/notes/cuda.html#tensorfloat-32-tf32-on-ampere-devices)\n",
        "    if torch.cuda.get_device_properties(0).major >= 8:\n",
        "        torch.backends.cuda.matmul.allow_tf32 = True\n",
        "        torch.backends.cudnn.allow_tf32 = True\n",
        "elif device.type == \"mps\":\n",
        "    print(\n",
        "        \"\\nSupport for MPS devices is preliminary. SAM 2 is trained with CUDA and might \"\n",
        "        \"give numerically different outputs and sometimes degraded performance on MPS. \"\n",
        "        \"See e.g. https://github.com/pytorch/pytorch/issues/84936 for a discussion.\"\n",
        "    )"
      ]
    },
    {
      "cell_type": "code",
      "execution_count": 5,
      "metadata": {
        "colab": {
          "base_uri": "https://localhost:8080/"
        },
        "id": "cJdHU1OJIwdm",
        "outputId": "d9addd59-ba1d-4490-f645-181473383c83"
      },
      "outputs": [
        {
          "name": "stdout",
          "output_type": "stream",
          "text": [
            "PyTorch version: 2.6.0+cu118\n",
            "Torchvision version: 0.21.0+cu118\n",
            "CUDA is available: True\n",
            "Requirement already satisfied: opencv-python in c:\\users\\robkr\\anaconda3\\lib\\site-packages (4.11.0.86)\n",
            "Requirement already satisfied: matplotlib in c:\\users\\robkr\\anaconda3\\lib\\site-packages (3.9.2)\n",
            "Requirement already satisfied: numpy>=1.21.2 in c:\\users\\robkr\\anaconda3\\lib\\site-packages (from opencv-python) (1.26.4)\n",
            "Requirement already satisfied: contourpy>=1.0.1 in c:\\users\\robkr\\anaconda3\\lib\\site-packages (from matplotlib) (1.2.0)\n",
            "Requirement already satisfied: cycler>=0.10 in c:\\users\\robkr\\anaconda3\\lib\\site-packages (from matplotlib) (0.11.0)\n",
            "Requirement already satisfied: fonttools>=4.22.0 in c:\\users\\robkr\\anaconda3\\lib\\site-packages (from matplotlib) (4.51.0)\n",
            "Requirement already satisfied: kiwisolver>=1.3.1 in c:\\users\\robkr\\anaconda3\\lib\\site-packages (from matplotlib) (1.4.4)\n",
            "Requirement already satisfied: packaging>=20.0 in c:\\users\\robkr\\anaconda3\\lib\\site-packages (from matplotlib) (24.1)\n",
            "Requirement already satisfied: pillow>=8 in c:\\users\\robkr\\anaconda3\\lib\\site-packages (from matplotlib) (10.4.0)\n",
            "Requirement already satisfied: pyparsing>=2.3.1 in c:\\users\\robkr\\anaconda3\\lib\\site-packages (from matplotlib) (3.1.2)\n",
            "Requirement already satisfied: python-dateutil>=2.7 in c:\\users\\robkr\\anaconda3\\lib\\site-packages (from matplotlib) (2.9.0.post0)\n",
            "Requirement already satisfied: six>=1.5 in c:\\users\\robkr\\anaconda3\\lib\\site-packages (from python-dateutil>=2.7->matplotlib) (1.16.0)\n"
          ]
        },
        {
          "name": "stderr",
          "output_type": "stream",
          "text": [
            "ERROR: Invalid requirement: \"'git+https://github.com/facebookresearch/segment-anything-2.git'\": Expected package name at the start of dependency specifier\n",
            "    'git+https://github.com/facebookresearch/segment-anything-2.git'\n",
            "    ^\n"
          ]
        }
      ],
      "source": [
        "if True:\n",
        "    import torch\n",
        "    import torchvision\n",
        "    print(\"PyTorch version:\", torch.__version__)\n",
        "    print(\"Torchvision version:\", torchvision.__version__)\n",
        "    print(\"CUDA is available:\", torch.cuda.is_available())\n",
        "    import sys\n",
        "    !{sys.executable} -m pip install opencv-python matplotlib\n",
        "    !{sys.executable} -m pip install 'git+https://github.com/facebookresearch/segment-anything-2.git'"
      ]
    },
    {
      "cell_type": "code",
      "execution_count": 6,
      "metadata": {
        "id": "i3nmjD07I0Jd"
      },
      "outputs": [],
      "source": [
        "import numpy as np\n",
        "import matplotlib.pyplot as plt\n",
        "\n",
        "np.random.seed(3)\n",
        "\n",
        "def show_mask(mask, ax, random_color=False, borders = True):\n",
        "    if random_color:\n",
        "        color = np.concatenate([np.random.random(3), np.array([0.6])], axis=0)\n",
        "    else:\n",
        "        color = np.array([30/255, 144/255, 255/255, 0.6])\n",
        "    h, w = mask.shape[-2:]\n",
        "    mask = mask.astype(np.uint8)\n",
        "    mask_image =  mask.reshape(h, w, 1) * color.reshape(1, 1, -1)\n",
        "    if borders:\n",
        "        import cv2\n",
        "        contours, _ = cv2.findContours(mask,cv2.RETR_EXTERNAL, cv2.CHAIN_APPROX_NONE)\n",
        "        # Try to smooth contours\n",
        "        contours = [cv2.approxPolyDP(contour, epsilon=0.01, closed=True) for contour in contours]\n",
        "        mask_image = cv2.drawContours(mask_image, contours, -1, (1, 1, 1, 0.5), thickness=2)\n",
        "    ax.imshow(mask_image)\n",
        "\n",
        "def show_points(coords, labels, ax, marker_size=375):\n",
        "    pos_points = coords[labels==1]\n",
        "    neg_points = coords[labels==0]\n",
        "    ax.scatter(pos_points[:, 0], pos_points[:, 1], color='green', marker='*', s=marker_size, edgecolor='white', linewidth=1.25)\n",
        "    ax.scatter(neg_points[:, 0], neg_points[:, 1], color='red', marker='*', s=marker_size, edgecolor='white', linewidth=1.25)\n",
        "\n",
        "def show_box(box, ax):\n",
        "    x0, y0 = box[0], box[1]\n",
        "    w, h = box[2] - box[0], box[3] - box[1]\n",
        "    ax.add_patch(plt.Rectangle((x0, y0), w, h, edgecolor='green', facecolor=(0, 0, 0, 0), lw=2))\n",
        "\n",
        "def show_masks(image, masks, scores, point_coords=None, box_coords=None, input_labels=None, borders=True):\n",
        "    for i, (mask, score) in enumerate(zip(masks, scores)):\n",
        "        plt.figure(figsize=(10, 10))\n",
        "        plt.imshow(image)\n",
        "        show_mask(mask, plt.gca(), borders=borders)\n",
        "        if point_coords is not None:\n",
        "            assert input_labels is not None\n",
        "            show_points(point_coords, input_labels, plt.gca())\n",
        "        if box_coords is not None:\n",
        "            # boxes\n",
        "            show_box(box_coords, plt.gca())\n",
        "        if len(scores) > 1:\n",
        "            plt.title(f\"Mask {i+1}, Score: {score:.3f}\", fontsize=18)\n",
        "        plt.axis('off')\n",
        "        plt.show()"
      ]
    },
    {
      "cell_type": "code",
      "execution_count": 7,
      "metadata": {
        "id": "gipElak4I2Il"
      },
      "outputs": [],
      "source": [
        "from sam2.build_sam import build_sam2\n",
        "from sam2.sam2_image_predictor import SAM2ImagePredictor\n",
        "\n",
        "sam2_checkpoint = \"checkpoints/sam2_hiera_large.pt\"\n",
        "model_cfg = \"sam2_hiera_l.yaml\"\n",
        "\n",
        "sam2_model = build_sam2(model_cfg, sam2_checkpoint, device=device)\n",
        "\n",
        "predictor = SAM2ImagePredictor(sam2_model)\n",
        "\n",
        "img = img.convert(\"RGB\")\n",
        "predictor.set_image(img)"
      ]
    },
    {
      "cell_type": "markdown",
      "metadata": {
        "id": "stB-p9gCaBUp"
      },
      "source": [
        "# Visualizing our Segmented Region"
      ]
    },
    {
      "cell_type": "code",
      "execution_count": 8,
      "metadata": {},
      "outputs": [],
      "source": [
        "import matplotlib.image as mpimg"
      ]
    },
    {
      "cell_type": "code",
      "execution_count": 9,
      "metadata": {
        "colab": {
          "base_uri": "https://localhost:8080/",
          "height": 607
        },
        "id": "HvxYGIhaI77N",
        "outputId": "f141bdc6-4e90-4822-fe20-d12304f3caae"
      },
      "outputs": [
        {
          "name": "stderr",
          "output_type": "stream",
          "text": [
            "c:\\Users\\robkr\\anaconda3\\Lib\\site-packages\\sam2\\sam2_image_predictor.py:314: UserWarning: Creating a tensor from a list of numpy.ndarrays is extremely slow. Please consider converting the list to a single numpy.ndarray with numpy.array() before converting to a tensor. (Triggered internally at C:\\actions-runner\\_work\\pytorch\\pytorch\\pytorch\\torch\\csrc\\utils\\tensor_new.cpp:257.)\n",
            "  point_coords = torch.as_tensor(\n"
          ]
        },
        {
          "data": {
            "image/png": "[encoded data removed]",
            "text/plain": [
              "<Figure size 1000x1000 with 1 Axes>"
            ]
          },
          "metadata": {},
          "output_type": "display_data"
        }
      ],
      "source": [
        "if points:\n",
        "    input_labels = np.ones(len(points))\n",
        "    masks, scores, _ = predictor.predict(\n",
        "        point_coords=points,    \n",
        "        point_labels=input_labels,\n",
        "        box=None,\n",
        "        multimask_output=False,\n",
        "    )\n",
        "\n",
        "    show_masks(img, masks, scores, point_coords=np.array(points), input_labels=input_labels)\n",
        "else:\n",
        "    print(f\"Error: {prompt} has not been identified in the image.\")\n",
        "    plt.imshow(img)\n",
        "    plt.axis('off')\n",
        "    plt.title(f\"{prompt} not identified\")\n",
        "    plt.show()"
      ]
    }
  ],
  "metadata": {
    "accelerator": "GPU",
    "colab": {
      "gpuType": "A100",
      "machine_shape": "hm",
      "provenance": []
    },
    "kernelspec": {
      "display_name": "base",
      "language": "python",
      "name": "python3"
    },
    "language_info": {
      "codemirror_mode": {
        "name": "ipython",
        "version": 3
      },
      "file_extension": ".py",
      "mimetype": "text/x-python",
      "name": "python",
      "nbconvert_exporter": "python",
      "pygments_lexer": "ipython3",
      "version": "3.12.7"
    },
    "widgets": {
      "application/vnd.jupyter.widget-state+json": {
        "0fb73b6d3355495ba57f398545a60f21": {
          "model_module": "@jupyter-widgets/controls",
          "model_module_version": "1.5.0",
          "model_name": "DescriptionStyleModel",
          "state": {
            "_model_module": "@jupyter-widgets/controls",
            "_model_module_version": "1.5.0",
            "_model_name": "DescriptionStyleModel",
            "_view_count": null,
            "_view_module": "@jupyter-widgets/base",
            "_view_module_version": "1.2.0",
            "_view_name": "StyleView",
            "description_width": ""
          }
        },
        "322bd07f19f44d0dbc75734b533e52ab": {
          "model_module": "@jupyter-widgets/base",
          "model_module_version": "1.2.0",
          "model_name": "LayoutModel",
          "state": {
            "_model_module": "@jupyter-widgets/base",
            "_model_module_version": "1.2.0",
            "_model_name": "LayoutModel",
            "_view_count": null,
            "_view_module": "@jupyter-widgets/base",
            "_view_module_version": "1.2.0",
            "_view_name": "LayoutView",
            "align_content": null,
            "align_items": null,
            "align_self": null,
            "border": null,
            "bottom": null,
            "display": null,
            "flex": null,
            "flex_flow": null,
            "grid_area": null,
            "grid_auto_columns": null,
            "grid_auto_flow": null,
            "grid_auto_rows": null,
            "grid_column": null,
            "grid_gap": null,
            "grid_row": null,
            "grid_template_areas": null,
            "grid_template_columns": null,
            "grid_template_rows": null,
            "height": null,
            "justify_content": null,
            "justify_items": null,
            "left": null,
            "margin": null,
            "max_height": null,
            "max_width": null,
            "min_height": null,
            "min_width": null,
            "object_fit": null,
            "object_position": null,
            "order": null,
            "overflow": null,
            "overflow_x": null,
            "overflow_y": null,
            "padding": null,
            "right": null,
            "top": null,
            "visibility": null,
            "width": null
          }
        },
        "44430f3259114deea869bd29c8cd7216": {
          "model_module": "@jupyter-widgets/controls",
          "model_module_version": "1.5.0",
          "model_name": "HTMLModel",
          "state": {
            "_dom_classes": [],
            "_model_module": "@jupyter-widgets/controls",
            "_model_module_version": "1.5.0",
            "_model_name": "HTMLModel",
            "_view_count": null,
            "_view_module": "@jupyter-widgets/controls",
            "_view_module_version": "1.5.0",
            "_view_name": "HTMLView",
            "description": "",
            "description_tooltip": null,
            "layout": "IPY_MODEL_edcb1f3aca7042f2802666a147133aa4",
            "placeholder": "​",
            "style": "IPY_MODEL_0fb73b6d3355495ba57f398545a60f21",
            "value": " 7/7 [00:09&lt;00:00,  1.24s/it]"
          }
        },
        "5505d6f2ec184bb7b6927c3cda66aa9d": {
          "model_module": "@jupyter-widgets/controls",
          "model_module_version": "1.5.0",
          "model_name": "ProgressStyleModel",
          "state": {
            "_model_module": "@jupyter-widgets/controls",
            "_model_module_version": "1.5.0",
            "_model_name": "ProgressStyleModel",
            "_view_count": null,
            "_view_module": "@jupyter-widgets/base",
            "_view_module_version": "1.2.0",
            "_view_name": "StyleView",
            "bar_color": null,
            "description_width": ""
          }
        },
        "5dc2bb39b83f465380eb44a3c2478cc4": {
          "model_module": "@jupyter-widgets/controls",
          "model_module_version": "1.5.0",
          "model_name": "HBoxModel",
          "state": {
            "_dom_classes": [],
            "_model_module": "@jupyter-widgets/controls",
            "_model_module_version": "1.5.0",
            "_model_name": "HBoxModel",
            "_view_count": null,
            "_view_module": "@jupyter-widgets/controls",
            "_view_module_version": "1.5.0",
            "_view_name": "HBoxView",
            "box_style": "",
            "children": [
              "IPY_MODEL_cb56b1b1486f4d8aa3ca4f25758cdc4e",
              "IPY_MODEL_5ef03296d11c49b88d154a49ca9fc5fc",
              "IPY_MODEL_44430f3259114deea869bd29c8cd7216"
            ],
            "layout": "IPY_MODEL_8d85d7a9d9d4454b8cf4b81cbb7d6fab"
          }
        },
        "5ef03296d11c49b88d154a49ca9fc5fc": {
          "model_module": "@jupyter-widgets/controls",
          "model_module_version": "1.5.0",
          "model_name": "FloatProgressModel",
          "state": {
            "_dom_classes": [],
            "_model_module": "@jupyter-widgets/controls",
            "_model_module_version": "1.5.0",
            "_model_name": "FloatProgressModel",
            "_view_count": null,
            "_view_module": "@jupyter-widgets/controls",
            "_view_module_version": "1.5.0",
            "_view_name": "ProgressView",
            "bar_style": "success",
            "description": "",
            "description_tooltip": null,
            "layout": "IPY_MODEL_322bd07f19f44d0dbc75734b533e52ab",
            "max": 7,
            "min": 0,
            "orientation": "horizontal",
            "style": "IPY_MODEL_5505d6f2ec184bb7b6927c3cda66aa9d",
            "value": 7
          }
        },
        "8d85d7a9d9d4454b8cf4b81cbb7d6fab": {
          "model_module": "@jupyter-widgets/base",
          "model_module_version": "1.2.0",
          "model_name": "LayoutModel",
          "state": {
            "_model_module": "@jupyter-widgets/base",
            "_model_module_version": "1.2.0",
            "_model_name": "LayoutModel",
            "_view_count": null,
            "_view_module": "@jupyter-widgets/base",
            "_view_module_version": "1.2.0",
            "_view_name": "LayoutView",
            "align_content": null,
            "align_items": null,
            "align_self": null,
            "border": null,
            "bottom": null,
            "display": null,
            "flex": null,
            "flex_flow": null,
            "grid_area": null,
            "grid_auto_columns": null,
            "grid_auto_flow": null,
            "grid_auto_rows": null,
            "grid_column": null,
            "grid_gap": null,
            "grid_row": null,
            "grid_template_areas": null,
            "grid_template_columns": null,
            "grid_template_rows": null,
            "height": null,
            "justify_content": null,
            "justify_items": null,
            "left": null,
            "margin": null,
            "max_height": null,
            "max_width": null,
            "min_height": null,
            "min_width": null,
            "object_fit": null,
            "object_position": null,
            "order": null,
            "overflow": null,
            "overflow_x": null,
            "overflow_y": null,
            "padding": null,
            "right": null,
            "top": null,
            "visibility": null,
            "width": null
          }
        },
        "a60ac087ac674b7fac6f54682f51f375": {
          "model_module": "@jupyter-widgets/controls",
          "model_module_version": "1.5.0",
          "model_name": "DescriptionStyleModel",
          "state": {
            "_model_module": "@jupyter-widgets/controls",
            "_model_module_version": "1.5.0",
            "_model_name": "DescriptionStyleModel",
            "_view_count": null,
            "_view_module": "@jupyter-widgets/base",
            "_view_module_version": "1.2.0",
            "_view_name": "StyleView",
            "description_width": ""
          }
        },
        "a88519900c964c60926dbe278359ae6f": {
          "model_module": "@jupyter-widgets/base",
          "model_module_version": "1.2.0",
          "model_name": "LayoutModel",
          "state": {
            "_model_module": "@jupyter-widgets/base",
            "_model_module_version": "1.2.0",
            "_model_name": "LayoutModel",
            "_view_count": null,
            "_view_module": "@jupyter-widgets/base",
            "_view_module_version": "1.2.0",
            "_view_name": "LayoutView",
            "align_content": null,
            "align_items": null,
            "align_self": null,
            "border": null,
            "bottom": null,
            "display": null,
            "flex": null,
            "flex_flow": null,
            "grid_area": null,
            "grid_auto_columns": null,
            "grid_auto_flow": null,
            "grid_auto_rows": null,
            "grid_column": null,
            "grid_gap": null,
            "grid_row": null,
            "grid_template_areas": null,
            "grid_template_columns": null,
            "grid_template_rows": null,
            "height": null,
            "justify_content": null,
            "justify_items": null,
            "left": null,
            "margin": null,
            "max_height": null,
            "max_width": null,
            "min_height": null,
            "min_width": null,
            "object_fit": null,
            "object_position": null,
            "order": null,
            "overflow": null,
            "overflow_x": null,
            "overflow_y": null,
            "padding": null,
            "right": null,
            "top": null,
            "visibility": null,
            "width": null
          }
        },
        "cb56b1b1486f4d8aa3ca4f25758cdc4e": {
          "model_module": "@jupyter-widgets/controls",
          "model_module_version": "1.5.0",
          "model_name": "HTMLModel",
          "state": {
            "_dom_classes": [],
            "_model_module": "@jupyter-widgets/controls",
            "_model_module_version": "1.5.0",
            "_model_name": "HTMLModel",
            "_view_count": null,
            "_view_module": "@jupyter-widgets/controls",
            "_view_module_version": "1.5.0",
            "_view_name": "HTMLView",
            "description": "",
            "description_tooltip": null,
            "layout": "IPY_MODEL_a88519900c964c60926dbe278359ae6f",
            "placeholder": "​",
            "style": "IPY_MODEL_a60ac087ac674b7fac6f54682f51f375",
            "value": "Loading checkpoint shards: 100%"
          }
        },
        "edcb1f3aca7042f2802666a147133aa4": {
          "model_module": "@jupyter-widgets/base",
          "model_module_version": "1.2.0",
          "model_name": "LayoutModel",
          "state": {
            "_model_module": "@jupyter-widgets/base",
            "_model_module_version": "1.2.0",
            "_model_name": "LayoutModel",
            "_view_count": null,
            "_view_module": "@jupyter-widgets/base",
            "_view_module_version": "1.2.0",
            "_view_name": "LayoutView",
            "align_content": null,
            "align_items": null,
            "align_self": null,
            "border": null,
            "bottom": null,
            "display": null,
            "flex": null,
            "flex_flow": null,
            "grid_area": null,
            "grid_auto_columns": null,
            "grid_auto_flow": null,
            "grid_auto_rows": null,
            "grid_column": null,
            "grid_gap": null,
            "grid_row": null,
            "grid_template_areas": null,
            "grid_template_columns": null,
            "grid_template_rows": null,
            "height": null,
            "justify_content": null,
            "justify_items": null,
            "left": null,
            "margin": null,
            "max_height": null,
            "max_width": null,
            "min_height": null,
            "min_width": null,
            "object_fit": null,
            "object_position": null,
            "order": null,
            "overflow": null,
            "overflow_x": null,
            "overflow_y": null,
            "padding": null,
            "right": null,
            "top": null,
            "visibility": null,
            "width": null
          }
        }
      }
    }
  },
  "nbformat": 4,
  "nbformat_minor": 0
}
