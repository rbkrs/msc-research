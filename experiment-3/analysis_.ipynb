{
 "cells": [
  {
   "cell_type": "code",
   "execution_count": 3,
   "id": "a362bde5",
   "metadata": {},
   "outputs": [
    {
     "name": "stdout",
     "output_type": "stream",
     "text": [
      "Curved Congruency Test:\n",
      "p-value: 0.2430\n",
      "Observed proportion: 0.6111\n",
      "\n",
      "Jagged Congruency Test:\n",
      "p-value: 0.8679\n",
      "Observed proportion: 0.4722\n"
     ]
    }
   ],
   "source": [
    "from scipy import stats\n",
    "\n",
    "# Data for curved congruency\n",
    "curved_successes = 22\n",
    "curved_trials = 36\n",
    "\n",
    "# Data for jagged congruency\n",
    "jagged_successes = 17\n",
    "jagged_trials = 36\n",
    "\n",
    "# Perform binomial tests (testing against p=0.5, which is 50% chance)\n",
    "curved_result = stats.binomtest(curved_successes, curved_trials, p=0.5)\n",
    "jagged_result = stats.binomtest(jagged_successes, jagged_trials, p=0.5)\n",
    "\n",
    "# Print results\n",
    "print(\"Curved Congruency Test:\")\n",
    "print(f\"p-value: {curved_result.pvalue:.4f}\")\n",
    "print(f\"Observed proportion: {curved_result.statistic:.4f}\")\n",
    "\n",
    "print(\"\\nJagged Congruency Test:\")\n",
    "print(f\"p-value: {jagged_result.pvalue:.4f}\")\n",
    "print(f\"Observed proportion: {jagged_result.statistic:.4f}\")"
   ]
  }
 ],
 "metadata": {
  "kernelspec": {
   "display_name": "base",
   "language": "python",
   "name": "python3"
  },
  "language_info": {
   "codemirror_mode": {
    "name": "ipython",
    "version": 3
   },
   "file_extension": ".py",
   "mimetype": "text/x-python",
   "name": "python",
   "nbconvert_exporter": "python",
   "pygments_lexer": "ipython3",
   "version": "3.12.7"
  }
 },
 "nbformat": 4,
 "nbformat_minor": 5
}
