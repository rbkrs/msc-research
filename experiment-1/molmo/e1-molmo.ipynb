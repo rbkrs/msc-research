{
 "cells": [
  {
   "cell_type": "markdown",
   "metadata": {},
   "source": [
    "## Experiment 1 Molmo: Cross-Modal Probability Analysis"
   ]
  },
  {
   "cell_type": "markdown",
   "metadata": {},
   "source": [
    "Set-up"
   ]
  },
  {
   "cell_type": "code",
   "execution_count": null,
   "metadata": {},
   "outputs": [
    {
     "data": {
      "application/vnd.jupyter.widget-view+json": {
       "model_id": "6170da05aed3418da0913f713273b0f8",
       "version_major": 2,
       "version_minor": 0
      },
      "text/plain": [
       "VBox(children=(HTML(value='<center> <img\\nsrc=https://huggingface.co/front/assets/huggingface_logo-noborder.sv…"
      ]
     },
     "metadata": {},
     "output_type": "display_data"
    }
   ],
   "source": [
    "from huggingface_hub import login\n",
    "import torch\n",
    "\n",
    "login()\n",
    "\n",
    "HF_TOKEN = \"your_huggingface_token_here\"  # Replace with your Hugging Face token\n",
    "\n",
    "# This will be removed in the final version - LLaMA requires access from Meta\n",
    "hf_key = HF_TOKEN\n",
    "\n",
    "device = torch.device(\"cuda\" if torch.cuda.is_available() else \"cpu\")\n",
    "torch.cuda.empty_cache()"
   ]
  },
  {
   "cell_type": "code",
   "execution_count": 2,
   "metadata": {},
   "outputs": [],
   "source": [
    "import random\n",
    "import pandas as pd\n",
    "import numpy as np\n",
    "import os\n",
    "from PIL import Image\n",
    "from transformers import AutoProcessor, AutoModelForCausalLM, GenerationConfig\n",
    "from tqdm import tqdm\n",
    "import re"
   ]
  },
  {
   "cell_type": "markdown",
   "metadata": {},
   "source": [
    "Label selection"
   ]
  },
  {
   "cell_type": "code",
   "execution_count": 3,
   "metadata": {},
   "outputs": [],
   "source": [
    "list1 = [\n",
    "    \"looloo\", \"loolah\", \"looloh\", \"loonoo\", \"loonah\", \"loonoh\", \"loomoo\", \"loomah\", \"loomoh\",\n",
    "    \"lahloo\", \"lahlah\", \"lahloh\", \"lahnoo\", \"lahnah\", \"lahnoh\", \"lahmoo\", \"lahmah\", \"lahmoh\",\n",
    "    \"lohloo\", \"lohlah\", \"lohloh\", \"lohnoo\", \"lohnah\", \"lohnoh\", \"lohmoo\", \"lohmah\", \"lohmoh\",\n",
    "    \"nooloo\", \"noolah\", \"nooloh\", \"noonoo\", \"noonah\", \"noonoh\", \"noomoo\", \"noomah\", \"noomoh\",\n",
    "    \"nahloo\", \"nahlah\", \"nahloh\", \"nahnoo\", \"nahnah\", \"nahnoh\", \"nahmoo\", \"nahmah\", \"nahmoh\",\n",
    "    \"nohloo\", \"nohlah\", \"nohloh\", \"nohnoo\", \"nohnah\", \"nohnoh\", \"nohmoo\", \"nohmah\", \"nohmoh\",\n",
    "    \"mooloo\", \"moolah\", \"mooloh\", \"moonoo\", \"moonah\", \"moonoh\", \"moomoo\", \"moomah\", \"moomoh\",\n",
    "    \"mahloo\", \"mahlah\", \"mahloh\", \"mahnoo\", \"mahnah\", \"mahnoh\", \"mahmoo\", \"mahmah\", \"mahmoh\",\n",
    "    \"mohloo\", \"mohlah\", \"mohloh\", \"mohnoo\", \"mohnah\", \"mohnoh\", \"mohmoo\", \"mohmah\", \"mohmoh\"\n",
    "]\n",
    "\n",
    "list2 = [\n",
    "    \"teetee\", \"teetuh\", \"teetay\", \"teekee\", \"teekuh\", \"teekay\", \"teepee\", \"teepuh\", \"teepay\",\n",
    "    \"tuhtee\", \"tuhtuh\", \"tuhtay\", \"tuhkee\", \"tuhkuh\", \"tuhkay\", \"tuhpee\", \"tuhpuh\", \"tuhpay\",\n",
    "    \"taytee\", \"taytuh\", \"taytay\", \"taykee\", \"taykuh\", \"taykay\", \"taypee\", \"taypuh\", \"taypay\",\n",
    "    \"keetee\", \"keetuh\", \"keetay\", \"keekee\", \"keekuh\", \"keekay\", \"keepee\", \"keepuh\", \"keepay\",\n",
    "    \"kuhtee\", \"kuhtuh\", \"kuhtay\", \"kuhkee\", \"kuhkuh\", \"kuhkay\", \"kuhpee\", \"kuhpuh\", \"kuhpay\",\n",
    "    \"kaytee\", \"kaytuh\", \"kaytay\", \"kaykee\", \"kaykuh\", \"kaykay\", \"kaypee\", \"kaypuh\", \"kaypay\",\n",
    "    \"peetee\", \"peetuh\", \"peetay\", \"peekee\", \"peekuh\", \"peekay\", \"peepee\", \"peepuh\", \"peepay\",\n",
    "    \"puhtee\", \"puhtuh\", \"puhtay\", \"puhkee\", \"puhkuh\", \"puhkay\", \"puhpee\", \"puhpuh\", \"puhpay\",\n",
    "    \"paytee\", \"paytuh\", \"paytay\", \"paykee\", \"paykuh\", \"paykay\", \"paypee\", \"paypuh\", \"paypay\"\n",
    "]\n",
    "\n",
    "sample1 = random.sample(list1, 2)\n",
    "sample2 = random.sample(list2, 2)\n",
    "\n",
    "if False:\n",
    "    final_list = sample1 + sample2\n",
    "\n",
    "    print(final_list)"
   ]
  },
  {
   "cell_type": "code",
   "execution_count": 4,
   "metadata": {},
   "outputs": [],
   "source": [
    "final_list = ['nohloh', 'loomoo', 'kuhpay', 'puhkay']"
   ]
  },
  {
   "cell_type": "code",
   "execution_count": null,
   "metadata": {},
   "outputs": [
    {
     "name": "stderr",
     "output_type": "stream",
     "text": [
      "Using a slow image processor as `use_fast` is unset and a slow processor was saved with this model. `use_fast=True` will be the default behavior in v4.52, even if the model was saved with a slow processor. This will result in minor differences in outputs. You'll still be able to use a slow processor with `use_fast=False`.\n"
     ]
    },
    {
     "data": {
      "application/vnd.jupyter.widget-view+json": {
       "model_id": "5a2874ee820343efae867dfbf945a4c4",
       "version_major": 2,
       "version_minor": 0
      },
      "text/plain": [
       "Loading checkpoint shards:   0%|          | 0/7 [00:00<?, ?it/s]"
      ]
     },
     "metadata": {},
     "output_type": "display_data"
    },
    {
     "name": "stderr",
     "output_type": "stream",
     "text": [
      "Some parameters are on the meta device because they were offloaded to the cpu.\n",
      "Processing molmo batch 1/34:  25%|██▌       | 1/4 [00:13<00:39, 13.12s/it]"
     ]
    },
    {
     "name": "stdout",
     "output_type": "stream",
     "text": [
      "Model output:  User: On a scale from 0 to 100, how well does the abstract word 'nohloh' describe the following image? 0 means the word and image have no connection and 100 means the word perfectly fits the image. Answer only with a single number between 0 and 100. Do not include any other words. Assistant: 65\n",
      "The stripped generated text is:  ['User:', 'On', 'a', 'scale', 'from', '0', 'to', '100,', 'how', 'well', 'does', 'the', 'abstract', 'word', \"'nohloh'\", 'describe', 'the', 'following', 'image?', '0', 'means', 'the', 'word', 'and', 'image', 'have', 'no', 'connection', 'and', '100', 'means', 'the', 'word', 'perfectly', 'fits', 'the', 'image.', 'Answer', 'only', 'with', 'a', 'single', 'number', 'between', '0', 'and', '100.', 'Do', 'not', 'include', 'any', 'other', 'words.', 'Assistant:', '65']\n",
      "The probability is:  65\n"
     ]
    },
    {
     "name": "stderr",
     "output_type": "stream",
     "text": [
      "Processing molmo batch 1/34:  50%|█████     | 2/4 [00:24<00:23, 11.91s/it]"
     ]
    },
    {
     "name": "stdout",
     "output_type": "stream",
     "text": [
      "Model output:  User: On a scale from 0 to 100, how well does the abstract word 'loomoo' describe the following image? 0 means the word and image have no connection and 100 means the word perfectly fits the image. Answer only with a single number between 0 and 100. Do not include any other words. Assistant: 90\n",
      "The stripped generated text is:  ['User:', 'On', 'a', 'scale', 'from', '0', 'to', '100,', 'how', 'well', 'does', 'the', 'abstract', 'word', \"'loomoo'\", 'describe', 'the', 'following', 'image?', '0', 'means', 'the', 'word', 'and', 'image', 'have', 'no', 'connection', 'and', '100', 'means', 'the', 'word', 'perfectly', 'fits', 'the', 'image.', 'Answer', 'only', 'with', 'a', 'single', 'number', 'between', '0', 'and', '100.', 'Do', 'not', 'include', 'any', 'other', 'words.', 'Assistant:', '90']\n",
      "The probability is:  90\n"
     ]
    },
    {
     "name": "stderr",
     "output_type": "stream",
     "text": [
      "Processing molmo batch 1/34:  75%|███████▌  | 3/4 [00:35<00:11, 11.52s/it]"
     ]
    },
    {
     "name": "stdout",
     "output_type": "stream",
     "text": [
      "Model output:  User: On a scale from 0 to 100, how well does the abstract word 'kuhpay' describe the following image? 0 means the word and image have no connection and 100 means the word perfectly fits the image. Answer only with a single number between 0 and 100. Do not include any other words. Assistant: 75\n",
      "The stripped generated text is:  ['User:', 'On', 'a', 'scale', 'from', '0', 'to', '100,', 'how', 'well', 'does', 'the', 'abstract', 'word', \"'kuhpay'\", 'describe', 'the', 'following', 'image?', '0', 'means', 'the', 'word', 'and', 'image', 'have', 'no', 'connection', 'and', '100', 'means', 'the', 'word', 'perfectly', 'fits', 'the', 'image.', 'Answer', 'only', 'with', 'a', 'single', 'number', 'between', '0', 'and', '100.', 'Do', 'not', 'include', 'any', 'other', 'words.', 'Assistant:', '75']\n",
      "The probability is:  75\n"
     ]
    },
    {
     "name": "stderr",
     "output_type": "stream",
     "text": [
      "Processing molmo batch 1/34: 100%|██████████| 4/4 [00:46<00:00, 11.58s/it]\n"
     ]
    },
    {
     "name": "stdout",
     "output_type": "stream",
     "text": [
      "Model output:  User: On a scale from 0 to 100, how well does the abstract word 'puhkay' describe the following image? 0 means the word and image have no connection and 100 means the word perfectly fits the image. Answer only with a single number between 0 and 100. Do not include any other words. Assistant: 75\n",
      "The stripped generated text is:  ['User:', 'On', 'a', 'scale', 'from', '0', 'to', '100,', 'how', 'well', 'does', 'the', 'abstract', 'word', \"'puhkay'\", 'describe', 'the', 'following', 'image?', '0', 'means', 'the', 'word', 'and', 'image', 'have', 'no', 'connection', 'and', '100', 'means', 'the', 'word', 'perfectly', 'fits', 'the', 'image.', 'Answer', 'only', 'with', 'a', 'single', 'number', 'between', '0', 'and', '100.', 'Do', 'not', 'include', 'any', 'other', 'words.', 'Assistant:', '75']\n",
      "The probability is:  75\n"
     ]
    },
    {
     "name": "stderr",
     "output_type": "stream",
     "text": [
      "Processing molmo batch 2/34:  25%|██▌       | 1/4 [00:08<00:26,  8.86s/it]"
     ]
    },
    {
     "name": "stdout",
     "output_type": "stream",
     "text": [
      "Model output:  User: On a scale from 0 to 100, how well does the abstract word 'nohloh' describe the following image? 0 means the word and image have no connection and 100 means the word perfectly fits the image. Answer only with a single number between 0 and 100. Do not include any other words. Assistant: 90\n",
      "The stripped generated text is:  ['User:', 'On', 'a', 'scale', 'from', '0', 'to', '100,', 'how', 'well', 'does', 'the', 'abstract', 'word', \"'nohloh'\", 'describe', 'the', 'following', 'image?', '0', 'means', 'the', 'word', 'and', 'image', 'have', 'no', 'connection', 'and', '100', 'means', 'the', 'word', 'perfectly', 'fits', 'the', 'image.', 'Answer', 'only', 'with', 'a', 'single', 'number', 'between', '0', 'and', '100.', 'Do', 'not', 'include', 'any', 'other', 'words.', 'Assistant:', '90']\n",
      "The probability is:  90\n"
     ]
    },
    {
     "name": "stderr",
     "output_type": "stream",
     "text": [
      "Processing molmo batch 2/34:  50%|█████     | 2/4 [00:17<00:17,  8.85s/it]"
     ]
    },
    {
     "name": "stdout",
     "output_type": "stream",
     "text": [
      "Model output:  User: On a scale from 0 to 100, how well does the abstract word 'loomoo' describe the following image? 0 means the word and image have no connection and 100 means the word perfectly fits the image. Answer only with a single number between 0 and 100. Do not include any other words. Assistant: 85\n",
      "The stripped generated text is:  ['User:', 'On', 'a', 'scale', 'from', '0', 'to', '100,', 'how', 'well', 'does', 'the', 'abstract', 'word', \"'loomoo'\", 'describe', 'the', 'following', 'image?', '0', 'means', 'the', 'word', 'and', 'image', 'have', 'no', 'connection', 'and', '100', 'means', 'the', 'word', 'perfectly', 'fits', 'the', 'image.', 'Answer', 'only', 'with', 'a', 'single', 'number', 'between', '0', 'and', '100.', 'Do', 'not', 'include', 'any', 'other', 'words.', 'Assistant:', '85']\n",
      "The probability is:  85\n"
     ]
    },
    {
     "name": "stderr",
     "output_type": "stream",
     "text": [
      "Processing molmo batch 2/34:  75%|███████▌  | 3/4 [00:26<00:08,  8.85s/it]"
     ]
    },
    {
     "name": "stdout",
     "output_type": "stream",
     "text": [
      "Model output:  User: On a scale from 0 to 100, how well does the abstract word 'kuhpay' describe the following image? 0 means the word and image have no connection and 100 means the word perfectly fits the image. Answer only with a single number between 0 and 100. Do not include any other words. Assistant: 90\n",
      "The stripped generated text is:  ['User:', 'On', 'a', 'scale', 'from', '0', 'to', '100,', 'how', 'well', 'does', 'the', 'abstract', 'word', \"'kuhpay'\", 'describe', 'the', 'following', 'image?', '0', 'means', 'the', 'word', 'and', 'image', 'have', 'no', 'connection', 'and', '100', 'means', 'the', 'word', 'perfectly', 'fits', 'the', 'image.', 'Answer', 'only', 'with', 'a', 'single', 'number', 'between', '0', 'and', '100.', 'Do', 'not', 'include', 'any', 'other', 'words.', 'Assistant:', '90']\n",
      "The probability is:  90\n"
     ]
    },
    {
     "name": "stderr",
     "output_type": "stream",
     "text": [
      "Processing molmo batch 2/34: 100%|██████████| 4/4 [00:35<00:00,  8.85s/it]\n"
     ]
    },
    {
     "name": "stdout",
     "output_type": "stream",
     "text": [
      "Model output:  User: On a scale from 0 to 100, how well does the abstract word 'puhkay' describe the following image? 0 means the word and image have no connection and 100 means the word perfectly fits the image. Answer only with a single number between 0 and 100. Do not include any other words. Assistant: 85\n",
      "The stripped generated text is:  ['User:', 'On', 'a', 'scale', 'from', '0', 'to', '100,', 'how', 'well', 'does', 'the', 'abstract', 'word', \"'puhkay'\", 'describe', 'the', 'following', 'image?', '0', 'means', 'the', 'word', 'and', 'image', 'have', 'no', 'connection', 'and', '100', 'means', 'the', 'word', 'perfectly', 'fits', 'the', 'image.', 'Answer', 'only', 'with', 'a', 'single', 'number', 'between', '0', 'and', '100.', 'Do', 'not', 'include', 'any', 'other', 'words.', 'Assistant:', '85']\n",
      "The probability is:  85\n"
     ]
    },
    {
     "name": "stderr",
     "output_type": "stream",
     "text": [
      "Processing molmo batch 3/34:  25%|██▌       | 1/4 [00:09<00:27,  9.33s/it]"
     ]
    },
    {
     "name": "stdout",
     "output_type": "stream",
     "text": [
      "Model output:  User: On a scale from 0 to 100, how well does the abstract word 'nohloh' describe the following image? 0 means the word and image have no connection and 100 means the word perfectly fits the image. Answer only with a single number between 0 and 100. Do not include any other words. Assistant: 90\n",
      "The stripped generated text is:  ['User:', 'On', 'a', 'scale', 'from', '0', 'to', '100,', 'how', 'well', 'does', 'the', 'abstract', 'word', \"'nohloh'\", 'describe', 'the', 'following', 'image?', '0', 'means', 'the', 'word', 'and', 'image', 'have', 'no', 'connection', 'and', '100', 'means', 'the', 'word', 'perfectly', 'fits', 'the', 'image.', 'Answer', 'only', 'with', 'a', 'single', 'number', 'between', '0', 'and', '100.', 'Do', 'not', 'include', 'any', 'other', 'words.', 'Assistant:', '90']\n",
      "The probability is:  90\n"
     ]
    },
    {
     "name": "stderr",
     "output_type": "stream",
     "text": [
      "Processing molmo batch 3/34:  50%|█████     | 2/4 [00:18<00:18,  9.34s/it]"
     ]
    },
    {
     "name": "stdout",
     "output_type": "stream",
     "text": [
      "Model output:  User: On a scale from 0 to 100, how well does the abstract word 'loomoo' describe the following image? 0 means the word and image have no connection and 100 means the word perfectly fits the image. Answer only with a single number between 0 and 100. Do not include any other words. Assistant: 85\n",
      "The stripped generated text is:  ['User:', 'On', 'a', 'scale', 'from', '0', 'to', '100,', 'how', 'well', 'does', 'the', 'abstract', 'word', \"'loomoo'\", 'describe', 'the', 'following', 'image?', '0', 'means', 'the', 'word', 'and', 'image', 'have', 'no', 'connection', 'and', '100', 'means', 'the', 'word', 'perfectly', 'fits', 'the', 'image.', 'Answer', 'only', 'with', 'a', 'single', 'number', 'between', '0', 'and', '100.', 'Do', 'not', 'include', 'any', 'other', 'words.', 'Assistant:', '85']\n",
      "The probability is:  85\n"
     ]
    },
    {
     "name": "stderr",
     "output_type": "stream",
     "text": [
      "Processing molmo batch 3/34:  75%|███████▌  | 3/4 [00:28<00:09,  9.34s/it]"
     ]
    },
    {
     "name": "stdout",
     "output_type": "stream",
     "text": [
      "Model output:  User: On a scale from 0 to 100, how well does the abstract word 'kuhpay' describe the following image? 0 means the word and image have no connection and 100 means the word perfectly fits the image. Answer only with a single number between 0 and 100. Do not include any other words. Assistant: 75\n",
      "The stripped generated text is:  ['User:', 'On', 'a', 'scale', 'from', '0', 'to', '100,', 'how', 'well', 'does', 'the', 'abstract', 'word', \"'kuhpay'\", 'describe', 'the', 'following', 'image?', '0', 'means', 'the', 'word', 'and', 'image', 'have', 'no', 'connection', 'and', '100', 'means', 'the', 'word', 'perfectly', 'fits', 'the', 'image.', 'Answer', 'only', 'with', 'a', 'single', 'number', 'between', '0', 'and', '100.', 'Do', 'not', 'include', 'any', 'other', 'words.', 'Assistant:', '75']\n",
      "The probability is:  75\n"
     ]
    },
    {
     "name": "stderr",
     "output_type": "stream",
     "text": [
      "Processing molmo batch 3/34: 100%|██████████| 4/4 [00:37<00:00,  9.34s/it]\n"
     ]
    },
    {
     "name": "stdout",
     "output_type": "stream",
     "text": [
      "Model output:  User: On a scale from 0 to 100, how well does the abstract word 'puhkay' describe the following image? 0 means the word and image have no connection and 100 means the word perfectly fits the image. Answer only with a single number between 0 and 100. Do not include any other words. Assistant: 95\n",
      "The stripped generated text is:  ['User:', 'On', 'a', 'scale', 'from', '0', 'to', '100,', 'how', 'well', 'does', 'the', 'abstract', 'word', \"'puhkay'\", 'describe', 'the', 'following', 'image?', '0', 'means', 'the', 'word', 'and', 'image', 'have', 'no', 'connection', 'and', '100', 'means', 'the', 'word', 'perfectly', 'fits', 'the', 'image.', 'Answer', 'only', 'with', 'a', 'single', 'number', 'between', '0', 'and', '100.', 'Do', 'not', 'include', 'any', 'other', 'words.', 'Assistant:', '95']\n",
      "The probability is:  95\n"
     ]
    },
    {
     "name": "stderr",
     "output_type": "stream",
     "text": [
      "Processing molmo batch 4/34:  25%|██▌       | 1/4 [00:09<00:28,  9.35s/it]"
     ]
    },
    {
     "name": "stdout",
     "output_type": "stream",
     "text": [
      "Model output:  User: On a scale from 0 to 100, how well does the abstract word 'nohloh' describe the following image? 0 means the word and image have no connection and 100 means the word perfectly fits the image. Answer only with a single number between 0 and 100. Do not include any other words. Assistant: 75\n",
      "The stripped generated text is:  ['User:', 'On', 'a', 'scale', 'from', '0', 'to', '100,', 'how', 'well', 'does', 'the', 'abstract', 'word', \"'nohloh'\", 'describe', 'the', 'following', 'image?', '0', 'means', 'the', 'word', 'and', 'image', 'have', 'no', 'connection', 'and', '100', 'means', 'the', 'word', 'perfectly', 'fits', 'the', 'image.', 'Answer', 'only', 'with', 'a', 'single', 'number', 'between', '0', 'and', '100.', 'Do', 'not', 'include', 'any', 'other', 'words.', 'Assistant:', '75']\n",
      "The probability is:  75\n"
     ]
    },
    {
     "name": "stderr",
     "output_type": "stream",
     "text": [
      "Processing molmo batch 4/34:  50%|█████     | 2/4 [00:18<00:18,  9.34s/it]"
     ]
    },
    {
     "name": "stdout",
     "output_type": "stream",
     "text": [
      "Model output:  User: On a scale from 0 to 100, how well does the abstract word 'loomoo' describe the following image? 0 means the word and image have no connection and 100 means the word perfectly fits the image. Answer only with a single number between 0 and 100. Do not include any other words. Assistant: 37\n",
      "The stripped generated text is:  ['User:', 'On', 'a', 'scale', 'from', '0', 'to', '100,', 'how', 'well', 'does', 'the', 'abstract', 'word', \"'loomoo'\", 'describe', 'the', 'following', 'image?', '0', 'means', 'the', 'word', 'and', 'image', 'have', 'no', 'connection', 'and', '100', 'means', 'the', 'word', 'perfectly', 'fits', 'the', 'image.', 'Answer', 'only', 'with', 'a', 'single', 'number', 'between', '0', 'and', '100.', 'Do', 'not', 'include', 'any', 'other', 'words.', 'Assistant:', '37']\n",
      "The probability is:  37\n"
     ]
    },
    {
     "name": "stderr",
     "output_type": "stream",
     "text": [
      "Processing molmo batch 4/34:  75%|███████▌  | 3/4 [00:27<00:09,  9.32s/it]"
     ]
    },
    {
     "name": "stdout",
     "output_type": "stream",
     "text": [
      "Model output:  User: On a scale from 0 to 100, how well does the abstract word 'kuhpay' describe the following image? 0 means the word and image have no connection and 100 means the word perfectly fits the image. Answer only with a single number between 0 and 100. Do not include any other words. Assistant: 85\n",
      "The stripped generated text is:  ['User:', 'On', 'a', 'scale', 'from', '0', 'to', '100,', 'how', 'well', 'does', 'the', 'abstract', 'word', \"'kuhpay'\", 'describe', 'the', 'following', 'image?', '0', 'means', 'the', 'word', 'and', 'image', 'have', 'no', 'connection', 'and', '100', 'means', 'the', 'word', 'perfectly', 'fits', 'the', 'image.', 'Answer', 'only', 'with', 'a', 'single', 'number', 'between', '0', 'and', '100.', 'Do', 'not', 'include', 'any', 'other', 'words.', 'Assistant:', '85']\n",
      "The probability is:  85\n"
     ]
    },
    {
     "name": "stderr",
     "output_type": "stream",
     "text": [
      "Processing molmo batch 4/34: 100%|██████████| 4/4 [00:37<00:00,  9.33s/it]\n"
     ]
    },
    {
     "name": "stdout",
     "output_type": "stream",
     "text": [
      "Model output:  User: On a scale from 0 to 100, how well does the abstract word 'puhkay' describe the following image? 0 means the word and image have no connection and 100 means the word perfectly fits the image. Answer only with a single number between 0 and 100. Do not include any other words. Assistant: 35\n",
      "The stripped generated text is:  ['User:', 'On', 'a', 'scale', 'from', '0', 'to', '100,', 'how', 'well', 'does', 'the', 'abstract', 'word', \"'puhkay'\", 'describe', 'the', 'following', 'image?', '0', 'means', 'the', 'word', 'and', 'image', 'have', 'no', 'connection', 'and', '100', 'means', 'the', 'word', 'perfectly', 'fits', 'the', 'image.', 'Answer', 'only', 'with', 'a', 'single', 'number', 'between', '0', 'and', '100.', 'Do', 'not', 'include', 'any', 'other', 'words.', 'Assistant:', '35']\n",
      "The probability is:  35\n"
     ]
    },
    {
     "name": "stderr",
     "output_type": "stream",
     "text": [
      "Processing molmo batch 5/34:  25%|██▌       | 1/4 [00:09<00:27,  9.32s/it]"
     ]
    },
    {
     "name": "stdout",
     "output_type": "stream",
     "text": [
      "Model output:  User: On a scale from 0 to 100, how well does the abstract word 'nohloh' describe the following image? 0 means the word and image have no connection and 100 means the word perfectly fits the image. Answer only with a single number between 0 and 100. Do not include any other words. Assistant: 85\n",
      "The stripped generated text is:  ['User:', 'On', 'a', 'scale', 'from', '0', 'to', '100,', 'how', 'well', 'does', 'the', 'abstract', 'word', \"'nohloh'\", 'describe', 'the', 'following', 'image?', '0', 'means', 'the', 'word', 'and', 'image', 'have', 'no', 'connection', 'and', '100', 'means', 'the', 'word', 'perfectly', 'fits', 'the', 'image.', 'Answer', 'only', 'with', 'a', 'single', 'number', 'between', '0', 'and', '100.', 'Do', 'not', 'include', 'any', 'other', 'words.', 'Assistant:', '85']\n",
      "The probability is:  85\n"
     ]
    },
    {
     "name": "stderr",
     "output_type": "stream",
     "text": [
      "Processing molmo batch 5/34:  50%|█████     | 2/4 [00:18<00:18,  9.33s/it]"
     ]
    },
    {
     "name": "stdout",
     "output_type": "stream",
     "text": [
      "Model output:  User: On a scale from 0 to 100, how well does the abstract word 'loomoo' describe the following image? 0 means the word and image have no connection and 100 means the word perfectly fits the image. Answer only with a single number between 0 and 100. Do not include any other words. Assistant: 75\n",
      "The stripped generated text is:  ['User:', 'On', 'a', 'scale', 'from', '0', 'to', '100,', 'how', 'well', 'does', 'the', 'abstract', 'word', \"'loomoo'\", 'describe', 'the', 'following', 'image?', '0', 'means', 'the', 'word', 'and', 'image', 'have', 'no', 'connection', 'and', '100', 'means', 'the', 'word', 'perfectly', 'fits', 'the', 'image.', 'Answer', 'only', 'with', 'a', 'single', 'number', 'between', '0', 'and', '100.', 'Do', 'not', 'include', 'any', 'other', 'words.', 'Assistant:', '75']\n",
      "The probability is:  75\n"
     ]
    },
    {
     "name": "stderr",
     "output_type": "stream",
     "text": [
      "Processing molmo batch 5/34:  75%|███████▌  | 3/4 [00:27<00:09,  9.33s/it]"
     ]
    },
    {
     "name": "stdout",
     "output_type": "stream",
     "text": [
      "Model output:  User: On a scale from 0 to 100, how well does the abstract word 'kuhpay' describe the following image? 0 means the word and image have no connection and 100 means the word perfectly fits the image. Answer only with a single number between 0 and 100. Do not include any other words. Assistant: 35\n",
      "The stripped generated text is:  ['User:', 'On', 'a', 'scale', 'from', '0', 'to', '100,', 'how', 'well', 'does', 'the', 'abstract', 'word', \"'kuhpay'\", 'describe', 'the', 'following', 'image?', '0', 'means', 'the', 'word', 'and', 'image', 'have', 'no', 'connection', 'and', '100', 'means', 'the', 'word', 'perfectly', 'fits', 'the', 'image.', 'Answer', 'only', 'with', 'a', 'single', 'number', 'between', '0', 'and', '100.', 'Do', 'not', 'include', 'any', 'other', 'words.', 'Assistant:', '35']\n",
      "The probability is:  35\n"
     ]
    },
    {
     "name": "stderr",
     "output_type": "stream",
     "text": [
      "Processing molmo batch 5/34: 100%|██████████| 4/4 [00:37<00:00,  9.33s/it]\n"
     ]
    },
    {
     "name": "stdout",
     "output_type": "stream",
     "text": [
      "Model output:  User: On a scale from 0 to 100, how well does the abstract word 'puhkay' describe the following image? 0 means the word and image have no connection and 100 means the word perfectly fits the image. Answer only with a single number between 0 and 100. Do not include any other words. Assistant: 60\n",
      "The stripped generated text is:  ['User:', 'On', 'a', 'scale', 'from', '0', 'to', '100,', 'how', 'well', 'does', 'the', 'abstract', 'word', \"'puhkay'\", 'describe', 'the', 'following', 'image?', '0', 'means', 'the', 'word', 'and', 'image', 'have', 'no', 'connection', 'and', '100', 'means', 'the', 'word', 'perfectly', 'fits', 'the', 'image.', 'Answer', 'only', 'with', 'a', 'single', 'number', 'between', '0', 'and', '100.', 'Do', 'not', 'include', 'any', 'other', 'words.', 'Assistant:', '60']\n",
      "The probability is:  60\n"
     ]
    },
    {
     "name": "stderr",
     "output_type": "stream",
     "text": [
      "Processing molmo batch 6/34:  25%|██▌       | 1/4 [00:09<00:29,  9.69s/it]"
     ]
    },
    {
     "name": "stdout",
     "output_type": "stream",
     "text": [
      "Model output:  User: On a scale from 0 to 100, how well does the abstract word 'nohloh' describe the following image? 0 means the word and image have no connection and 100 means the word perfectly fits the image. Answer only with a single number between 0 and 100. Do not include any other words. Assistant: 75\n",
      "The stripped generated text is:  ['User:', 'On', 'a', 'scale', 'from', '0', 'to', '100,', 'how', 'well', 'does', 'the', 'abstract', 'word', \"'nohloh'\", 'describe', 'the', 'following', 'image?', '0', 'means', 'the', 'word', 'and', 'image', 'have', 'no', 'connection', 'and', '100', 'means', 'the', 'word', 'perfectly', 'fits', 'the', 'image.', 'Answer', 'only', 'with', 'a', 'single', 'number', 'between', '0', 'and', '100.', 'Do', 'not', 'include', 'any', 'other', 'words.', 'Assistant:', '75']\n",
      "The probability is:  75\n"
     ]
    },
    {
     "name": "stderr",
     "output_type": "stream",
     "text": [
      "Processing molmo batch 6/34:  50%|█████     | 2/4 [00:19<00:19,  9.70s/it]"
     ]
    },
    {
     "name": "stdout",
     "output_type": "stream",
     "text": [
      "Model output:  User: On a scale from 0 to 100, how well does the abstract word 'loomoo' describe the following image? 0 means the word and image have no connection and 100 means the word perfectly fits the image. Answer only with a single number between 0 and 100. Do not include any other words. Assistant: 75\n",
      "The stripped generated text is:  ['User:', 'On', 'a', 'scale', 'from', '0', 'to', '100,', 'how', 'well', 'does', 'the', 'abstract', 'word', \"'loomoo'\", 'describe', 'the', 'following', 'image?', '0', 'means', 'the', 'word', 'and', 'image', 'have', 'no', 'connection', 'and', '100', 'means', 'the', 'word', 'perfectly', 'fits', 'the', 'image.', 'Answer', 'only', 'with', 'a', 'single', 'number', 'between', '0', 'and', '100.', 'Do', 'not', 'include', 'any', 'other', 'words.', 'Assistant:', '75']\n",
      "The probability is:  75\n"
     ]
    },
    {
     "name": "stderr",
     "output_type": "stream",
     "text": [
      "Processing molmo batch 6/34:  75%|███████▌  | 3/4 [00:29<00:09,  9.69s/it]"
     ]
    },
    {
     "name": "stdout",
     "output_type": "stream",
     "text": [
      "Model output:  User: On a scale from 0 to 100, how well does the abstract word 'kuhpay' describe the following image? 0 means the word and image have no connection and 100 means the word perfectly fits the image. Answer only with a single number between 0 and 100. Do not include any other words. Assistant: 60\n",
      "The stripped generated text is:  ['User:', 'On', 'a', 'scale', 'from', '0', 'to', '100,', 'how', 'well', 'does', 'the', 'abstract', 'word', \"'kuhpay'\", 'describe', 'the', 'following', 'image?', '0', 'means', 'the', 'word', 'and', 'image', 'have', 'no', 'connection', 'and', '100', 'means', 'the', 'word', 'perfectly', 'fits', 'the', 'image.', 'Answer', 'only', 'with', 'a', 'single', 'number', 'between', '0', 'and', '100.', 'Do', 'not', 'include', 'any', 'other', 'words.', 'Assistant:', '60']\n",
      "The probability is:  60\n"
     ]
    },
    {
     "name": "stderr",
     "output_type": "stream",
     "text": [
      "Processing molmo batch 6/34: 100%|██████████| 4/4 [00:38<00:00,  9.71s/it]\n"
     ]
    },
    {
     "name": "stdout",
     "output_type": "stream",
     "text": [
      "Model output:  User: On a scale from 0 to 100, how well does the abstract word 'puhkay' describe the following image? 0 means the word and image have no connection and 100 means the word perfectly fits the image. Answer only with a single number between 0 and 100. Do not include any other words. Assistant: 75\n",
      "The stripped generated text is:  ['User:', 'On', 'a', 'scale', 'from', '0', 'to', '100,', 'how', 'well', 'does', 'the', 'abstract', 'word', \"'puhkay'\", 'describe', 'the', 'following', 'image?', '0', 'means', 'the', 'word', 'and', 'image', 'have', 'no', 'connection', 'and', '100', 'means', 'the', 'word', 'perfectly', 'fits', 'the', 'image.', 'Answer', 'only', 'with', 'a', 'single', 'number', 'between', '0', 'and', '100.', 'Do', 'not', 'include', 'any', 'other', 'words.', 'Assistant:', '75']\n",
      "The probability is:  75\n"
     ]
    },
    {
     "name": "stderr",
     "output_type": "stream",
     "text": [
      "Processing molmo batch 7/34:  25%|██▌       | 1/4 [00:09<00:28,  9.35s/it]"
     ]
    },
    {
     "name": "stdout",
     "output_type": "stream",
     "text": [
      "Model output:  User: On a scale from 0 to 100, how well does the abstract word 'nohloh' describe the following image? 0 means the word and image have no connection and 100 means the word perfectly fits the image. Answer only with a single number between 0 and 100. Do not include any other words. Assistant: 95\n",
      "The stripped generated text is:  ['User:', 'On', 'a', 'scale', 'from', '0', 'to', '100,', 'how', 'well', 'does', 'the', 'abstract', 'word', \"'nohloh'\", 'describe', 'the', 'following', 'image?', '0', 'means', 'the', 'word', 'and', 'image', 'have', 'no', 'connection', 'and', '100', 'means', 'the', 'word', 'perfectly', 'fits', 'the', 'image.', 'Answer', 'only', 'with', 'a', 'single', 'number', 'between', '0', 'and', '100.', 'Do', 'not', 'include', 'any', 'other', 'words.', 'Assistant:', '95']\n",
      "The probability is:  95\n"
     ]
    },
    {
     "name": "stderr",
     "output_type": "stream",
     "text": [
      "Processing molmo batch 7/34:  50%|█████     | 2/4 [00:18<00:18,  9.35s/it]"
     ]
    },
    {
     "name": "stdout",
     "output_type": "stream",
     "text": [
      "Model output:  User: On a scale from 0 to 100, how well does the abstract word 'loomoo' describe the following image? 0 means the word and image have no connection and 100 means the word perfectly fits the image. Answer only with a single number between 0 and 100. Do not include any other words. Assistant: 85\n",
      "The stripped generated text is:  ['User:', 'On', 'a', 'scale', 'from', '0', 'to', '100,', 'how', 'well', 'does', 'the', 'abstract', 'word', \"'loomoo'\", 'describe', 'the', 'following', 'image?', '0', 'means', 'the', 'word', 'and', 'image', 'have', 'no', 'connection', 'and', '100', 'means', 'the', 'word', 'perfectly', 'fits', 'the', 'image.', 'Answer', 'only', 'with', 'a', 'single', 'number', 'between', '0', 'and', '100.', 'Do', 'not', 'include', 'any', 'other', 'words.', 'Assistant:', '85']\n",
      "The probability is:  85\n"
     ]
    },
    {
     "name": "stderr",
     "output_type": "stream",
     "text": [
      "Processing molmo batch 7/34:  75%|███████▌  | 3/4 [00:28<00:09,  9.38s/it]"
     ]
    },
    {
     "name": "stdout",
     "output_type": "stream",
     "text": [
      "Model output:  User: On a scale from 0 to 100, how well does the abstract word 'kuhpay' describe the following image? 0 means the word and image have no connection and 100 means the word perfectly fits the image. Answer only with a single number between 0 and 100. Do not include any other words. Assistant: 95\n",
      "The stripped generated text is:  ['User:', 'On', 'a', 'scale', 'from', '0', 'to', '100,', 'how', 'well', 'does', 'the', 'abstract', 'word', \"'kuhpay'\", 'describe', 'the', 'following', 'image?', '0', 'means', 'the', 'word', 'and', 'image', 'have', 'no', 'connection', 'and', '100', 'means', 'the', 'word', 'perfectly', 'fits', 'the', 'image.', 'Answer', 'only', 'with', 'a', 'single', 'number', 'between', '0', 'and', '100.', 'Do', 'not', 'include', 'any', 'other', 'words.', 'Assistant:', '95']\n",
      "The probability is:  95\n"
     ]
    },
    {
     "name": "stderr",
     "output_type": "stream",
     "text": [
      "Processing molmo batch 7/34: 100%|██████████| 4/4 [00:37<00:00,  9.39s/it]\n"
     ]
    },
    {
     "name": "stdout",
     "output_type": "stream",
     "text": [
      "Model output:  User: On a scale from 0 to 100, how well does the abstract word 'puhkay' describe the following image? 0 means the word and image have no connection and 100 means the word perfectly fits the image. Answer only with a single number between 0 and 100. Do not include any other words. Assistant: 95\n",
      "The stripped generated text is:  ['User:', 'On', 'a', 'scale', 'from', '0', 'to', '100,', 'how', 'well', 'does', 'the', 'abstract', 'word', \"'puhkay'\", 'describe', 'the', 'following', 'image?', '0', 'means', 'the', 'word', 'and', 'image', 'have', 'no', 'connection', 'and', '100', 'means', 'the', 'word', 'perfectly', 'fits', 'the', 'image.', 'Answer', 'only', 'with', 'a', 'single', 'number', 'between', '0', 'and', '100.', 'Do', 'not', 'include', 'any', 'other', 'words.', 'Assistant:', '95']\n",
      "The probability is:  95\n"
     ]
    },
    {
     "name": "stderr",
     "output_type": "stream",
     "text": [
      "Processing molmo batch 8/34:  25%|██▌       | 1/4 [00:09<00:28,  9.41s/it]"
     ]
    },
    {
     "name": "stdout",
     "output_type": "stream",
     "text": [
      "Model output:  User: On a scale from 0 to 100, how well does the abstract word 'nohloh' describe the following image? 0 means the word and image have no connection and 100 means the word perfectly fits the image. Answer only with a single number between 0 and 100. Do not include any other words. Assistant: 85\n",
      "The stripped generated text is:  ['User:', 'On', 'a', 'scale', 'from', '0', 'to', '100,', 'how', 'well', 'does', 'the', 'abstract', 'word', \"'nohloh'\", 'describe', 'the', 'following', 'image?', '0', 'means', 'the', 'word', 'and', 'image', 'have', 'no', 'connection', 'and', '100', 'means', 'the', 'word', 'perfectly', 'fits', 'the', 'image.', 'Answer', 'only', 'with', 'a', 'single', 'number', 'between', '0', 'and', '100.', 'Do', 'not', 'include', 'any', 'other', 'words.', 'Assistant:', '85']\n",
      "The probability is:  85\n"
     ]
    },
    {
     "name": "stderr",
     "output_type": "stream",
     "text": [
      "Processing molmo batch 8/34:  50%|█████     | 2/4 [00:18<00:18,  9.41s/it]"
     ]
    },
    {
     "name": "stdout",
     "output_type": "stream",
     "text": [
      "Model output:  User: On a scale from 0 to 100, how well does the abstract word 'loomoo' describe the following image? 0 means the word and image have no connection and 100 means the word perfectly fits the image. Answer only with a single number between 0 and 100. Do not include any other words. Assistant: 65\n",
      "The stripped generated text is:  ['User:', 'On', 'a', 'scale', 'from', '0', 'to', '100,', 'how', 'well', 'does', 'the', 'abstract', 'word', \"'loomoo'\", 'describe', 'the', 'following', 'image?', '0', 'means', 'the', 'word', 'and', 'image', 'have', 'no', 'connection', 'and', '100', 'means', 'the', 'word', 'perfectly', 'fits', 'the', 'image.', 'Answer', 'only', 'with', 'a', 'single', 'number', 'between', '0', 'and', '100.', 'Do', 'not', 'include', 'any', 'other', 'words.', 'Assistant:', '65']\n",
      "The probability is:  65\n"
     ]
    },
    {
     "name": "stderr",
     "output_type": "stream",
     "text": [
      "Processing molmo batch 8/34:  75%|███████▌  | 3/4 [00:28<00:09,  9.42s/it]"
     ]
    },
    {
     "name": "stdout",
     "output_type": "stream",
     "text": [
      "Model output:  User: On a scale from 0 to 100, how well does the abstract word 'kuhpay' describe the following image? 0 means the word and image have no connection and 100 means the word perfectly fits the image. Answer only with a single number between 0 and 100. Do not include any other words. Assistant: 95\n",
      "The stripped generated text is:  ['User:', 'On', 'a', 'scale', 'from', '0', 'to', '100,', 'how', 'well', 'does', 'the', 'abstract', 'word', \"'kuhpay'\", 'describe', 'the', 'following', 'image?', '0', 'means', 'the', 'word', 'and', 'image', 'have', 'no', 'connection', 'and', '100', 'means', 'the', 'word', 'perfectly', 'fits', 'the', 'image.', 'Answer', 'only', 'with', 'a', 'single', 'number', 'between', '0', 'and', '100.', 'Do', 'not', 'include', 'any', 'other', 'words.', 'Assistant:', '95']\n",
      "The probability is:  95\n"
     ]
    },
    {
     "name": "stderr",
     "output_type": "stream",
     "text": [
      "Processing molmo batch 8/34: 100%|██████████| 4/4 [00:37<00:00,  9.42s/it]\n"
     ]
    },
    {
     "name": "stdout",
     "output_type": "stream",
     "text": [
      "Model output:  User: On a scale from 0 to 100, how well does the abstract word 'puhkay' describe the following image? 0 means the word and image have no connection and 100 means the word perfectly fits the image. Answer only with a single number between 0 and 100. Do not include any other words. Assistant: 42\n",
      "The stripped generated text is:  ['User:', 'On', 'a', 'scale', 'from', '0', 'to', '100,', 'how', 'well', 'does', 'the', 'abstract', 'word', \"'puhkay'\", 'describe', 'the', 'following', 'image?', '0', 'means', 'the', 'word', 'and', 'image', 'have', 'no', 'connection', 'and', '100', 'means', 'the', 'word', 'perfectly', 'fits', 'the', 'image.', 'Answer', 'only', 'with', 'a', 'single', 'number', 'between', '0', 'and', '100.', 'Do', 'not', 'include', 'any', 'other', 'words.', 'Assistant:', '42']\n",
      "The probability is:  42\n"
     ]
    },
    {
     "name": "stderr",
     "output_type": "stream",
     "text": [
      "Processing molmo batch 9/34:  25%|██▌       | 1/4 [00:09<00:28,  9.41s/it]"
     ]
    },
    {
     "name": "stdout",
     "output_type": "stream",
     "text": [
      "Model output:  User: On a scale from 0 to 100, how well does the abstract word 'nohloh' describe the following image? 0 means the word and image have no connection and 100 means the word perfectly fits the image. Answer only with a single number between 0 and 100. Do not include any other words. Assistant: 75\n",
      "The stripped generated text is:  ['User:', 'On', 'a', 'scale', 'from', '0', 'to', '100,', 'how', 'well', 'does', 'the', 'abstract', 'word', \"'nohloh'\", 'describe', 'the', 'following', 'image?', '0', 'means', 'the', 'word', 'and', 'image', 'have', 'no', 'connection', 'and', '100', 'means', 'the', 'word', 'perfectly', 'fits', 'the', 'image.', 'Answer', 'only', 'with', 'a', 'single', 'number', 'between', '0', 'and', '100.', 'Do', 'not', 'include', 'any', 'other', 'words.', 'Assistant:', '75']\n",
      "The probability is:  75\n"
     ]
    },
    {
     "name": "stderr",
     "output_type": "stream",
     "text": [
      "Processing molmo batch 9/34:  50%|█████     | 2/4 [00:18<00:18,  9.43s/it]"
     ]
    },
    {
     "name": "stdout",
     "output_type": "stream",
     "text": [
      "Model output:  User: On a scale from 0 to 100, how well does the abstract word 'loomoo' describe the following image? 0 means the word and image have no connection and 100 means the word perfectly fits the image. Answer only with a single number between 0 and 100. Do not include any other words. Assistant: 65\n",
      "The stripped generated text is:  ['User:', 'On', 'a', 'scale', 'from', '0', 'to', '100,', 'how', 'well', 'does', 'the', 'abstract', 'word', \"'loomoo'\", 'describe', 'the', 'following', 'image?', '0', 'means', 'the', 'word', 'and', 'image', 'have', 'no', 'connection', 'and', '100', 'means', 'the', 'word', 'perfectly', 'fits', 'the', 'image.', 'Answer', 'only', 'with', 'a', 'single', 'number', 'between', '0', 'and', '100.', 'Do', 'not', 'include', 'any', 'other', 'words.', 'Assistant:', '65']\n",
      "The probability is:  65\n"
     ]
    },
    {
     "name": "stderr",
     "output_type": "stream",
     "text": [
      "Processing molmo batch 9/34:  75%|███████▌  | 3/4 [00:28<00:09,  9.42s/it]"
     ]
    },
    {
     "name": "stdout",
     "output_type": "stream",
     "text": [
      "Model output:  User: On a scale from 0 to 100, how well does the abstract word 'kuhpay' describe the following image? 0 means the word and image have no connection and 100 means the word perfectly fits the image. Answer only with a single number between 0 and 100. Do not include any other words. Assistant: 85\n",
      "The stripped generated text is:  ['User:', 'On', 'a', 'scale', 'from', '0', 'to', '100,', 'how', 'well', 'does', 'the', 'abstract', 'word', \"'kuhpay'\", 'describe', 'the', 'following', 'image?', '0', 'means', 'the', 'word', 'and', 'image', 'have', 'no', 'connection', 'and', '100', 'means', 'the', 'word', 'perfectly', 'fits', 'the', 'image.', 'Answer', 'only', 'with', 'a', 'single', 'number', 'between', '0', 'and', '100.', 'Do', 'not', 'include', 'any', 'other', 'words.', 'Assistant:', '85']\n",
      "The probability is:  85\n"
     ]
    },
    {
     "name": "stderr",
     "output_type": "stream",
     "text": [
      "Processing molmo batch 9/34: 100%|██████████| 4/4 [00:37<00:00,  9.41s/it]\n"
     ]
    },
    {
     "name": "stdout",
     "output_type": "stream",
     "text": [
      "Model output:  User: On a scale from 0 to 100, how well does the abstract word 'puhkay' describe the following image? 0 means the word and image have no connection and 100 means the word perfectly fits the image. Answer only with a single number between 0 and 100. Do not include any other words. Assistant: 55\n",
      "The stripped generated text is:  ['User:', 'On', 'a', 'scale', 'from', '0', 'to', '100,', 'how', 'well', 'does', 'the', 'abstract', 'word', \"'puhkay'\", 'describe', 'the', 'following', 'image?', '0', 'means', 'the', 'word', 'and', 'image', 'have', 'no', 'connection', 'and', '100', 'means', 'the', 'word', 'perfectly', 'fits', 'the', 'image.', 'Answer', 'only', 'with', 'a', 'single', 'number', 'between', '0', 'and', '100.', 'Do', 'not', 'include', 'any', 'other', 'words.', 'Assistant:', '55']\n",
      "The probability is:  55\n"
     ]
    },
    {
     "name": "stderr",
     "output_type": "stream",
     "text": [
      "Processing molmo batch 10/34:  25%|██▌       | 1/4 [00:09<00:28,  9.41s/it]"
     ]
    },
    {
     "name": "stdout",
     "output_type": "stream",
     "text": [
      "Model output:  User: On a scale from 0 to 100, how well does the abstract word 'nohloh' describe the following image? 0 means the word and image have no connection and 100 means the word perfectly fits the image. Answer only with a single number between 0 and 100. Do not include any other words. Assistant: 75\n",
      "The stripped generated text is:  ['User:', 'On', 'a', 'scale', 'from', '0', 'to', '100,', 'how', 'well', 'does', 'the', 'abstract', 'word', \"'nohloh'\", 'describe', 'the', 'following', 'image?', '0', 'means', 'the', 'word', 'and', 'image', 'have', 'no', 'connection', 'and', '100', 'means', 'the', 'word', 'perfectly', 'fits', 'the', 'image.', 'Answer', 'only', 'with', 'a', 'single', 'number', 'between', '0', 'and', '100.', 'Do', 'not', 'include', 'any', 'other', 'words.', 'Assistant:', '75']\n",
      "The probability is:  75\n"
     ]
    },
    {
     "name": "stderr",
     "output_type": "stream",
     "text": [
      "Processing molmo batch 10/34:  50%|█████     | 2/4 [00:18<00:18,  9.41s/it]"
     ]
    },
    {
     "name": "stdout",
     "output_type": "stream",
     "text": [
      "Model output:  User: On a scale from 0 to 100, how well does the abstract word 'loomoo' describe the following image? 0 means the word and image have no connection and 100 means the word perfectly fits the image. Answer only with a single number between 0 and 100. Do not include any other words. Assistant: 85\n",
      "The stripped generated text is:  ['User:', 'On', 'a', 'scale', 'from', '0', 'to', '100,', 'how', 'well', 'does', 'the', 'abstract', 'word', \"'loomoo'\", 'describe', 'the', 'following', 'image?', '0', 'means', 'the', 'word', 'and', 'image', 'have', 'no', 'connection', 'and', '100', 'means', 'the', 'word', 'perfectly', 'fits', 'the', 'image.', 'Answer', 'only', 'with', 'a', 'single', 'number', 'between', '0', 'and', '100.', 'Do', 'not', 'include', 'any', 'other', 'words.', 'Assistant:', '85']\n",
      "The probability is:  85\n"
     ]
    },
    {
     "name": "stderr",
     "output_type": "stream",
     "text": [
      "Processing molmo batch 10/34:  75%|███████▌  | 3/4 [00:28<00:09,  9.41s/it]"
     ]
    },
    {
     "name": "stdout",
     "output_type": "stream",
     "text": [
      "Model output:  User: On a scale from 0 to 100, how well does the abstract word 'kuhpay' describe the following image? 0 means the word and image have no connection and 100 means the word perfectly fits the image. Answer only with a single number between 0 and 100. Do not include any other words. Assistant: 75\n",
      "The stripped generated text is:  ['User:', 'On', 'a', 'scale', 'from', '0', 'to', '100,', 'how', 'well', 'does', 'the', 'abstract', 'word', \"'kuhpay'\", 'describe', 'the', 'following', 'image?', '0', 'means', 'the', 'word', 'and', 'image', 'have', 'no', 'connection', 'and', '100', 'means', 'the', 'word', 'perfectly', 'fits', 'the', 'image.', 'Answer', 'only', 'with', 'a', 'single', 'number', 'between', '0', 'and', '100.', 'Do', 'not', 'include', 'any', 'other', 'words.', 'Assistant:', '75']\n",
      "The probability is:  75\n"
     ]
    },
    {
     "name": "stderr",
     "output_type": "stream",
     "text": [
      "Processing molmo batch 10/34: 100%|██████████| 4/4 [00:37<00:00,  9.42s/it]\n"
     ]
    },
    {
     "name": "stdout",
     "output_type": "stream",
     "text": [
      "Model output:  User: On a scale from 0 to 100, how well does the abstract word 'puhkay' describe the following image? 0 means the word and image have no connection and 100 means the word perfectly fits the image. Answer only with a single number between 0 and 100. Do not include any other words. Assistant: 50\n",
      "The stripped generated text is:  ['User:', 'On', 'a', 'scale', 'from', '0', 'to', '100,', 'how', 'well', 'does', 'the', 'abstract', 'word', \"'puhkay'\", 'describe', 'the', 'following', 'image?', '0', 'means', 'the', 'word', 'and', 'image', 'have', 'no', 'connection', 'and', '100', 'means', 'the', 'word', 'perfectly', 'fits', 'the', 'image.', 'Answer', 'only', 'with', 'a', 'single', 'number', 'between', '0', 'and', '100.', 'Do', 'not', 'include', 'any', 'other', 'words.', 'Assistant:', '50']\n",
      "The probability is:  50\n"
     ]
    },
    {
     "name": "stderr",
     "output_type": "stream",
     "text": [
      "Processing molmo batch 11/34:  25%|██▌       | 1/4 [00:10<00:31, 10.53s/it]"
     ]
    },
    {
     "name": "stdout",
     "output_type": "stream",
     "text": [
      "Model output:  User: On a scale from 0 to 100, how well does the abstract word 'nohloh' describe the following image? 0 means the word and image have no connection and 100 means the word perfectly fits the image. Answer only with a single number between 0 and 100. Do not include any other words. Assistant: 42\n",
      "The stripped generated text is:  ['User:', 'On', 'a', 'scale', 'from', '0', 'to', '100,', 'how', 'well', 'does', 'the', 'abstract', 'word', \"'nohloh'\", 'describe', 'the', 'following', 'image?', '0', 'means', 'the', 'word', 'and', 'image', 'have', 'no', 'connection', 'and', '100', 'means', 'the', 'word', 'perfectly', 'fits', 'the', 'image.', 'Answer', 'only', 'with', 'a', 'single', 'number', 'between', '0', 'and', '100.', 'Do', 'not', 'include', 'any', 'other', 'words.', 'Assistant:', '42']\n",
      "The probability is:  42\n"
     ]
    },
    {
     "name": "stderr",
     "output_type": "stream",
     "text": [
      "Processing molmo batch 11/34:  50%|█████     | 2/4 [00:21<00:21, 10.52s/it]"
     ]
    },
    {
     "name": "stdout",
     "output_type": "stream",
     "text": [
      "Model output:  User: On a scale from 0 to 100, how well does the abstract word 'loomoo' describe the following image? 0 means the word and image have no connection and 100 means the word perfectly fits the image. Answer only with a single number between 0 and 100. Do not include any other words. Assistant: 60\n",
      "The stripped generated text is:  ['User:', 'On', 'a', 'scale', 'from', '0', 'to', '100,', 'how', 'well', 'does', 'the', 'abstract', 'word', \"'loomoo'\", 'describe', 'the', 'following', 'image?', '0', 'means', 'the', 'word', 'and', 'image', 'have', 'no', 'connection', 'and', '100', 'means', 'the', 'word', 'perfectly', 'fits', 'the', 'image.', 'Answer', 'only', 'with', 'a', 'single', 'number', 'between', '0', 'and', '100.', 'Do', 'not', 'include', 'any', 'other', 'words.', 'Assistant:', '60']\n",
      "The probability is:  60\n"
     ]
    },
    {
     "name": "stderr",
     "output_type": "stream",
     "text": [
      "Processing molmo batch 11/34:  75%|███████▌  | 3/4 [00:31<00:10, 10.52s/it]"
     ]
    },
    {
     "name": "stdout",
     "output_type": "stream",
     "text": [
      "Model output:  User: On a scale from 0 to 100, how well does the abstract word 'kuhpay' describe the following image? 0 means the word and image have no connection and 100 means the word perfectly fits the image. Answer only with a single number between 0 and 100. Do not include any other words. Assistant: 55\n",
      "The stripped generated text is:  ['User:', 'On', 'a', 'scale', 'from', '0', 'to', '100,', 'how', 'well', 'does', 'the', 'abstract', 'word', \"'kuhpay'\", 'describe', 'the', 'following', 'image?', '0', 'means', 'the', 'word', 'and', 'image', 'have', 'no', 'connection', 'and', '100', 'means', 'the', 'word', 'perfectly', 'fits', 'the', 'image.', 'Answer', 'only', 'with', 'a', 'single', 'number', 'between', '0', 'and', '100.', 'Do', 'not', 'include', 'any', 'other', 'words.', 'Assistant:', '55']\n",
      "The probability is:  55\n"
     ]
    },
    {
     "name": "stderr",
     "output_type": "stream",
     "text": [
      "Processing molmo batch 11/34: 100%|██████████| 4/4 [00:42<00:00, 10.52s/it]\n"
     ]
    },
    {
     "name": "stdout",
     "output_type": "stream",
     "text": [
      "Model output:  User: On a scale from 0 to 100, how well does the abstract word 'puhkay' describe the following image? 0 means the word and image have no connection and 100 means the word perfectly fits the image. Answer only with a single number between 0 and 100. Do not include any other words. Assistant: 75\n",
      "The stripped generated text is:  ['User:', 'On', 'a', 'scale', 'from', '0', 'to', '100,', 'how', 'well', 'does', 'the', 'abstract', 'word', \"'puhkay'\", 'describe', 'the', 'following', 'image?', '0', 'means', 'the', 'word', 'and', 'image', 'have', 'no', 'connection', 'and', '100', 'means', 'the', 'word', 'perfectly', 'fits', 'the', 'image.', 'Answer', 'only', 'with', 'a', 'single', 'number', 'between', '0', 'and', '100.', 'Do', 'not', 'include', 'any', 'other', 'words.', 'Assistant:', '75']\n",
      "The probability is:  75\n"
     ]
    },
    {
     "name": "stderr",
     "output_type": "stream",
     "text": [
      "Processing molmo batch 12/34:  25%|██▌       | 1/4 [00:10<00:32, 10.73s/it]"
     ]
    },
    {
     "name": "stdout",
     "output_type": "stream",
     "text": [
      "Model output:  User: On a scale from 0 to 100, how well does the abstract word 'nohloh' describe the following image? 0 means the word and image have no connection and 100 means the word perfectly fits the image. Answer only with a single number between 0 and 100. Do not include any other words. Assistant: 90\n",
      "The stripped generated text is:  ['User:', 'On', 'a', 'scale', 'from', '0', 'to', '100,', 'how', 'well', 'does', 'the', 'abstract', 'word', \"'nohloh'\", 'describe', 'the', 'following', 'image?', '0', 'means', 'the', 'word', 'and', 'image', 'have', 'no', 'connection', 'and', '100', 'means', 'the', 'word', 'perfectly', 'fits', 'the', 'image.', 'Answer', 'only', 'with', 'a', 'single', 'number', 'between', '0', 'and', '100.', 'Do', 'not', 'include', 'any', 'other', 'words.', 'Assistant:', '90']\n",
      "The probability is:  90\n"
     ]
    },
    {
     "name": "stderr",
     "output_type": "stream",
     "text": [
      "Processing molmo batch 12/34:  50%|█████     | 2/4 [00:21<00:21, 10.81s/it]"
     ]
    },
    {
     "name": "stdout",
     "output_type": "stream",
     "text": [
      "Model output:  User: On a scale from 0 to 100, how well does the abstract word 'loomoo' describe the following image? 0 means the word and image have no connection and 100 means the word perfectly fits the image. Answer only with a single number between 0 and 100. Do not include any other words. Assistant: 50\n",
      "The stripped generated text is:  ['User:', 'On', 'a', 'scale', 'from', '0', 'to', '100,', 'how', 'well', 'does', 'the', 'abstract', 'word', \"'loomoo'\", 'describe', 'the', 'following', 'image?', '0', 'means', 'the', 'word', 'and', 'image', 'have', 'no', 'connection', 'and', '100', 'means', 'the', 'word', 'perfectly', 'fits', 'the', 'image.', 'Answer', 'only', 'with', 'a', 'single', 'number', 'between', '0', 'and', '100.', 'Do', 'not', 'include', 'any', 'other', 'words.', 'Assistant:', '50']\n",
      "The probability is:  50\n"
     ]
    },
    {
     "name": "stderr",
     "output_type": "stream",
     "text": [
      "Processing molmo batch 12/34:  75%|███████▌  | 3/4 [00:32<00:10, 10.75s/it]"
     ]
    },
    {
     "name": "stdout",
     "output_type": "stream",
     "text": [
      "Model output:  User: On a scale from 0 to 100, how well does the abstract word 'kuhpay' describe the following image? 0 means the word and image have no connection and 100 means the word perfectly fits the image. Answer only with a single number between 0 and 100. Do not include any other words. Assistant: 75\n",
      "The stripped generated text is:  ['User:', 'On', 'a', 'scale', 'from', '0', 'to', '100,', 'how', 'well', 'does', 'the', 'abstract', 'word', \"'kuhpay'\", 'describe', 'the', 'following', 'image?', '0', 'means', 'the', 'word', 'and', 'image', 'have', 'no', 'connection', 'and', '100', 'means', 'the', 'word', 'perfectly', 'fits', 'the', 'image.', 'Answer', 'only', 'with', 'a', 'single', 'number', 'between', '0', 'and', '100.', 'Do', 'not', 'include', 'any', 'other', 'words.', 'Assistant:', '75']\n",
      "The probability is:  75\n"
     ]
    },
    {
     "name": "stderr",
     "output_type": "stream",
     "text": [
      "Processing molmo batch 12/34: 100%|██████████| 4/4 [00:42<00:00, 10.75s/it]\n"
     ]
    },
    {
     "name": "stdout",
     "output_type": "stream",
     "text": [
      "Model output:  User: On a scale from 0 to 100, how well does the abstract word 'puhkay' describe the following image? 0 means the word and image have no connection and 100 means the word perfectly fits the image. Answer only with a single number between 0 and 100. Do not include any other words. Assistant: 65\n",
      "The stripped generated text is:  ['User:', 'On', 'a', 'scale', 'from', '0', 'to', '100,', 'how', 'well', 'does', 'the', 'abstract', 'word', \"'puhkay'\", 'describe', 'the', 'following', 'image?', '0', 'means', 'the', 'word', 'and', 'image', 'have', 'no', 'connection', 'and', '100', 'means', 'the', 'word', 'perfectly', 'fits', 'the', 'image.', 'Answer', 'only', 'with', 'a', 'single', 'number', 'between', '0', 'and', '100.', 'Do', 'not', 'include', 'any', 'other', 'words.', 'Assistant:', '65']\n",
      "The probability is:  65\n"
     ]
    },
    {
     "name": "stderr",
     "output_type": "stream",
     "text": [
      "Processing molmo batch 13/34:  25%|██▌       | 1/4 [00:10<00:31, 10.51s/it]"
     ]
    },
    {
     "name": "stdout",
     "output_type": "stream",
     "text": [
      "Model output:  User: On a scale from 0 to 100, how well does the abstract word 'nohloh' describe the following image? 0 means the word and image have no connection and 100 means the word perfectly fits the image. Answer only with a single number between 0 and 100. Do not include any other words. Assistant: 75\n",
      "The stripped generated text is:  ['User:', 'On', 'a', 'scale', 'from', '0', 'to', '100,', 'how', 'well', 'does', 'the', 'abstract', 'word', \"'nohloh'\", 'describe', 'the', 'following', 'image?', '0', 'means', 'the', 'word', 'and', 'image', 'have', 'no', 'connection', 'and', '100', 'means', 'the', 'word', 'perfectly', 'fits', 'the', 'image.', 'Answer', 'only', 'with', 'a', 'single', 'number', 'between', '0', 'and', '100.', 'Do', 'not', 'include', 'any', 'other', 'words.', 'Assistant:', '75']\n",
      "The probability is:  75\n"
     ]
    },
    {
     "name": "stderr",
     "output_type": "stream",
     "text": [
      "Processing molmo batch 13/34:  50%|█████     | 2/4 [00:21<00:21, 10.52s/it]"
     ]
    },
    {
     "name": "stdout",
     "output_type": "stream",
     "text": [
      "Model output:  User: On a scale from 0 to 100, how well does the abstract word 'loomoo' describe the following image? 0 means the word and image have no connection and 100 means the word perfectly fits the image. Answer only with a single number between 0 and 100. Do not include any other words. Assistant: 75\n",
      "The stripped generated text is:  ['User:', 'On', 'a', 'scale', 'from', '0', 'to', '100,', 'how', 'well', 'does', 'the', 'abstract', 'word', \"'loomoo'\", 'describe', 'the', 'following', 'image?', '0', 'means', 'the', 'word', 'and', 'image', 'have', 'no', 'connection', 'and', '100', 'means', 'the', 'word', 'perfectly', 'fits', 'the', 'image.', 'Answer', 'only', 'with', 'a', 'single', 'number', 'between', '0', 'and', '100.', 'Do', 'not', 'include', 'any', 'other', 'words.', 'Assistant:', '75']\n",
      "The probability is:  75\n"
     ]
    },
    {
     "name": "stderr",
     "output_type": "stream",
     "text": [
      "Processing molmo batch 13/34:  75%|███████▌  | 3/4 [00:31<00:10, 10.58s/it]"
     ]
    },
    {
     "name": "stdout",
     "output_type": "stream",
     "text": [
      "Model output:  User: On a scale from 0 to 100, how well does the abstract word 'kuhpay' describe the following image? 0 means the word and image have no connection and 100 means the word perfectly fits the image. Answer only with a single number between 0 and 100. Do not include any other words. Assistant: 55\n",
      "The stripped generated text is:  ['User:', 'On', 'a', 'scale', 'from', '0', 'to', '100,', 'how', 'well', 'does', 'the', 'abstract', 'word', \"'kuhpay'\", 'describe', 'the', 'following', 'image?', '0', 'means', 'the', 'word', 'and', 'image', 'have', 'no', 'connection', 'and', '100', 'means', 'the', 'word', 'perfectly', 'fits', 'the', 'image.', 'Answer', 'only', 'with', 'a', 'single', 'number', 'between', '0', 'and', '100.', 'Do', 'not', 'include', 'any', 'other', 'words.', 'Assistant:', '55']\n",
      "The probability is:  55\n"
     ]
    },
    {
     "name": "stderr",
     "output_type": "stream",
     "text": [
      "Processing molmo batch 13/34: 100%|██████████| 4/4 [00:42<00:00, 10.52s/it]\n"
     ]
    },
    {
     "name": "stdout",
     "output_type": "stream",
     "text": [
      "Model output:  User: On a scale from 0 to 100, how well does the abstract word 'puhkay' describe the following image? 0 means the word and image have no connection and 100 means the word perfectly fits the image. Answer only with a single number between 0 and 100. Do not include any other words. Assistant: 50\n",
      "The stripped generated text is:  ['User:', 'On', 'a', 'scale', 'from', '0', 'to', '100,', 'how', 'well', 'does', 'the', 'abstract', 'word', \"'puhkay'\", 'describe', 'the', 'following', 'image?', '0', 'means', 'the', 'word', 'and', 'image', 'have', 'no', 'connection', 'and', '100', 'means', 'the', 'word', 'perfectly', 'fits', 'the', 'image.', 'Answer', 'only', 'with', 'a', 'single', 'number', 'between', '0', 'and', '100.', 'Do', 'not', 'include', 'any', 'other', 'words.', 'Assistant:', '50']\n",
      "The probability is:  50\n"
     ]
    },
    {
     "name": "stderr",
     "output_type": "stream",
     "text": [
      "Processing molmo batch 14/34:  25%|██▌       | 1/4 [00:09<00:28,  9.67s/it]"
     ]
    },
    {
     "name": "stdout",
     "output_type": "stream",
     "text": [
      "Model output:  User: On a scale from 0 to 100, how well does the abstract word 'nohloh' describe the following image? 0 means the word and image have no connection and 100 means the word perfectly fits the image. Answer only with a single number between 0 and 100. Do not include any other words. Assistant: 85\n",
      "The stripped generated text is:  ['User:', 'On', 'a', 'scale', 'from', '0', 'to', '100,', 'how', 'well', 'does', 'the', 'abstract', 'word', \"'nohloh'\", 'describe', 'the', 'following', 'image?', '0', 'means', 'the', 'word', 'and', 'image', 'have', 'no', 'connection', 'and', '100', 'means', 'the', 'word', 'perfectly', 'fits', 'the', 'image.', 'Answer', 'only', 'with', 'a', 'single', 'number', 'between', '0', 'and', '100.', 'Do', 'not', 'include', 'any', 'other', 'words.', 'Assistant:', '85']\n",
      "The probability is:  85\n"
     ]
    },
    {
     "name": "stderr",
     "output_type": "stream",
     "text": [
      "Processing molmo batch 14/34:  50%|█████     | 2/4 [00:19<00:19,  9.62s/it]"
     ]
    },
    {
     "name": "stdout",
     "output_type": "stream",
     "text": [
      "Model output:  User: On a scale from 0 to 100, how well does the abstract word 'loomoo' describe the following image? 0 means the word and image have no connection and 100 means the word perfectly fits the image. Answer only with a single number between 0 and 100. Do not include any other words. Assistant: 90\n",
      "The stripped generated text is:  ['User:', 'On', 'a', 'scale', 'from', '0', 'to', '100,', 'how', 'well', 'does', 'the', 'abstract', 'word', \"'loomoo'\", 'describe', 'the', 'following', 'image?', '0', 'means', 'the', 'word', 'and', 'image', 'have', 'no', 'connection', 'and', '100', 'means', 'the', 'word', 'perfectly', 'fits', 'the', 'image.', 'Answer', 'only', 'with', 'a', 'single', 'number', 'between', '0', 'and', '100.', 'Do', 'not', 'include', 'any', 'other', 'words.', 'Assistant:', '90']\n",
      "The probability is:  90\n"
     ]
    },
    {
     "name": "stderr",
     "output_type": "stream",
     "text": [
      "Processing molmo batch 14/34:  75%|███████▌  | 3/4 [00:28<00:09,  9.60s/it]"
     ]
    },
    {
     "name": "stdout",
     "output_type": "stream",
     "text": [
      "Model output:  User: On a scale from 0 to 100, how well does the abstract word 'kuhpay' describe the following image? 0 means the word and image have no connection and 100 means the word perfectly fits the image. Answer only with a single number between 0 and 100. Do not include any other words. Assistant: 75\n",
      "The stripped generated text is:  ['User:', 'On', 'a', 'scale', 'from', '0', 'to', '100,', 'how', 'well', 'does', 'the', 'abstract', 'word', \"'kuhpay'\", 'describe', 'the', 'following', 'image?', '0', 'means', 'the', 'word', 'and', 'image', 'have', 'no', 'connection', 'and', '100', 'means', 'the', 'word', 'perfectly', 'fits', 'the', 'image.', 'Answer', 'only', 'with', 'a', 'single', 'number', 'between', '0', 'and', '100.', 'Do', 'not', 'include', 'any', 'other', 'words.', 'Assistant:', '75']\n",
      "The probability is:  75\n"
     ]
    },
    {
     "name": "stderr",
     "output_type": "stream",
     "text": [
      "Processing molmo batch 14/34: 100%|██████████| 4/4 [00:38<00:00,  9.61s/it]\n"
     ]
    },
    {
     "name": "stdout",
     "output_type": "stream",
     "text": [
      "Model output:  User: On a scale from 0 to 100, how well does the abstract word 'puhkay' describe the following image? 0 means the word and image have no connection and 100 means the word perfectly fits the image. Answer only with a single number between 0 and 100. Do not include any other words. Assistant: 85\n",
      "The stripped generated text is:  ['User:', 'On', 'a', 'scale', 'from', '0', 'to', '100,', 'how', 'well', 'does', 'the', 'abstract', 'word', \"'puhkay'\", 'describe', 'the', 'following', 'image?', '0', 'means', 'the', 'word', 'and', 'image', 'have', 'no', 'connection', 'and', '100', 'means', 'the', 'word', 'perfectly', 'fits', 'the', 'image.', 'Answer', 'only', 'with', 'a', 'single', 'number', 'between', '0', 'and', '100.', 'Do', 'not', 'include', 'any', 'other', 'words.', 'Assistant:', '85']\n",
      "The probability is:  85\n"
     ]
    },
    {
     "name": "stderr",
     "output_type": "stream",
     "text": [
      "Processing molmo batch 15/34:  25%|██▌       | 1/4 [00:09<00:28,  9.65s/it]"
     ]
    },
    {
     "name": "stdout",
     "output_type": "stream",
     "text": [
      "Model output:  User: On a scale from 0 to 100, how well does the abstract word 'nohloh' describe the following image? 0 means the word and image have no connection and 100 means the word perfectly fits the image. Answer only with a single number between 0 and 100. Do not include any other words. Assistant: 60\n",
      "The stripped generated text is:  ['User:', 'On', 'a', 'scale', 'from', '0', 'to', '100,', 'how', 'well', 'does', 'the', 'abstract', 'word', \"'nohloh'\", 'describe', 'the', 'following', 'image?', '0', 'means', 'the', 'word', 'and', 'image', 'have', 'no', 'connection', 'and', '100', 'means', 'the', 'word', 'perfectly', 'fits', 'the', 'image.', 'Answer', 'only', 'with', 'a', 'single', 'number', 'between', '0', 'and', '100.', 'Do', 'not', 'include', 'any', 'other', 'words.', 'Assistant:', '60']\n",
      "The probability is:  60\n"
     ]
    },
    {
     "name": "stderr",
     "output_type": "stream",
     "text": [
      "Processing molmo batch 15/34:  50%|█████     | 2/4 [00:19<00:19,  9.61s/it]"
     ]
    },
    {
     "name": "stdout",
     "output_type": "stream",
     "text": [
      "Model output:  User: On a scale from 0 to 100, how well does the abstract word 'loomoo' describe the following image? 0 means the word and image have no connection and 100 means the word perfectly fits the image. Answer only with a single number between 0 and 100. Do not include any other words. Assistant: 42\n",
      "The stripped generated text is:  ['User:', 'On', 'a', 'scale', 'from', '0', 'to', '100,', 'how', 'well', 'does', 'the', 'abstract', 'word', \"'loomoo'\", 'describe', 'the', 'following', 'image?', '0', 'means', 'the', 'word', 'and', 'image', 'have', 'no', 'connection', 'and', '100', 'means', 'the', 'word', 'perfectly', 'fits', 'the', 'image.', 'Answer', 'only', 'with', 'a', 'single', 'number', 'between', '0', 'and', '100.', 'Do', 'not', 'include', 'any', 'other', 'words.', 'Assistant:', '42']\n",
      "The probability is:  42\n"
     ]
    },
    {
     "name": "stderr",
     "output_type": "stream",
     "text": [
      "Processing molmo batch 15/34:  75%|███████▌  | 3/4 [00:28<00:09,  9.60s/it]"
     ]
    },
    {
     "name": "stdout",
     "output_type": "stream",
     "text": [
      "Model output:  User: On a scale from 0 to 100, how well does the abstract word 'kuhpay' describe the following image? 0 means the word and image have no connection and 100 means the word perfectly fits the image. Answer only with a single number between 0 and 100. Do not include any other words. Assistant: 95\n",
      "The stripped generated text is:  ['User:', 'On', 'a', 'scale', 'from', '0', 'to', '100,', 'how', 'well', 'does', 'the', 'abstract', 'word', \"'kuhpay'\", 'describe', 'the', 'following', 'image?', '0', 'means', 'the', 'word', 'and', 'image', 'have', 'no', 'connection', 'and', '100', 'means', 'the', 'word', 'perfectly', 'fits', 'the', 'image.', 'Answer', 'only', 'with', 'a', 'single', 'number', 'between', '0', 'and', '100.', 'Do', 'not', 'include', 'any', 'other', 'words.', 'Assistant:', '95']\n",
      "The probability is:  95\n"
     ]
    },
    {
     "name": "stderr",
     "output_type": "stream",
     "text": [
      "Processing molmo batch 15/34: 100%|██████████| 4/4 [00:38<00:00,  9.61s/it]\n"
     ]
    },
    {
     "name": "stdout",
     "output_type": "stream",
     "text": [
      "Model output:  User: On a scale from 0 to 100, how well does the abstract word 'puhkay' describe the following image? 0 means the word and image have no connection and 100 means the word perfectly fits the image. Answer only with a single number between 0 and 100. Do not include any other words. Assistant: 95\n",
      "The stripped generated text is:  ['User:', 'On', 'a', 'scale', 'from', '0', 'to', '100,', 'how', 'well', 'does', 'the', 'abstract', 'word', \"'puhkay'\", 'describe', 'the', 'following', 'image?', '0', 'means', 'the', 'word', 'and', 'image', 'have', 'no', 'connection', 'and', '100', 'means', 'the', 'word', 'perfectly', 'fits', 'the', 'image.', 'Answer', 'only', 'with', 'a', 'single', 'number', 'between', '0', 'and', '100.', 'Do', 'not', 'include', 'any', 'other', 'words.', 'Assistant:', '95']\n",
      "The probability is:  95\n"
     ]
    },
    {
     "name": "stderr",
     "output_type": "stream",
     "text": [
      "Processing molmo batch 16/34:  25%|██▌       | 1/4 [00:09<00:29,  9.67s/it]"
     ]
    },
    {
     "name": "stdout",
     "output_type": "stream",
     "text": [
      "Model output:  User: On a scale from 0 to 100, how well does the abstract word 'nohloh' describe the following image? 0 means the word and image have no connection and 100 means the word perfectly fits the image. Answer only with a single number between 0 and 100. Do not include any other words. Assistant: 85\n",
      "The stripped generated text is:  ['User:', 'On', 'a', 'scale', 'from', '0', 'to', '100,', 'how', 'well', 'does', 'the', 'abstract', 'word', \"'nohloh'\", 'describe', 'the', 'following', 'image?', '0', 'means', 'the', 'word', 'and', 'image', 'have', 'no', 'connection', 'and', '100', 'means', 'the', 'word', 'perfectly', 'fits', 'the', 'image.', 'Answer', 'only', 'with', 'a', 'single', 'number', 'between', '0', 'and', '100.', 'Do', 'not', 'include', 'any', 'other', 'words.', 'Assistant:', '85']\n",
      "The probability is:  85\n"
     ]
    },
    {
     "name": "stderr",
     "output_type": "stream",
     "text": [
      "Processing molmo batch 16/34:  50%|█████     | 2/4 [00:19<00:19,  9.62s/it]"
     ]
    },
    {
     "name": "stdout",
     "output_type": "stream",
     "text": [
      "Model output:  User: On a scale from 0 to 100, how well does the abstract word 'loomoo' describe the following image? 0 means the word and image have no connection and 100 means the word perfectly fits the image. Answer only with a single number between 0 and 100. Do not include any other words. Assistant: 90\n",
      "The stripped generated text is:  ['User:', 'On', 'a', 'scale', 'from', '0', 'to', '100,', 'how', 'well', 'does', 'the', 'abstract', 'word', \"'loomoo'\", 'describe', 'the', 'following', 'image?', '0', 'means', 'the', 'word', 'and', 'image', 'have', 'no', 'connection', 'and', '100', 'means', 'the', 'word', 'perfectly', 'fits', 'the', 'image.', 'Answer', 'only', 'with', 'a', 'single', 'number', 'between', '0', 'and', '100.', 'Do', 'not', 'include', 'any', 'other', 'words.', 'Assistant:', '90']\n",
      "The probability is:  90\n"
     ]
    },
    {
     "name": "stderr",
     "output_type": "stream",
     "text": [
      "Processing molmo batch 16/34:  75%|███████▌  | 3/4 [00:28<00:09,  9.61s/it]"
     ]
    },
    {
     "name": "stdout",
     "output_type": "stream",
     "text": [
      "Model output:  User: On a scale from 0 to 100, how well does the abstract word 'kuhpay' describe the following image? 0 means the word and image have no connection and 100 means the word perfectly fits the image. Answer only with a single number between 0 and 100. Do not include any other words. Assistant: 50\n",
      "The stripped generated text is:  ['User:', 'On', 'a', 'scale', 'from', '0', 'to', '100,', 'how', 'well', 'does', 'the', 'abstract', 'word', \"'kuhpay'\", 'describe', 'the', 'following', 'image?', '0', 'means', 'the', 'word', 'and', 'image', 'have', 'no', 'connection', 'and', '100', 'means', 'the', 'word', 'perfectly', 'fits', 'the', 'image.', 'Answer', 'only', 'with', 'a', 'single', 'number', 'between', '0', 'and', '100.', 'Do', 'not', 'include', 'any', 'other', 'words.', 'Assistant:', '50']\n",
      "The probability is:  50\n"
     ]
    },
    {
     "name": "stderr",
     "output_type": "stream",
     "text": [
      "Processing molmo batch 16/34: 100%|██████████| 4/4 [00:38<00:00,  9.64s/it]\n"
     ]
    },
    {
     "name": "stdout",
     "output_type": "stream",
     "text": [
      "Model output:  User: On a scale from 0 to 100, how well does the abstract word 'puhkay' describe the following image? 0 means the word and image have no connection and 100 means the word perfectly fits the image. Answer only with a single number between 0 and 100. Do not include any other words. Assistant: 65\n",
      "The stripped generated text is:  ['User:', 'On', 'a', 'scale', 'from', '0', 'to', '100,', 'how', 'well', 'does', 'the', 'abstract', 'word', \"'puhkay'\", 'describe', 'the', 'following', 'image?', '0', 'means', 'the', 'word', 'and', 'image', 'have', 'no', 'connection', 'and', '100', 'means', 'the', 'word', 'perfectly', 'fits', 'the', 'image.', 'Answer', 'only', 'with', 'a', 'single', 'number', 'between', '0', 'and', '100.', 'Do', 'not', 'include', 'any', 'other', 'words.', 'Assistant:', '65']\n",
      "The probability is:  65\n"
     ]
    },
    {
     "name": "stderr",
     "output_type": "stream",
     "text": [
      "Processing molmo batch 17/34:  25%|██▌       | 1/4 [00:09<00:28,  9.66s/it]"
     ]
    },
    {
     "name": "stdout",
     "output_type": "stream",
     "text": [
      "Model output:  User: On a scale from 0 to 100, how well does the abstract word 'nohloh' describe the following image? 0 means the word and image have no connection and 100 means the word perfectly fits the image. Answer only with a single number between 0 and 100. Do not include any other words. Assistant: 50\n",
      "The stripped generated text is:  ['User:', 'On', 'a', 'scale', 'from', '0', 'to', '100,', 'how', 'well', 'does', 'the', 'abstract', 'word', \"'nohloh'\", 'describe', 'the', 'following', 'image?', '0', 'means', 'the', 'word', 'and', 'image', 'have', 'no', 'connection', 'and', '100', 'means', 'the', 'word', 'perfectly', 'fits', 'the', 'image.', 'Answer', 'only', 'with', 'a', 'single', 'number', 'between', '0', 'and', '100.', 'Do', 'not', 'include', 'any', 'other', 'words.', 'Assistant:', '50']\n",
      "The probability is:  50\n"
     ]
    },
    {
     "name": "stderr",
     "output_type": "stream",
     "text": [
      "Processing molmo batch 17/34:  50%|█████     | 2/4 [00:19<00:19,  9.64s/it]"
     ]
    },
    {
     "name": "stdout",
     "output_type": "stream",
     "text": [
      "Model output:  User: On a scale from 0 to 100, how well does the abstract word 'loomoo' describe the following image? 0 means the word and image have no connection and 100 means the word perfectly fits the image. Answer only with a single number between 0 and 100. Do not include any other words. Assistant: 45\n",
      "The stripped generated text is:  ['User:', 'On', 'a', 'scale', 'from', '0', 'to', '100,', 'how', 'well', 'does', 'the', 'abstract', 'word', \"'loomoo'\", 'describe', 'the', 'following', 'image?', '0', 'means', 'the', 'word', 'and', 'image', 'have', 'no', 'connection', 'and', '100', 'means', 'the', 'word', 'perfectly', 'fits', 'the', 'image.', 'Answer', 'only', 'with', 'a', 'single', 'number', 'between', '0', 'and', '100.', 'Do', 'not', 'include', 'any', 'other', 'words.', 'Assistant:', '45']\n",
      "The probability is:  45\n"
     ]
    },
    {
     "name": "stderr",
     "output_type": "stream",
     "text": [
      "Processing molmo batch 17/34:  75%|███████▌  | 3/4 [00:28<00:09,  9.61s/it]"
     ]
    },
    {
     "name": "stdout",
     "output_type": "stream",
     "text": [
      "Model output:  User: On a scale from 0 to 100, how well does the abstract word 'kuhpay' describe the following image? 0 means the word and image have no connection and 100 means the word perfectly fits the image. Answer only with a single number between 0 and 100. Do not include any other words. Assistant: 75\n",
      "The stripped generated text is:  ['User:', 'On', 'a', 'scale', 'from', '0', 'to', '100,', 'how', 'well', 'does', 'the', 'abstract', 'word', \"'kuhpay'\", 'describe', 'the', 'following', 'image?', '0', 'means', 'the', 'word', 'and', 'image', 'have', 'no', 'connection', 'and', '100', 'means', 'the', 'word', 'perfectly', 'fits', 'the', 'image.', 'Answer', 'only', 'with', 'a', 'single', 'number', 'between', '0', 'and', '100.', 'Do', 'not', 'include', 'any', 'other', 'words.', 'Assistant:', '75']\n",
      "The probability is:  75\n"
     ]
    },
    {
     "name": "stderr",
     "output_type": "stream",
     "text": [
      "Processing molmo batch 17/34: 100%|██████████| 4/4 [00:38<00:00,  9.63s/it]\n"
     ]
    },
    {
     "name": "stdout",
     "output_type": "stream",
     "text": [
      "Model output:  User: On a scale from 0 to 100, how well does the abstract word 'puhkay' describe the following image? 0 means the word and image have no connection and 100 means the word perfectly fits the image. Answer only with a single number between 0 and 100. Do not include any other words. Assistant: 75\n",
      "The stripped generated text is:  ['User:', 'On', 'a', 'scale', 'from', '0', 'to', '100,', 'how', 'well', 'does', 'the', 'abstract', 'word', \"'puhkay'\", 'describe', 'the', 'following', 'image?', '0', 'means', 'the', 'word', 'and', 'image', 'have', 'no', 'connection', 'and', '100', 'means', 'the', 'word', 'perfectly', 'fits', 'the', 'image.', 'Answer', 'only', 'with', 'a', 'single', 'number', 'between', '0', 'and', '100.', 'Do', 'not', 'include', 'any', 'other', 'words.', 'Assistant:', '75']\n",
      "The probability is:  75\n"
     ]
    },
    {
     "name": "stderr",
     "output_type": "stream",
     "text": [
      "Processing molmo batch 18/34:  25%|██▌       | 1/4 [00:09<00:28,  9.65s/it]"
     ]
    },
    {
     "name": "stdout",
     "output_type": "stream",
     "text": [
      "Model output:  User: On a scale from 0 to 100, how well does the abstract word 'nohloh' describe the following image? 0 means the word and image have no connection and 100 means the word perfectly fits the image. Answer only with a single number between 0 and 100. Do not include any other words. Assistant: 85\n",
      "The stripped generated text is:  ['User:', 'On', 'a', 'scale', 'from', '0', 'to', '100,', 'how', 'well', 'does', 'the', 'abstract', 'word', \"'nohloh'\", 'describe', 'the', 'following', 'image?', '0', 'means', 'the', 'word', 'and', 'image', 'have', 'no', 'connection', 'and', '100', 'means', 'the', 'word', 'perfectly', 'fits', 'the', 'image.', 'Answer', 'only', 'with', 'a', 'single', 'number', 'between', '0', 'and', '100.', 'Do', 'not', 'include', 'any', 'other', 'words.', 'Assistant:', '85']\n",
      "The probability is:  85\n"
     ]
    },
    {
     "name": "stderr",
     "output_type": "stream",
     "text": [
      "Processing molmo batch 18/34:  50%|█████     | 2/4 [00:19<00:19,  9.61s/it]"
     ]
    },
    {
     "name": "stdout",
     "output_type": "stream",
     "text": [
      "Model output:  User: On a scale from 0 to 100, how well does the abstract word 'loomoo' describe the following image? 0 means the word and image have no connection and 100 means the word perfectly fits the image. Answer only with a single number between 0 and 100. Do not include any other words. Assistant: 42\n",
      "The stripped generated text is:  ['User:', 'On', 'a', 'scale', 'from', '0', 'to', '100,', 'how', 'well', 'does', 'the', 'abstract', 'word', \"'loomoo'\", 'describe', 'the', 'following', 'image?', '0', 'means', 'the', 'word', 'and', 'image', 'have', 'no', 'connection', 'and', '100', 'means', 'the', 'word', 'perfectly', 'fits', 'the', 'image.', 'Answer', 'only', 'with', 'a', 'single', 'number', 'between', '0', 'and', '100.', 'Do', 'not', 'include', 'any', 'other', 'words.', 'Assistant:', '42']\n",
      "The probability is:  42\n"
     ]
    },
    {
     "name": "stderr",
     "output_type": "stream",
     "text": [
      "Processing molmo batch 18/34:  75%|███████▌  | 3/4 [00:28<00:09,  9.60s/it]"
     ]
    },
    {
     "name": "stdout",
     "output_type": "stream",
     "text": [
      "Model output:  User: On a scale from 0 to 100, how well does the abstract word 'kuhpay' describe the following image? 0 means the word and image have no connection and 100 means the word perfectly fits the image. Answer only with a single number between 0 and 100. Do not include any other words. Assistant: 65\n",
      "The stripped generated text is:  ['User:', 'On', 'a', 'scale', 'from', '0', 'to', '100,', 'how', 'well', 'does', 'the', 'abstract', 'word', \"'kuhpay'\", 'describe', 'the', 'following', 'image?', '0', 'means', 'the', 'word', 'and', 'image', 'have', 'no', 'connection', 'and', '100', 'means', 'the', 'word', 'perfectly', 'fits', 'the', 'image.', 'Answer', 'only', 'with', 'a', 'single', 'number', 'between', '0', 'and', '100.', 'Do', 'not', 'include', 'any', 'other', 'words.', 'Assistant:', '65']\n",
      "The probability is:  65\n"
     ]
    },
    {
     "name": "stderr",
     "output_type": "stream",
     "text": [
      "Processing molmo batch 18/34: 100%|██████████| 4/4 [00:38<00:00,  9.61s/it]\n"
     ]
    },
    {
     "name": "stdout",
     "output_type": "stream",
     "text": [
      "Model output:  User: On a scale from 0 to 100, how well does the abstract word 'puhkay' describe the following image? 0 means the word and image have no connection and 100 means the word perfectly fits the image. Answer only with a single number between 0 and 100. Do not include any other words. Assistant: 75\n",
      "The stripped generated text is:  ['User:', 'On', 'a', 'scale', 'from', '0', 'to', '100,', 'how', 'well', 'does', 'the', 'abstract', 'word', \"'puhkay'\", 'describe', 'the', 'following', 'image?', '0', 'means', 'the', 'word', 'and', 'image', 'have', 'no', 'connection', 'and', '100', 'means', 'the', 'word', 'perfectly', 'fits', 'the', 'image.', 'Answer', 'only', 'with', 'a', 'single', 'number', 'between', '0', 'and', '100.', 'Do', 'not', 'include', 'any', 'other', 'words.', 'Assistant:', '75']\n",
      "The probability is:  75\n"
     ]
    },
    {
     "name": "stderr",
     "output_type": "stream",
     "text": [
      "Processing molmo batch 19/34:  25%|██▌       | 1/4 [00:09<00:27,  9.27s/it]"
     ]
    },
    {
     "name": "stdout",
     "output_type": "stream",
     "text": [
      "Model output:  User: On a scale from 0 to 100, how well does the abstract word 'nohloh' describe the following image? 0 means the word and image have no connection and 100 means the word perfectly fits the image. Answer only with a single number between 0 and 100. Do not include any other words. Assistant: 75\n",
      "The stripped generated text is:  ['User:', 'On', 'a', 'scale', 'from', '0', 'to', '100,', 'how', 'well', 'does', 'the', 'abstract', 'word', \"'nohloh'\", 'describe', 'the', 'following', 'image?', '0', 'means', 'the', 'word', 'and', 'image', 'have', 'no', 'connection', 'and', '100', 'means', 'the', 'word', 'perfectly', 'fits', 'the', 'image.', 'Answer', 'only', 'with', 'a', 'single', 'number', 'between', '0', 'and', '100.', 'Do', 'not', 'include', 'any', 'other', 'words.', 'Assistant:', '75']\n",
      "The probability is:  75\n"
     ]
    },
    {
     "name": "stderr",
     "output_type": "stream",
     "text": [
      "Processing molmo batch 19/34:  50%|█████     | 2/4 [00:18<00:18,  9.27s/it]"
     ]
    },
    {
     "name": "stdout",
     "output_type": "stream",
     "text": [
      "Model output:  User: On a scale from 0 to 100, how well does the abstract word 'loomoo' describe the following image? 0 means the word and image have no connection and 100 means the word perfectly fits the image. Answer only with a single number between 0 and 100. Do not include any other words. Assistant: 85\n",
      "The stripped generated text is:  ['User:', 'On', 'a', 'scale', 'from', '0', 'to', '100,', 'how', 'well', 'does', 'the', 'abstract', 'word', \"'loomoo'\", 'describe', 'the', 'following', 'image?', '0', 'means', 'the', 'word', 'and', 'image', 'have', 'no', 'connection', 'and', '100', 'means', 'the', 'word', 'perfectly', 'fits', 'the', 'image.', 'Answer', 'only', 'with', 'a', 'single', 'number', 'between', '0', 'and', '100.', 'Do', 'not', 'include', 'any', 'other', 'words.', 'Assistant:', '85']\n",
      "The probability is:  85\n"
     ]
    },
    {
     "name": "stderr",
     "output_type": "stream",
     "text": [
      "Processing molmo batch 19/34:  75%|███████▌  | 3/4 [00:27<00:09,  9.27s/it]"
     ]
    },
    {
     "name": "stdout",
     "output_type": "stream",
     "text": [
      "Model output:  User: On a scale from 0 to 100, how well does the abstract word 'kuhpay' describe the following image? 0 means the word and image have no connection and 100 means the word perfectly fits the image. Answer only with a single number between 0 and 100. Do not include any other words. Assistant: 60\n",
      "The stripped generated text is:  ['User:', 'On', 'a', 'scale', 'from', '0', 'to', '100,', 'how', 'well', 'does', 'the', 'abstract', 'word', \"'kuhpay'\", 'describe', 'the', 'following', 'image?', '0', 'means', 'the', 'word', 'and', 'image', 'have', 'no', 'connection', 'and', '100', 'means', 'the', 'word', 'perfectly', 'fits', 'the', 'image.', 'Answer', 'only', 'with', 'a', 'single', 'number', 'between', '0', 'and', '100.', 'Do', 'not', 'include', 'any', 'other', 'words.', 'Assistant:', '60']\n",
      "The probability is:  60\n"
     ]
    },
    {
     "name": "stderr",
     "output_type": "stream",
     "text": [
      "Processing molmo batch 19/34: 100%|██████████| 4/4 [00:37<00:00,  9.27s/it]\n"
     ]
    },
    {
     "name": "stdout",
     "output_type": "stream",
     "text": [
      "Model output:  User: On a scale from 0 to 100, how well does the abstract word 'puhkay' describe the following image? 0 means the word and image have no connection and 100 means the word perfectly fits the image. Answer only with a single number between 0 and 100. Do not include any other words. Assistant: 75\n",
      "The stripped generated text is:  ['User:', 'On', 'a', 'scale', 'from', '0', 'to', '100,', 'how', 'well', 'does', 'the', 'abstract', 'word', \"'puhkay'\", 'describe', 'the', 'following', 'image?', '0', 'means', 'the', 'word', 'and', 'image', 'have', 'no', 'connection', 'and', '100', 'means', 'the', 'word', 'perfectly', 'fits', 'the', 'image.', 'Answer', 'only', 'with', 'a', 'single', 'number', 'between', '0', 'and', '100.', 'Do', 'not', 'include', 'any', 'other', 'words.', 'Assistant:', '75']\n",
      "The probability is:  75\n"
     ]
    },
    {
     "name": "stderr",
     "output_type": "stream",
     "text": [
      "Processing molmo batch 20/34:  25%|██▌       | 1/4 [00:09<00:27,  9.29s/it]"
     ]
    },
    {
     "name": "stdout",
     "output_type": "stream",
     "text": [
      "Model output:  User: On a scale from 0 to 100, how well does the abstract word 'nohloh' describe the following image? 0 means the word and image have no connection and 100 means the word perfectly fits the image. Answer only with a single number between 0 and 100. Do not include any other words. Assistant: 55\n",
      "The stripped generated text is:  ['User:', 'On', 'a', 'scale', 'from', '0', 'to', '100,', 'how', 'well', 'does', 'the', 'abstract', 'word', \"'nohloh'\", 'describe', 'the', 'following', 'image?', '0', 'means', 'the', 'word', 'and', 'image', 'have', 'no', 'connection', 'and', '100', 'means', 'the', 'word', 'perfectly', 'fits', 'the', 'image.', 'Answer', 'only', 'with', 'a', 'single', 'number', 'between', '0', 'and', '100.', 'Do', 'not', 'include', 'any', 'other', 'words.', 'Assistant:', '55']\n",
      "The probability is:  55\n"
     ]
    },
    {
     "name": "stderr",
     "output_type": "stream",
     "text": [
      "Processing molmo batch 20/34:  50%|█████     | 2/4 [00:18<00:18,  9.31s/it]"
     ]
    },
    {
     "name": "stdout",
     "output_type": "stream",
     "text": [
      "Model output:  User: On a scale from 0 to 100, how well does the abstract word 'loomoo' describe the following image? 0 means the word and image have no connection and 100 means the word perfectly fits the image. Answer only with a single number between 0 and 100. Do not include any other words. Assistant: 75\n",
      "The stripped generated text is:  ['User:', 'On', 'a', 'scale', 'from', '0', 'to', '100,', 'how', 'well', 'does', 'the', 'abstract', 'word', \"'loomoo'\", 'describe', 'the', 'following', 'image?', '0', 'means', 'the', 'word', 'and', 'image', 'have', 'no', 'connection', 'and', '100', 'means', 'the', 'word', 'perfectly', 'fits', 'the', 'image.', 'Answer', 'only', 'with', 'a', 'single', 'number', 'between', '0', 'and', '100.', 'Do', 'not', 'include', 'any', 'other', 'words.', 'Assistant:', '75']\n",
      "The probability is:  75\n"
     ]
    },
    {
     "name": "stderr",
     "output_type": "stream",
     "text": [
      "Processing molmo batch 20/34:  75%|███████▌  | 3/4 [00:27<00:09,  9.30s/it]"
     ]
    },
    {
     "name": "stdout",
     "output_type": "stream",
     "text": [
      "Model output:  User: On a scale from 0 to 100, how well does the abstract word 'kuhpay' describe the following image? 0 means the word and image have no connection and 100 means the word perfectly fits the image. Answer only with a single number between 0 and 100. Do not include any other words. Assistant: 50\n",
      "The stripped generated text is:  ['User:', 'On', 'a', 'scale', 'from', '0', 'to', '100,', 'how', 'well', 'does', 'the', 'abstract', 'word', \"'kuhpay'\", 'describe', 'the', 'following', 'image?', '0', 'means', 'the', 'word', 'and', 'image', 'have', 'no', 'connection', 'and', '100', 'means', 'the', 'word', 'perfectly', 'fits', 'the', 'image.', 'Answer', 'only', 'with', 'a', 'single', 'number', 'between', '0', 'and', '100.', 'Do', 'not', 'include', 'any', 'other', 'words.', 'Assistant:', '50']\n",
      "The probability is:  50\n"
     ]
    },
    {
     "name": "stderr",
     "output_type": "stream",
     "text": [
      "Processing molmo batch 20/34: 100%|██████████| 4/4 [00:37<00:00,  9.30s/it]\n"
     ]
    },
    {
     "name": "stdout",
     "output_type": "stream",
     "text": [
      "Model output:  User: On a scale from 0 to 100, how well does the abstract word 'puhkay' describe the following image? 0 means the word and image have no connection and 100 means the word perfectly fits the image. Answer only with a single number between 0 and 100. Do not include any other words. Assistant: 65\n",
      "The stripped generated text is:  ['User:', 'On', 'a', 'scale', 'from', '0', 'to', '100,', 'how', 'well', 'does', 'the', 'abstract', 'word', \"'puhkay'\", 'describe', 'the', 'following', 'image?', '0', 'means', 'the', 'word', 'and', 'image', 'have', 'no', 'connection', 'and', '100', 'means', 'the', 'word', 'perfectly', 'fits', 'the', 'image.', 'Answer', 'only', 'with', 'a', 'single', 'number', 'between', '0', 'and', '100.', 'Do', 'not', 'include', 'any', 'other', 'words.', 'Assistant:', '65']\n",
      "The probability is:  65\n"
     ]
    },
    {
     "name": "stderr",
     "output_type": "stream",
     "text": [
      "Processing molmo batch 21/34:  25%|██▌       | 1/4 [00:09<00:27,  9.29s/it]"
     ]
    },
    {
     "name": "stdout",
     "output_type": "stream",
     "text": [
      "Model output:  User: On a scale from 0 to 100, how well does the abstract word 'nohloh' describe the following image? 0 means the word and image have no connection and 100 means the word perfectly fits the image. Answer only with a single number between 0 and 100. Do not include any other words. Assistant: 65\n",
      "The stripped generated text is:  ['User:', 'On', 'a', 'scale', 'from', '0', 'to', '100,', 'how', 'well', 'does', 'the', 'abstract', 'word', \"'nohloh'\", 'describe', 'the', 'following', 'image?', '0', 'means', 'the', 'word', 'and', 'image', 'have', 'no', 'connection', 'and', '100', 'means', 'the', 'word', 'perfectly', 'fits', 'the', 'image.', 'Answer', 'only', 'with', 'a', 'single', 'number', 'between', '0', 'and', '100.', 'Do', 'not', 'include', 'any', 'other', 'words.', 'Assistant:', '65']\n",
      "The probability is:  65\n"
     ]
    },
    {
     "name": "stderr",
     "output_type": "stream",
     "text": [
      "Processing molmo batch 21/34:  50%|█████     | 2/4 [00:18<00:18,  9.29s/it]"
     ]
    },
    {
     "name": "stdout",
     "output_type": "stream",
     "text": [
      "Model output:  User: On a scale from 0 to 100, how well does the abstract word 'loomoo' describe the following image? 0 means the word and image have no connection and 100 means the word perfectly fits the image. Answer only with a single number between 0 and 100. Do not include any other words. Assistant: 50\n",
      "The stripped generated text is:  ['User:', 'On', 'a', 'scale', 'from', '0', 'to', '100,', 'how', 'well', 'does', 'the', 'abstract', 'word', \"'loomoo'\", 'describe', 'the', 'following', 'image?', '0', 'means', 'the', 'word', 'and', 'image', 'have', 'no', 'connection', 'and', '100', 'means', 'the', 'word', 'perfectly', 'fits', 'the', 'image.', 'Answer', 'only', 'with', 'a', 'single', 'number', 'between', '0', 'and', '100.', 'Do', 'not', 'include', 'any', 'other', 'words.', 'Assistant:', '50']\n",
      "The probability is:  50\n"
     ]
    },
    {
     "name": "stderr",
     "output_type": "stream",
     "text": [
      "Processing molmo batch 21/34:  75%|███████▌  | 3/4 [00:27<00:09,  9.28s/it]"
     ]
    },
    {
     "name": "stdout",
     "output_type": "stream",
     "text": [
      "Model output:  User: On a scale from 0 to 100, how well does the abstract word 'kuhpay' describe the following image? 0 means the word and image have no connection and 100 means the word perfectly fits the image. Answer only with a single number between 0 and 100. Do not include any other words. Assistant: 85\n",
      "The stripped generated text is:  ['User:', 'On', 'a', 'scale', 'from', '0', 'to', '100,', 'how', 'well', 'does', 'the', 'abstract', 'word', \"'kuhpay'\", 'describe', 'the', 'following', 'image?', '0', 'means', 'the', 'word', 'and', 'image', 'have', 'no', 'connection', 'and', '100', 'means', 'the', 'word', 'perfectly', 'fits', 'the', 'image.', 'Answer', 'only', 'with', 'a', 'single', 'number', 'between', '0', 'and', '100.', 'Do', 'not', 'include', 'any', 'other', 'words.', 'Assistant:', '85']\n",
      "The probability is:  85\n"
     ]
    },
    {
     "name": "stderr",
     "output_type": "stream",
     "text": [
      "Processing molmo batch 21/34: 100%|██████████| 4/4 [00:37<00:00,  9.28s/it]\n"
     ]
    },
    {
     "name": "stdout",
     "output_type": "stream",
     "text": [
      "Model output:  User: On a scale from 0 to 100, how well does the abstract word 'puhkay' describe the following image? 0 means the word and image have no connection and 100 means the word perfectly fits the image. Answer only with a single number between 0 and 100. Do not include any other words. Assistant: 75\n",
      "The stripped generated text is:  ['User:', 'On', 'a', 'scale', 'from', '0', 'to', '100,', 'how', 'well', 'does', 'the', 'abstract', 'word', \"'puhkay'\", 'describe', 'the', 'following', 'image?', '0', 'means', 'the', 'word', 'and', 'image', 'have', 'no', 'connection', 'and', '100', 'means', 'the', 'word', 'perfectly', 'fits', 'the', 'image.', 'Answer', 'only', 'with', 'a', 'single', 'number', 'between', '0', 'and', '100.', 'Do', 'not', 'include', 'any', 'other', 'words.', 'Assistant:', '75']\n",
      "The probability is:  75\n"
     ]
    },
    {
     "name": "stderr",
     "output_type": "stream",
     "text": [
      "Processing molmo batch 22/34:  25%|██▌       | 1/4 [00:09<00:28,  9.64s/it]"
     ]
    },
    {
     "name": "stdout",
     "output_type": "stream",
     "text": [
      "Model output:  User: On a scale from 0 to 100, how well does the abstract word 'nohloh' describe the following image? 0 means the word and image have no connection and 100 means the word perfectly fits the image. Answer only with a single number between 0 and 100. Do not include any other words. Assistant: 75\n",
      "The stripped generated text is:  ['User:', 'On', 'a', 'scale', 'from', '0', 'to', '100,', 'how', 'well', 'does', 'the', 'abstract', 'word', \"'nohloh'\", 'describe', 'the', 'following', 'image?', '0', 'means', 'the', 'word', 'and', 'image', 'have', 'no', 'connection', 'and', '100', 'means', 'the', 'word', 'perfectly', 'fits', 'the', 'image.', 'Answer', 'only', 'with', 'a', 'single', 'number', 'between', '0', 'and', '100.', 'Do', 'not', 'include', 'any', 'other', 'words.', 'Assistant:', '75']\n",
      "The probability is:  75\n"
     ]
    },
    {
     "name": "stderr",
     "output_type": "stream",
     "text": [
      "Processing molmo batch 22/34:  50%|█████     | 2/4 [00:19<00:19,  9.63s/it]"
     ]
    },
    {
     "name": "stdout",
     "output_type": "stream",
     "text": [
      "Model output:  User: On a scale from 0 to 100, how well does the abstract word 'loomoo' describe the following image? 0 means the word and image have no connection and 100 means the word perfectly fits the image. Answer only with a single number between 0 and 100. Do not include any other words. Assistant: 42\n",
      "The stripped generated text is:  ['User:', 'On', 'a', 'scale', 'from', '0', 'to', '100,', 'how', 'well', 'does', 'the', 'abstract', 'word', \"'loomoo'\", 'describe', 'the', 'following', 'image?', '0', 'means', 'the', 'word', 'and', 'image', 'have', 'no', 'connection', 'and', '100', 'means', 'the', 'word', 'perfectly', 'fits', 'the', 'image.', 'Answer', 'only', 'with', 'a', 'single', 'number', 'between', '0', 'and', '100.', 'Do', 'not', 'include', 'any', 'other', 'words.', 'Assistant:', '42']\n",
      "The probability is:  42\n"
     ]
    },
    {
     "name": "stderr",
     "output_type": "stream",
     "text": [
      "Processing molmo batch 22/34:  75%|███████▌  | 3/4 [00:28<00:09,  9.64s/it]"
     ]
    },
    {
     "name": "stdout",
     "output_type": "stream",
     "text": [
      "Model output:  User: On a scale from 0 to 100, how well does the abstract word 'kuhpay' describe the following image? 0 means the word and image have no connection and 100 means the word perfectly fits the image. Answer only with a single number between 0 and 100. Do not include any other words. Assistant: 50\n",
      "The stripped generated text is:  ['User:', 'On', 'a', 'scale', 'from', '0', 'to', '100,', 'how', 'well', 'does', 'the', 'abstract', 'word', \"'kuhpay'\", 'describe', 'the', 'following', 'image?', '0', 'means', 'the', 'word', 'and', 'image', 'have', 'no', 'connection', 'and', '100', 'means', 'the', 'word', 'perfectly', 'fits', 'the', 'image.', 'Answer', 'only', 'with', 'a', 'single', 'number', 'between', '0', 'and', '100.', 'Do', 'not', 'include', 'any', 'other', 'words.', 'Assistant:', '50']\n",
      "The probability is:  50\n"
     ]
    },
    {
     "name": "stderr",
     "output_type": "stream",
     "text": [
      "Processing molmo batch 22/34: 100%|██████████| 4/4 [00:38<00:00,  9.62s/it]\n"
     ]
    },
    {
     "name": "stdout",
     "output_type": "stream",
     "text": [
      "Model output:  User: On a scale from 0 to 100, how well does the abstract word 'puhkay' describe the following image? 0 means the word and image have no connection and 100 means the word perfectly fits the image. Answer only with a single number between 0 and 100. Do not include any other words. Assistant: 75\n",
      "The stripped generated text is:  ['User:', 'On', 'a', 'scale', 'from', '0', 'to', '100,', 'how', 'well', 'does', 'the', 'abstract', 'word', \"'puhkay'\", 'describe', 'the', 'following', 'image?', '0', 'means', 'the', 'word', 'and', 'image', 'have', 'no', 'connection', 'and', '100', 'means', 'the', 'word', 'perfectly', 'fits', 'the', 'image.', 'Answer', 'only', 'with', 'a', 'single', 'number', 'between', '0', 'and', '100.', 'Do', 'not', 'include', 'any', 'other', 'words.', 'Assistant:', '75']\n",
      "The probability is:  75\n"
     ]
    },
    {
     "name": "stderr",
     "output_type": "stream",
     "text": [
      "Processing molmo batch 23/34:  25%|██▌       | 1/4 [00:08<00:26,  8.78s/it]"
     ]
    },
    {
     "name": "stdout",
     "output_type": "stream",
     "text": [
      "Model output:  User: On a scale from 0 to 100, how well does the abstract word 'nohloh' describe the following image? 0 means the word and image have no connection and 100 means the word perfectly fits the image. Answer only with a single number between 0 and 100. Do not include any other words. Assistant: 90\n",
      "The stripped generated text is:  ['User:', 'On', 'a', 'scale', 'from', '0', 'to', '100,', 'how', 'well', 'does', 'the', 'abstract', 'word', \"'nohloh'\", 'describe', 'the', 'following', 'image?', '0', 'means', 'the', 'word', 'and', 'image', 'have', 'no', 'connection', 'and', '100', 'means', 'the', 'word', 'perfectly', 'fits', 'the', 'image.', 'Answer', 'only', 'with', 'a', 'single', 'number', 'between', '0', 'and', '100.', 'Do', 'not', 'include', 'any', 'other', 'words.', 'Assistant:', '90']\n",
      "The probability is:  90\n"
     ]
    },
    {
     "name": "stderr",
     "output_type": "stream",
     "text": [
      "Processing molmo batch 23/34:  50%|█████     | 2/4 [00:17<00:17,  8.81s/it]"
     ]
    },
    {
     "name": "stdout",
     "output_type": "stream",
     "text": [
      "Model output:  User: On a scale from 0 to 100, how well does the abstract word 'loomoo' describe the following image? 0 means the word and image have no connection and 100 means the word perfectly fits the image. Answer only with a single number between 0 and 100. Do not include any other words. Assistant: 90\n",
      "The stripped generated text is:  ['User:', 'On', 'a', 'scale', 'from', '0', 'to', '100,', 'how', 'well', 'does', 'the', 'abstract', 'word', \"'loomoo'\", 'describe', 'the', 'following', 'image?', '0', 'means', 'the', 'word', 'and', 'image', 'have', 'no', 'connection', 'and', '100', 'means', 'the', 'word', 'perfectly', 'fits', 'the', 'image.', 'Answer', 'only', 'with', 'a', 'single', 'number', 'between', '0', 'and', '100.', 'Do', 'not', 'include', 'any', 'other', 'words.', 'Assistant:', '90']\n",
      "The probability is:  90\n"
     ]
    },
    {
     "name": "stderr",
     "output_type": "stream",
     "text": [
      "Processing molmo batch 23/34:  75%|███████▌  | 3/4 [00:26<00:08,  8.81s/it]"
     ]
    },
    {
     "name": "stdout",
     "output_type": "stream",
     "text": [
      "Model output:  User: On a scale from 0 to 100, how well does the abstract word 'kuhpay' describe the following image? 0 means the word and image have no connection and 100 means the word perfectly fits the image. Answer only with a single number between 0 and 100. Do not include any other words. Assistant: 85\n",
      "The stripped generated text is:  ['User:', 'On', 'a', 'scale', 'from', '0', 'to', '100,', 'how', 'well', 'does', 'the', 'abstract', 'word', \"'kuhpay'\", 'describe', 'the', 'following', 'image?', '0', 'means', 'the', 'word', 'and', 'image', 'have', 'no', 'connection', 'and', '100', 'means', 'the', 'word', 'perfectly', 'fits', 'the', 'image.', 'Answer', 'only', 'with', 'a', 'single', 'number', 'between', '0', 'and', '100.', 'Do', 'not', 'include', 'any', 'other', 'words.', 'Assistant:', '85']\n",
      "The probability is:  85\n"
     ]
    },
    {
     "name": "stderr",
     "output_type": "stream",
     "text": [
      "Processing molmo batch 23/34: 100%|██████████| 4/4 [00:35<00:00,  8.81s/it]\n"
     ]
    },
    {
     "name": "stdout",
     "output_type": "stream",
     "text": [
      "Model output:  User: On a scale from 0 to 100, how well does the abstract word 'puhkay' describe the following image? 0 means the word and image have no connection and 100 means the word perfectly fits the image. Answer only with a single number between 0 and 100. Do not include any other words. Assistant: 30\n",
      "The stripped generated text is:  ['User:', 'On', 'a', 'scale', 'from', '0', 'to', '100,', 'how', 'well', 'does', 'the', 'abstract', 'word', \"'puhkay'\", 'describe', 'the', 'following', 'image?', '0', 'means', 'the', 'word', 'and', 'image', 'have', 'no', 'connection', 'and', '100', 'means', 'the', 'word', 'perfectly', 'fits', 'the', 'image.', 'Answer', 'only', 'with', 'a', 'single', 'number', 'between', '0', 'and', '100.', 'Do', 'not', 'include', 'any', 'other', 'words.', 'Assistant:', '30']\n",
      "The probability is:  30\n"
     ]
    },
    {
     "name": "stderr",
     "output_type": "stream",
     "text": [
      "Processing molmo batch 24/34:  25%|██▌       | 1/4 [00:09<00:27,  9.31s/it]"
     ]
    },
    {
     "name": "stdout",
     "output_type": "stream",
     "text": [
      "Model output:  User: On a scale from 0 to 100, how well does the abstract word 'nohloh' describe the following image? 0 means the word and image have no connection and 100 means the word perfectly fits the image. Answer only with a single number between 0 and 100. Do not include any other words. Assistant: 35\n",
      "The stripped generated text is:  ['User:', 'On', 'a', 'scale', 'from', '0', 'to', '100,', 'how', 'well', 'does', 'the', 'abstract', 'word', \"'nohloh'\", 'describe', 'the', 'following', 'image?', '0', 'means', 'the', 'word', 'and', 'image', 'have', 'no', 'connection', 'and', '100', 'means', 'the', 'word', 'perfectly', 'fits', 'the', 'image.', 'Answer', 'only', 'with', 'a', 'single', 'number', 'between', '0', 'and', '100.', 'Do', 'not', 'include', 'any', 'other', 'words.', 'Assistant:', '35']\n",
      "The probability is:  35\n"
     ]
    },
    {
     "name": "stderr",
     "output_type": "stream",
     "text": [
      "Processing molmo batch 24/34:  50%|█████     | 2/4 [00:18<00:18,  9.32s/it]"
     ]
    },
    {
     "name": "stdout",
     "output_type": "stream",
     "text": [
      "Model output:  User: On a scale from 0 to 100, how well does the abstract word 'loomoo' describe the following image? 0 means the word and image have no connection and 100 means the word perfectly fits the image. Answer only with a single number between 0 and 100. Do not include any other words. Assistant: 35\n",
      "The stripped generated text is:  ['User:', 'On', 'a', 'scale', 'from', '0', 'to', '100,', 'how', 'well', 'does', 'the', 'abstract', 'word', \"'loomoo'\", 'describe', 'the', 'following', 'image?', '0', 'means', 'the', 'word', 'and', 'image', 'have', 'no', 'connection', 'and', '100', 'means', 'the', 'word', 'perfectly', 'fits', 'the', 'image.', 'Answer', 'only', 'with', 'a', 'single', 'number', 'between', '0', 'and', '100.', 'Do', 'not', 'include', 'any', 'other', 'words.', 'Assistant:', '35']\n",
      "The probability is:  35\n"
     ]
    },
    {
     "name": "stderr",
     "output_type": "stream",
     "text": [
      "Processing molmo batch 24/34:  75%|███████▌  | 3/4 [00:27<00:09,  9.32s/it]"
     ]
    },
    {
     "name": "stdout",
     "output_type": "stream",
     "text": [
      "Model output:  User: On a scale from 0 to 100, how well does the abstract word 'kuhpay' describe the following image? 0 means the word and image have no connection and 100 means the word perfectly fits the image. Answer only with a single number between 0 and 100. Do not include any other words. Assistant: 35\n",
      "The stripped generated text is:  ['User:', 'On', 'a', 'scale', 'from', '0', 'to', '100,', 'how', 'well', 'does', 'the', 'abstract', 'word', \"'kuhpay'\", 'describe', 'the', 'following', 'image?', '0', 'means', 'the', 'word', 'and', 'image', 'have', 'no', 'connection', 'and', '100', 'means', 'the', 'word', 'perfectly', 'fits', 'the', 'image.', 'Answer', 'only', 'with', 'a', 'single', 'number', 'between', '0', 'and', '100.', 'Do', 'not', 'include', 'any', 'other', 'words.', 'Assistant:', '35']\n",
      "The probability is:  35\n"
     ]
    },
    {
     "name": "stderr",
     "output_type": "stream",
     "text": [
      "Processing molmo batch 24/34: 100%|██████████| 4/4 [00:37<00:00,  9.32s/it]\n"
     ]
    },
    {
     "name": "stdout",
     "output_type": "stream",
     "text": [
      "Model output:  User: On a scale from 0 to 100, how well does the abstract word 'puhkay' describe the following image? 0 means the word and image have no connection and 100 means the word perfectly fits the image. Answer only with a single number between 0 and 100. Do not include any other words. Assistant: 60\n",
      "The stripped generated text is:  ['User:', 'On', 'a', 'scale', 'from', '0', 'to', '100,', 'how', 'well', 'does', 'the', 'abstract', 'word', \"'puhkay'\", 'describe', 'the', 'following', 'image?', '0', 'means', 'the', 'word', 'and', 'image', 'have', 'no', 'connection', 'and', '100', 'means', 'the', 'word', 'perfectly', 'fits', 'the', 'image.', 'Answer', 'only', 'with', 'a', 'single', 'number', 'between', '0', 'and', '100.', 'Do', 'not', 'include', 'any', 'other', 'words.', 'Assistant:', '60']\n",
      "The probability is:  60\n"
     ]
    },
    {
     "name": "stderr",
     "output_type": "stream",
     "text": [
      "Processing molmo batch 25/34:  25%|██▌       | 1/4 [00:09<00:27,  9.31s/it]"
     ]
    },
    {
     "name": "stdout",
     "output_type": "stream",
     "text": [
      "Model output:  User: On a scale from 0 to 100, how well does the abstract word 'nohloh' describe the following image? 0 means the word and image have no connection and 100 means the word perfectly fits the image. Answer only with a single number between 0 and 100. Do not include any other words. Assistant: 85\n",
      "The stripped generated text is:  ['User:', 'On', 'a', 'scale', 'from', '0', 'to', '100,', 'how', 'well', 'does', 'the', 'abstract', 'word', \"'nohloh'\", 'describe', 'the', 'following', 'image?', '0', 'means', 'the', 'word', 'and', 'image', 'have', 'no', 'connection', 'and', '100', 'means', 'the', 'word', 'perfectly', 'fits', 'the', 'image.', 'Answer', 'only', 'with', 'a', 'single', 'number', 'between', '0', 'and', '100.', 'Do', 'not', 'include', 'any', 'other', 'words.', 'Assistant:', '85']\n",
      "The probability is:  85\n"
     ]
    },
    {
     "name": "stderr",
     "output_type": "stream",
     "text": [
      "Processing molmo batch 25/34:  50%|█████     | 2/4 [00:18<00:18,  9.33s/it]"
     ]
    },
    {
     "name": "stdout",
     "output_type": "stream",
     "text": [
      "Model output:  User: On a scale from 0 to 100, how well does the abstract word 'loomoo' describe the following image? 0 means the word and image have no connection and 100 means the word perfectly fits the image. Answer only with a single number between 0 and 100. Do not include any other words. Assistant: 85\n",
      "The stripped generated text is:  ['User:', 'On', 'a', 'scale', 'from', '0', 'to', '100,', 'how', 'well', 'does', 'the', 'abstract', 'word', \"'loomoo'\", 'describe', 'the', 'following', 'image?', '0', 'means', 'the', 'word', 'and', 'image', 'have', 'no', 'connection', 'and', '100', 'means', 'the', 'word', 'perfectly', 'fits', 'the', 'image.', 'Answer', 'only', 'with', 'a', 'single', 'number', 'between', '0', 'and', '100.', 'Do', 'not', 'include', 'any', 'other', 'words.', 'Assistant:', '85']\n",
      "The probability is:  85\n"
     ]
    },
    {
     "name": "stderr",
     "output_type": "stream",
     "text": [
      "Processing molmo batch 25/34:  75%|███████▌  | 3/4 [00:27<00:09,  9.32s/it]"
     ]
    },
    {
     "name": "stdout",
     "output_type": "stream",
     "text": [
      "Model output:  User: On a scale from 0 to 100, how well does the abstract word 'kuhpay' describe the following image? 0 means the word and image have no connection and 100 means the word perfectly fits the image. Answer only with a single number between 0 and 100. Do not include any other words. Assistant: 50\n",
      "The stripped generated text is:  ['User:', 'On', 'a', 'scale', 'from', '0', 'to', '100,', 'how', 'well', 'does', 'the', 'abstract', 'word', \"'kuhpay'\", 'describe', 'the', 'following', 'image?', '0', 'means', 'the', 'word', 'and', 'image', 'have', 'no', 'connection', 'and', '100', 'means', 'the', 'word', 'perfectly', 'fits', 'the', 'image.', 'Answer', 'only', 'with', 'a', 'single', 'number', 'between', '0', 'and', '100.', 'Do', 'not', 'include', 'any', 'other', 'words.', 'Assistant:', '50']\n",
      "The probability is:  50\n"
     ]
    },
    {
     "name": "stderr",
     "output_type": "stream",
     "text": [
      "Processing molmo batch 25/34: 100%|██████████| 4/4 [00:37<00:00,  9.32s/it]\n"
     ]
    },
    {
     "name": "stdout",
     "output_type": "stream",
     "text": [
      "Model output:  User: On a scale from 0 to 100, how well does the abstract word 'puhkay' describe the following image? 0 means the word and image have no connection and 100 means the word perfectly fits the image. Answer only with a single number between 0 and 100. Do not include any other words. Assistant: 50\n",
      "The stripped generated text is:  ['User:', 'On', 'a', 'scale', 'from', '0', 'to', '100,', 'how', 'well', 'does', 'the', 'abstract', 'word', \"'puhkay'\", 'describe', 'the', 'following', 'image?', '0', 'means', 'the', 'word', 'and', 'image', 'have', 'no', 'connection', 'and', '100', 'means', 'the', 'word', 'perfectly', 'fits', 'the', 'image.', 'Answer', 'only', 'with', 'a', 'single', 'number', 'between', '0', 'and', '100.', 'Do', 'not', 'include', 'any', 'other', 'words.', 'Assistant:', '50']\n",
      "The probability is:  50\n"
     ]
    },
    {
     "name": "stderr",
     "output_type": "stream",
     "text": [
      "Processing molmo batch 26/34:  25%|██▌       | 1/4 [00:09<00:29,  9.68s/it]"
     ]
    },
    {
     "name": "stdout",
     "output_type": "stream",
     "text": [
      "Model output:  User: On a scale from 0 to 100, how well does the abstract word 'nohloh' describe the following image? 0 means the word and image have no connection and 100 means the word perfectly fits the image. Answer only with a single number between 0 and 100. Do not include any other words. Assistant: 60\n",
      "The stripped generated text is:  ['User:', 'On', 'a', 'scale', 'from', '0', 'to', '100,', 'how', 'well', 'does', 'the', 'abstract', 'word', \"'nohloh'\", 'describe', 'the', 'following', 'image?', '0', 'means', 'the', 'word', 'and', 'image', 'have', 'no', 'connection', 'and', '100', 'means', 'the', 'word', 'perfectly', 'fits', 'the', 'image.', 'Answer', 'only', 'with', 'a', 'single', 'number', 'between', '0', 'and', '100.', 'Do', 'not', 'include', 'any', 'other', 'words.', 'Assistant:', '60']\n",
      "The probability is:  60\n"
     ]
    },
    {
     "name": "stderr",
     "output_type": "stream",
     "text": [
      "Processing molmo batch 26/34:  50%|█████     | 2/4 [00:19<00:19,  9.68s/it]"
     ]
    },
    {
     "name": "stdout",
     "output_type": "stream",
     "text": [
      "Model output:  User: On a scale from 0 to 100, how well does the abstract word 'loomoo' describe the following image? 0 means the word and image have no connection and 100 means the word perfectly fits the image. Answer only with a single number between 0 and 100. Do not include any other words. Assistant: 75\n",
      "The stripped generated text is:  ['User:', 'On', 'a', 'scale', 'from', '0', 'to', '100,', 'how', 'well', 'does', 'the', 'abstract', 'word', \"'loomoo'\", 'describe', 'the', 'following', 'image?', '0', 'means', 'the', 'word', 'and', 'image', 'have', 'no', 'connection', 'and', '100', 'means', 'the', 'word', 'perfectly', 'fits', 'the', 'image.', 'Answer', 'only', 'with', 'a', 'single', 'number', 'between', '0', 'and', '100.', 'Do', 'not', 'include', 'any', 'other', 'words.', 'Assistant:', '75']\n",
      "The probability is:  75\n"
     ]
    },
    {
     "name": "stderr",
     "output_type": "stream",
     "text": [
      "Processing molmo batch 26/34:  75%|███████▌  | 3/4 [00:29<00:09,  9.76s/it]"
     ]
    },
    {
     "name": "stdout",
     "output_type": "stream",
     "text": [
      "Model output:  User: On a scale from 0 to 100, how well does the abstract word 'kuhpay' describe the following image? 0 means the word and image have no connection and 100 means the word perfectly fits the image. Answer only with a single number between 0 and 100. Do not include any other words. Assistant: 65\n",
      "The stripped generated text is:  ['User:', 'On', 'a', 'scale', 'from', '0', 'to', '100,', 'how', 'well', 'does', 'the', 'abstract', 'word', \"'kuhpay'\", 'describe', 'the', 'following', 'image?', '0', 'means', 'the', 'word', 'and', 'image', 'have', 'no', 'connection', 'and', '100', 'means', 'the', 'word', 'perfectly', 'fits', 'the', 'image.', 'Answer', 'only', 'with', 'a', 'single', 'number', 'between', '0', 'and', '100.', 'Do', 'not', 'include', 'any', 'other', 'words.', 'Assistant:', '65']\n",
      "The probability is:  65\n"
     ]
    },
    {
     "name": "stderr",
     "output_type": "stream",
     "text": [
      "Processing molmo batch 26/34: 100%|██████████| 4/4 [00:38<00:00,  9.73s/it]\n"
     ]
    },
    {
     "name": "stdout",
     "output_type": "stream",
     "text": [
      "Model output:  User: On a scale from 0 to 100, how well does the abstract word 'puhkay' describe the following image? 0 means the word and image have no connection and 100 means the word perfectly fits the image. Answer only with a single number between 0 and 100. Do not include any other words. Assistant: 65\n",
      "The stripped generated text is:  ['User:', 'On', 'a', 'scale', 'from', '0', 'to', '100,', 'how', 'well', 'does', 'the', 'abstract', 'word', \"'puhkay'\", 'describe', 'the', 'following', 'image?', '0', 'means', 'the', 'word', 'and', 'image', 'have', 'no', 'connection', 'and', '100', 'means', 'the', 'word', 'perfectly', 'fits', 'the', 'image.', 'Answer', 'only', 'with', 'a', 'single', 'number', 'between', '0', 'and', '100.', 'Do', 'not', 'include', 'any', 'other', 'words.', 'Assistant:', '65']\n",
      "The probability is:  65\n"
     ]
    },
    {
     "name": "stderr",
     "output_type": "stream",
     "text": [
      "Processing molmo batch 27/34:  25%|██▌       | 1/4 [00:09<00:29,  9.70s/it]"
     ]
    },
    {
     "name": "stdout",
     "output_type": "stream",
     "text": [
      "Model output:  User: On a scale from 0 to 100, how well does the abstract word 'nohloh' describe the following image? 0 means the word and image have no connection and 100 means the word perfectly fits the image. Answer only with a single number between 0 and 100. Do not include any other words. Assistant: 60\n",
      "The stripped generated text is:  ['User:', 'On', 'a', 'scale', 'from', '0', 'to', '100,', 'how', 'well', 'does', 'the', 'abstract', 'word', \"'nohloh'\", 'describe', 'the', 'following', 'image?', '0', 'means', 'the', 'word', 'and', 'image', 'have', 'no', 'connection', 'and', '100', 'means', 'the', 'word', 'perfectly', 'fits', 'the', 'image.', 'Answer', 'only', 'with', 'a', 'single', 'number', 'between', '0', 'and', '100.', 'Do', 'not', 'include', 'any', 'other', 'words.', 'Assistant:', '60']\n",
      "The probability is:  60\n"
     ]
    },
    {
     "name": "stderr",
     "output_type": "stream",
     "text": [
      "Processing molmo batch 27/34:  50%|█████     | 2/4 [00:19<00:19,  9.69s/it]"
     ]
    },
    {
     "name": "stdout",
     "output_type": "stream",
     "text": [
      "Model output:  User: On a scale from 0 to 100, how well does the abstract word 'loomoo' describe the following image? 0 means the word and image have no connection and 100 means the word perfectly fits the image. Answer only with a single number between 0 and 100. Do not include any other words. Assistant: 60\n",
      "The stripped generated text is:  ['User:', 'On', 'a', 'scale', 'from', '0', 'to', '100,', 'how', 'well', 'does', 'the', 'abstract', 'word', \"'loomoo'\", 'describe', 'the', 'following', 'image?', '0', 'means', 'the', 'word', 'and', 'image', 'have', 'no', 'connection', 'and', '100', 'means', 'the', 'word', 'perfectly', 'fits', 'the', 'image.', 'Answer', 'only', 'with', 'a', 'single', 'number', 'between', '0', 'and', '100.', 'Do', 'not', 'include', 'any', 'other', 'words.', 'Assistant:', '60']\n",
      "The probability is:  60\n"
     ]
    },
    {
     "name": "stderr",
     "output_type": "stream",
     "text": [
      "Processing molmo batch 27/34:  75%|███████▌  | 3/4 [00:29<00:09,  9.71s/it]"
     ]
    },
    {
     "name": "stdout",
     "output_type": "stream",
     "text": [
      "Model output:  User: On a scale from 0 to 100, how well does the abstract word 'kuhpay' describe the following image? 0 means the word and image have no connection and 100 means the word perfectly fits the image. Answer only with a single number between 0 and 100. Do not include any other words. Assistant: 60\n",
      "The stripped generated text is:  ['User:', 'On', 'a', 'scale', 'from', '0', 'to', '100,', 'how', 'well', 'does', 'the', 'abstract', 'word', \"'kuhpay'\", 'describe', 'the', 'following', 'image?', '0', 'means', 'the', 'word', 'and', 'image', 'have', 'no', 'connection', 'and', '100', 'means', 'the', 'word', 'perfectly', 'fits', 'the', 'image.', 'Answer', 'only', 'with', 'a', 'single', 'number', 'between', '0', 'and', '100.', 'Do', 'not', 'include', 'any', 'other', 'words.', 'Assistant:', '60']\n",
      "The probability is:  60\n"
     ]
    },
    {
     "name": "stderr",
     "output_type": "stream",
     "text": [
      "Processing molmo batch 27/34: 100%|██████████| 4/4 [00:38<00:00,  9.70s/it]\n"
     ]
    },
    {
     "name": "stdout",
     "output_type": "stream",
     "text": [
      "Model output:  User: On a scale from 0 to 100, how well does the abstract word 'puhkay' describe the following image? 0 means the word and image have no connection and 100 means the word perfectly fits the image. Answer only with a single number between 0 and 100. Do not include any other words. Assistant: 50\n",
      "The stripped generated text is:  ['User:', 'On', 'a', 'scale', 'from', '0', 'to', '100,', 'how', 'well', 'does', 'the', 'abstract', 'word', \"'puhkay'\", 'describe', 'the', 'following', 'image?', '0', 'means', 'the', 'word', 'and', 'image', 'have', 'no', 'connection', 'and', '100', 'means', 'the', 'word', 'perfectly', 'fits', 'the', 'image.', 'Answer', 'only', 'with', 'a', 'single', 'number', 'between', '0', 'and', '100.', 'Do', 'not', 'include', 'any', 'other', 'words.', 'Assistant:', '50']\n",
      "The probability is:  50\n"
     ]
    },
    {
     "name": "stderr",
     "output_type": "stream",
     "text": [
      "Processing molmo batch 28/34:  25%|██▌       | 1/4 [00:09<00:29,  9.73s/it]"
     ]
    },
    {
     "name": "stdout",
     "output_type": "stream",
     "text": [
      "Model output:  User: On a scale from 0 to 100, how well does the abstract word 'nohloh' describe the following image? 0 means the word and image have no connection and 100 means the word perfectly fits the image. Answer only with a single number between 0 and 100. Do not include any other words. Assistant: 90\n",
      "The stripped generated text is:  ['User:', 'On', 'a', 'scale', 'from', '0', 'to', '100,', 'how', 'well', 'does', 'the', 'abstract', 'word', \"'nohloh'\", 'describe', 'the', 'following', 'image?', '0', 'means', 'the', 'word', 'and', 'image', 'have', 'no', 'connection', 'and', '100', 'means', 'the', 'word', 'perfectly', 'fits', 'the', 'image.', 'Answer', 'only', 'with', 'a', 'single', 'number', 'between', '0', 'and', '100.', 'Do', 'not', 'include', 'any', 'other', 'words.', 'Assistant:', '90']\n",
      "The probability is:  90\n"
     ]
    },
    {
     "name": "stderr",
     "output_type": "stream",
     "text": [
      "Processing molmo batch 28/34:  50%|█████     | 2/4 [00:19<00:19,  9.71s/it]"
     ]
    },
    {
     "name": "stdout",
     "output_type": "stream",
     "text": [
      "Model output:  User: On a scale from 0 to 100, how well does the abstract word 'loomoo' describe the following image? 0 means the word and image have no connection and 100 means the word perfectly fits the image. Answer only with a single number between 0 and 100. Do not include any other words. Assistant: 50\n",
      "The stripped generated text is:  ['User:', 'On', 'a', 'scale', 'from', '0', 'to', '100,', 'how', 'well', 'does', 'the', 'abstract', 'word', \"'loomoo'\", 'describe', 'the', 'following', 'image?', '0', 'means', 'the', 'word', 'and', 'image', 'have', 'no', 'connection', 'and', '100', 'means', 'the', 'word', 'perfectly', 'fits', 'the', 'image.', 'Answer', 'only', 'with', 'a', 'single', 'number', 'between', '0', 'and', '100.', 'Do', 'not', 'include', 'any', 'other', 'words.', 'Assistant:', '50']\n",
      "The probability is:  50\n"
     ]
    },
    {
     "name": "stderr",
     "output_type": "stream",
     "text": [
      "Processing molmo batch 28/34:  75%|███████▌  | 3/4 [00:29<00:09,  9.70s/it]"
     ]
    },
    {
     "name": "stdout",
     "output_type": "stream",
     "text": [
      "Model output:  User: On a scale from 0 to 100, how well does the abstract word 'kuhpay' describe the following image? 0 means the word and image have no connection and 100 means the word perfectly fits the image. Answer only with a single number between 0 and 100. Do not include any other words. Assistant: 42\n",
      "The stripped generated text is:  ['User:', 'On', 'a', 'scale', 'from', '0', 'to', '100,', 'how', 'well', 'does', 'the', 'abstract', 'word', \"'kuhpay'\", 'describe', 'the', 'following', 'image?', '0', 'means', 'the', 'word', 'and', 'image', 'have', 'no', 'connection', 'and', '100', 'means', 'the', 'word', 'perfectly', 'fits', 'the', 'image.', 'Answer', 'only', 'with', 'a', 'single', 'number', 'between', '0', 'and', '100.', 'Do', 'not', 'include', 'any', 'other', 'words.', 'Assistant:', '42']\n",
      "The probability is:  42\n"
     ]
    },
    {
     "name": "stderr",
     "output_type": "stream",
     "text": [
      "Processing molmo batch 28/34: 100%|██████████| 4/4 [00:38<00:00,  9.70s/it]\n"
     ]
    },
    {
     "name": "stdout",
     "output_type": "stream",
     "text": [
      "Model output:  User: On a scale from 0 to 100, how well does the abstract word 'puhkay' describe the following image? 0 means the word and image have no connection and 100 means the word perfectly fits the image. Answer only with a single number between 0 and 100. Do not include any other words. Assistant: 75\n",
      "The stripped generated text is:  ['User:', 'On', 'a', 'scale', 'from', '0', 'to', '100,', 'how', 'well', 'does', 'the', 'abstract', 'word', \"'puhkay'\", 'describe', 'the', 'following', 'image?', '0', 'means', 'the', 'word', 'and', 'image', 'have', 'no', 'connection', 'and', '100', 'means', 'the', 'word', 'perfectly', 'fits', 'the', 'image.', 'Answer', 'only', 'with', 'a', 'single', 'number', 'between', '0', 'and', '100.', 'Do', 'not', 'include', 'any', 'other', 'words.', 'Assistant:', '75']\n",
      "The probability is:  75\n"
     ]
    },
    {
     "name": "stderr",
     "output_type": "stream",
     "text": [
      "Processing molmo batch 29/34:  25%|██▌       | 1/4 [00:09<00:28,  9.39s/it]"
     ]
    },
    {
     "name": "stdout",
     "output_type": "stream",
     "text": [
      "Model output:  User: On a scale from 0 to 100, how well does the abstract word 'nohloh' describe the following image? 0 means the word and image have no connection and 100 means the word perfectly fits the image. Answer only with a single number between 0 and 100. Do not include any other words. Assistant: 95\n",
      "The stripped generated text is:  ['User:', 'On', 'a', 'scale', 'from', '0', 'to', '100,', 'how', 'well', 'does', 'the', 'abstract', 'word', \"'nohloh'\", 'describe', 'the', 'following', 'image?', '0', 'means', 'the', 'word', 'and', 'image', 'have', 'no', 'connection', 'and', '100', 'means', 'the', 'word', 'perfectly', 'fits', 'the', 'image.', 'Answer', 'only', 'with', 'a', 'single', 'number', 'between', '0', 'and', '100.', 'Do', 'not', 'include', 'any', 'other', 'words.', 'Assistant:', '95']\n",
      "The probability is:  95\n"
     ]
    },
    {
     "name": "stderr",
     "output_type": "stream",
     "text": [
      "Processing molmo batch 29/34:  50%|█████     | 2/4 [00:18<00:18,  9.37s/it]"
     ]
    },
    {
     "name": "stdout",
     "output_type": "stream",
     "text": [
      "Model output:  User: On a scale from 0 to 100, how well does the abstract word 'loomoo' describe the following image? 0 means the word and image have no connection and 100 means the word perfectly fits the image. Answer only with a single number between 0 and 100. Do not include any other words. Assistant: 65\n",
      "The stripped generated text is:  ['User:', 'On', 'a', 'scale', 'from', '0', 'to', '100,', 'how', 'well', 'does', 'the', 'abstract', 'word', \"'loomoo'\", 'describe', 'the', 'following', 'image?', '0', 'means', 'the', 'word', 'and', 'image', 'have', 'no', 'connection', 'and', '100', 'means', 'the', 'word', 'perfectly', 'fits', 'the', 'image.', 'Answer', 'only', 'with', 'a', 'single', 'number', 'between', '0', 'and', '100.', 'Do', 'not', 'include', 'any', 'other', 'words.', 'Assistant:', '65']\n",
      "The probability is:  65\n"
     ]
    },
    {
     "name": "stderr",
     "output_type": "stream",
     "text": [
      "Processing molmo batch 29/34:  75%|███████▌  | 3/4 [00:28<00:09,  9.34s/it]"
     ]
    },
    {
     "name": "stdout",
     "output_type": "stream",
     "text": [
      "Model output:  User: On a scale from 0 to 100, how well does the abstract word 'kuhpay' describe the following image? 0 means the word and image have no connection and 100 means the word perfectly fits the image. Answer only with a single number between 0 and 100. Do not include any other words. Assistant: 85\n",
      "The stripped generated text is:  ['User:', 'On', 'a', 'scale', 'from', '0', 'to', '100,', 'how', 'well', 'does', 'the', 'abstract', 'word', \"'kuhpay'\", 'describe', 'the', 'following', 'image?', '0', 'means', 'the', 'word', 'and', 'image', 'have', 'no', 'connection', 'and', '100', 'means', 'the', 'word', 'perfectly', 'fits', 'the', 'image.', 'Answer', 'only', 'with', 'a', 'single', 'number', 'between', '0', 'and', '100.', 'Do', 'not', 'include', 'any', 'other', 'words.', 'Assistant:', '85']\n",
      "The probability is:  85\n"
     ]
    },
    {
     "name": "stderr",
     "output_type": "stream",
     "text": [
      "Processing molmo batch 29/34: 100%|██████████| 4/4 [00:37<00:00,  9.37s/it]\n"
     ]
    },
    {
     "name": "stdout",
     "output_type": "stream",
     "text": [
      "Model output:  User: On a scale from 0 to 100, how well does the abstract word 'puhkay' describe the following image? 0 means the word and image have no connection and 100 means the word perfectly fits the image. Answer only with a single number between 0 and 100. Do not include any other words. Assistant: 90\n",
      "The stripped generated text is:  ['User:', 'On', 'a', 'scale', 'from', '0', 'to', '100,', 'how', 'well', 'does', 'the', 'abstract', 'word', \"'puhkay'\", 'describe', 'the', 'following', 'image?', '0', 'means', 'the', 'word', 'and', 'image', 'have', 'no', 'connection', 'and', '100', 'means', 'the', 'word', 'perfectly', 'fits', 'the', 'image.', 'Answer', 'only', 'with', 'a', 'single', 'number', 'between', '0', 'and', '100.', 'Do', 'not', 'include', 'any', 'other', 'words.', 'Assistant:', '90']\n",
      "The probability is:  90\n"
     ]
    },
    {
     "name": "stderr",
     "output_type": "stream",
     "text": [
      "Processing molmo batch 30/34:  25%|██▌       | 1/4 [00:08<00:26,  8.86s/it]"
     ]
    },
    {
     "name": "stdout",
     "output_type": "stream",
     "text": [
      "Model output:  User: On a scale from 0 to 100, how well does the abstract word 'nohloh' describe the following image? 0 means the word and image have no connection and 100 means the word perfectly fits the image. Answer only with a single number between 0 and 100. Do not include any other words. Assistant: 85\n",
      "The stripped generated text is:  ['User:', 'On', 'a', 'scale', 'from', '0', 'to', '100,', 'how', 'well', 'does', 'the', 'abstract', 'word', \"'nohloh'\", 'describe', 'the', 'following', 'image?', '0', 'means', 'the', 'word', 'and', 'image', 'have', 'no', 'connection', 'and', '100', 'means', 'the', 'word', 'perfectly', 'fits', 'the', 'image.', 'Answer', 'only', 'with', 'a', 'single', 'number', 'between', '0', 'and', '100.', 'Do', 'not', 'include', 'any', 'other', 'words.', 'Assistant:', '85']\n",
      "The probability is:  85\n"
     ]
    },
    {
     "name": "stderr",
     "output_type": "stream",
     "text": [
      "Processing molmo batch 30/34:  50%|█████     | 2/4 [00:17<00:17,  8.85s/it]"
     ]
    },
    {
     "name": "stdout",
     "output_type": "stream",
     "text": [
      "Model output:  User: On a scale from 0 to 100, how well does the abstract word 'loomoo' describe the following image? 0 means the word and image have no connection and 100 means the word perfectly fits the image. Answer only with a single number between 0 and 100. Do not include any other words. Assistant: 30\n",
      "The stripped generated text is:  ['User:', 'On', 'a', 'scale', 'from', '0', 'to', '100,', 'how', 'well', 'does', 'the', 'abstract', 'word', \"'loomoo'\", 'describe', 'the', 'following', 'image?', '0', 'means', 'the', 'word', 'and', 'image', 'have', 'no', 'connection', 'and', '100', 'means', 'the', 'word', 'perfectly', 'fits', 'the', 'image.', 'Answer', 'only', 'with', 'a', 'single', 'number', 'between', '0', 'and', '100.', 'Do', 'not', 'include', 'any', 'other', 'words.', 'Assistant:', '30']\n",
      "The probability is:  30\n"
     ]
    },
    {
     "name": "stderr",
     "output_type": "stream",
     "text": [
      "Processing molmo batch 30/34:  75%|███████▌  | 3/4 [00:26<00:08,  8.85s/it]"
     ]
    },
    {
     "name": "stdout",
     "output_type": "stream",
     "text": [
      "Model output:  User: On a scale from 0 to 100, how well does the abstract word 'kuhpay' describe the following image? 0 means the word and image have no connection and 100 means the word perfectly fits the image. Answer only with a single number between 0 and 100. Do not include any other words. Assistant: 35\n",
      "The stripped generated text is:  ['User:', 'On', 'a', 'scale', 'from', '0', 'to', '100,', 'how', 'well', 'does', 'the', 'abstract', 'word', \"'kuhpay'\", 'describe', 'the', 'following', 'image?', '0', 'means', 'the', 'word', 'and', 'image', 'have', 'no', 'connection', 'and', '100', 'means', 'the', 'word', 'perfectly', 'fits', 'the', 'image.', 'Answer', 'only', 'with', 'a', 'single', 'number', 'between', '0', 'and', '100.', 'Do', 'not', 'include', 'any', 'other', 'words.', 'Assistant:', '35']\n",
      "The probability is:  35\n"
     ]
    },
    {
     "name": "stderr",
     "output_type": "stream",
     "text": [
      "Processing molmo batch 30/34: 100%|██████████| 4/4 [00:35<00:00,  8.85s/it]\n"
     ]
    },
    {
     "name": "stdout",
     "output_type": "stream",
     "text": [
      "Model output:  User: On a scale from 0 to 100, how well does the abstract word 'puhkay' describe the following image? 0 means the word and image have no connection and 100 means the word perfectly fits the image. Answer only with a single number between 0 and 100. Do not include any other words. Assistant: 95\n",
      "The stripped generated text is:  ['User:', 'On', 'a', 'scale', 'from', '0', 'to', '100,', 'how', 'well', 'does', 'the', 'abstract', 'word', \"'puhkay'\", 'describe', 'the', 'following', 'image?', '0', 'means', 'the', 'word', 'and', 'image', 'have', 'no', 'connection', 'and', '100', 'means', 'the', 'word', 'perfectly', 'fits', 'the', 'image.', 'Answer', 'only', 'with', 'a', 'single', 'number', 'between', '0', 'and', '100.', 'Do', 'not', 'include', 'any', 'other', 'words.', 'Assistant:', '95']\n",
      "The probability is:  95\n"
     ]
    },
    {
     "name": "stderr",
     "output_type": "stream",
     "text": [
      "Processing molmo batch 31/34:  25%|██▌       | 1/4 [00:08<00:26,  8.84s/it]"
     ]
    },
    {
     "name": "stdout",
     "output_type": "stream",
     "text": [
      "Model output:  User: On a scale from 0 to 100, how well does the abstract word 'nohloh' describe the following image? 0 means the word and image have no connection and 100 means the word perfectly fits the image. Answer only with a single number between 0 and 100. Do not include any other words. Assistant: 85\n",
      "The stripped generated text is:  ['User:', 'On', 'a', 'scale', 'from', '0', 'to', '100,', 'how', 'well', 'does', 'the', 'abstract', 'word', \"'nohloh'\", 'describe', 'the', 'following', 'image?', '0', 'means', 'the', 'word', 'and', 'image', 'have', 'no', 'connection', 'and', '100', 'means', 'the', 'word', 'perfectly', 'fits', 'the', 'image.', 'Answer', 'only', 'with', 'a', 'single', 'number', 'between', '0', 'and', '100.', 'Do', 'not', 'include', 'any', 'other', 'words.', 'Assistant:', '85']\n",
      "The probability is:  85\n"
     ]
    },
    {
     "name": "stderr",
     "output_type": "stream",
     "text": [
      "Processing molmo batch 31/34:  50%|█████     | 2/4 [00:17<00:17,  8.85s/it]"
     ]
    },
    {
     "name": "stdout",
     "output_type": "stream",
     "text": [
      "Model output:  User: On a scale from 0 to 100, how well does the abstract word 'loomoo' describe the following image? 0 means the word and image have no connection and 100 means the word perfectly fits the image. Answer only with a single number between 0 and 100. Do not include any other words. Assistant: 90\n",
      "The stripped generated text is:  ['User:', 'On', 'a', 'scale', 'from', '0', 'to', '100,', 'how', 'well', 'does', 'the', 'abstract', 'word', \"'loomoo'\", 'describe', 'the', 'following', 'image?', '0', 'means', 'the', 'word', 'and', 'image', 'have', 'no', 'connection', 'and', '100', 'means', 'the', 'word', 'perfectly', 'fits', 'the', 'image.', 'Answer', 'only', 'with', 'a', 'single', 'number', 'between', '0', 'and', '100.', 'Do', 'not', 'include', 'any', 'other', 'words.', 'Assistant:', '90']\n",
      "The probability is:  90\n"
     ]
    },
    {
     "name": "stderr",
     "output_type": "stream",
     "text": [
      "Processing molmo batch 31/34:  75%|███████▌  | 3/4 [00:26<00:08,  8.84s/it]"
     ]
    },
    {
     "name": "stdout",
     "output_type": "stream",
     "text": [
      "Model output:  User: On a scale from 0 to 100, how well does the abstract word 'kuhpay' describe the following image? 0 means the word and image have no connection and 100 means the word perfectly fits the image. Answer only with a single number between 0 and 100. Do not include any other words. Assistant: 75\n",
      "The stripped generated text is:  ['User:', 'On', 'a', 'scale', 'from', '0', 'to', '100,', 'how', 'well', 'does', 'the', 'abstract', 'word', \"'kuhpay'\", 'describe', 'the', 'following', 'image?', '0', 'means', 'the', 'word', 'and', 'image', 'have', 'no', 'connection', 'and', '100', 'means', 'the', 'word', 'perfectly', 'fits', 'the', 'image.', 'Answer', 'only', 'with', 'a', 'single', 'number', 'between', '0', 'and', '100.', 'Do', 'not', 'include', 'any', 'other', 'words.', 'Assistant:', '75']\n",
      "The probability is:  75\n"
     ]
    },
    {
     "name": "stderr",
     "output_type": "stream",
     "text": [
      "Processing molmo batch 31/34: 100%|██████████| 4/4 [00:35<00:00,  8.85s/it]\n"
     ]
    },
    {
     "name": "stdout",
     "output_type": "stream",
     "text": [
      "Model output:  User: On a scale from 0 to 100, how well does the abstract word 'puhkay' describe the following image? 0 means the word and image have no connection and 100 means the word perfectly fits the image. Answer only with a single number between 0 and 100. Do not include any other words. Assistant: 42\n",
      "The stripped generated text is:  ['User:', 'On', 'a', 'scale', 'from', '0', 'to', '100,', 'how', 'well', 'does', 'the', 'abstract', 'word', \"'puhkay'\", 'describe', 'the', 'following', 'image?', '0', 'means', 'the', 'word', 'and', 'image', 'have', 'no', 'connection', 'and', '100', 'means', 'the', 'word', 'perfectly', 'fits', 'the', 'image.', 'Answer', 'only', 'with', 'a', 'single', 'number', 'between', '0', 'and', '100.', 'Do', 'not', 'include', 'any', 'other', 'words.', 'Assistant:', '42']\n",
      "The probability is:  42\n"
     ]
    },
    {
     "name": "stderr",
     "output_type": "stream",
     "text": [
      "Processing molmo batch 32/34:  25%|██▌       | 1/4 [00:08<00:26,  8.85s/it]"
     ]
    },
    {
     "name": "stdout",
     "output_type": "stream",
     "text": [
      "Model output:  User: On a scale from 0 to 100, how well does the abstract word 'nohloh' describe the following image? 0 means the word and image have no connection and 100 means the word perfectly fits the image. Answer only with a single number between 0 and 100. Do not include any other words. Assistant: 75\n",
      "The stripped generated text is:  ['User:', 'On', 'a', 'scale', 'from', '0', 'to', '100,', 'how', 'well', 'does', 'the', 'abstract', 'word', \"'nohloh'\", 'describe', 'the', 'following', 'image?', '0', 'means', 'the', 'word', 'and', 'image', 'have', 'no', 'connection', 'and', '100', 'means', 'the', 'word', 'perfectly', 'fits', 'the', 'image.', 'Answer', 'only', 'with', 'a', 'single', 'number', 'between', '0', 'and', '100.', 'Do', 'not', 'include', 'any', 'other', 'words.', 'Assistant:', '75']\n",
      "The probability is:  75\n"
     ]
    },
    {
     "name": "stderr",
     "output_type": "stream",
     "text": [
      "Processing molmo batch 32/34:  50%|█████     | 2/4 [00:17<00:17,  8.85s/it]"
     ]
    },
    {
     "name": "stdout",
     "output_type": "stream",
     "text": [
      "Model output:  User: On a scale from 0 to 100, how well does the abstract word 'loomoo' describe the following image? 0 means the word and image have no connection and 100 means the word perfectly fits the image. Answer only with a single number between 0 and 100. Do not include any other words. Assistant: 85\n",
      "The stripped generated text is:  ['User:', 'On', 'a', 'scale', 'from', '0', 'to', '100,', 'how', 'well', 'does', 'the', 'abstract', 'word', \"'loomoo'\", 'describe', 'the', 'following', 'image?', '0', 'means', 'the', 'word', 'and', 'image', 'have', 'no', 'connection', 'and', '100', 'means', 'the', 'word', 'perfectly', 'fits', 'the', 'image.', 'Answer', 'only', 'with', 'a', 'single', 'number', 'between', '0', 'and', '100.', 'Do', 'not', 'include', 'any', 'other', 'words.', 'Assistant:', '85']\n",
      "The probability is:  85\n"
     ]
    },
    {
     "name": "stderr",
     "output_type": "stream",
     "text": [
      "Processing molmo batch 32/34:  75%|███████▌  | 3/4 [00:26<00:08,  8.85s/it]"
     ]
    },
    {
     "name": "stdout",
     "output_type": "stream",
     "text": [
      "Model output:  User: On a scale from 0 to 100, how well does the abstract word 'kuhpay' describe the following image? 0 means the word and image have no connection and 100 means the word perfectly fits the image. Answer only with a single number between 0 and 100. Do not include any other words. Assistant: 85\n",
      "The stripped generated text is:  ['User:', 'On', 'a', 'scale', 'from', '0', 'to', '100,', 'how', 'well', 'does', 'the', 'abstract', 'word', \"'kuhpay'\", 'describe', 'the', 'following', 'image?', '0', 'means', 'the', 'word', 'and', 'image', 'have', 'no', 'connection', 'and', '100', 'means', 'the', 'word', 'perfectly', 'fits', 'the', 'image.', 'Answer', 'only', 'with', 'a', 'single', 'number', 'between', '0', 'and', '100.', 'Do', 'not', 'include', 'any', 'other', 'words.', 'Assistant:', '85']\n",
      "The probability is:  85\n"
     ]
    },
    {
     "name": "stderr",
     "output_type": "stream",
     "text": [
      "Processing molmo batch 32/34: 100%|██████████| 4/4 [00:35<00:00,  8.86s/it]\n"
     ]
    },
    {
     "name": "stdout",
     "output_type": "stream",
     "text": [
      "Model output:  User: On a scale from 0 to 100, how well does the abstract word 'puhkay' describe the following image? 0 means the word and image have no connection and 100 means the word perfectly fits the image. Answer only with a single number between 0 and 100. Do not include any other words. Assistant: 85\n",
      "The stripped generated text is:  ['User:', 'On', 'a', 'scale', 'from', '0', 'to', '100,', 'how', 'well', 'does', 'the', 'abstract', 'word', \"'puhkay'\", 'describe', 'the', 'following', 'image?', '0', 'means', 'the', 'word', 'and', 'image', 'have', 'no', 'connection', 'and', '100', 'means', 'the', 'word', 'perfectly', 'fits', 'the', 'image.', 'Answer', 'only', 'with', 'a', 'single', 'number', 'between', '0', 'and', '100.', 'Do', 'not', 'include', 'any', 'other', 'words.', 'Assistant:', '85']\n",
      "The probability is:  85\n"
     ]
    },
    {
     "name": "stderr",
     "output_type": "stream",
     "text": [
      "Processing molmo batch 33/34:  25%|██▌       | 1/4 [00:09<00:28,  9.35s/it]"
     ]
    },
    {
     "name": "stdout",
     "output_type": "stream",
     "text": [
      "Model output:  User: On a scale from 0 to 100, how well does the abstract word 'nohloh' describe the following image? 0 means the word and image have no connection and 100 means the word perfectly fits the image. Answer only with a single number between 0 and 100. Do not include any other words. Assistant: 85\n",
      "The stripped generated text is:  ['User:', 'On', 'a', 'scale', 'from', '0', 'to', '100,', 'how', 'well', 'does', 'the', 'abstract', 'word', \"'nohloh'\", 'describe', 'the', 'following', 'image?', '0', 'means', 'the', 'word', 'and', 'image', 'have', 'no', 'connection', 'and', '100', 'means', 'the', 'word', 'perfectly', 'fits', 'the', 'image.', 'Answer', 'only', 'with', 'a', 'single', 'number', 'between', '0', 'and', '100.', 'Do', 'not', 'include', 'any', 'other', 'words.', 'Assistant:', '85']\n",
      "The probability is:  85\n"
     ]
    },
    {
     "name": "stderr",
     "output_type": "stream",
     "text": [
      "Processing molmo batch 33/34:  50%|█████     | 2/4 [00:18<00:18,  9.35s/it]"
     ]
    },
    {
     "name": "stdout",
     "output_type": "stream",
     "text": [
      "Model output:  User: On a scale from 0 to 100, how well does the abstract word 'loomoo' describe the following image? 0 means the word and image have no connection and 100 means the word perfectly fits the image. Answer only with a single number between 0 and 100. Do not include any other words. Assistant: 55\n",
      "The stripped generated text is:  ['User:', 'On', 'a', 'scale', 'from', '0', 'to', '100,', 'how', 'well', 'does', 'the', 'abstract', 'word', \"'loomoo'\", 'describe', 'the', 'following', 'image?', '0', 'means', 'the', 'word', 'and', 'image', 'have', 'no', 'connection', 'and', '100', 'means', 'the', 'word', 'perfectly', 'fits', 'the', 'image.', 'Answer', 'only', 'with', 'a', 'single', 'number', 'between', '0', 'and', '100.', 'Do', 'not', 'include', 'any', 'other', 'words.', 'Assistant:', '55']\n",
      "The probability is:  55\n"
     ]
    },
    {
     "name": "stderr",
     "output_type": "stream",
     "text": [
      "Processing molmo batch 33/34:  75%|███████▌  | 3/4 [00:28<00:09,  9.35s/it]"
     ]
    },
    {
     "name": "stdout",
     "output_type": "stream",
     "text": [
      "Model output:  User: On a scale from 0 to 100, how well does the abstract word 'kuhpay' describe the following image? 0 means the word and image have no connection and 100 means the word perfectly fits the image. Answer only with a single number between 0 and 100. Do not include any other words. Assistant: 85\n",
      "The stripped generated text is:  ['User:', 'On', 'a', 'scale', 'from', '0', 'to', '100,', 'how', 'well', 'does', 'the', 'abstract', 'word', \"'kuhpay'\", 'describe', 'the', 'following', 'image?', '0', 'means', 'the', 'word', 'and', 'image', 'have', 'no', 'connection', 'and', '100', 'means', 'the', 'word', 'perfectly', 'fits', 'the', 'image.', 'Answer', 'only', 'with', 'a', 'single', 'number', 'between', '0', 'and', '100.', 'Do', 'not', 'include', 'any', 'other', 'words.', 'Assistant:', '85']\n",
      "The probability is:  85\n"
     ]
    },
    {
     "name": "stderr",
     "output_type": "stream",
     "text": [
      "Processing molmo batch 33/34: 100%|██████████| 4/4 [00:37<00:00,  9.36s/it]\n"
     ]
    },
    {
     "name": "stdout",
     "output_type": "stream",
     "text": [
      "Model output:  User: On a scale from 0 to 100, how well does the abstract word 'puhkay' describe the following image? 0 means the word and image have no connection and 100 means the word perfectly fits the image. Answer only with a single number between 0 and 100. Do not include any other words. Assistant: 85\n",
      "The stripped generated text is:  ['User:', 'On', 'a', 'scale', 'from', '0', 'to', '100,', 'how', 'well', 'does', 'the', 'abstract', 'word', \"'puhkay'\", 'describe', 'the', 'following', 'image?', '0', 'means', 'the', 'word', 'and', 'image', 'have', 'no', 'connection', 'and', '100', 'means', 'the', 'word', 'perfectly', 'fits', 'the', 'image.', 'Answer', 'only', 'with', 'a', 'single', 'number', 'between', '0', 'and', '100.', 'Do', 'not', 'include', 'any', 'other', 'words.', 'Assistant:', '85']\n",
      "The probability is:  85\n"
     ]
    },
    {
     "name": "stderr",
     "output_type": "stream",
     "text": [
      "Processing molmo batch 34/34:  25%|██▌       | 1/4 [00:08<00:26,  8.85s/it]"
     ]
    },
    {
     "name": "stdout",
     "output_type": "stream",
     "text": [
      "Model output:  User: On a scale from 0 to 100, how well does the abstract word 'nohloh' describe the following image? 0 means the word and image have no connection and 100 means the word perfectly fits the image. Answer only with a single number between 0 and 100. Do not include any other words. Assistant: 85\n",
      "The stripped generated text is:  ['User:', 'On', 'a', 'scale', 'from', '0', 'to', '100,', 'how', 'well', 'does', 'the', 'abstract', 'word', \"'nohloh'\", 'describe', 'the', 'following', 'image?', '0', 'means', 'the', 'word', 'and', 'image', 'have', 'no', 'connection', 'and', '100', 'means', 'the', 'word', 'perfectly', 'fits', 'the', 'image.', 'Answer', 'only', 'with', 'a', 'single', 'number', 'between', '0', 'and', '100.', 'Do', 'not', 'include', 'any', 'other', 'words.', 'Assistant:', '85']\n",
      "The probability is:  85\n"
     ]
    },
    {
     "name": "stderr",
     "output_type": "stream",
     "text": [
      "Processing molmo batch 34/34:  50%|█████     | 2/4 [00:17<00:17,  8.86s/it]"
     ]
    },
    {
     "name": "stdout",
     "output_type": "stream",
     "text": [
      "Model output:  User: On a scale from 0 to 100, how well does the abstract word 'loomoo' describe the following image? 0 means the word and image have no connection and 100 means the word perfectly fits the image. Answer only with a single number between 0 and 100. Do not include any other words. Assistant: 50\n",
      "The stripped generated text is:  ['User:', 'On', 'a', 'scale', 'from', '0', 'to', '100,', 'how', 'well', 'does', 'the', 'abstract', 'word', \"'loomoo'\", 'describe', 'the', 'following', 'image?', '0', 'means', 'the', 'word', 'and', 'image', 'have', 'no', 'connection', 'and', '100', 'means', 'the', 'word', 'perfectly', 'fits', 'the', 'image.', 'Answer', 'only', 'with', 'a', 'single', 'number', 'between', '0', 'and', '100.', 'Do', 'not', 'include', 'any', 'other', 'words.', 'Assistant:', '50']\n",
      "The probability is:  50\n"
     ]
    },
    {
     "name": "stderr",
     "output_type": "stream",
     "text": [
      "Processing molmo batch 34/34:  75%|███████▌  | 3/4 [00:26<00:08,  8.85s/it]"
     ]
    },
    {
     "name": "stdout",
     "output_type": "stream",
     "text": [
      "Model output:  User: On a scale from 0 to 100, how well does the abstract word 'kuhpay' describe the following image? 0 means the word and image have no connection and 100 means the word perfectly fits the image. Answer only with a single number between 0 and 100. Do not include any other words. Assistant: 25\n",
      "The stripped generated text is:  ['User:', 'On', 'a', 'scale', 'from', '0', 'to', '100,', 'how', 'well', 'does', 'the', 'abstract', 'word', \"'kuhpay'\", 'describe', 'the', 'following', 'image?', '0', 'means', 'the', 'word', 'and', 'image', 'have', 'no', 'connection', 'and', '100', 'means', 'the', 'word', 'perfectly', 'fits', 'the', 'image.', 'Answer', 'only', 'with', 'a', 'single', 'number', 'between', '0', 'and', '100.', 'Do', 'not', 'include', 'any', 'other', 'words.', 'Assistant:', '25']\n",
      "The probability is:  25\n"
     ]
    },
    {
     "name": "stderr",
     "output_type": "stream",
     "text": [
      "Processing molmo batch 34/34: 100%|██████████| 4/4 [00:35<00:00,  8.85s/it]"
     ]
    },
    {
     "name": "stdout",
     "output_type": "stream",
     "text": [
      "Model output:  User: On a scale from 0 to 100, how well does the abstract word 'puhkay' describe the following image? 0 means the word and image have no connection and 100 means the word perfectly fits the image. Answer only with a single number between 0 and 100. Do not include any other words. Assistant: 85\n",
      "The stripped generated text is:  ['User:', 'On', 'a', 'scale', 'from', '0', 'to', '100,', 'how', 'well', 'does', 'the', 'abstract', 'word', \"'puhkay'\", 'describe', 'the', 'following', 'image?', '0', 'means', 'the', 'word', 'and', 'image', 'have', 'no', 'connection', 'and', '100', 'means', 'the', 'word', 'perfectly', 'fits', 'the', 'image.', 'Answer', 'only', 'with', 'a', 'single', 'number', 'between', '0', 'and', '100.', 'Do', 'not', 'include', 'any', 'other', 'words.', 'Assistant:', '85']\n",
      "The probability is:  85\n",
      "Analysis complete. Results saved to CSV files and visualizations saved as PNG files.\n"
     ]
    },
    {
     "name": "stderr",
     "output_type": "stream",
     "text": [
      "\n"
     ]
    }
   ],
   "source": [
    "class CrossModalAnalyzer:\n",
    "    def __init__(self, image_folder=\"images\"):\n",
    "        \"\"\"\n",
    "        Initialize the analyzer with the path to the image folder.\n",
    "        \n",
    "        Args:\n",
    "            image_folder: Path to the folder containing images\n",
    "        \"\"\"\n",
    "        self.image_folder = image_folder\n",
    "        self.results = []\n",
    "        self.models = {}\n",
    "        \n",
    "    def load_model(self, model_name):\n",
    "        \"\"\"\n",
    "        Load a multimodal model.\n",
    "        \n",
    "        Args:\n",
    "            model_name: Name of the model to load ('molmo')\n",
    "        \"\"\"\n",
    "        if model_name == 'molmo':\n",
    "            processor = AutoProcessor.from_pretrained(\n",
    "                'allenai/Molmo-7B-D-0924',\n",
    "                trust_remote_code=True,\n",
    "                torch_dtype=torch.float16,\n",
    "                device_map='auto'\n",
    "            )\n",
    "\n",
    "            model = AutoModelForCausalLM.from_pretrained(\n",
    "                'allenai/Molmo-7B-D-0924',\n",
    "                trust_remote_code=True,\n",
    "                torch_dtype=torch.float16,\n",
    "                device_map='auto'\n",
    "            )\n",
    "\n",
    "            self.models['molmo'] = {'model': model, 'processor': processor}\n",
    "        else:\n",
    "            raise ValueError(f\"Unsupported model: {model_name}, Model not Found.\")\n",
    "\n",
    "    def extract_image_type_from_filename(self, filename):\n",
    "        \"\"\"\n",
    "        Extract the image type (curved/jagged) from the filename.\n",
    "        \n",
    "        Args:\n",
    "            filename: Image filename\n",
    "            \n",
    "        Returns:\n",
    "            Image type as a string ('curved' or 'jagged')\n",
    "        \"\"\"\n",
    "        filename_lower = filename.lower()\n",
    "        \n",
    "        if any(shape in filename_lower for shape in ['curved', 'round', 'bouba', 'maluma']):\n",
    "            return 'curved'\n",
    "        elif any(shape in filename_lower for shape in ['jagged', 'sharp', 'kiki', 'takete']):\n",
    "            return 'jagged'\n",
    "        else:\n",
    "            # * Exta support if more data is added\n",
    "            # If no clear indicator, try to find using regex for more complex patterns\n",
    "            # For example, if the filename format is like \"img_curved_001.jpg\"\n",
    "            match = re.search(r'_(curved|jagged|round|sharp)_', filename_lower)\n",
    "            if match:\n",
    "                shape_group = match.group(1)\n",
    "                if shape_group in ['curved', 'round']:\n",
    "                    return 'curved'\n",
    "                elif shape_group in ['jagged', 'sharp']:\n",
    "                    return 'jagged'\n",
    "            \n",
    "            # If still no match, raise an error or use a default\n",
    "            raise ValueError(f\"Cannot determine image type from filename: {filename}\")\n",
    "    \n",
    "    def scan_image_folder(self):\n",
    "        \"\"\"\n",
    "        Scan the image folder and extract image paths and types.\n",
    "        \n",
    "        Returns:\n",
    "            Tuple of (image_paths, image_types)\n",
    "        \"\"\"\n",
    "        image_paths = []\n",
    "        image_types = []\n",
    "        \n",
    "        for filename in os.listdir(self.image_folder):\n",
    "            if filename.lower().endswith(('.png', '.jpg', '.jpeg', '.bmp', '.gif')):\n",
    "                image_path = os.path.join(self.image_folder, filename)\n",
    "                \n",
    "                try:\n",
    "                    image_type = self.extract_image_type_from_filename(filename)\n",
    "                    \n",
    "                    image_paths.append(image_path)\n",
    "                    image_types.append(image_type)\n",
    "                except ValueError as e:\n",
    "                    print(f\"Warning: {str(e)}\")\n",
    "        \n",
    "        return image_paths, image_types\n",
    "    \n",
    "    def prepare_dataset(self, text_prompts, text_types, image_paths=None, image_types=None):\n",
    "        \"\"\"\n",
    "        Prepare dataset of all possible image-text pairs.\n",
    "        \n",
    "        Args:\n",
    "            text_prompts: List of text prompts\n",
    "            text_types: List of text types (bouba-like/kiki-like)\n",
    "            image_paths: List of paths to images (if None, scan the image folder)\n",
    "            image_types: List of image types (if None, extract from filenames)\n",
    "            \n",
    "        Returns:\n",
    "            List of dicts containing all possible pairs\n",
    "        \"\"\"\n",
    "        if image_paths is None or image_types is None:\n",
    "            image_paths, image_types = self.scan_image_folder()\n",
    "            \n",
    "        pairs = []\n",
    "        for i, img_path in enumerate(image_paths):\n",
    "            img_type = image_types[i]\n",
    "            for j, text in enumerate(text_prompts):\n",
    "                text_type = text_types[j]\n",
    "                pairs.append({\n",
    "                    'image_path': img_path,\n",
    "                    'text_prompt': text,\n",
    "                    'image_type': img_type,\n",
    "                    'text_type': text_type,\n",
    "                    'image_filename': os.path.basename(img_path)\n",
    "                })\n",
    "        return pairs\n",
    "    \n",
    "    def compute_molmo_probabilities(self, image_path, text_prompt):\n",
    "        \"\"\"\n",
    "        Compute probability scores for Molmo model.\n",
    "        \n",
    "        Args:\n",
    "            image_path: Path to the image\n",
    "            text_prompt: Text prompt to pair with image\n",
    "            \n",
    "        Returns:\n",
    "            Probability score for the pairing\n",
    "        \"\"\"\n",
    "        model_info = self.models['molmo']\n",
    "        model = model_info['model']\n",
    "        processor = model_info['processor']\n",
    "        \n",
    "        image = Image.open(image_path).convert('RGB')\n",
    "        \n",
    "        # Prompt setup\n",
    "        prompt = (\n",
    "            f\"On a scale from 0 to 100, how well does the abstract word '{text_prompt}' describe the following image? \"\n",
    "            \"0 means the word and image have no connection and 100 means the word perfectly fits the image. \"\n",
    "            \"Answer only with a single number between 0 and 100. Do not include any other words.\"\n",
    "        )\n",
    "        \n",
    "        inputs = processor.process(\n",
    "            images=[image],\n",
    "            text=prompt\n",
    "        )\n",
    "\n",
    "        inputs = {k: v.to(model.device).unsqueeze(0) for k, v in inputs.items()}\n",
    "\n",
    "        # Generate with output scores to compute probabilities\n",
    "        with torch.no_grad():\n",
    "            try:\n",
    "                with torch.autocast(device_type=\"cuda\", enabled=True, dtype=torch.float16):\n",
    "                    outputs = model.generate_from_batch(\n",
    "                        inputs,\n",
    "                        GenerationConfig(max_new_tokens=5, stop_strings=\"<|endoftext|>\"),\n",
    "                        tokenizer=processor.tokenizer,\n",
    "                        output_scores=True,\n",
    "                        return_dict_in_generate=True,\n",
    "                        temperature=0.7,\n",
    "                        do_sample=True,\n",
    "                        top_p=0.9,\n",
    "                        top_k=40\n",
    "                    )\n",
    "\n",
    "                    generated_tokens = outputs[0][inputs['input_ids'].size(1):]\n",
    "                    generated_text = processor.tokenizer.decode(generated_tokens, skip_special_tokens=True)\n",
    "\n",
    "                    scores = outputs.scores  # List of logits at each token generation step\n",
    "\n",
    "                    generated_text = processor.tokenizer.decode(outputs.sequences[0], skip_special_tokens=True)\n",
    "                    print(\"Model output:\", generated_text)\n",
    "\n",
    "                    ans = generated_text.split()\n",
    "                    print(\"The stripped generated text is: \", ans)\n",
    "                    ans = ans[-1]\n",
    "                    print(\"The probability is: \", ans)\n",
    "\n",
    "                    # Explicitly clean up memory\n",
    "                    del outputs, inputs, scores\n",
    "                    if torch.cuda.is_available():\n",
    "                        torch.cuda.empty_cache()\n",
    "\n",
    "                    prob = float(ans)\n",
    "\n",
    "                    return prob\n",
    "\n",
    "            except Exception as e:\n",
    "                raise Exception(f\"Error in Molmo generation: {str(e)}\")\n",
    "        \n",
    "    def analyze(self, model_name, dataset):\n",
    "        \"\"\"\n",
    "        Analyze all image-text pairs for a given model.\n",
    "        \n",
    "        Args:\n",
    "            model_name: Name of the model to use\n",
    "            dataset: List of image-text pairs\n",
    "            \n",
    "        Returns:\n",
    "            DataFrame with results\n",
    "        \"\"\"\n",
    "        if model_name != 'molmo':\n",
    "            raise ValueError(f\"Unsupported model: {model_name}. This analyzer only supports 'molmo'.\")\n",
    "            \n",
    "        if model_name not in self.models:\n",
    "            self.load_model(model_name)\n",
    "            \n",
    "        batch_size = 4 \n",
    "        for i in range(0, len(dataset), batch_size):\n",
    "            batch = dataset[i:i+batch_size]\n",
    "            \n",
    "            for pair in tqdm(batch, desc=f\"Processing {model_name} batch {i//batch_size + 1}/{(len(dataset)-1)//batch_size + 1}\"):\n",
    "                image_path = pair['image_path']\n",
    "                text_prompt = pair['text_prompt']\n",
    "                image_type = pair['image_type']\n",
    "                text_type = pair['text_type']\n",
    "                \n",
    "                try:\n",
    "                    probability = self.compute_molmo_probabilities(image_path, text_prompt)\n",
    "                    \n",
    "                    self.results.append({\n",
    "                        'model': model_name,\n",
    "                        'image_path': image_path,\n",
    "                        'image_filename': pair.get('image_filename', os.path.basename(image_path)),\n",
    "                        'text_prompt': text_prompt,\n",
    "                        'image_type': image_type,\n",
    "                        'text_type': text_type,\n",
    "                        'probability': probability,\n",
    "                        'congruent': (image_type == 'curved' and text_type == 'bouba-like') or \n",
    "                                    (image_type == 'jagged' and text_type == 'kiki-like')\n",
    "                    })\n",
    "                        \n",
    "                except Exception as e:\n",
    "                    print(f\"Error processing {image_path} with {text_prompt}: {str(e)}\")\n",
    "                    continue\n",
    "                    \n",
    "            # Clear CUDA cache between batches to prevent memory buildup\n",
    "            if torch.cuda.is_available():\n",
    "                torch.cuda.empty_cache()\n",
    "                \n",
    "        return pd.DataFrame(self.results)\n",
    "\n",
    "    def calculate_metrics(self, results_df=None):\n",
    "        \"\"\"\n",
    "        Calculate metrics for each model.\n",
    "        \n",
    "        Args:\n",
    "            results_df: Results DataFrame (if None, uses self.results)\n",
    "            \n",
    "        Returns:\n",
    "            DataFrame with metrics\n",
    "        \"\"\"\n",
    "        if results_df is None:\n",
    "            results_df = pd.DataFrame(self.results)\n",
    "            \n",
    "        metrics = []\n",
    "        model_name = 'molmo'\n",
    "        model_df = results_df[results_df['model'] == model_name]\n",
    "        \n",
    "        # Calculate average probabilities for congruent and incongruent pairs\n",
    "        congruent_prob = model_df[model_df['congruent']]['probability'].mean()\n",
    "        incongruent_prob = model_df[~model_df['congruent']]['probability'].mean()\n",
    "        \n",
    "        # Calculate bouba-kiki effect strength (difference between congruent and incongruent)\n",
    "        effect_strength = congruent_prob - incongruent_prob\n",
    "        \n",
    "        # Calculate bias towards yes/no (centered around 50%)\n",
    "        avg_probability = model_df['probability'].mean()\n",
    "        \n",
    "        # Calculate by image and text type\n",
    "        curved_bouba = model_df[(model_df['image_type'] == 'curved') & \n",
    "                            (model_df['text_type'] == 'bouba-like')]['probability'].mean()\n",
    "        curved_kiki = model_df[(model_df['image_type'] == 'curved') & \n",
    "                            (model_df['text_type'] == 'kiki-like')]['probability'].mean()\n",
    "        jagged_bouba = model_df[(model_df['image_type'] == 'jagged') & \n",
    "                            (model_df['text_type'] == 'bouba-like')]['probability'].mean()\n",
    "        jagged_kiki = model_df[(model_df['image_type'] == 'jagged') & \n",
    "                            (model_df['text_type'] == 'kiki-like')]['probability'].mean()\n",
    "        \n",
    "        # Store metrics\n",
    "        metrics.append({\n",
    "            'model': model_name,\n",
    "            'congruent_probability': congruent_prob,\n",
    "            'incongruent_probability': incongruent_prob,\n",
    "            'effect_strength': effect_strength,\n",
    "            'overall_bias': avg_probability - 50, \n",
    "            'curved_bouba_prob': curved_bouba,\n",
    "            'curved_kiki_prob': curved_kiki,\n",
    "            'jagged_bouba_prob': jagged_bouba,\n",
    "            'jagged_kiki_prob': jagged_kiki,\n",
    "            'n_samples': len(model_df)\n",
    "        })\n",
    "            \n",
    "        return pd.DataFrame(metrics)\n",
    "    \n",
    "    def summarize_per_image(self, results_df=None):\n",
    "        if results_df is None:\n",
    "            results_df = pd.DataFrame(self.results)\n",
    "\n",
    "        image_summary = (\n",
    "            results_df\n",
    "            .groupby('image_path')\n",
    "            .agg(\n",
    "                n_pairs=('probability', 'count'),\n",
    "                avg_score=('probability', 'mean'),\n",
    "                variance=('probability', 'var'),\n",
    "                std_dev=('probability', 'std'),\n",
    "                curved=('image_type', lambda x: x.iloc[0] == 'curved'),\n",
    "                jagged=('image_type', lambda x: x.iloc[0] == 'jagged')\n",
    "            )\n",
    "            .reset_index()\n",
    "        )   \n",
    "\n",
    "        return image_summary\n",
    "\n",
    "if __name__ == \"__main__\":\n",
    "    # Initialize\n",
    "    analyzer = CrossModalAnalyzer(image_folder=\"images\")\n",
    "    text_prompts = final_list\n",
    "    text_types = [\"bouba-like\", \"bouba-like\", \"kiki-like\", \"kiki-like\"]\n",
    "\n",
    "    # Prepare dataset\n",
    "    dataset = analyzer.prepare_dataset(text_prompts, text_types)\n",
    "\n",
    "    # Run analysis\n",
    "    analyzer.analyze(\"molmo\", dataset)\n",
    "    \n",
    "    ## Change folder to [1,2,3]\n",
    "    # Save results\n",
    "    metrics = analyzer.calculate_metrics()\n",
    "    metrics.to_csv(\"10/molmo_metrics.csv\", index=False)\n",
    "\n",
    "    pd.DataFrame(analyzer.results).to_csv(\"10/molmo_results.csv\", index=False)\n",
    "\n",
    "    image_stats = analyzer.summarize_per_image()\n",
    "    pd.DataFrame(image_stats).to_csv(\"10/image_stats.csv\", index=False)\n",
    "    \n",
    "    print(\"Analysis complete. Results saved to CSV files and visualizations saved as PNG files.\")"
   ]
  }
 ],
 "metadata": {
  "kernelspec": {
   "display_name": "base",
   "language": "python",
   "name": "python3"
  },
  "language_info": {
   "codemirror_mode": {
    "name": "ipython",
    "version": 3
   },
   "file_extension": ".py",
   "mimetype": "text/x-python",
   "name": "python",
   "nbconvert_exporter": "python",
   "pygments_lexer": "ipython3",
   "version": "3.12.7"
  }
 },
 "nbformat": 4,
 "nbformat_minor": 2
}
