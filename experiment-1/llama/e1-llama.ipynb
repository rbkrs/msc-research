{
 "cells": [
  {
   "cell_type": "markdown",
   "metadata": {},
   "source": [
    "## Experiment 1 LLaMA3.2: Cross-Modal Probability Analysis"
   ]
  },
  {
   "cell_type": "markdown",
   "metadata": {},
   "source": [
    "Set-up"
   ]
  },
  {
   "cell_type": "code",
   "execution_count": null,
   "metadata": {},
   "outputs": [
    {
     "data": {
      "application/vnd.jupyter.widget-view+json": {
       "model_id": "cd644ce3e6e4448286ec16edd4a35921",
       "version_major": 2,
       "version_minor": 0
      },
      "text/plain": [
       "VBox(children=(HTML(value='<center> <img\\nsrc=https://huggingface.co/front/assets/huggingface_logo-noborder.sv…"
      ]
     },
     "metadata": {},
     "output_type": "display_data"
    }
   ],
   "source": [
    "from huggingface_hub import login\n",
    "import torch\n",
    "\n",
    "login()\n",
    "\n",
    "HF_TOKEN = \"your_huggingface_token_here\"  # Replace with your Hugging Face token\n",
    "\n",
    "# This will be removed in the final version - LLaMA requires access from Meta\n",
    "hf_key = HF_TOKEN\n",
    "\n",
    "device = torch.device(\"cuda\" if torch.cuda.is_available() else \"cpu\")\n",
    "torch.cuda.empty_cache()"
   ]
  },
  {
   "cell_type": "code",
   "execution_count": 2,
   "metadata": {},
   "outputs": [],
   "source": [
    "import torch.nn.functional as F\n",
    "import random\n",
    "import pandas as pd\n",
    "import numpy as np\n",
    "import os\n",
    "from PIL import Image\n",
    "from transformers import AutoProcessor, MllamaForConditionalGeneration\n",
    "from tqdm import tqdm\n",
    "import re"
   ]
  },
  {
   "cell_type": "markdown",
   "metadata": {},
   "source": [
    "Label selection"
   ]
  },
  {
   "cell_type": "code",
   "execution_count": 1,
   "metadata": {},
   "outputs": [
    {
     "ename": "NameError",
     "evalue": "name 'random' is not defined",
     "output_type": "error",
     "traceback": [
      "\u001b[1;31m---------------------------------------------------------------------------\u001b[0m",
      "\u001b[1;31mNameError\u001b[0m                                 Traceback (most recent call last)",
      "Cell \u001b[1;32mIn[1], line 25\u001b[0m\n\u001b[0;32m      1\u001b[0m possible_labels_s_r \u001b[38;5;241m=\u001b[39m [\n\u001b[0;32m      2\u001b[0m     \u001b[38;5;124m\"\u001b[39m\u001b[38;5;124mlooloo\u001b[39m\u001b[38;5;124m\"\u001b[39m, \u001b[38;5;124m\"\u001b[39m\u001b[38;5;124mloolah\u001b[39m\u001b[38;5;124m\"\u001b[39m, \u001b[38;5;124m\"\u001b[39m\u001b[38;5;124mlooloh\u001b[39m\u001b[38;5;124m\"\u001b[39m, \u001b[38;5;124m\"\u001b[39m\u001b[38;5;124mloonoo\u001b[39m\u001b[38;5;124m\"\u001b[39m, \u001b[38;5;124m\"\u001b[39m\u001b[38;5;124mloonah\u001b[39m\u001b[38;5;124m\"\u001b[39m, \u001b[38;5;124m\"\u001b[39m\u001b[38;5;124mloonoh\u001b[39m\u001b[38;5;124m\"\u001b[39m, \u001b[38;5;124m\"\u001b[39m\u001b[38;5;124mloomoo\u001b[39m\u001b[38;5;124m\"\u001b[39m, \u001b[38;5;124m\"\u001b[39m\u001b[38;5;124mloomah\u001b[39m\u001b[38;5;124m\"\u001b[39m, \u001b[38;5;124m\"\u001b[39m\u001b[38;5;124mloomoh\u001b[39m\u001b[38;5;124m\"\u001b[39m,\n\u001b[0;32m      3\u001b[0m     \u001b[38;5;124m\"\u001b[39m\u001b[38;5;124mlahloo\u001b[39m\u001b[38;5;124m\"\u001b[39m, \u001b[38;5;124m\"\u001b[39m\u001b[38;5;124mlahlah\u001b[39m\u001b[38;5;124m\"\u001b[39m, \u001b[38;5;124m\"\u001b[39m\u001b[38;5;124mlahloh\u001b[39m\u001b[38;5;124m\"\u001b[39m, \u001b[38;5;124m\"\u001b[39m\u001b[38;5;124mlahnoo\u001b[39m\u001b[38;5;124m\"\u001b[39m, \u001b[38;5;124m\"\u001b[39m\u001b[38;5;124mlahnah\u001b[39m\u001b[38;5;124m\"\u001b[39m, \u001b[38;5;124m\"\u001b[39m\u001b[38;5;124mlahnoh\u001b[39m\u001b[38;5;124m\"\u001b[39m, \u001b[38;5;124m\"\u001b[39m\u001b[38;5;124mlahmoo\u001b[39m\u001b[38;5;124m\"\u001b[39m, \u001b[38;5;124m\"\u001b[39m\u001b[38;5;124mlahmah\u001b[39m\u001b[38;5;124m\"\u001b[39m, \u001b[38;5;124m\"\u001b[39m\u001b[38;5;124mlahmoh\u001b[39m\u001b[38;5;124m\"\u001b[39m,\n\u001b[1;32m   (...)\u001b[0m\n\u001b[0;32m     10\u001b[0m     \u001b[38;5;124m\"\u001b[39m\u001b[38;5;124mmohloo\u001b[39m\u001b[38;5;124m\"\u001b[39m, \u001b[38;5;124m\"\u001b[39m\u001b[38;5;124mmohlah\u001b[39m\u001b[38;5;124m\"\u001b[39m, \u001b[38;5;124m\"\u001b[39m\u001b[38;5;124mmohloh\u001b[39m\u001b[38;5;124m\"\u001b[39m, \u001b[38;5;124m\"\u001b[39m\u001b[38;5;124mmohnoo\u001b[39m\u001b[38;5;124m\"\u001b[39m, \u001b[38;5;124m\"\u001b[39m\u001b[38;5;124mmohnah\u001b[39m\u001b[38;5;124m\"\u001b[39m, \u001b[38;5;124m\"\u001b[39m\u001b[38;5;124mmohnoh\u001b[39m\u001b[38;5;124m\"\u001b[39m, \u001b[38;5;124m\"\u001b[39m\u001b[38;5;124mmohmoo\u001b[39m\u001b[38;5;124m\"\u001b[39m, \u001b[38;5;124m\"\u001b[39m\u001b[38;5;124mmohmah\u001b[39m\u001b[38;5;124m\"\u001b[39m, \u001b[38;5;124m\"\u001b[39m\u001b[38;5;124mmohmoh\u001b[39m\u001b[38;5;124m\"\u001b[39m\n\u001b[0;32m     11\u001b[0m ]\n\u001b[0;32m     13\u001b[0m possible_labels_p_nr \u001b[38;5;241m=\u001b[39m [\n\u001b[0;32m     14\u001b[0m     \u001b[38;5;124m\"\u001b[39m\u001b[38;5;124mteetee\u001b[39m\u001b[38;5;124m\"\u001b[39m, \u001b[38;5;124m\"\u001b[39m\u001b[38;5;124mteetuh\u001b[39m\u001b[38;5;124m\"\u001b[39m, \u001b[38;5;124m\"\u001b[39m\u001b[38;5;124mteetay\u001b[39m\u001b[38;5;124m\"\u001b[39m, \u001b[38;5;124m\"\u001b[39m\u001b[38;5;124mteekee\u001b[39m\u001b[38;5;124m\"\u001b[39m, \u001b[38;5;124m\"\u001b[39m\u001b[38;5;124mteekuh\u001b[39m\u001b[38;5;124m\"\u001b[39m, \u001b[38;5;124m\"\u001b[39m\u001b[38;5;124mteekay\u001b[39m\u001b[38;5;124m\"\u001b[39m, \u001b[38;5;124m\"\u001b[39m\u001b[38;5;124mteepee\u001b[39m\u001b[38;5;124m\"\u001b[39m, \u001b[38;5;124m\"\u001b[39m\u001b[38;5;124mteepuh\u001b[39m\u001b[38;5;124m\"\u001b[39m, \u001b[38;5;124m\"\u001b[39m\u001b[38;5;124mteepay\u001b[39m\u001b[38;5;124m\"\u001b[39m,\n\u001b[0;32m     15\u001b[0m     \u001b[38;5;124m\"\u001b[39m\u001b[38;5;124mtuhtee\u001b[39m\u001b[38;5;124m\"\u001b[39m, \u001b[38;5;124m\"\u001b[39m\u001b[38;5;124mtuhtuh\u001b[39m\u001b[38;5;124m\"\u001b[39m, \u001b[38;5;124m\"\u001b[39m\u001b[38;5;124mtuhtay\u001b[39m\u001b[38;5;124m\"\u001b[39m, \u001b[38;5;124m\"\u001b[39m\u001b[38;5;124mtuhkee\u001b[39m\u001b[38;5;124m\"\u001b[39m, \u001b[38;5;124m\"\u001b[39m\u001b[38;5;124mtuhkuh\u001b[39m\u001b[38;5;124m\"\u001b[39m, \u001b[38;5;124m\"\u001b[39m\u001b[38;5;124mtuhkay\u001b[39m\u001b[38;5;124m\"\u001b[39m, \u001b[38;5;124m\"\u001b[39m\u001b[38;5;124mtuhpee\u001b[39m\u001b[38;5;124m\"\u001b[39m, \u001b[38;5;124m\"\u001b[39m\u001b[38;5;124mtuhpuh\u001b[39m\u001b[38;5;124m\"\u001b[39m, \u001b[38;5;124m\"\u001b[39m\u001b[38;5;124mtuhpay\u001b[39m\u001b[38;5;124m\"\u001b[39m,\n\u001b[1;32m   (...)\u001b[0m\n\u001b[0;32m     22\u001b[0m     \u001b[38;5;124m\"\u001b[39m\u001b[38;5;124mpaytee\u001b[39m\u001b[38;5;124m\"\u001b[39m, \u001b[38;5;124m\"\u001b[39m\u001b[38;5;124mpaytuh\u001b[39m\u001b[38;5;124m\"\u001b[39m, \u001b[38;5;124m\"\u001b[39m\u001b[38;5;124mpaytay\u001b[39m\u001b[38;5;124m\"\u001b[39m, \u001b[38;5;124m\"\u001b[39m\u001b[38;5;124mpaykee\u001b[39m\u001b[38;5;124m\"\u001b[39m, \u001b[38;5;124m\"\u001b[39m\u001b[38;5;124mpaykuh\u001b[39m\u001b[38;5;124m\"\u001b[39m, \u001b[38;5;124m\"\u001b[39m\u001b[38;5;124mpaykay\u001b[39m\u001b[38;5;124m\"\u001b[39m, \u001b[38;5;124m\"\u001b[39m\u001b[38;5;124mpaypee\u001b[39m\u001b[38;5;124m\"\u001b[39m, \u001b[38;5;124m\"\u001b[39m\u001b[38;5;124mpaypuh\u001b[39m\u001b[38;5;124m\"\u001b[39m, \u001b[38;5;124m\"\u001b[39m\u001b[38;5;124mpaypay\u001b[39m\u001b[38;5;124m\"\u001b[39m\n\u001b[0;32m     23\u001b[0m ]\n\u001b[1;32m---> 25\u001b[0m sample1 \u001b[38;5;241m=\u001b[39m random\u001b[38;5;241m.\u001b[39msample(possible_labels_s_r, \u001b[38;5;241m2\u001b[39m)\n\u001b[0;32m     26\u001b[0m sample2 \u001b[38;5;241m=\u001b[39m random\u001b[38;5;241m.\u001b[39msample(possible_labels_p_nr, \u001b[38;5;241m2\u001b[39m)\n\u001b[0;32m     28\u001b[0m \u001b[38;5;28;01mif\u001b[39;00m \u001b[38;5;28;01mFalse\u001b[39;00m:\n",
      "\u001b[1;31mNameError\u001b[0m: name 'random' is not defined"
     ]
    }
   ],
   "source": [
    "possible_labels_s_r = [\n",
    "    \"looloo\", \"loolah\", \"looloh\", \"loonoo\", \"loonah\", \"loonoh\", \"loomoo\", \"loomah\", \"loomoh\",\n",
    "    \"lahloo\", \"lahlah\", \"lahloh\", \"lahnoo\", \"lahnah\", \"lahnoh\", \"lahmoo\", \"lahmah\", \"lahmoh\",\n",
    "    \"lohloo\", \"lohlah\", \"lohloh\", \"lohnoo\", \"lohnah\", \"lohnoh\", \"lohmoo\", \"lohmah\", \"lohmoh\",\n",
    "    \"nooloo\", \"noolah\", \"nooloh\", \"noonoo\", \"noonah\", \"noonoh\", \"noomoo\", \"noomah\", \"noomoh\",\n",
    "    \"nahloo\", \"nahlah\", \"nahloh\", \"nahnoo\", \"nahnah\", \"nahnoh\", \"nahmoo\", \"nahmah\", \"nahmoh\",\n",
    "    \"nohloo\", \"nohlah\", \"nohloh\", \"nohnoo\", \"nohnah\", \"nohnoh\", \"nohmoo\", \"nohmah\", \"nohmoh\",\n",
    "    \"mooloo\", \"moolah\", \"mooloh\", \"moonoo\", \"moonah\", \"moonoh\", \"moomoo\", \"moomah\", \"moomoh\",\n",
    "    \"mahloo\", \"mahlah\", \"mahloh\", \"mahnoo\", \"mahnah\", \"mahnoh\", \"mahmoo\", \"mahmah\", \"mahmoh\",\n",
    "    \"mohloo\", \"mohlah\", \"mohloh\", \"mohnoo\", \"mohnah\", \"mohnoh\", \"mohmoo\", \"mohmah\", \"mohmoh\"\n",
    "]\n",
    "\n",
    "possible_labels_p_nr = [\n",
    "    \"teetee\", \"teetuh\", \"teetay\", \"teekee\", \"teekuh\", \"teekay\", \"teepee\", \"teepuh\", \"teepay\",\n",
    "    \"tuhtee\", \"tuhtuh\", \"tuhtay\", \"tuhkee\", \"tuhkuh\", \"tuhkay\", \"tuhpee\", \"tuhpuh\", \"tuhpay\",\n",
    "    \"taytee\", \"taytuh\", \"taytay\", \"taykee\", \"taykuh\", \"taykay\", \"taypee\", \"taypuh\", \"taypay\",\n",
    "    \"keetee\", \"keetuh\", \"keetay\", \"keekee\", \"keekuh\", \"keekay\", \"keepee\", \"keepuh\", \"keepay\",\n",
    "    \"kuhtee\", \"kuhtuh\", \"kuhtay\", \"kuhkee\", \"kuhkuh\", \"kuhkay\", \"kuhpee\", \"kuhpuh\", \"kuhpay\",\n",
    "    \"kaytee\", \"kaytuh\", \"kaytay\", \"kaykee\", \"kaykuh\", \"kaykay\", \"kaypee\", \"kaypuh\", \"kaypay\",\n",
    "    \"peetee\", \"peetuh\", \"peetay\", \"peekee\", \"peekuh\", \"peekay\", \"peepee\", \"peepuh\", \"peepay\",\n",
    "    \"puhtee\", \"puhtuh\", \"puhtay\", \"puhkee\", \"puhkuh\", \"puhkay\", \"puhpee\", \"puhpuh\", \"puhpay\",\n",
    "    \"paytee\", \"paytuh\", \"paytay\", \"paykee\", \"paykuh\", \"paykay\", \"paypee\", \"paypuh\", \"paypay\"\n",
    "]\n",
    "\n",
    "sample1 = random.sample(possible_labels_s_r, 2)\n",
    "sample2 = random.sample(possible_labels_p_nr, 2)\n",
    "\n",
    "if False:\n",
    "    final_list = sample1 + sample2\n",
    "\n",
    "    print(final_list)"
   ]
  },
  {
   "cell_type": "code",
   "execution_count": 2,
   "metadata": {},
   "outputs": [
    {
     "name": "stdout",
     "output_type": "stream",
     "text": [
      "81\n"
     ]
    }
   ],
   "source": [
    "print(len(possible_labels_s_r))"
   ]
  },
  {
   "cell_type": "code",
   "execution_count": 4,
   "metadata": {},
   "outputs": [],
   "source": [
    "final_list = ['mohloo', 'lahmoo', 'kuhtuh', 'taypay']"
   ]
  },
  {
   "cell_type": "code",
   "execution_count": null,
   "metadata": {},
   "outputs": [
    {
     "name": "stderr",
     "output_type": "stream",
     "text": [
      "The model weights are not tied. Please use the `tie_weights` method before using the `infer_auto_device` function.\n"
     ]
    },
    {
     "data": {
      "application/vnd.jupyter.widget-view+json": {
       "model_id": "04ea84f667c846c382d0f4a45bfc510e",
       "version_major": 2,
       "version_minor": 0
      },
      "text/plain": [
       "Loading checkpoint shards:   0%|          | 0/5 [00:00<?, ?it/s]"
      ]
     },
     "metadata": {},
     "output_type": "display_data"
    },
    {
     "name": "stderr",
     "output_type": "stream",
     "text": [
      "Some parameters are on the meta device because they were offloaded to the cpu.\n",
      "Processing llama:   1%|          | 1/136 [00:08<18:55,  8.41s/it]"
     ]
    },
    {
     "name": "stdout",
     "output_type": "stream",
     "text": [
      "Model output: user\n",
      "\n",
      "On a scale from 0 to 100, how well does the abstract word'mohloo' describe the following image? 0 means the word and image have no connection and 100 means the word perfectly fits the image. Answer only with a single number between 0 and 100. Do not include any other words.assistant\n",
      "\n",
      "40\n",
      "The stripped generated text is:  ['user', 'On', 'a', 'scale', 'from', '0', 'to', '100,', 'how', 'well', 'does', 'the', 'abstract', \"word'mohloo'\", 'describe', 'the', 'following', 'image?', '0', 'means', 'the', 'word', 'and', 'image', 'have', 'no', 'connection', 'and', '100', 'means', 'the', 'word', 'perfectly', 'fits', 'the', 'image.', 'Answer', 'only', 'with', 'a', 'single', 'number', 'between', '0', 'and', '100.', 'Do', 'not', 'include', 'any', 'other', 'words.assistant', '40']\n",
      "The probability is:  40\n"
     ]
    },
    {
     "name": "stderr",
     "output_type": "stream",
     "text": [
      "Processing llama:   1%|▏         | 2/136 [00:15<17:33,  7.86s/it]"
     ]
    },
    {
     "name": "stdout",
     "output_type": "stream",
     "text": [
      "Model output: user\n",
      "\n",
      "On a scale from 0 to 100, how well does the abstract word 'lahmoo' describe the following image? 0 means the word and image have no connection and 100 means the word perfectly fits the image. Answer only with a single number between 0 and 100. Do not include any other words.assistant\n",
      "\n",
      "0\n",
      "The stripped generated text is:  ['user', 'On', 'a', 'scale', 'from', '0', 'to', '100,', 'how', 'well', 'does', 'the', 'abstract', 'word', \"'lahmoo'\", 'describe', 'the', 'following', 'image?', '0', 'means', 'the', 'word', 'and', 'image', 'have', 'no', 'connection', 'and', '100', 'means', 'the', 'word', 'perfectly', 'fits', 'the', 'image.', 'Answer', 'only', 'with', 'a', 'single', 'number', 'between', '0', 'and', '100.', 'Do', 'not', 'include', 'any', 'other', 'words.assistant', '0']\n",
      "The probability is:  0\n"
     ]
    },
    {
     "name": "stderr",
     "output_type": "stream",
     "text": [
      "Processing llama:   2%|▏         | 3/136 [00:23<17:01,  7.68s/it]"
     ]
    },
    {
     "name": "stdout",
     "output_type": "stream",
     "text": [
      "Model output: user\n",
      "\n",
      "On a scale from 0 to 100, how well does the abstract word 'kuhtuh' describe the following image? 0 means the word and image have no connection and 100 means the word perfectly fits the image. Answer only with a single number between 0 and 100. Do not include any other words.assistant\n",
      "\n",
      "0\n",
      "The stripped generated text is:  ['user', 'On', 'a', 'scale', 'from', '0', 'to', '100,', 'how', 'well', 'does', 'the', 'abstract', 'word', \"'kuhtuh'\", 'describe', 'the', 'following', 'image?', '0', 'means', 'the', 'word', 'and', 'image', 'have', 'no', 'connection', 'and', '100', 'means', 'the', 'word', 'perfectly', 'fits', 'the', 'image.', 'Answer', 'only', 'with', 'a', 'single', 'number', 'between', '0', 'and', '100.', 'Do', 'not', 'include', 'any', 'other', 'words.assistant', '0']\n",
      "The probability is:  0\n"
     ]
    },
    {
     "name": "stderr",
     "output_type": "stream",
     "text": [
      "Processing llama:   3%|▎         | 4/136 [00:30<16:44,  7.61s/it]"
     ]
    },
    {
     "name": "stdout",
     "output_type": "stream",
     "text": [
      "Model output: user\n",
      "\n",
      "On a scale from 0 to 100, how well does the abstract word 'taypay' describe the following image? 0 means the word and image have no connection and 100 means the word perfectly fits the image. Answer only with a single number between 0 and 100. Do not include any other words.assistant\n",
      "\n",
      "0\n",
      "The stripped generated text is:  ['user', 'On', 'a', 'scale', 'from', '0', 'to', '100,', 'how', 'well', 'does', 'the', 'abstract', 'word', \"'taypay'\", 'describe', 'the', 'following', 'image?', '0', 'means', 'the', 'word', 'and', 'image', 'have', 'no', 'connection', 'and', '100', 'means', 'the', 'word', 'perfectly', 'fits', 'the', 'image.', 'Answer', 'only', 'with', 'a', 'single', 'number', 'between', '0', 'and', '100.', 'Do', 'not', 'include', 'any', 'other', 'words.assistant', '0']\n",
      "The probability is:  0\n"
     ]
    },
    {
     "name": "stderr",
     "output_type": "stream",
     "text": [
      "Processing llama:   4%|▎         | 5/136 [00:38<16:29,  7.55s/it]"
     ]
    },
    {
     "name": "stdout",
     "output_type": "stream",
     "text": [
      "Model output: user\n",
      "\n",
      "On a scale from 0 to 100, how well does the abstract word'mohloo' describe the following image? 0 means the word and image have no connection and 100 means the word perfectly fits the image. Answer only with a single number between 0 and 100. Do not include any other words.assistant\n",
      "\n",
      "95\n",
      "The stripped generated text is:  ['user', 'On', 'a', 'scale', 'from', '0', 'to', '100,', 'how', 'well', 'does', 'the', 'abstract', \"word'mohloo'\", 'describe', 'the', 'following', 'image?', '0', 'means', 'the', 'word', 'and', 'image', 'have', 'no', 'connection', 'and', '100', 'means', 'the', 'word', 'perfectly', 'fits', 'the', 'image.', 'Answer', 'only', 'with', 'a', 'single', 'number', 'between', '0', 'and', '100.', 'Do', 'not', 'include', 'any', 'other', 'words.assistant', '95']\n",
      "The probability is:  95\n"
     ]
    },
    {
     "name": "stderr",
     "output_type": "stream",
     "text": [
      "Processing llama:   4%|▍         | 6/136 [00:45<16:15,  7.51s/it]"
     ]
    },
    {
     "name": "stdout",
     "output_type": "stream",
     "text": [
      "Model output: user\n",
      "\n",
      "On a scale from 0 to 100, how well does the abstract word 'lahmoo' describe the following image? 0 means the word and image have no connection and 100 means the word perfectly fits the image. Answer only with a single number between 0 and 100. Do not include any other words.assistant\n",
      "\n",
      "90\n",
      "The stripped generated text is:  ['user', 'On', 'a', 'scale', 'from', '0', 'to', '100,', 'how', 'well', 'does', 'the', 'abstract', 'word', \"'lahmoo'\", 'describe', 'the', 'following', 'image?', '0', 'means', 'the', 'word', 'and', 'image', 'have', 'no', 'connection', 'and', '100', 'means', 'the', 'word', 'perfectly', 'fits', 'the', 'image.', 'Answer', 'only', 'with', 'a', 'single', 'number', 'between', '0', 'and', '100.', 'Do', 'not', 'include', 'any', 'other', 'words.assistant', '90']\n",
      "The probability is:  90\n"
     ]
    },
    {
     "name": "stderr",
     "output_type": "stream",
     "text": [
      "Processing llama:   5%|▌         | 7/136 [00:53<16:04,  7.48s/it]"
     ]
    },
    {
     "name": "stdout",
     "output_type": "stream",
     "text": [
      "Model output: user\n",
      "\n",
      "On a scale from 0 to 100, how well does the abstract word 'kuhtuh' describe the following image? 0 means the word and image have no connection and 100 means the word perfectly fits the image. Answer only with a single number between 0 and 100. Do not include any other words.assistant\n",
      "\n",
      "80\n",
      "The stripped generated text is:  ['user', 'On', 'a', 'scale', 'from', '0', 'to', '100,', 'how', 'well', 'does', 'the', 'abstract', 'word', \"'kuhtuh'\", 'describe', 'the', 'following', 'image?', '0', 'means', 'the', 'word', 'and', 'image', 'have', 'no', 'connection', 'and', '100', 'means', 'the', 'word', 'perfectly', 'fits', 'the', 'image.', 'Answer', 'only', 'with', 'a', 'single', 'number', 'between', '0', 'and', '100.', 'Do', 'not', 'include', 'any', 'other', 'words.assistant', '80']\n",
      "The probability is:  80\n"
     ]
    },
    {
     "name": "stderr",
     "output_type": "stream",
     "text": [
      "Processing llama:   6%|▌         | 8/136 [01:00<15:54,  7.46s/it]"
     ]
    },
    {
     "name": "stdout",
     "output_type": "stream",
     "text": [
      "Model output: user\n",
      "\n",
      "On a scale from 0 to 100, how well does the abstract word 'taypay' describe the following image? 0 means the word and image have no connection and 100 means the word perfectly fits the image. Answer only with a single number between 0 and 100. Do not include any other words.assistant\n",
      "\n",
      "20\n",
      "The stripped generated text is:  ['user', 'On', 'a', 'scale', 'from', '0', 'to', '100,', 'how', 'well', 'does', 'the', 'abstract', 'word', \"'taypay'\", 'describe', 'the', 'following', 'image?', '0', 'means', 'the', 'word', 'and', 'image', 'have', 'no', 'connection', 'and', '100', 'means', 'the', 'word', 'perfectly', 'fits', 'the', 'image.', 'Answer', 'only', 'with', 'a', 'single', 'number', 'between', '0', 'and', '100.', 'Do', 'not', 'include', 'any', 'other', 'words.assistant', '20']\n",
      "The probability is:  20\n"
     ]
    },
    {
     "name": "stderr",
     "output_type": "stream",
     "text": [
      "Processing llama:   7%|▋         | 9/136 [01:07<15:45,  7.45s/it]"
     ]
    },
    {
     "name": "stdout",
     "output_type": "stream",
     "text": [
      "Model output: user\n",
      "\n",
      "On a scale from 0 to 100, how well does the abstract word'mohloo' describe the following image? 0 means the word and image have no connection and 100 means the word perfectly fits the image. Answer only with a single number between 0 and 100. Do not include any other words.assistant\n",
      "\n",
      "25\n",
      "The stripped generated text is:  ['user', 'On', 'a', 'scale', 'from', '0', 'to', '100,', 'how', 'well', 'does', 'the', 'abstract', \"word'mohloo'\", 'describe', 'the', 'following', 'image?', '0', 'means', 'the', 'word', 'and', 'image', 'have', 'no', 'connection', 'and', '100', 'means', 'the', 'word', 'perfectly', 'fits', 'the', 'image.', 'Answer', 'only', 'with', 'a', 'single', 'number', 'between', '0', 'and', '100.', 'Do', 'not', 'include', 'any', 'other', 'words.assistant', '25']\n",
      "The probability is:  25\n"
     ]
    },
    {
     "name": "stderr",
     "output_type": "stream",
     "text": [
      "Processing llama:   7%|▋         | 10/136 [01:15<15:37,  7.44s/it]"
     ]
    },
    {
     "name": "stdout",
     "output_type": "stream",
     "text": [
      "Model output: user\n",
      "\n",
      "On a scale from 0 to 100, how well does the abstract word 'lahmoo' describe the following image? 0 means the word and image have no connection and 100 means the word perfectly fits the image. Answer only with a single number between 0 and 100. Do not include any other words.assistant\n",
      "\n",
      "0\n",
      "The stripped generated text is:  ['user', 'On', 'a', 'scale', 'from', '0', 'to', '100,', 'how', 'well', 'does', 'the', 'abstract', 'word', \"'lahmoo'\", 'describe', 'the', 'following', 'image?', '0', 'means', 'the', 'word', 'and', 'image', 'have', 'no', 'connection', 'and', '100', 'means', 'the', 'word', 'perfectly', 'fits', 'the', 'image.', 'Answer', 'only', 'with', 'a', 'single', 'number', 'between', '0', 'and', '100.', 'Do', 'not', 'include', 'any', 'other', 'words.assistant', '0']\n",
      "The probability is:  0\n"
     ]
    },
    {
     "name": "stderr",
     "output_type": "stream",
     "text": [
      "Processing llama:   8%|▊         | 11/136 [01:22<15:28,  7.43s/it]"
     ]
    },
    {
     "name": "stdout",
     "output_type": "stream",
     "text": [
      "Model output: user\n",
      "\n",
      "On a scale from 0 to 100, how well does the abstract word 'kuhtuh' describe the following image? 0 means the word and image have no connection and 100 means the word perfectly fits the image. Answer only with a single number between 0 and 100. Do not include any other words.assistant\n",
      "\n",
      "1\n",
      "The stripped generated text is:  ['user', 'On', 'a', 'scale', 'from', '0', 'to', '100,', 'how', 'well', 'does', 'the', 'abstract', 'word', \"'kuhtuh'\", 'describe', 'the', 'following', 'image?', '0', 'means', 'the', 'word', 'and', 'image', 'have', 'no', 'connection', 'and', '100', 'means', 'the', 'word', 'perfectly', 'fits', 'the', 'image.', 'Answer', 'only', 'with', 'a', 'single', 'number', 'between', '0', 'and', '100.', 'Do', 'not', 'include', 'any', 'other', 'words.assistant', '1']\n",
      "The probability is:  1\n"
     ]
    },
    {
     "name": "stderr",
     "output_type": "stream",
     "text": [
      "Processing llama:   9%|▉         | 12/136 [01:30<15:20,  7.43s/it]"
     ]
    },
    {
     "name": "stdout",
     "output_type": "stream",
     "text": [
      "Model output: user\n",
      "\n",
      "On a scale from 0 to 100, how well does the abstract word 'taypay' describe the following image? 0 means the word and image have no connection and 100 means the word perfectly fits the image. Answer only with a single number between 0 and 100. Do not include any other words.assistant\n",
      "\n",
      "0\n",
      "The stripped generated text is:  ['user', 'On', 'a', 'scale', 'from', '0', 'to', '100,', 'how', 'well', 'does', 'the', 'abstract', 'word', \"'taypay'\", 'describe', 'the', 'following', 'image?', '0', 'means', 'the', 'word', 'and', 'image', 'have', 'no', 'connection', 'and', '100', 'means', 'the', 'word', 'perfectly', 'fits', 'the', 'image.', 'Answer', 'only', 'with', 'a', 'single', 'number', 'between', '0', 'and', '100.', 'Do', 'not', 'include', 'any', 'other', 'words.assistant', '0']\n",
      "The probability is:  0\n"
     ]
    },
    {
     "name": "stderr",
     "output_type": "stream",
     "text": [
      "Processing llama:  10%|▉         | 13/136 [01:37<15:13,  7.43s/it]"
     ]
    },
    {
     "name": "stdout",
     "output_type": "stream",
     "text": [
      "Model output: user\n",
      "\n",
      "On a scale from 0 to 100, how well does the abstract word'mohloo' describe the following image? 0 means the word and image have no connection and 100 means the word perfectly fits the image. Answer only with a single number between 0 and 100. Do not include any other words.assistant\n",
      "\n",
      "10\n",
      "The stripped generated text is:  ['user', 'On', 'a', 'scale', 'from', '0', 'to', '100,', 'how', 'well', 'does', 'the', 'abstract', \"word'mohloo'\", 'describe', 'the', 'following', 'image?', '0', 'means', 'the', 'word', 'and', 'image', 'have', 'no', 'connection', 'and', '100', 'means', 'the', 'word', 'perfectly', 'fits', 'the', 'image.', 'Answer', 'only', 'with', 'a', 'single', 'number', 'between', '0', 'and', '100.', 'Do', 'not', 'include', 'any', 'other', 'words.assistant', '10']\n",
      "The probability is:  10\n"
     ]
    },
    {
     "name": "stderr",
     "output_type": "stream",
     "text": [
      "Processing llama:  10%|█         | 14/136 [01:45<15:05,  7.42s/it]"
     ]
    },
    {
     "name": "stdout",
     "output_type": "stream",
     "text": [
      "Model output: user\n",
      "\n",
      "On a scale from 0 to 100, how well does the abstract word 'lahmoo' describe the following image? 0 means the word and image have no connection and 100 means the word perfectly fits the image. Answer only with a single number between 0 and 100. Do not include any other words.assistant\n",
      "\n",
      "10\n",
      "The stripped generated text is:  ['user', 'On', 'a', 'scale', 'from', '0', 'to', '100,', 'how', 'well', 'does', 'the', 'abstract', 'word', \"'lahmoo'\", 'describe', 'the', 'following', 'image?', '0', 'means', 'the', 'word', 'and', 'image', 'have', 'no', 'connection', 'and', '100', 'means', 'the', 'word', 'perfectly', 'fits', 'the', 'image.', 'Answer', 'only', 'with', 'a', 'single', 'number', 'between', '0', 'and', '100.', 'Do', 'not', 'include', 'any', 'other', 'words.assistant', '10']\n",
      "The probability is:  10\n"
     ]
    },
    {
     "name": "stderr",
     "output_type": "stream",
     "text": [
      "Processing llama:  11%|█         | 15/136 [01:52<14:58,  7.42s/it]"
     ]
    },
    {
     "name": "stdout",
     "output_type": "stream",
     "text": [
      "Model output: user\n",
      "\n",
      "On a scale from 0 to 100, how well does the abstract word 'kuhtuh' describe the following image? 0 means the word and image have no connection and 100 means the word perfectly fits the image. Answer only with a single number between 0 and 100. Do not include any other words.assistant\n",
      "\n",
      "0\n",
      "The stripped generated text is:  ['user', 'On', 'a', 'scale', 'from', '0', 'to', '100,', 'how', 'well', 'does', 'the', 'abstract', 'word', \"'kuhtuh'\", 'describe', 'the', 'following', 'image?', '0', 'means', 'the', 'word', 'and', 'image', 'have', 'no', 'connection', 'and', '100', 'means', 'the', 'word', 'perfectly', 'fits', 'the', 'image.', 'Answer', 'only', 'with', 'a', 'single', 'number', 'between', '0', 'and', '100.', 'Do', 'not', 'include', 'any', 'other', 'words.assistant', '0']\n",
      "The probability is:  0\n"
     ]
    },
    {
     "name": "stderr",
     "output_type": "stream",
     "text": [
      "Processing llama:  12%|█▏        | 16/136 [01:59<14:50,  7.42s/it]"
     ]
    },
    {
     "name": "stdout",
     "output_type": "stream",
     "text": [
      "Model output: user\n",
      "\n",
      "On a scale from 0 to 100, how well does the abstract word 'taypay' describe the following image? 0 means the word and image have no connection and 100 means the word perfectly fits the image. Answer only with a single number between 0 and 100. Do not include any other words.assistant\n",
      "\n",
      "70\n",
      "The stripped generated text is:  ['user', 'On', 'a', 'scale', 'from', '0', 'to', '100,', 'how', 'well', 'does', 'the', 'abstract', 'word', \"'taypay'\", 'describe', 'the', 'following', 'image?', '0', 'means', 'the', 'word', 'and', 'image', 'have', 'no', 'connection', 'and', '100', 'means', 'the', 'word', 'perfectly', 'fits', 'the', 'image.', 'Answer', 'only', 'with', 'a', 'single', 'number', 'between', '0', 'and', '100.', 'Do', 'not', 'include', 'any', 'other', 'words.assistant', '70']\n",
      "The probability is:  70\n"
     ]
    },
    {
     "name": "stderr",
     "output_type": "stream",
     "text": [
      "Processing llama:  12%|█▎        | 17/136 [02:07<14:43,  7.42s/it]"
     ]
    },
    {
     "name": "stdout",
     "output_type": "stream",
     "text": [
      "Model output: user\n",
      "\n",
      "On a scale from 0 to 100, how well does the abstract word'mohloo' describe the following image? 0 means the word and image have no connection and 100 means the word perfectly fits the image. Answer only with a single number between 0 and 100. Do not include any other words.assistant\n",
      "\n",
      "70\n",
      "The stripped generated text is:  ['user', 'On', 'a', 'scale', 'from', '0', 'to', '100,', 'how', 'well', 'does', 'the', 'abstract', \"word'mohloo'\", 'describe', 'the', 'following', 'image?', '0', 'means', 'the', 'word', 'and', 'image', 'have', 'no', 'connection', 'and', '100', 'means', 'the', 'word', 'perfectly', 'fits', 'the', 'image.', 'Answer', 'only', 'with', 'a', 'single', 'number', 'between', '0', 'and', '100.', 'Do', 'not', 'include', 'any', 'other', 'words.assistant', '70']\n",
      "The probability is:  70\n"
     ]
    },
    {
     "name": "stderr",
     "output_type": "stream",
     "text": [
      "Processing llama:  13%|█▎        | 18/136 [02:14<14:35,  7.42s/it]"
     ]
    },
    {
     "name": "stdout",
     "output_type": "stream",
     "text": [
      "Model output: user\n",
      "\n",
      "On a scale from 0 to 100, how well does the abstract word 'lahmoo' describe the following image? 0 means the word and image have no connection and 100 means the word perfectly fits the image. Answer only with a single number between 0 and 100. Do not include any other words.assistant\n",
      "\n",
      "100\n",
      "The stripped generated text is:  ['user', 'On', 'a', 'scale', 'from', '0', 'to', '100,', 'how', 'well', 'does', 'the', 'abstract', 'word', \"'lahmoo'\", 'describe', 'the', 'following', 'image?', '0', 'means', 'the', 'word', 'and', 'image', 'have', 'no', 'connection', 'and', '100', 'means', 'the', 'word', 'perfectly', 'fits', 'the', 'image.', 'Answer', 'only', 'with', 'a', 'single', 'number', 'between', '0', 'and', '100.', 'Do', 'not', 'include', 'any', 'other', 'words.assistant', '100']\n",
      "The probability is:  100\n"
     ]
    },
    {
     "name": "stderr",
     "output_type": "stream",
     "text": [
      "Processing llama:  14%|█▍        | 19/136 [02:25<16:15,  8.34s/it]"
     ]
    },
    {
     "name": "stdout",
     "output_type": "stream",
     "text": [
      "Model output: user\n",
      "\n",
      "On a scale from 0 to 100, how well does the abstract word 'kuhtuh' describe the following image? 0 means the word and image have no connection and 100 means the word perfectly fits the image. Answer only with a single number between 0 and 100. Do not include any other words.assistant\n",
      "\n",
      "50.\n",
      "The stripped generated text is:  ['user', 'On', 'a', 'scale', 'from', '0', 'to', '100,', 'how', 'well', 'does', 'the', 'abstract', 'word', \"'kuhtuh'\", 'describe', 'the', 'following', 'image?', '0', 'means', 'the', 'word', 'and', 'image', 'have', 'no', 'connection', 'and', '100', 'means', 'the', 'word', 'perfectly', 'fits', 'the', 'image.', 'Answer', 'only', 'with', 'a', 'single', 'number', 'between', '0', 'and', '100.', 'Do', 'not', 'include', 'any', 'other', 'words.assistant', '50.']\n",
      "The probability is:  50.\n"
     ]
    },
    {
     "name": "stderr",
     "output_type": "stream",
     "text": [
      "Processing llama:  15%|█▍        | 20/136 [02:32<15:34,  8.06s/it]"
     ]
    },
    {
     "name": "stdout",
     "output_type": "stream",
     "text": [
      "Model output: user\n",
      "\n",
      "On a scale from 0 to 100, how well does the abstract word 'taypay' describe the following image? 0 means the word and image have no connection and 100 means the word perfectly fits the image. Answer only with a single number between 0 and 100. Do not include any other words.assistant\n",
      "\n",
      "50\n",
      "The stripped generated text is:  ['user', 'On', 'a', 'scale', 'from', '0', 'to', '100,', 'how', 'well', 'does', 'the', 'abstract', 'word', \"'taypay'\", 'describe', 'the', 'following', 'image?', '0', 'means', 'the', 'word', 'and', 'image', 'have', 'no', 'connection', 'and', '100', 'means', 'the', 'word', 'perfectly', 'fits', 'the', 'image.', 'Answer', 'only', 'with', 'a', 'single', 'number', 'between', '0', 'and', '100.', 'Do', 'not', 'include', 'any', 'other', 'words.assistant', '50']\n",
      "The probability is:  50\n"
     ]
    },
    {
     "name": "stderr",
     "output_type": "stream",
     "text": [
      "Processing llama:  15%|█▌        | 21/136 [02:40<15:06,  7.88s/it]"
     ]
    },
    {
     "name": "stdout",
     "output_type": "stream",
     "text": [
      "Model output: user\n",
      "\n",
      "On a scale from 0 to 100, how well does the abstract word'mohloo' describe the following image? 0 means the word and image have no connection and 100 means the word perfectly fits the image. Answer only with a single number between 0 and 100. Do not include any other words.assistant\n",
      "\n",
      "60\n",
      "The stripped generated text is:  ['user', 'On', 'a', 'scale', 'from', '0', 'to', '100,', 'how', 'well', 'does', 'the', 'abstract', \"word'mohloo'\", 'describe', 'the', 'following', 'image?', '0', 'means', 'the', 'word', 'and', 'image', 'have', 'no', 'connection', 'and', '100', 'means', 'the', 'word', 'perfectly', 'fits', 'the', 'image.', 'Answer', 'only', 'with', 'a', 'single', 'number', 'between', '0', 'and', '100.', 'Do', 'not', 'include', 'any', 'other', 'words.assistant', '60']\n",
      "The probability is:  60\n"
     ]
    },
    {
     "name": "stderr",
     "output_type": "stream",
     "text": [
      "Processing llama:  16%|█▌        | 22/136 [02:47<14:42,  7.74s/it]"
     ]
    },
    {
     "name": "stdout",
     "output_type": "stream",
     "text": [
      "Model output: user\n",
      "\n",
      "On a scale from 0 to 100, how well does the abstract word 'lahmoo' describe the following image? 0 means the word and image have no connection and 100 means the word perfectly fits the image. Answer only with a single number between 0 and 100. Do not include any other words.assistant\n",
      "\n",
      "10\n",
      "The stripped generated text is:  ['user', 'On', 'a', 'scale', 'from', '0', 'to', '100,', 'how', 'well', 'does', 'the', 'abstract', 'word', \"'lahmoo'\", 'describe', 'the', 'following', 'image?', '0', 'means', 'the', 'word', 'and', 'image', 'have', 'no', 'connection', 'and', '100', 'means', 'the', 'word', 'perfectly', 'fits', 'the', 'image.', 'Answer', 'only', 'with', 'a', 'single', 'number', 'between', '0', 'and', '100.', 'Do', 'not', 'include', 'any', 'other', 'words.assistant', '10']\n",
      "The probability is:  10\n"
     ]
    },
    {
     "name": "stderr",
     "output_type": "stream",
     "text": [
      "Processing llama:  17%|█▋        | 23/136 [02:54<14:24,  7.65s/it]"
     ]
    },
    {
     "name": "stdout",
     "output_type": "stream",
     "text": [
      "Model output: user\n",
      "\n",
      "On a scale from 0 to 100, how well does the abstract word 'kuhtuh' describe the following image? 0 means the word and image have no connection and 100 means the word perfectly fits the image. Answer only with a single number between 0 and 100. Do not include any other words.assistant\n",
      "\n",
      "0\n",
      "The stripped generated text is:  ['user', 'On', 'a', 'scale', 'from', '0', 'to', '100,', 'how', 'well', 'does', 'the', 'abstract', 'word', \"'kuhtuh'\", 'describe', 'the', 'following', 'image?', '0', 'means', 'the', 'word', 'and', 'image', 'have', 'no', 'connection', 'and', '100', 'means', 'the', 'word', 'perfectly', 'fits', 'the', 'image.', 'Answer', 'only', 'with', 'a', 'single', 'number', 'between', '0', 'and', '100.', 'Do', 'not', 'include', 'any', 'other', 'words.assistant', '0']\n",
      "The probability is:  0\n"
     ]
    },
    {
     "name": "stderr",
     "output_type": "stream",
     "text": [
      "Processing llama:  18%|█▊        | 24/136 [03:02<14:09,  7.59s/it]"
     ]
    },
    {
     "name": "stdout",
     "output_type": "stream",
     "text": [
      "Model output: user\n",
      "\n",
      "On a scale from 0 to 100, how well does the abstract word 'taypay' describe the following image? 0 means the word and image have no connection and 100 means the word perfectly fits the image. Answer only with a single number between 0 and 100. Do not include any other words.assistant\n",
      "\n",
      "30\n",
      "The stripped generated text is:  ['user', 'On', 'a', 'scale', 'from', '0', 'to', '100,', 'how', 'well', 'does', 'the', 'abstract', 'word', \"'taypay'\", 'describe', 'the', 'following', 'image?', '0', 'means', 'the', 'word', 'and', 'image', 'have', 'no', 'connection', 'and', '100', 'means', 'the', 'word', 'perfectly', 'fits', 'the', 'image.', 'Answer', 'only', 'with', 'a', 'single', 'number', 'between', '0', 'and', '100.', 'Do', 'not', 'include', 'any', 'other', 'words.assistant', '30']\n",
      "The probability is:  30\n"
     ]
    },
    {
     "name": "stderr",
     "output_type": "stream",
     "text": [
      "Processing llama:  18%|█▊        | 25/136 [03:09<13:56,  7.54s/it]"
     ]
    },
    {
     "name": "stdout",
     "output_type": "stream",
     "text": [
      "Model output: user\n",
      "\n",
      "On a scale from 0 to 100, how well does the abstract word'mohloo' describe the following image? 0 means the word and image have no connection and 100 means the word perfectly fits the image. Answer only with a single number between 0 and 100. Do not include any other words.assistant\n",
      "\n",
      "50\n",
      "The stripped generated text is:  ['user', 'On', 'a', 'scale', 'from', '0', 'to', '100,', 'how', 'well', 'does', 'the', 'abstract', \"word'mohloo'\", 'describe', 'the', 'following', 'image?', '0', 'means', 'the', 'word', 'and', 'image', 'have', 'no', 'connection', 'and', '100', 'means', 'the', 'word', 'perfectly', 'fits', 'the', 'image.', 'Answer', 'only', 'with', 'a', 'single', 'number', 'between', '0', 'and', '100.', 'Do', 'not', 'include', 'any', 'other', 'words.assistant', '50']\n",
      "The probability is:  50\n"
     ]
    },
    {
     "name": "stderr",
     "output_type": "stream",
     "text": [
      "Processing llama:  19%|█▉        | 26/136 [03:17<13:45,  7.50s/it]"
     ]
    },
    {
     "name": "stdout",
     "output_type": "stream",
     "text": [
      "Model output: user\n",
      "\n",
      "On a scale from 0 to 100, how well does the abstract word 'lahmoo' describe the following image? 0 means the word and image have no connection and 100 means the word perfectly fits the image. Answer only with a single number between 0 and 100. Do not include any other words.assistant\n",
      "\n",
      "20\n",
      "The stripped generated text is:  ['user', 'On', 'a', 'scale', 'from', '0', 'to', '100,', 'how', 'well', 'does', 'the', 'abstract', 'word', \"'lahmoo'\", 'describe', 'the', 'following', 'image?', '0', 'means', 'the', 'word', 'and', 'image', 'have', 'no', 'connection', 'and', '100', 'means', 'the', 'word', 'perfectly', 'fits', 'the', 'image.', 'Answer', 'only', 'with', 'a', 'single', 'number', 'between', '0', 'and', '100.', 'Do', 'not', 'include', 'any', 'other', 'words.assistant', '20']\n",
      "The probability is:  20\n"
     ]
    },
    {
     "name": "stderr",
     "output_type": "stream",
     "text": [
      "Processing llama:  20%|█▉        | 27/136 [03:24<13:35,  7.48s/it]"
     ]
    },
    {
     "name": "stdout",
     "output_type": "stream",
     "text": [
      "Model output: user\n",
      "\n",
      "On a scale from 0 to 100, how well does the abstract word 'kuhtuh' describe the following image? 0 means the word and image have no connection and 100 means the word perfectly fits the image. Answer only with a single number between 0 and 100. Do not include any other words.assistant\n",
      "\n",
      "1\n",
      "The stripped generated text is:  ['user', 'On', 'a', 'scale', 'from', '0', 'to', '100,', 'how', 'well', 'does', 'the', 'abstract', 'word', \"'kuhtuh'\", 'describe', 'the', 'following', 'image?', '0', 'means', 'the', 'word', 'and', 'image', 'have', 'no', 'connection', 'and', '100', 'means', 'the', 'word', 'perfectly', 'fits', 'the', 'image.', 'Answer', 'only', 'with', 'a', 'single', 'number', 'between', '0', 'and', '100.', 'Do', 'not', 'include', 'any', 'other', 'words.assistant', '1']\n",
      "The probability is:  1\n"
     ]
    },
    {
     "name": "stderr",
     "output_type": "stream",
     "text": [
      "Processing llama:  21%|██        | 28/136 [03:32<13:26,  7.46s/it]"
     ]
    },
    {
     "name": "stdout",
     "output_type": "stream",
     "text": [
      "Model output: user\n",
      "\n",
      "On a scale from 0 to 100, how well does the abstract word 'taypay' describe the following image? 0 means the word and image have no connection and 100 means the word perfectly fits the image. Answer only with a single number between 0 and 100. Do not include any other words.assistant\n",
      "\n",
      "20\n",
      "The stripped generated text is:  ['user', 'On', 'a', 'scale', 'from', '0', 'to', '100,', 'how', 'well', 'does', 'the', 'abstract', 'word', \"'taypay'\", 'describe', 'the', 'following', 'image?', '0', 'means', 'the', 'word', 'and', 'image', 'have', 'no', 'connection', 'and', '100', 'means', 'the', 'word', 'perfectly', 'fits', 'the', 'image.', 'Answer', 'only', 'with', 'a', 'single', 'number', 'between', '0', 'and', '100.', 'Do', 'not', 'include', 'any', 'other', 'words.assistant', '20']\n",
      "The probability is:  20\n"
     ]
    },
    {
     "name": "stderr",
     "output_type": "stream",
     "text": [
      "Processing llama:  21%|██▏       | 29/136 [03:39<13:18,  7.46s/it]"
     ]
    },
    {
     "name": "stdout",
     "output_type": "stream",
     "text": [
      "Model output: user\n",
      "\n",
      "On a scale from 0 to 100, how well does the abstract word'mohloo' describe the following image? 0 means the word and image have no connection and 100 means the word perfectly fits the image. Answer only with a single number between 0 and 100. Do not include any other words.assistant\n",
      "\n",
      "25\n",
      "The stripped generated text is:  ['user', 'On', 'a', 'scale', 'from', '0', 'to', '100,', 'how', 'well', 'does', 'the', 'abstract', \"word'mohloo'\", 'describe', 'the', 'following', 'image?', '0', 'means', 'the', 'word', 'and', 'image', 'have', 'no', 'connection', 'and', '100', 'means', 'the', 'word', 'perfectly', 'fits', 'the', 'image.', 'Answer', 'only', 'with', 'a', 'single', 'number', 'between', '0', 'and', '100.', 'Do', 'not', 'include', 'any', 'other', 'words.assistant', '25']\n",
      "The probability is:  25\n"
     ]
    },
    {
     "name": "stderr",
     "output_type": "stream",
     "text": [
      "Processing llama:  22%|██▏       | 30/136 [03:46<13:09,  7.45s/it]"
     ]
    },
    {
     "name": "stdout",
     "output_type": "stream",
     "text": [
      "Model output: user\n",
      "\n",
      "On a scale from 0 to 100, how well does the abstract word 'lahmoo' describe the following image? 0 means the word and image have no connection and 100 means the word perfectly fits the image. Answer only with a single number between 0 and 100. Do not include any other words.assistant\n",
      "\n",
      "75\n",
      "The stripped generated text is:  ['user', 'On', 'a', 'scale', 'from', '0', 'to', '100,', 'how', 'well', 'does', 'the', 'abstract', 'word', \"'lahmoo'\", 'describe', 'the', 'following', 'image?', '0', 'means', 'the', 'word', 'and', 'image', 'have', 'no', 'connection', 'and', '100', 'means', 'the', 'word', 'perfectly', 'fits', 'the', 'image.', 'Answer', 'only', 'with', 'a', 'single', 'number', 'between', '0', 'and', '100.', 'Do', 'not', 'include', 'any', 'other', 'words.assistant', '75']\n",
      "The probability is:  75\n"
     ]
    },
    {
     "name": "stderr",
     "output_type": "stream",
     "text": [
      "Processing llama:  23%|██▎       | 31/136 [03:54<13:03,  7.46s/it]"
     ]
    },
    {
     "name": "stdout",
     "output_type": "stream",
     "text": [
      "Model output: user\n",
      "\n",
      "On a scale from 0 to 100, how well does the abstract word 'kuhtuh' describe the following image? 0 means the word and image have no connection and 100 means the word perfectly fits the image. Answer only with a single number between 0 and 100. Do not include any other words.assistant\n",
      "\n",
      "30\n",
      "The stripped generated text is:  ['user', 'On', 'a', 'scale', 'from', '0', 'to', '100,', 'how', 'well', 'does', 'the', 'abstract', 'word', \"'kuhtuh'\", 'describe', 'the', 'following', 'image?', '0', 'means', 'the', 'word', 'and', 'image', 'have', 'no', 'connection', 'and', '100', 'means', 'the', 'word', 'perfectly', 'fits', 'the', 'image.', 'Answer', 'only', 'with', 'a', 'single', 'number', 'between', '0', 'and', '100.', 'Do', 'not', 'include', 'any', 'other', 'words.assistant', '30']\n",
      "The probability is:  30\n"
     ]
    },
    {
     "name": "stderr",
     "output_type": "stream",
     "text": [
      "Processing llama:  24%|██▎       | 32/136 [04:01<12:55,  7.46s/it]"
     ]
    },
    {
     "name": "stdout",
     "output_type": "stream",
     "text": [
      "Model output: user\n",
      "\n",
      "On a scale from 0 to 100, how well does the abstract word 'taypay' describe the following image? 0 means the word and image have no connection and 100 means the word perfectly fits the image. Answer only with a single number between 0 and 100. Do not include any other words.assistant\n",
      "\n",
      "10\n",
      "The stripped generated text is:  ['user', 'On', 'a', 'scale', 'from', '0', 'to', '100,', 'how', 'well', 'does', 'the', 'abstract', 'word', \"'taypay'\", 'describe', 'the', 'following', 'image?', '0', 'means', 'the', 'word', 'and', 'image', 'have', 'no', 'connection', 'and', '100', 'means', 'the', 'word', 'perfectly', 'fits', 'the', 'image.', 'Answer', 'only', 'with', 'a', 'single', 'number', 'between', '0', 'and', '100.', 'Do', 'not', 'include', 'any', 'other', 'words.assistant', '10']\n",
      "The probability is:  10\n"
     ]
    },
    {
     "name": "stderr",
     "output_type": "stream",
     "text": [
      "Processing llama:  24%|██▍       | 33/136 [04:09<12:47,  7.45s/it]"
     ]
    },
    {
     "name": "stdout",
     "output_type": "stream",
     "text": [
      "Model output: user\n",
      "\n",
      "On a scale from 0 to 100, how well does the abstract word'mohloo' describe the following image? 0 means the word and image have no connection and 100 means the word perfectly fits the image. Answer only with a single number between 0 and 100. Do not include any other words.assistant\n",
      "\n",
      "100\n",
      "The stripped generated text is:  ['user', 'On', 'a', 'scale', 'from', '0', 'to', '100,', 'how', 'well', 'does', 'the', 'abstract', \"word'mohloo'\", 'describe', 'the', 'following', 'image?', '0', 'means', 'the', 'word', 'and', 'image', 'have', 'no', 'connection', 'and', '100', 'means', 'the', 'word', 'perfectly', 'fits', 'the', 'image.', 'Answer', 'only', 'with', 'a', 'single', 'number', 'between', '0', 'and', '100.', 'Do', 'not', 'include', 'any', 'other', 'words.assistant', '100']\n",
      "The probability is:  100\n"
     ]
    },
    {
     "name": "stderr",
     "output_type": "stream",
     "text": [
      "Processing llama:  25%|██▌       | 34/136 [04:16<12:39,  7.44s/it]"
     ]
    },
    {
     "name": "stdout",
     "output_type": "stream",
     "text": [
      "Model output: user\n",
      "\n",
      "On a scale from 0 to 100, how well does the abstract word 'lahmoo' describe the following image? 0 means the word and image have no connection and 100 means the word perfectly fits the image. Answer only with a single number between 0 and 100. Do not include any other words.assistant\n",
      "\n",
      "25\n",
      "The stripped generated text is:  ['user', 'On', 'a', 'scale', 'from', '0', 'to', '100,', 'how', 'well', 'does', 'the', 'abstract', 'word', \"'lahmoo'\", 'describe', 'the', 'following', 'image?', '0', 'means', 'the', 'word', 'and', 'image', 'have', 'no', 'connection', 'and', '100', 'means', 'the', 'word', 'perfectly', 'fits', 'the', 'image.', 'Answer', 'only', 'with', 'a', 'single', 'number', 'between', '0', 'and', '100.', 'Do', 'not', 'include', 'any', 'other', 'words.assistant', '25']\n",
      "The probability is:  25\n"
     ]
    },
    {
     "name": "stderr",
     "output_type": "stream",
     "text": [
      "Processing llama:  26%|██▌       | 35/136 [04:24<12:31,  7.44s/it]"
     ]
    },
    {
     "name": "stdout",
     "output_type": "stream",
     "text": [
      "Model output: user\n",
      "\n",
      "On a scale from 0 to 100, how well does the abstract word 'kuhtuh' describe the following image? 0 means the word and image have no connection and 100 means the word perfectly fits the image. Answer only with a single number between 0 and 100. Do not include any other words.assistant\n",
      "\n",
      "70\n",
      "The stripped generated text is:  ['user', 'On', 'a', 'scale', 'from', '0', 'to', '100,', 'how', 'well', 'does', 'the', 'abstract', 'word', \"'kuhtuh'\", 'describe', 'the', 'following', 'image?', '0', 'means', 'the', 'word', 'and', 'image', 'have', 'no', 'connection', 'and', '100', 'means', 'the', 'word', 'perfectly', 'fits', 'the', 'image.', 'Answer', 'only', 'with', 'a', 'single', 'number', 'between', '0', 'and', '100.', 'Do', 'not', 'include', 'any', 'other', 'words.assistant', '70']\n",
      "The probability is:  70\n"
     ]
    },
    {
     "name": "stderr",
     "output_type": "stream",
     "text": [
      "Processing llama:  26%|██▋       | 36/136 [04:31<12:23,  7.43s/it]"
     ]
    },
    {
     "name": "stdout",
     "output_type": "stream",
     "text": [
      "Model output: user\n",
      "\n",
      "On a scale from 0 to 100, how well does the abstract word 'taypay' describe the following image? 0 means the word and image have no connection and 100 means the word perfectly fits the image. Answer only with a single number between 0 and 100. Do not include any other words.assistant\n",
      "\n",
      "30\n",
      "The stripped generated text is:  ['user', 'On', 'a', 'scale', 'from', '0', 'to', '100,', 'how', 'well', 'does', 'the', 'abstract', 'word', \"'taypay'\", 'describe', 'the', 'following', 'image?', '0', 'means', 'the', 'word', 'and', 'image', 'have', 'no', 'connection', 'and', '100', 'means', 'the', 'word', 'perfectly', 'fits', 'the', 'image.', 'Answer', 'only', 'with', 'a', 'single', 'number', 'between', '0', 'and', '100.', 'Do', 'not', 'include', 'any', 'other', 'words.assistant', '30']\n",
      "The probability is:  30\n"
     ]
    },
    {
     "name": "stderr",
     "output_type": "stream",
     "text": [
      "Processing llama:  27%|██▋       | 37/136 [04:39<12:15,  7.43s/it]"
     ]
    },
    {
     "name": "stdout",
     "output_type": "stream",
     "text": [
      "Model output: user\n",
      "\n",
      "On a scale from 0 to 100, how well does the abstract word'mohloo' describe the following image? 0 means the word and image have no connection and 100 means the word perfectly fits the image. Answer only with a single number between 0 and 100. Do not include any other words.assistant\n",
      "\n",
      "0\n",
      "The stripped generated text is:  ['user', 'On', 'a', 'scale', 'from', '0', 'to', '100,', 'how', 'well', 'does', 'the', 'abstract', \"word'mohloo'\", 'describe', 'the', 'following', 'image?', '0', 'means', 'the', 'word', 'and', 'image', 'have', 'no', 'connection', 'and', '100', 'means', 'the', 'word', 'perfectly', 'fits', 'the', 'image.', 'Answer', 'only', 'with', 'a', 'single', 'number', 'between', '0', 'and', '100.', 'Do', 'not', 'include', 'any', 'other', 'words.assistant', '0']\n",
      "The probability is:  0\n"
     ]
    },
    {
     "name": "stderr",
     "output_type": "stream",
     "text": [
      "Processing llama:  28%|██▊       | 38/136 [04:46<12:07,  7.43s/it]"
     ]
    },
    {
     "name": "stdout",
     "output_type": "stream",
     "text": [
      "Model output: user\n",
      "\n",
      "On a scale from 0 to 100, how well does the abstract word 'lahmoo' describe the following image? 0 means the word and image have no connection and 100 means the word perfectly fits the image. Answer only with a single number between 0 and 100. Do not include any other words.assistant\n",
      "\n",
      "50\n",
      "The stripped generated text is:  ['user', 'On', 'a', 'scale', 'from', '0', 'to', '100,', 'how', 'well', 'does', 'the', 'abstract', 'word', \"'lahmoo'\", 'describe', 'the', 'following', 'image?', '0', 'means', 'the', 'word', 'and', 'image', 'have', 'no', 'connection', 'and', '100', 'means', 'the', 'word', 'perfectly', 'fits', 'the', 'image.', 'Answer', 'only', 'with', 'a', 'single', 'number', 'between', '0', 'and', '100.', 'Do', 'not', 'include', 'any', 'other', 'words.assistant', '50']\n",
      "The probability is:  50\n"
     ]
    },
    {
     "name": "stderr",
     "output_type": "stream",
     "text": [
      "Processing llama:  29%|██▊       | 39/136 [04:53<12:00,  7.43s/it]"
     ]
    },
    {
     "name": "stdout",
     "output_type": "stream",
     "text": [
      "Model output: user\n",
      "\n",
      "On a scale from 0 to 100, how well does the abstract word 'kuhtuh' describe the following image? 0 means the word and image have no connection and 100 means the word perfectly fits the image. Answer only with a single number between 0 and 100. Do not include any other words.assistant\n",
      "\n",
      "0\n",
      "The stripped generated text is:  ['user', 'On', 'a', 'scale', 'from', '0', 'to', '100,', 'how', 'well', 'does', 'the', 'abstract', 'word', \"'kuhtuh'\", 'describe', 'the', 'following', 'image?', '0', 'means', 'the', 'word', 'and', 'image', 'have', 'no', 'connection', 'and', '100', 'means', 'the', 'word', 'perfectly', 'fits', 'the', 'image.', 'Answer', 'only', 'with', 'a', 'single', 'number', 'between', '0', 'and', '100.', 'Do', 'not', 'include', 'any', 'other', 'words.assistant', '0']\n",
      "The probability is:  0\n"
     ]
    },
    {
     "name": "stderr",
     "output_type": "stream",
     "text": [
      "Processing llama:  29%|██▉       | 40/136 [05:01<11:53,  7.43s/it]"
     ]
    },
    {
     "name": "stdout",
     "output_type": "stream",
     "text": [
      "Model output: user\n",
      "\n",
      "On a scale from 0 to 100, how well does the abstract word 'taypay' describe the following image? 0 means the word and image have no connection and 100 means the word perfectly fits the image. Answer only with a single number between 0 and 100. Do not include any other words.assistant\n",
      "\n",
      "0\n",
      "The stripped generated text is:  ['user', 'On', 'a', 'scale', 'from', '0', 'to', '100,', 'how', 'well', 'does', 'the', 'abstract', 'word', \"'taypay'\", 'describe', 'the', 'following', 'image?', '0', 'means', 'the', 'word', 'and', 'image', 'have', 'no', 'connection', 'and', '100', 'means', 'the', 'word', 'perfectly', 'fits', 'the', 'image.', 'Answer', 'only', 'with', 'a', 'single', 'number', 'between', '0', 'and', '100.', 'Do', 'not', 'include', 'any', 'other', 'words.assistant', '0']\n",
      "The probability is:  0\n"
     ]
    },
    {
     "name": "stderr",
     "output_type": "stream",
     "text": [
      "Processing llama:  30%|███       | 41/136 [05:08<11:46,  7.44s/it]"
     ]
    },
    {
     "name": "stdout",
     "output_type": "stream",
     "text": [
      "Model output: user\n",
      "\n",
      "On a scale from 0 to 100, how well does the abstract word'mohloo' describe the following image? 0 means the word and image have no connection and 100 means the word perfectly fits the image. Answer only with a single number between 0 and 100. Do not include any other words.assistant\n",
      "\n",
      "0\n",
      "The stripped generated text is:  ['user', 'On', 'a', 'scale', 'from', '0', 'to', '100,', 'how', 'well', 'does', 'the', 'abstract', \"word'mohloo'\", 'describe', 'the', 'following', 'image?', '0', 'means', 'the', 'word', 'and', 'image', 'have', 'no', 'connection', 'and', '100', 'means', 'the', 'word', 'perfectly', 'fits', 'the', 'image.', 'Answer', 'only', 'with', 'a', 'single', 'number', 'between', '0', 'and', '100.', 'Do', 'not', 'include', 'any', 'other', 'words.assistant', '0']\n",
      "The probability is:  0\n"
     ]
    },
    {
     "name": "stderr",
     "output_type": "stream",
     "text": [
      "Processing llama:  31%|███       | 42/136 [05:16<11:39,  7.45s/it]"
     ]
    },
    {
     "name": "stdout",
     "output_type": "stream",
     "text": [
      "Model output: user\n",
      "\n",
      "On a scale from 0 to 100, how well does the abstract word 'lahmoo' describe the following image? 0 means the word and image have no connection and 100 means the word perfectly fits the image. Answer only with a single number between 0 and 100. Do not include any other words.assistant\n",
      "\n",
      "30\n",
      "The stripped generated text is:  ['user', 'On', 'a', 'scale', 'from', '0', 'to', '100,', 'how', 'well', 'does', 'the', 'abstract', 'word', \"'lahmoo'\", 'describe', 'the', 'following', 'image?', '0', 'means', 'the', 'word', 'and', 'image', 'have', 'no', 'connection', 'and', '100', 'means', 'the', 'word', 'perfectly', 'fits', 'the', 'image.', 'Answer', 'only', 'with', 'a', 'single', 'number', 'between', '0', 'and', '100.', 'Do', 'not', 'include', 'any', 'other', 'words.assistant', '30']\n",
      "The probability is:  30\n"
     ]
    },
    {
     "name": "stderr",
     "output_type": "stream",
     "text": [
      "Processing llama:  32%|███▏      | 43/136 [05:23<11:32,  7.45s/it]"
     ]
    },
    {
     "name": "stdout",
     "output_type": "stream",
     "text": [
      "Model output: user\n",
      "\n",
      "On a scale from 0 to 100, how well does the abstract word 'kuhtuh' describe the following image? 0 means the word and image have no connection and 100 means the word perfectly fits the image. Answer only with a single number between 0 and 100. Do not include any other words.assistant\n",
      "\n",
      "30\n",
      "The stripped generated text is:  ['user', 'On', 'a', 'scale', 'from', '0', 'to', '100,', 'how', 'well', 'does', 'the', 'abstract', 'word', \"'kuhtuh'\", 'describe', 'the', 'following', 'image?', '0', 'means', 'the', 'word', 'and', 'image', 'have', 'no', 'connection', 'and', '100', 'means', 'the', 'word', 'perfectly', 'fits', 'the', 'image.', 'Answer', 'only', 'with', 'a', 'single', 'number', 'between', '0', 'and', '100.', 'Do', 'not', 'include', 'any', 'other', 'words.assistant', '30']\n",
      "The probability is:  30\n"
     ]
    },
    {
     "name": "stderr",
     "output_type": "stream",
     "text": [
      "Processing llama:  32%|███▏      | 44/136 [05:31<11:26,  7.46s/it]"
     ]
    },
    {
     "name": "stdout",
     "output_type": "stream",
     "text": [
      "Model output: user\n",
      "\n",
      "On a scale from 0 to 100, how well does the abstract word 'taypay' describe the following image? 0 means the word and image have no connection and 100 means the word perfectly fits the image. Answer only with a single number between 0 and 100. Do not include any other words.assistant\n",
      "\n",
      "30\n",
      "The stripped generated text is:  ['user', 'On', 'a', 'scale', 'from', '0', 'to', '100,', 'how', 'well', 'does', 'the', 'abstract', 'word', \"'taypay'\", 'describe', 'the', 'following', 'image?', '0', 'means', 'the', 'word', 'and', 'image', 'have', 'no', 'connection', 'and', '100', 'means', 'the', 'word', 'perfectly', 'fits', 'the', 'image.', 'Answer', 'only', 'with', 'a', 'single', 'number', 'between', '0', 'and', '100.', 'Do', 'not', 'include', 'any', 'other', 'words.assistant', '30']\n",
      "The probability is:  30\n"
     ]
    },
    {
     "name": "stderr",
     "output_type": "stream",
     "text": [
      "Processing llama:  33%|███▎      | 45/136 [05:41<12:42,  8.37s/it]"
     ]
    },
    {
     "name": "stdout",
     "output_type": "stream",
     "text": [
      "Model output: user\n",
      "\n",
      "On a scale from 0 to 100, how well does the abstract word'mohloo' describe the following image? 0 means the word and image have no connection and 100 means the word perfectly fits the image. Answer only with a single number between 0 and 100. Do not include any other words.assistant\n",
      "\n",
      "100.\n",
      "The stripped generated text is:  ['user', 'On', 'a', 'scale', 'from', '0', 'to', '100,', 'how', 'well', 'does', 'the', 'abstract', \"word'mohloo'\", 'describe', 'the', 'following', 'image?', '0', 'means', 'the', 'word', 'and', 'image', 'have', 'no', 'connection', 'and', '100', 'means', 'the', 'word', 'perfectly', 'fits', 'the', 'image.', 'Answer', 'only', 'with', 'a', 'single', 'number', 'between', '0', 'and', '100.', 'Do', 'not', 'include', 'any', 'other', 'words.assistant', '100.']\n",
      "The probability is:  100.\n"
     ]
    },
    {
     "name": "stderr",
     "output_type": "stream",
     "text": [
      "Processing llama:  34%|███▍      | 46/136 [05:49<12:09,  8.10s/it]"
     ]
    },
    {
     "name": "stdout",
     "output_type": "stream",
     "text": [
      "Model output: user\n",
      "\n",
      "On a scale from 0 to 100, how well does the abstract word 'lahmoo' describe the following image? 0 means the word and image have no connection and 100 means the word perfectly fits the image. Answer only with a single number between 0 and 100. Do not include any other words.assistant\n",
      "\n",
      "44\n",
      "The stripped generated text is:  ['user', 'On', 'a', 'scale', 'from', '0', 'to', '100,', 'how', 'well', 'does', 'the', 'abstract', 'word', \"'lahmoo'\", 'describe', 'the', 'following', 'image?', '0', 'means', 'the', 'word', 'and', 'image', 'have', 'no', 'connection', 'and', '100', 'means', 'the', 'word', 'perfectly', 'fits', 'the', 'image.', 'Answer', 'only', 'with', 'a', 'single', 'number', 'between', '0', 'and', '100.', 'Do', 'not', 'include', 'any', 'other', 'words.assistant', '44']\n",
      "The probability is:  44\n"
     ]
    },
    {
     "name": "stderr",
     "output_type": "stream",
     "text": [
      "Processing llama:  35%|███▍      | 47/136 [05:56<11:43,  7.91s/it]"
     ]
    },
    {
     "name": "stdout",
     "output_type": "stream",
     "text": [
      "Model output: user\n",
      "\n",
      "On a scale from 0 to 100, how well does the abstract word 'kuhtuh' describe the following image? 0 means the word and image have no connection and 100 means the word perfectly fits the image. Answer only with a single number between 0 and 100. Do not include any other words.assistant\n",
      "\n",
      "50\n",
      "The stripped generated text is:  ['user', 'On', 'a', 'scale', 'from', '0', 'to', '100,', 'how', 'well', 'does', 'the', 'abstract', 'word', \"'kuhtuh'\", 'describe', 'the', 'following', 'image?', '0', 'means', 'the', 'word', 'and', 'image', 'have', 'no', 'connection', 'and', '100', 'means', 'the', 'word', 'perfectly', 'fits', 'the', 'image.', 'Answer', 'only', 'with', 'a', 'single', 'number', 'between', '0', 'and', '100.', 'Do', 'not', 'include', 'any', 'other', 'words.assistant', '50']\n",
      "The probability is:  50\n"
     ]
    },
    {
     "name": "stderr",
     "output_type": "stream",
     "text": [
      "Processing llama:  35%|███▌      | 48/136 [06:04<11:23,  7.77s/it]"
     ]
    },
    {
     "name": "stdout",
     "output_type": "stream",
     "text": [
      "Model output: user\n",
      "\n",
      "On a scale from 0 to 100, how well does the abstract word 'taypay' describe the following image? 0 means the word and image have no connection and 100 means the word perfectly fits the image. Answer only with a single number between 0 and 100. Do not include any other words.assistant\n",
      "\n",
      "80\n",
      "The stripped generated text is:  ['user', 'On', 'a', 'scale', 'from', '0', 'to', '100,', 'how', 'well', 'does', 'the', 'abstract', 'word', \"'taypay'\", 'describe', 'the', 'following', 'image?', '0', 'means', 'the', 'word', 'and', 'image', 'have', 'no', 'connection', 'and', '100', 'means', 'the', 'word', 'perfectly', 'fits', 'the', 'image.', 'Answer', 'only', 'with', 'a', 'single', 'number', 'between', '0', 'and', '100.', 'Do', 'not', 'include', 'any', 'other', 'words.assistant', '80']\n",
      "The probability is:  80\n"
     ]
    },
    {
     "name": "stderr",
     "output_type": "stream",
     "text": [
      "Processing llama:  36%|███▌      | 49/136 [06:11<11:07,  7.68s/it]"
     ]
    },
    {
     "name": "stdout",
     "output_type": "stream",
     "text": [
      "Model output: user\n",
      "\n",
      "On a scale from 0 to 100, how well does the abstract word'mohloo' describe the following image? 0 means the word and image have no connection and 100 means the word perfectly fits the image. Answer only with a single number between 0 and 100. Do not include any other words.assistant\n",
      "\n",
      "90\n",
      "The stripped generated text is:  ['user', 'On', 'a', 'scale', 'from', '0', 'to', '100,', 'how', 'well', 'does', 'the', 'abstract', \"word'mohloo'\", 'describe', 'the', 'following', 'image?', '0', 'means', 'the', 'word', 'and', 'image', 'have', 'no', 'connection', 'and', '100', 'means', 'the', 'word', 'perfectly', 'fits', 'the', 'image.', 'Answer', 'only', 'with', 'a', 'single', 'number', 'between', '0', 'and', '100.', 'Do', 'not', 'include', 'any', 'other', 'words.assistant', '90']\n",
      "The probability is:  90\n"
     ]
    },
    {
     "name": "stderr",
     "output_type": "stream",
     "text": [
      "Processing llama:  37%|███▋      | 50/136 [06:28<14:49, 10.35s/it]"
     ]
    },
    {
     "name": "stdout",
     "output_type": "stream",
     "text": [
      "Model output: user\n",
      "\n",
      "On a scale from 0 to 100, how well does the abstract word 'lahmoo' describe the following image? 0 means the word and image have no connection and 100 means the word perfectly fits the image. Answer only with a single number between 0 and 100. Do not include any other words.assistant\n",
      "\n",
      "The image is a line\n",
      "The stripped generated text is:  ['user', 'On', 'a', 'scale', 'from', '0', 'to', '100,', 'how', 'well', 'does', 'the', 'abstract', 'word', \"'lahmoo'\", 'describe', 'the', 'following', 'image?', '0', 'means', 'the', 'word', 'and', 'image', 'have', 'no', 'connection', 'and', '100', 'means', 'the', 'word', 'perfectly', 'fits', 'the', 'image.', 'Answer', 'only', 'with', 'a', 'single', 'number', 'between', '0', 'and', '100.', 'Do', 'not', 'include', 'any', 'other', 'words.assistant', 'The', 'image', 'is', 'a', 'line']\n",
      "The probability is:  line\n"
     ]
    },
    {
     "name": "stderr",
     "output_type": "stream",
     "text": [
      "Processing llama:  38%|███▊      | 51/136 [06:35<13:25,  9.48s/it]"
     ]
    },
    {
     "name": "stdout",
     "output_type": "stream",
     "text": [
      "Model output: user\n",
      "\n",
      "On a scale from 0 to 100, how well does the abstract word 'kuhtuh' describe the following image? 0 means the word and image have no connection and 100 means the word perfectly fits the image. Answer only with a single number between 0 and 100. Do not include any other words.assistant\n",
      "\n",
      "25\n",
      "The stripped generated text is:  ['user', 'On', 'a', 'scale', 'from', '0', 'to', '100,', 'how', 'well', 'does', 'the', 'abstract', 'word', \"'kuhtuh'\", 'describe', 'the', 'following', 'image?', '0', 'means', 'the', 'word', 'and', 'image', 'have', 'no', 'connection', 'and', '100', 'means', 'the', 'word', 'perfectly', 'fits', 'the', 'image.', 'Answer', 'only', 'with', 'a', 'single', 'number', 'between', '0', 'and', '100.', 'Do', 'not', 'include', 'any', 'other', 'words.assistant', '25']\n",
      "The probability is:  25\n"
     ]
    },
    {
     "name": "stderr",
     "output_type": "stream",
     "text": [
      "Processing llama:  38%|███▊      | 52/136 [06:43<12:25,  8.88s/it]"
     ]
    },
    {
     "name": "stdout",
     "output_type": "stream",
     "text": [
      "Model output: user\n",
      "\n",
      "On a scale from 0 to 100, how well does the abstract word 'taypay' describe the following image? 0 means the word and image have no connection and 100 means the word perfectly fits the image. Answer only with a single number between 0 and 100. Do not include any other words.assistant\n",
      "\n",
      "90\n",
      "The stripped generated text is:  ['user', 'On', 'a', 'scale', 'from', '0', 'to', '100,', 'how', 'well', 'does', 'the', 'abstract', 'word', \"'taypay'\", 'describe', 'the', 'following', 'image?', '0', 'means', 'the', 'word', 'and', 'image', 'have', 'no', 'connection', 'and', '100', 'means', 'the', 'word', 'perfectly', 'fits', 'the', 'image.', 'Answer', 'only', 'with', 'a', 'single', 'number', 'between', '0', 'and', '100.', 'Do', 'not', 'include', 'any', 'other', 'words.assistant', '90']\n",
      "The probability is:  90\n"
     ]
    },
    {
     "name": "stderr",
     "output_type": "stream",
     "text": [
      "Processing llama:  39%|███▉      | 53/136 [06:59<15:28, 11.19s/it]"
     ]
    },
    {
     "name": "stdout",
     "output_type": "stream",
     "text": [
      "Model output: user\n",
      "\n",
      "On a scale from 0 to 100, how well does the abstract word'mohloo' describe the following image? 0 means the word and image have no connection and 100 means the word perfectly fits the image. Answer only with a single number between 0 and 100. Do not include any other words.assistant\n",
      "\n",
      "The image depicts a fish\n",
      "The stripped generated text is:  ['user', 'On', 'a', 'scale', 'from', '0', 'to', '100,', 'how', 'well', 'does', 'the', 'abstract', \"word'mohloo'\", 'describe', 'the', 'following', 'image?', '0', 'means', 'the', 'word', 'and', 'image', 'have', 'no', 'connection', 'and', '100', 'means', 'the', 'word', 'perfectly', 'fits', 'the', 'image.', 'Answer', 'only', 'with', 'a', 'single', 'number', 'between', '0', 'and', '100.', 'Do', 'not', 'include', 'any', 'other', 'words.assistant', 'The', 'image', 'depicts', 'a', 'fish']\n",
      "The probability is:  fish\n"
     ]
    },
    {
     "name": "stderr",
     "output_type": "stream",
     "text": [
      "Processing llama:  40%|███▉      | 54/136 [07:16<17:28, 12.79s/it]"
     ]
    },
    {
     "name": "stdout",
     "output_type": "stream",
     "text": [
      "Model output: user\n",
      "\n",
      "On a scale from 0 to 100, how well does the abstract word 'lahmoo' describe the following image? 0 means the word and image have no connection and 100 means the word perfectly fits the image. Answer only with a single number between 0 and 100. Do not include any other words.assistant\n",
      "\n",
      "The final answer is:\n",
      "The stripped generated text is:  ['user', 'On', 'a', 'scale', 'from', '0', 'to', '100,', 'how', 'well', 'does', 'the', 'abstract', 'word', \"'lahmoo'\", 'describe', 'the', 'following', 'image?', '0', 'means', 'the', 'word', 'and', 'image', 'have', 'no', 'connection', 'and', '100', 'means', 'the', 'word', 'perfectly', 'fits', 'the', 'image.', 'Answer', 'only', 'with', 'a', 'single', 'number', 'between', '0', 'and', '100.', 'Do', 'not', 'include', 'any', 'other', 'words.assistant', 'The', 'final', 'answer', 'is:']\n",
      "The probability is:  is:\n"
     ]
    },
    {
     "name": "stderr",
     "output_type": "stream",
     "text": [
      "Processing llama:  40%|████      | 55/136 [07:32<18:46, 13.91s/it]"
     ]
    },
    {
     "name": "stdout",
     "output_type": "stream",
     "text": [
      "Model output: user\n",
      "\n",
      "On a scale from 0 to 100, how well does the abstract word 'kuhtuh' describe the following image? 0 means the word and image have no connection and 100 means the word perfectly fits the image. Answer only with a single number between 0 and 100. Do not include any other words.assistant\n",
      "\n",
      "The final answer is:\n",
      "The stripped generated text is:  ['user', 'On', 'a', 'scale', 'from', '0', 'to', '100,', 'how', 'well', 'does', 'the', 'abstract', 'word', \"'kuhtuh'\", 'describe', 'the', 'following', 'image?', '0', 'means', 'the', 'word', 'and', 'image', 'have', 'no', 'connection', 'and', '100', 'means', 'the', 'word', 'perfectly', 'fits', 'the', 'image.', 'Answer', 'only', 'with', 'a', 'single', 'number', 'between', '0', 'and', '100.', 'Do', 'not', 'include', 'any', 'other', 'words.assistant', 'The', 'final', 'answer', 'is:']\n",
      "The probability is:  is:\n"
     ]
    },
    {
     "name": "stderr",
     "output_type": "stream",
     "text": [
      "Processing llama:  41%|████      | 56/136 [07:49<19:35, 14.70s/it]"
     ]
    },
    {
     "name": "stdout",
     "output_type": "stream",
     "text": [
      "Model output: user\n",
      "\n",
      "On a scale from 0 to 100, how well does the abstract word 'taypay' describe the following image? 0 means the word and image have no connection and 100 means the word perfectly fits the image. Answer only with a single number between 0 and 100. Do not include any other words.assistant\n",
      "\n",
      "The image depicts a speech\n",
      "The stripped generated text is:  ['user', 'On', 'a', 'scale', 'from', '0', 'to', '100,', 'how', 'well', 'does', 'the', 'abstract', 'word', \"'taypay'\", 'describe', 'the', 'following', 'image?', '0', 'means', 'the', 'word', 'and', 'image', 'have', 'no', 'connection', 'and', '100', 'means', 'the', 'word', 'perfectly', 'fits', 'the', 'image.', 'Answer', 'only', 'with', 'a', 'single', 'number', 'between', '0', 'and', '100.', 'Do', 'not', 'include', 'any', 'other', 'words.assistant', 'The', 'image', 'depicts', 'a', 'speech']\n",
      "The probability is:  speech\n"
     ]
    },
    {
     "name": "stderr",
     "output_type": "stream",
     "text": [
      "Processing llama:  42%|████▏     | 57/136 [07:56<16:28, 12.52s/it]"
     ]
    },
    {
     "name": "stdout",
     "output_type": "stream",
     "text": [
      "Model output: user\n",
      "\n",
      "On a scale from 0 to 100, how well does the abstract word'mohloo' describe the following image? 0 means the word and image have no connection and 100 means the word perfectly fits the image. Answer only with a single number between 0 and 100. Do not include any other words.assistant\n",
      "\n",
      "10\n",
      "The stripped generated text is:  ['user', 'On', 'a', 'scale', 'from', '0', 'to', '100,', 'how', 'well', 'does', 'the', 'abstract', \"word'mohloo'\", 'describe', 'the', 'following', 'image?', '0', 'means', 'the', 'word', 'and', 'image', 'have', 'no', 'connection', 'and', '100', 'means', 'the', 'word', 'perfectly', 'fits', 'the', 'image.', 'Answer', 'only', 'with', 'a', 'single', 'number', 'between', '0', 'and', '100.', 'Do', 'not', 'include', 'any', 'other', 'words.assistant', '10']\n",
      "The probability is:  10\n"
     ]
    },
    {
     "name": "stderr",
     "output_type": "stream",
     "text": [
      "Processing llama:  43%|████▎     | 58/136 [08:13<17:50, 13.72s/it]"
     ]
    },
    {
     "name": "stdout",
     "output_type": "stream",
     "text": [
      "Model output: user\n",
      "\n",
      "On a scale from 0 to 100, how well does the abstract word 'lahmoo' describe the following image? 0 means the word and image have no connection and 100 means the word perfectly fits the image. Answer only with a single number between 0 and 100. Do not include any other words.assistant\n",
      "\n",
      "1. The image is\n",
      "The stripped generated text is:  ['user', 'On', 'a', 'scale', 'from', '0', 'to', '100,', 'how', 'well', 'does', 'the', 'abstract', 'word', \"'lahmoo'\", 'describe', 'the', 'following', 'image?', '0', 'means', 'the', 'word', 'and', 'image', 'have', 'no', 'connection', 'and', '100', 'means', 'the', 'word', 'perfectly', 'fits', 'the', 'image.', 'Answer', 'only', 'with', 'a', 'single', 'number', 'between', '0', 'and', '100.', 'Do', 'not', 'include', 'any', 'other', 'words.assistant', '1.', 'The', 'image', 'is']\n",
      "The probability is:  is\n"
     ]
    },
    {
     "name": "stderr",
     "output_type": "stream",
     "text": [
      "Processing llama:  43%|████▎     | 59/136 [08:23<16:21, 12.75s/it]"
     ]
    },
    {
     "name": "stdout",
     "output_type": "stream",
     "text": [
      "Model output: user\n",
      "\n",
      "On a scale from 0 to 100, how well does the abstract word 'kuhtuh' describe the following image? 0 means the word and image have no connection and 100 means the word perfectly fits the image. Answer only with a single number between 0 and 100. Do not include any other words.assistant\n",
      "\n",
      "100.\n",
      "The stripped generated text is:  ['user', 'On', 'a', 'scale', 'from', '0', 'to', '100,', 'how', 'well', 'does', 'the', 'abstract', 'word', \"'kuhtuh'\", 'describe', 'the', 'following', 'image?', '0', 'means', 'the', 'word', 'and', 'image', 'have', 'no', 'connection', 'and', '100', 'means', 'the', 'word', 'perfectly', 'fits', 'the', 'image.', 'Answer', 'only', 'with', 'a', 'single', 'number', 'between', '0', 'and', '100.', 'Do', 'not', 'include', 'any', 'other', 'words.assistant', '100.']\n",
      "The probability is:  100.\n"
     ]
    },
    {
     "name": "stderr",
     "output_type": "stream",
     "text": [
      "Processing llama:  44%|████▍     | 60/136 [08:34<15:16, 12.06s/it]"
     ]
    },
    {
     "name": "stdout",
     "output_type": "stream",
     "text": [
      "Model output: user\n",
      "\n",
      "On a scale from 0 to 100, how well does the abstract word 'taypay' describe the following image? 0 means the word and image have no connection and 100 means the word perfectly fits the image. Answer only with a single number between 0 and 100. Do not include any other words.assistant\n",
      "\n",
      "100.\n",
      "The stripped generated text is:  ['user', 'On', 'a', 'scale', 'from', '0', 'to', '100,', 'how', 'well', 'does', 'the', 'abstract', 'word', \"'taypay'\", 'describe', 'the', 'following', 'image?', '0', 'means', 'the', 'word', 'and', 'image', 'have', 'no', 'connection', 'and', '100', 'means', 'the', 'word', 'perfectly', 'fits', 'the', 'image.', 'Answer', 'only', 'with', 'a', 'single', 'number', 'between', '0', 'and', '100.', 'Do', 'not', 'include', 'any', 'other', 'words.assistant', '100.']\n",
      "The probability is:  100.\n"
     ]
    },
    {
     "name": "stderr",
     "output_type": "stream",
     "text": [
      "Processing llama:  45%|████▍     | 61/136 [08:50<16:45, 13.41s/it]"
     ]
    },
    {
     "name": "stdout",
     "output_type": "stream",
     "text": [
      "Model output: user\n",
      "\n",
      "On a scale from 0 to 100, how well does the abstract word'mohloo' describe the following image? 0 means the word and image have no connection and 100 means the word perfectly fits the image. Answer only with a single number between 0 and 100. Do not include any other words.assistant\n",
      "\n",
      "The image is a simple\n",
      "The stripped generated text is:  ['user', 'On', 'a', 'scale', 'from', '0', 'to', '100,', 'how', 'well', 'does', 'the', 'abstract', \"word'mohloo'\", 'describe', 'the', 'following', 'image?', '0', 'means', 'the', 'word', 'and', 'image', 'have', 'no', 'connection', 'and', '100', 'means', 'the', 'word', 'perfectly', 'fits', 'the', 'image.', 'Answer', 'only', 'with', 'a', 'single', 'number', 'between', '0', 'and', '100.', 'Do', 'not', 'include', 'any', 'other', 'words.assistant', 'The', 'image', 'is', 'a', 'simple']\n",
      "The probability is:  simple\n"
     ]
    },
    {
     "name": "stderr",
     "output_type": "stream",
     "text": [
      "Processing llama:  46%|████▌     | 62/136 [09:07<17:41, 14.35s/it]"
     ]
    },
    {
     "name": "stdout",
     "output_type": "stream",
     "text": [
      "Model output: user\n",
      "\n",
      "On a scale from 0 to 100, how well does the abstract word 'lahmoo' describe the following image? 0 means the word and image have no connection and 100 means the word perfectly fits the image. Answer only with a single number between 0 and 100. Do not include any other words.assistant\n",
      "\n",
      "The word 'lahm\n",
      "The stripped generated text is:  ['user', 'On', 'a', 'scale', 'from', '0', 'to', '100,', 'how', 'well', 'does', 'the', 'abstract', 'word', \"'lahmoo'\", 'describe', 'the', 'following', 'image?', '0', 'means', 'the', 'word', 'and', 'image', 'have', 'no', 'connection', 'and', '100', 'means', 'the', 'word', 'perfectly', 'fits', 'the', 'image.', 'Answer', 'only', 'with', 'a', 'single', 'number', 'between', '0', 'and', '100.', 'Do', 'not', 'include', 'any', 'other', 'words.assistant', 'The', 'word', \"'lahm\"]\n",
      "The probability is:  'lahm\n"
     ]
    },
    {
     "name": "stderr",
     "output_type": "stream",
     "text": [
      "Processing llama:  46%|████▋     | 63/136 [09:23<18:17, 15.03s/it]"
     ]
    },
    {
     "name": "stdout",
     "output_type": "stream",
     "text": [
      "Model output: user\n",
      "\n",
      "On a scale from 0 to 100, how well does the abstract word 'kuhtuh' describe the following image? 0 means the word and image have no connection and 100 means the word perfectly fits the image. Answer only with a single number between 0 and 100. Do not include any other words.assistant\n",
      "\n",
      "The image is a simple\n",
      "The stripped generated text is:  ['user', 'On', 'a', 'scale', 'from', '0', 'to', '100,', 'how', 'well', 'does', 'the', 'abstract', 'word', \"'kuhtuh'\", 'describe', 'the', 'following', 'image?', '0', 'means', 'the', 'word', 'and', 'image', 'have', 'no', 'connection', 'and', '100', 'means', 'the', 'word', 'perfectly', 'fits', 'the', 'image.', 'Answer', 'only', 'with', 'a', 'single', 'number', 'between', '0', 'and', '100.', 'Do', 'not', 'include', 'any', 'other', 'words.assistant', 'The', 'image', 'is', 'a', 'simple']\n",
      "The probability is:  simple\n"
     ]
    },
    {
     "name": "stderr",
     "output_type": "stream",
     "text": [
      "Processing llama:  47%|████▋     | 64/136 [09:40<18:35, 15.49s/it]"
     ]
    },
    {
     "name": "stdout",
     "output_type": "stream",
     "text": [
      "Model output: user\n",
      "\n",
      "On a scale from 0 to 100, how well does the abstract word 'taypay' describe the following image? 0 means the word and image have no connection and 100 means the word perfectly fits the image. Answer only with a single number between 0 and 100. Do not include any other words.assistant\n",
      "\n",
      "The image provided is a\n",
      "The stripped generated text is:  ['user', 'On', 'a', 'scale', 'from', '0', 'to', '100,', 'how', 'well', 'does', 'the', 'abstract', 'word', \"'taypay'\", 'describe', 'the', 'following', 'image?', '0', 'means', 'the', 'word', 'and', 'image', 'have', 'no', 'connection', 'and', '100', 'means', 'the', 'word', 'perfectly', 'fits', 'the', 'image.', 'Answer', 'only', 'with', 'a', 'single', 'number', 'between', '0', 'and', '100.', 'Do', 'not', 'include', 'any', 'other', 'words.assistant', 'The', 'image', 'provided', 'is', 'a']\n",
      "The probability is:  a\n"
     ]
    },
    {
     "name": "stderr",
     "output_type": "stream",
     "text": [
      "Processing llama:  48%|████▊     | 65/136 [09:50<16:32, 13.98s/it]"
     ]
    },
    {
     "name": "stdout",
     "output_type": "stream",
     "text": [
      "Model output: user\n",
      "\n",
      "On a scale from 0 to 100, how well does the abstract word'mohloo' describe the following image? 0 means the word and image have no connection and 100 means the word perfectly fits the image. Answer only with a single number between 0 and 100. Do not include any other words.assistant\n",
      "\n",
      "100.\n",
      "The stripped generated text is:  ['user', 'On', 'a', 'scale', 'from', '0', 'to', '100,', 'how', 'well', 'does', 'the', 'abstract', \"word'mohloo'\", 'describe', 'the', 'following', 'image?', '0', 'means', 'the', 'word', 'and', 'image', 'have', 'no', 'connection', 'and', '100', 'means', 'the', 'word', 'perfectly', 'fits', 'the', 'image.', 'Answer', 'only', 'with', 'a', 'single', 'number', 'between', '0', 'and', '100.', 'Do', 'not', 'include', 'any', 'other', 'words.assistant', '100.']\n",
      "The probability is:  100.\n"
     ]
    },
    {
     "name": "stderr",
     "output_type": "stream",
     "text": [
      "Processing llama:  49%|████▊     | 66/136 [10:07<17:12, 14.75s/it]"
     ]
    },
    {
     "name": "stdout",
     "output_type": "stream",
     "text": [
      "Model output: user\n",
      "\n",
      "On a scale from 0 to 100, how well does the abstract word 'lahmoo' describe the following image? 0 means the word and image have no connection and 100 means the word perfectly fits the image. Answer only with a single number between 0 and 100. Do not include any other words.assistant\n",
      "\n",
      "The answer is: \n",
      "The stripped generated text is:  ['user', 'On', 'a', 'scale', 'from', '0', 'to', '100,', 'how', 'well', 'does', 'the', 'abstract', 'word', \"'lahmoo'\", 'describe', 'the', 'following', 'image?', '0', 'means', 'the', 'word', 'and', 'image', 'have', 'no', 'connection', 'and', '100', 'means', 'the', 'word', 'perfectly', 'fits', 'the', 'image.', 'Answer', 'only', 'with', 'a', 'single', 'number', 'between', '0', 'and', '100.', 'Do', 'not', 'include', 'any', 'other', 'words.assistant', 'The', 'answer', 'is:']\n",
      "The probability is:  is:\n"
     ]
    },
    {
     "name": "stderr",
     "output_type": "stream",
     "text": [
      "Processing llama:  49%|████▉     | 67/136 [10:23<17:35, 15.29s/it]"
     ]
    },
    {
     "name": "stdout",
     "output_type": "stream",
     "text": [
      "Model output: user\n",
      "\n",
      "On a scale from 0 to 100, how well does the abstract word 'kuhtuh' describe the following image? 0 means the word and image have no connection and 100 means the word perfectly fits the image. Answer only with a single number between 0 and 100. Do not include any other words.assistant\n",
      "\n",
      "The image depicts a fish\n",
      "The stripped generated text is:  ['user', 'On', 'a', 'scale', 'from', '0', 'to', '100,', 'how', 'well', 'does', 'the', 'abstract', 'word', \"'kuhtuh'\", 'describe', 'the', 'following', 'image?', '0', 'means', 'the', 'word', 'and', 'image', 'have', 'no', 'connection', 'and', '100', 'means', 'the', 'word', 'perfectly', 'fits', 'the', 'image.', 'Answer', 'only', 'with', 'a', 'single', 'number', 'between', '0', 'and', '100.', 'Do', 'not', 'include', 'any', 'other', 'words.assistant', 'The', 'image', 'depicts', 'a', 'fish']\n",
      "The probability is:  fish\n"
     ]
    },
    {
     "name": "stderr",
     "output_type": "stream",
     "text": [
      "Processing llama:  50%|█████     | 68/136 [10:40<17:45, 15.67s/it]"
     ]
    },
    {
     "name": "stdout",
     "output_type": "stream",
     "text": [
      "Model output: user\n",
      "\n",
      "On a scale from 0 to 100, how well does the abstract word 'taypay' describe the following image? 0 means the word and image have no connection and 100 means the word perfectly fits the image. Answer only with a single number between 0 and 100. Do not include any other words.assistant\n",
      "\n",
      "The image depicts a fish\n",
      "The stripped generated text is:  ['user', 'On', 'a', 'scale', 'from', '0', 'to', '100,', 'how', 'well', 'does', 'the', 'abstract', 'word', \"'taypay'\", 'describe', 'the', 'following', 'image?', '0', 'means', 'the', 'word', 'and', 'image', 'have', 'no', 'connection', 'and', '100', 'means', 'the', 'word', 'perfectly', 'fits', 'the', 'image.', 'Answer', 'only', 'with', 'a', 'single', 'number', 'between', '0', 'and', '100.', 'Do', 'not', 'include', 'any', 'other', 'words.assistant', 'The', 'image', 'depicts', 'a', 'fish']\n",
      "The probability is:  fish\n"
     ]
    },
    {
     "name": "stderr",
     "output_type": "stream",
     "text": [
      "Processing llama:  51%|█████     | 69/136 [10:50<15:45, 14.11s/it]"
     ]
    },
    {
     "name": "stdout",
     "output_type": "stream",
     "text": [
      "Model output: user\n",
      "\n",
      "On a scale from 0 to 100, how well does the abstract word'mohloo' describe the following image? 0 means the word and image have no connection and 100 means the word perfectly fits the image. Answer only with a single number between 0 and 100. Do not include any other words.assistant\n",
      "\n",
      "50.\n",
      "The stripped generated text is:  ['user', 'On', 'a', 'scale', 'from', '0', 'to', '100,', 'how', 'well', 'does', 'the', 'abstract', \"word'mohloo'\", 'describe', 'the', 'following', 'image?', '0', 'means', 'the', 'word', 'and', 'image', 'have', 'no', 'connection', 'and', '100', 'means', 'the', 'word', 'perfectly', 'fits', 'the', 'image.', 'Answer', 'only', 'with', 'a', 'single', 'number', 'between', '0', 'and', '100.', 'Do', 'not', 'include', 'any', 'other', 'words.assistant', '50.']\n",
      "The probability is:  50.\n"
     ]
    },
    {
     "name": "stderr",
     "output_type": "stream",
     "text": [
      "Processing llama:  51%|█████▏    | 70/136 [10:58<13:18, 12.11s/it]"
     ]
    },
    {
     "name": "stdout",
     "output_type": "stream",
     "text": [
      "Model output: user\n",
      "\n",
      "On a scale from 0 to 100, how well does the abstract word 'lahmoo' describe the following image? 0 means the word and image have no connection and 100 means the word perfectly fits the image. Answer only with a single number between 0 and 100. Do not include any other words.assistant\n",
      "\n",
      "75\n",
      "The stripped generated text is:  ['user', 'On', 'a', 'scale', 'from', '0', 'to', '100,', 'how', 'well', 'does', 'the', 'abstract', 'word', \"'lahmoo'\", 'describe', 'the', 'following', 'image?', '0', 'means', 'the', 'word', 'and', 'image', 'have', 'no', 'connection', 'and', '100', 'means', 'the', 'word', 'perfectly', 'fits', 'the', 'image.', 'Answer', 'only', 'with', 'a', 'single', 'number', 'between', '0', 'and', '100.', 'Do', 'not', 'include', 'any', 'other', 'words.assistant', '75']\n",
      "The probability is:  75\n"
     ]
    },
    {
     "name": "stderr",
     "output_type": "stream",
     "text": [
      "Processing llama:  52%|█████▏    | 71/136 [11:08<12:34, 11.61s/it]"
     ]
    },
    {
     "name": "stdout",
     "output_type": "stream",
     "text": [
      "Model output: user\n",
      "\n",
      "On a scale from 0 to 100, how well does the abstract word 'kuhtuh' describe the following image? 0 means the word and image have no connection and 100 means the word perfectly fits the image. Answer only with a single number between 0 and 100. Do not include any other words.assistant\n",
      "\n",
      "60.\n",
      "The stripped generated text is:  ['user', 'On', 'a', 'scale', 'from', '0', 'to', '100,', 'how', 'well', 'does', 'the', 'abstract', 'word', \"'kuhtuh'\", 'describe', 'the', 'following', 'image?', '0', 'means', 'the', 'word', 'and', 'image', 'have', 'no', 'connection', 'and', '100', 'means', 'the', 'word', 'perfectly', 'fits', 'the', 'image.', 'Answer', 'only', 'with', 'a', 'single', 'number', 'between', '0', 'and', '100.', 'Do', 'not', 'include', 'any', 'other', 'words.assistant', '60.']\n",
      "The probability is:  60.\n"
     ]
    },
    {
     "name": "stderr",
     "output_type": "stream",
     "text": [
      "Processing llama:  53%|█████▎    | 72/136 [11:16<11:03, 10.36s/it]"
     ]
    },
    {
     "name": "stdout",
     "output_type": "stream",
     "text": [
      "Model output: user\n",
      "\n",
      "On a scale from 0 to 100, how well does the abstract word 'taypay' describe the following image? 0 means the word and image have no connection and 100 means the word perfectly fits the image. Answer only with a single number between 0 and 100. Do not include any other words.assistant\n",
      "\n",
      "0\n",
      "The stripped generated text is:  ['user', 'On', 'a', 'scale', 'from', '0', 'to', '100,', 'how', 'well', 'does', 'the', 'abstract', 'word', \"'taypay'\", 'describe', 'the', 'following', 'image?', '0', 'means', 'the', 'word', 'and', 'image', 'have', 'no', 'connection', 'and', '100', 'means', 'the', 'word', 'perfectly', 'fits', 'the', 'image.', 'Answer', 'only', 'with', 'a', 'single', 'number', 'between', '0', 'and', '100.', 'Do', 'not', 'include', 'any', 'other', 'words.assistant', '0']\n",
      "The probability is:  0\n"
     ]
    },
    {
     "name": "stderr",
     "output_type": "stream",
     "text": [
      "Processing llama:  54%|█████▎    | 73/136 [11:26<10:54, 10.39s/it]"
     ]
    },
    {
     "name": "stdout",
     "output_type": "stream",
     "text": [
      "Model output: user\n",
      "\n",
      "On a scale from 0 to 100, how well does the abstract word'mohloo' describe the following image? 0 means the word and image have no connection and 100 means the word perfectly fits the image. Answer only with a single number between 0 and 100. Do not include any other words.assistant\n",
      "\n",
      "20.\n",
      "The stripped generated text is:  ['user', 'On', 'a', 'scale', 'from', '0', 'to', '100,', 'how', 'well', 'does', 'the', 'abstract', \"word'mohloo'\", 'describe', 'the', 'following', 'image?', '0', 'means', 'the', 'word', 'and', 'image', 'have', 'no', 'connection', 'and', '100', 'means', 'the', 'word', 'perfectly', 'fits', 'the', 'image.', 'Answer', 'only', 'with', 'a', 'single', 'number', 'between', '0', 'and', '100.', 'Do', 'not', 'include', 'any', 'other', 'words.assistant', '20.']\n",
      "The probability is:  20.\n"
     ]
    },
    {
     "name": "stderr",
     "output_type": "stream",
     "text": [
      "Processing llama:  54%|█████▍    | 74/136 [11:34<09:49,  9.50s/it]"
     ]
    },
    {
     "name": "stdout",
     "output_type": "stream",
     "text": [
      "Model output: user\n",
      "\n",
      "On a scale from 0 to 100, how well does the abstract word 'lahmoo' describe the following image? 0 means the word and image have no connection and 100 means the word perfectly fits the image. Answer only with a single number between 0 and 100. Do not include any other words.assistant\n",
      "\n",
      "50\n",
      "The stripped generated text is:  ['user', 'On', 'a', 'scale', 'from', '0', 'to', '100,', 'how', 'well', 'does', 'the', 'abstract', 'word', \"'lahmoo'\", 'describe', 'the', 'following', 'image?', '0', 'means', 'the', 'word', 'and', 'image', 'have', 'no', 'connection', 'and', '100', 'means', 'the', 'word', 'perfectly', 'fits', 'the', 'image.', 'Answer', 'only', 'with', 'a', 'single', 'number', 'between', '0', 'and', '100.', 'Do', 'not', 'include', 'any', 'other', 'words.assistant', '50']\n",
      "The probability is:  50\n"
     ]
    },
    {
     "name": "stderr",
     "output_type": "stream",
     "text": [
      "Processing llama:  55%|█████▌    | 75/136 [11:41<09:01,  8.88s/it]"
     ]
    },
    {
     "name": "stdout",
     "output_type": "stream",
     "text": [
      "Model output: user\n",
      "\n",
      "On a scale from 0 to 100, how well does the abstract word 'kuhtuh' describe the following image? 0 means the word and image have no connection and 100 means the word perfectly fits the image. Answer only with a single number between 0 and 100. Do not include any other words.assistant\n",
      "\n",
      "0\n",
      "The stripped generated text is:  ['user', 'On', 'a', 'scale', 'from', '0', 'to', '100,', 'how', 'well', 'does', 'the', 'abstract', 'word', \"'kuhtuh'\", 'describe', 'the', 'following', 'image?', '0', 'means', 'the', 'word', 'and', 'image', 'have', 'no', 'connection', 'and', '100', 'means', 'the', 'word', 'perfectly', 'fits', 'the', 'image.', 'Answer', 'only', 'with', 'a', 'single', 'number', 'between', '0', 'and', '100.', 'Do', 'not', 'include', 'any', 'other', 'words.assistant', '0']\n",
      "The probability is:  0\n"
     ]
    },
    {
     "name": "stderr",
     "output_type": "stream",
     "text": [
      "Processing llama:  56%|█████▌    | 76/136 [11:49<08:26,  8.44s/it]"
     ]
    },
    {
     "name": "stdout",
     "output_type": "stream",
     "text": [
      "Model output: user\n",
      "\n",
      "On a scale from 0 to 100, how well does the abstract word 'taypay' describe the following image? 0 means the word and image have no connection and 100 means the word perfectly fits the image. Answer only with a single number between 0 and 100. Do not include any other words.assistant\n",
      "\n",
      "0\n",
      "The stripped generated text is:  ['user', 'On', 'a', 'scale', 'from', '0', 'to', '100,', 'how', 'well', 'does', 'the', 'abstract', 'word', \"'taypay'\", 'describe', 'the', 'following', 'image?', '0', 'means', 'the', 'word', 'and', 'image', 'have', 'no', 'connection', 'and', '100', 'means', 'the', 'word', 'perfectly', 'fits', 'the', 'image.', 'Answer', 'only', 'with', 'a', 'single', 'number', 'between', '0', 'and', '100.', 'Do', 'not', 'include', 'any', 'other', 'words.assistant', '0']\n",
      "The probability is:  0\n"
     ]
    },
    {
     "name": "stderr",
     "output_type": "stream",
     "text": [
      "Processing llama:  57%|█████▋    | 77/136 [11:56<08:00,  8.15s/it]"
     ]
    },
    {
     "name": "stdout",
     "output_type": "stream",
     "text": [
      "Model output: user\n",
      "\n",
      "On a scale from 0 to 100, how well does the abstract word'mohloo' describe the following image? 0 means the word and image have no connection and 100 means the word perfectly fits the image. Answer only with a single number between 0 and 100. Do not include any other words.assistant\n",
      "\n",
      "1\n",
      "The stripped generated text is:  ['user', 'On', 'a', 'scale', 'from', '0', 'to', '100,', 'how', 'well', 'does', 'the', 'abstract', \"word'mohloo'\", 'describe', 'the', 'following', 'image?', '0', 'means', 'the', 'word', 'and', 'image', 'have', 'no', 'connection', 'and', '100', 'means', 'the', 'word', 'perfectly', 'fits', 'the', 'image.', 'Answer', 'only', 'with', 'a', 'single', 'number', 'between', '0', 'and', '100.', 'Do', 'not', 'include', 'any', 'other', 'words.assistant', '1']\n",
      "The probability is:  1\n"
     ]
    },
    {
     "name": "stderr",
     "output_type": "stream",
     "text": [
      "Processing llama:  57%|█████▋    | 78/136 [12:04<07:47,  8.06s/it]"
     ]
    },
    {
     "name": "stdout",
     "output_type": "stream",
     "text": [
      "Model output: user\n",
      "\n",
      "On a scale from 0 to 100, how well does the abstract word 'lahmoo' describe the following image? 0 means the word and image have no connection and 100 means the word perfectly fits the image. Answer only with a single number between 0 and 100. Do not include any other words.assistant\n",
      "\n",
      "0\n",
      "The stripped generated text is:  ['user', 'On', 'a', 'scale', 'from', '0', 'to', '100,', 'how', 'well', 'does', 'the', 'abstract', 'word', \"'lahmoo'\", 'describe', 'the', 'following', 'image?', '0', 'means', 'the', 'word', 'and', 'image', 'have', 'no', 'connection', 'and', '100', 'means', 'the', 'word', 'perfectly', 'fits', 'the', 'image.', 'Answer', 'only', 'with', 'a', 'single', 'number', 'between', '0', 'and', '100.', 'Do', 'not', 'include', 'any', 'other', 'words.assistant', '0']\n",
      "The probability is:  0\n"
     ]
    },
    {
     "name": "stderr",
     "output_type": "stream",
     "text": [
      "Processing llama:  58%|█████▊    | 79/136 [12:12<07:36,  8.00s/it]"
     ]
    },
    {
     "name": "stdout",
     "output_type": "stream",
     "text": [
      "Model output: user\n",
      "\n",
      "On a scale from 0 to 100, how well does the abstract word 'kuhtuh' describe the following image? 0 means the word and image have no connection and 100 means the word perfectly fits the image. Answer only with a single number between 0 and 100. Do not include any other words.assistant\n",
      "\n",
      "25\n",
      "The stripped generated text is:  ['user', 'On', 'a', 'scale', 'from', '0', 'to', '100,', 'how', 'well', 'does', 'the', 'abstract', 'word', \"'kuhtuh'\", 'describe', 'the', 'following', 'image?', '0', 'means', 'the', 'word', 'and', 'image', 'have', 'no', 'connection', 'and', '100', 'means', 'the', 'word', 'perfectly', 'fits', 'the', 'image.', 'Answer', 'only', 'with', 'a', 'single', 'number', 'between', '0', 'and', '100.', 'Do', 'not', 'include', 'any', 'other', 'words.assistant', '25']\n",
      "The probability is:  25\n"
     ]
    },
    {
     "name": "stderr",
     "output_type": "stream",
     "text": [
      "Processing llama:  59%|█████▉    | 80/136 [12:23<08:16,  8.86s/it]"
     ]
    },
    {
     "name": "stdout",
     "output_type": "stream",
     "text": [
      "Model output: user\n",
      "\n",
      "On a scale from 0 to 100, how well does the abstract word 'taypay' describe the following image? 0 means the word and image have no connection and 100 means the word perfectly fits the image. Answer only with a single number between 0 and 100. Do not include any other words.assistant\n",
      "\n",
      "1.\n",
      "The stripped generated text is:  ['user', 'On', 'a', 'scale', 'from', '0', 'to', '100,', 'how', 'well', 'does', 'the', 'abstract', 'word', \"'taypay'\", 'describe', 'the', 'following', 'image?', '0', 'means', 'the', 'word', 'and', 'image', 'have', 'no', 'connection', 'and', '100', 'means', 'the', 'word', 'perfectly', 'fits', 'the', 'image.', 'Answer', 'only', 'with', 'a', 'single', 'number', 'between', '0', 'and', '100.', 'Do', 'not', 'include', 'any', 'other', 'words.assistant', '1.']\n",
      "The probability is:  1.\n"
     ]
    },
    {
     "name": "stderr",
     "output_type": "stream",
     "text": [
      "Processing llama:  60%|█████▉    | 81/136 [12:30<07:50,  8.55s/it]"
     ]
    },
    {
     "name": "stdout",
     "output_type": "stream",
     "text": [
      "Model output: user\n",
      "\n",
      "On a scale from 0 to 100, how well does the abstract word'mohloo' describe the following image? 0 means the word and image have no connection and 100 means the word perfectly fits the image. Answer only with a single number between 0 and 100. Do not include any other words.assistant\n",
      "\n",
      "1\n",
      "The stripped generated text is:  ['user', 'On', 'a', 'scale', 'from', '0', 'to', '100,', 'how', 'well', 'does', 'the', 'abstract', \"word'mohloo'\", 'describe', 'the', 'following', 'image?', '0', 'means', 'the', 'word', 'and', 'image', 'have', 'no', 'connection', 'and', '100', 'means', 'the', 'word', 'perfectly', 'fits', 'the', 'image.', 'Answer', 'only', 'with', 'a', 'single', 'number', 'between', '0', 'and', '100.', 'Do', 'not', 'include', 'any', 'other', 'words.assistant', '1']\n",
      "The probability is:  1\n"
     ]
    },
    {
     "name": "stderr",
     "output_type": "stream",
     "text": [
      "Processing llama:  60%|██████    | 82/136 [12:38<07:29,  8.32s/it]"
     ]
    },
    {
     "name": "stdout",
     "output_type": "stream",
     "text": [
      "Model output: user\n",
      "\n",
      "On a scale from 0 to 100, how well does the abstract word 'lahmoo' describe the following image? 0 means the word and image have no connection and 100 means the word perfectly fits the image. Answer only with a single number between 0 and 100. Do not include any other words.assistant\n",
      "\n",
      "90\n",
      "The stripped generated text is:  ['user', 'On', 'a', 'scale', 'from', '0', 'to', '100,', 'how', 'well', 'does', 'the', 'abstract', 'word', \"'lahmoo'\", 'describe', 'the', 'following', 'image?', '0', 'means', 'the', 'word', 'and', 'image', 'have', 'no', 'connection', 'and', '100', 'means', 'the', 'word', 'perfectly', 'fits', 'the', 'image.', 'Answer', 'only', 'with', 'a', 'single', 'number', 'between', '0', 'and', '100.', 'Do', 'not', 'include', 'any', 'other', 'words.assistant', '90']\n",
      "The probability is:  90\n"
     ]
    },
    {
     "name": "stderr",
     "output_type": "stream",
     "text": [
      "Processing llama:  61%|██████    | 83/136 [12:49<07:55,  8.97s/it]"
     ]
    },
    {
     "name": "stdout",
     "output_type": "stream",
     "text": [
      "Model output: user\n",
      "\n",
      "On a scale from 0 to 100, how well does the abstract word 'kuhtuh' describe the following image? 0 means the word and image have no connection and 100 means the word perfectly fits the image. Answer only with a single number between 0 and 100. Do not include any other words.assistant\n",
      "\n",
      "60.\n",
      "The stripped generated text is:  ['user', 'On', 'a', 'scale', 'from', '0', 'to', '100,', 'how', 'well', 'does', 'the', 'abstract', 'word', \"'kuhtuh'\", 'describe', 'the', 'following', 'image?', '0', 'means', 'the', 'word', 'and', 'image', 'have', 'no', 'connection', 'and', '100', 'means', 'the', 'word', 'perfectly', 'fits', 'the', 'image.', 'Answer', 'only', 'with', 'a', 'single', 'number', 'between', '0', 'and', '100.', 'Do', 'not', 'include', 'any', 'other', 'words.assistant', '60.']\n",
      "The probability is:  60.\n"
     ]
    },
    {
     "name": "stderr",
     "output_type": "stream",
     "text": [
      "Processing llama:  62%|██████▏   | 84/136 [12:59<08:09,  9.41s/it]"
     ]
    },
    {
     "name": "stdout",
     "output_type": "stream",
     "text": [
      "Model output: user\n",
      "\n",
      "On a scale from 0 to 100, how well does the abstract word 'taypay' describe the following image? 0 means the word and image have no connection and 100 means the word perfectly fits the image. Answer only with a single number between 0 and 100. Do not include any other words.assistant\n",
      "\n",
      "50.\n",
      "The stripped generated text is:  ['user', 'On', 'a', 'scale', 'from', '0', 'to', '100,', 'how', 'well', 'does', 'the', 'abstract', 'word', \"'taypay'\", 'describe', 'the', 'following', 'image?', '0', 'means', 'the', 'word', 'and', 'image', 'have', 'no', 'connection', 'and', '100', 'means', 'the', 'word', 'perfectly', 'fits', 'the', 'image.', 'Answer', 'only', 'with', 'a', 'single', 'number', 'between', '0', 'and', '100.', 'Do', 'not', 'include', 'any', 'other', 'words.assistant', '50.']\n",
      "The probability is:  50.\n"
     ]
    },
    {
     "name": "stderr",
     "output_type": "stream",
     "text": [
      "Processing llama:  62%|██████▎   | 85/136 [13:16<09:49, 11.55s/it]"
     ]
    },
    {
     "name": "stdout",
     "output_type": "stream",
     "text": [
      "Model output: user\n",
      "\n",
      "On a scale from 0 to 100, how well does the abstract word'mohloo' describe the following image? 0 means the word and image have no connection and 100 means the word perfectly fits the image. Answer only with a single number between 0 and 100. Do not include any other words.assistant\n",
      "\n",
      "The final answer is:\n",
      "The stripped generated text is:  ['user', 'On', 'a', 'scale', 'from', '0', 'to', '100,', 'how', 'well', 'does', 'the', 'abstract', \"word'mohloo'\", 'describe', 'the', 'following', 'image?', '0', 'means', 'the', 'word', 'and', 'image', 'have', 'no', 'connection', 'and', '100', 'means', 'the', 'word', 'perfectly', 'fits', 'the', 'image.', 'Answer', 'only', 'with', 'a', 'single', 'number', 'between', '0', 'and', '100.', 'Do', 'not', 'include', 'any', 'other', 'words.assistant', 'The', 'final', 'answer', 'is:']\n",
      "The probability is:  is:\n"
     ]
    },
    {
     "name": "stderr",
     "output_type": "stream",
     "text": [
      "Processing llama:  63%|██████▎   | 86/136 [13:32<10:52, 13.05s/it]"
     ]
    },
    {
     "name": "stdout",
     "output_type": "stream",
     "text": [
      "Model output: user\n",
      "\n",
      "On a scale from 0 to 100, how well does the abstract word 'lahmoo' describe the following image? 0 means the word and image have no connection and 100 means the word perfectly fits the image. Answer only with a single number between 0 and 100. Do not include any other words.assistant\n",
      "\n",
      "The image is a simple\n",
      "The stripped generated text is:  ['user', 'On', 'a', 'scale', 'from', '0', 'to', '100,', 'how', 'well', 'does', 'the', 'abstract', 'word', \"'lahmoo'\", 'describe', 'the', 'following', 'image?', '0', 'means', 'the', 'word', 'and', 'image', 'have', 'no', 'connection', 'and', '100', 'means', 'the', 'word', 'perfectly', 'fits', 'the', 'image.', 'Answer', 'only', 'with', 'a', 'single', 'number', 'between', '0', 'and', '100.', 'Do', 'not', 'include', 'any', 'other', 'words.assistant', 'The', 'image', 'is', 'a', 'simple']\n",
      "The probability is:  simple\n"
     ]
    },
    {
     "name": "stderr",
     "output_type": "stream",
     "text": [
      "Processing llama:  64%|██████▍   | 87/136 [13:49<11:30, 14.10s/it]"
     ]
    },
    {
     "name": "stdout",
     "output_type": "stream",
     "text": [
      "Model output: user\n",
      "\n",
      "On a scale from 0 to 100, how well does the abstract word 'kuhtuh' describe the following image? 0 means the word and image have no connection and 100 means the word perfectly fits the image. Answer only with a single number between 0 and 100. Do not include any other words.assistant\n",
      "\n",
      "The image depicts a black\n",
      "The stripped generated text is:  ['user', 'On', 'a', 'scale', 'from', '0', 'to', '100,', 'how', 'well', 'does', 'the', 'abstract', 'word', \"'kuhtuh'\", 'describe', 'the', 'following', 'image?', '0', 'means', 'the', 'word', 'and', 'image', 'have', 'no', 'connection', 'and', '100', 'means', 'the', 'word', 'perfectly', 'fits', 'the', 'image.', 'Answer', 'only', 'with', 'a', 'single', 'number', 'between', '0', 'and', '100.', 'Do', 'not', 'include', 'any', 'other', 'words.assistant', 'The', 'image', 'depicts', 'a', 'black']\n",
      "The probability is:  black\n"
     ]
    },
    {
     "name": "stderr",
     "output_type": "stream",
     "text": [
      "Processing llama:  65%|██████▍   | 88/136 [13:59<10:24, 13.01s/it]"
     ]
    },
    {
     "name": "stdout",
     "output_type": "stream",
     "text": [
      "Model output: user\n",
      "\n",
      "On a scale from 0 to 100, how well does the abstract word 'taypay' describe the following image? 0 means the word and image have no connection and 100 means the word perfectly fits the image. Answer only with a single number between 0 and 100. Do not include any other words.assistant\n",
      "\n",
      "50.\n",
      "The stripped generated text is:  ['user', 'On', 'a', 'scale', 'from', '0', 'to', '100,', 'how', 'well', 'does', 'the', 'abstract', 'word', \"'taypay'\", 'describe', 'the', 'following', 'image?', '0', 'means', 'the', 'word', 'and', 'image', 'have', 'no', 'connection', 'and', '100', 'means', 'the', 'word', 'perfectly', 'fits', 'the', 'image.', 'Answer', 'only', 'with', 'a', 'single', 'number', 'between', '0', 'and', '100.', 'Do', 'not', 'include', 'any', 'other', 'words.assistant', '50.']\n",
      "The probability is:  50.\n"
     ]
    },
    {
     "name": "stderr",
     "output_type": "stream",
     "text": [
      "Processing llama:  65%|██████▌   | 89/136 [14:07<08:52, 11.34s/it]"
     ]
    },
    {
     "name": "stdout",
     "output_type": "stream",
     "text": [
      "Model output: user\n",
      "\n",
      "On a scale from 0 to 100, how well does the abstract word'mohloo' describe the following image? 0 means the word and image have no connection and 100 means the word perfectly fits the image. Answer only with a single number between 0 and 100. Do not include any other words.assistant\n",
      "\n",
      "40\n",
      "The stripped generated text is:  ['user', 'On', 'a', 'scale', 'from', '0', 'to', '100,', 'how', 'well', 'does', 'the', 'abstract', \"word'mohloo'\", 'describe', 'the', 'following', 'image?', '0', 'means', 'the', 'word', 'and', 'image', 'have', 'no', 'connection', 'and', '100', 'means', 'the', 'word', 'perfectly', 'fits', 'the', 'image.', 'Answer', 'only', 'with', 'a', 'single', 'number', 'between', '0', 'and', '100.', 'Do', 'not', 'include', 'any', 'other', 'words.assistant', '40']\n",
      "The probability is:  40\n"
     ]
    },
    {
     "name": "stderr",
     "output_type": "stream",
     "text": [
      "Processing llama:  66%|██████▌   | 90/136 [14:14<07:47, 10.16s/it]"
     ]
    },
    {
     "name": "stdout",
     "output_type": "stream",
     "text": [
      "Model output: user\n",
      "\n",
      "On a scale from 0 to 100, how well does the abstract word 'lahmoo' describe the following image? 0 means the word and image have no connection and 100 means the word perfectly fits the image. Answer only with a single number between 0 and 100. Do not include any other words.assistant\n",
      "\n",
      "40\n",
      "The stripped generated text is:  ['user', 'On', 'a', 'scale', 'from', '0', 'to', '100,', 'how', 'well', 'does', 'the', 'abstract', 'word', \"'lahmoo'\", 'describe', 'the', 'following', 'image?', '0', 'means', 'the', 'word', 'and', 'image', 'have', 'no', 'connection', 'and', '100', 'means', 'the', 'word', 'perfectly', 'fits', 'the', 'image.', 'Answer', 'only', 'with', 'a', 'single', 'number', 'between', '0', 'and', '100.', 'Do', 'not', 'include', 'any', 'other', 'words.assistant', '40']\n",
      "The probability is:  40\n"
     ]
    },
    {
     "name": "stderr",
     "output_type": "stream",
     "text": [
      "Processing llama:  67%|██████▋   | 91/136 [14:21<07:00,  9.34s/it]"
     ]
    },
    {
     "name": "stdout",
     "output_type": "stream",
     "text": [
      "Model output: user\n",
      "\n",
      "On a scale from 0 to 100, how well does the abstract word 'kuhtuh' describe the following image? 0 means the word and image have no connection and 100 means the word perfectly fits the image. Answer only with a single number between 0 and 100. Do not include any other words.assistant\n",
      "\n",
      "0\n",
      "The stripped generated text is:  ['user', 'On', 'a', 'scale', 'from', '0', 'to', '100,', 'how', 'well', 'does', 'the', 'abstract', 'word', \"'kuhtuh'\", 'describe', 'the', 'following', 'image?', '0', 'means', 'the', 'word', 'and', 'image', 'have', 'no', 'connection', 'and', '100', 'means', 'the', 'word', 'perfectly', 'fits', 'the', 'image.', 'Answer', 'only', 'with', 'a', 'single', 'number', 'between', '0', 'and', '100.', 'Do', 'not', 'include', 'any', 'other', 'words.assistant', '0']\n",
      "The probability is:  0\n"
     ]
    },
    {
     "name": "stderr",
     "output_type": "stream",
     "text": [
      "Processing llama:  68%|██████▊   | 92/136 [14:29<06:25,  8.76s/it]"
     ]
    },
    {
     "name": "stdout",
     "output_type": "stream",
     "text": [
      "Model output: user\n",
      "\n",
      "On a scale from 0 to 100, how well does the abstract word 'taypay' describe the following image? 0 means the word and image have no connection and 100 means the word perfectly fits the image. Answer only with a single number between 0 and 100. Do not include any other words.assistant\n",
      "\n",
      "50\n",
      "The stripped generated text is:  ['user', 'On', 'a', 'scale', 'from', '0', 'to', '100,', 'how', 'well', 'does', 'the', 'abstract', 'word', \"'taypay'\", 'describe', 'the', 'following', 'image?', '0', 'means', 'the', 'word', 'and', 'image', 'have', 'no', 'connection', 'and', '100', 'means', 'the', 'word', 'perfectly', 'fits', 'the', 'image.', 'Answer', 'only', 'with', 'a', 'single', 'number', 'between', '0', 'and', '100.', 'Do', 'not', 'include', 'any', 'other', 'words.assistant', '50']\n",
      "The probability is:  50\n"
     ]
    },
    {
     "name": "stderr",
     "output_type": "stream",
     "text": [
      "Processing llama:  68%|██████▊   | 93/136 [14:36<05:59,  8.36s/it]"
     ]
    },
    {
     "name": "stdout",
     "output_type": "stream",
     "text": [
      "Model output: user\n",
      "\n",
      "On a scale from 0 to 100, how well does the abstract word'mohloo' describe the following image? 0 means the word and image have no connection and 100 means the word perfectly fits the image. Answer only with a single number between 0 and 100. Do not include any other words.assistant\n",
      "\n",
      "70\n",
      "The stripped generated text is:  ['user', 'On', 'a', 'scale', 'from', '0', 'to', '100,', 'how', 'well', 'does', 'the', 'abstract', \"word'mohloo'\", 'describe', 'the', 'following', 'image?', '0', 'means', 'the', 'word', 'and', 'image', 'have', 'no', 'connection', 'and', '100', 'means', 'the', 'word', 'perfectly', 'fits', 'the', 'image.', 'Answer', 'only', 'with', 'a', 'single', 'number', 'between', '0', 'and', '100.', 'Do', 'not', 'include', 'any', 'other', 'words.assistant', '70']\n",
      "The probability is:  70\n"
     ]
    },
    {
     "name": "stderr",
     "output_type": "stream",
     "text": [
      "Processing llama:  69%|██████▉   | 94/136 [14:53<07:34, 10.81s/it]"
     ]
    },
    {
     "name": "stdout",
     "output_type": "stream",
     "text": [
      "Model output: user\n",
      "\n",
      "On a scale from 0 to 100, how well does the abstract word 'lahmoo' describe the following image? 0 means the word and image have no connection and 100 means the word perfectly fits the image. Answer only with a single number between 0 and 100. Do not include any other words.assistant\n",
      "\n",
      "The word 'lahm\n",
      "The stripped generated text is:  ['user', 'On', 'a', 'scale', 'from', '0', 'to', '100,', 'how', 'well', 'does', 'the', 'abstract', 'word', \"'lahmoo'\", 'describe', 'the', 'following', 'image?', '0', 'means', 'the', 'word', 'and', 'image', 'have', 'no', 'connection', 'and', '100', 'means', 'the', 'word', 'perfectly', 'fits', 'the', 'image.', 'Answer', 'only', 'with', 'a', 'single', 'number', 'between', '0', 'and', '100.', 'Do', 'not', 'include', 'any', 'other', 'words.assistant', 'The', 'word', \"'lahm\"]\n",
      "The probability is:  'lahm\n"
     ]
    },
    {
     "name": "stderr",
     "output_type": "stream",
     "text": [
      "Processing llama:  70%|██████▉   | 95/136 [15:00<06:41,  9.80s/it]"
     ]
    },
    {
     "name": "stdout",
     "output_type": "stream",
     "text": [
      "Model output: user\n",
      "\n",
      "On a scale from 0 to 100, how well does the abstract word 'kuhtuh' describe the following image? 0 means the word and image have no connection and 100 means the word perfectly fits the image. Answer only with a single number between 0 and 100. Do not include any other words.assistant\n",
      "\n",
      "30\n",
      "The stripped generated text is:  ['user', 'On', 'a', 'scale', 'from', '0', 'to', '100,', 'how', 'well', 'does', 'the', 'abstract', 'word', \"'kuhtuh'\", 'describe', 'the', 'following', 'image?', '0', 'means', 'the', 'word', 'and', 'image', 'have', 'no', 'connection', 'and', '100', 'means', 'the', 'word', 'perfectly', 'fits', 'the', 'image.', 'Answer', 'only', 'with', 'a', 'single', 'number', 'between', '0', 'and', '100.', 'Do', 'not', 'include', 'any', 'other', 'words.assistant', '30']\n",
      "The probability is:  30\n"
     ]
    },
    {
     "name": "stderr",
     "output_type": "stream",
     "text": [
      "Processing llama:  71%|███████   | 96/136 [15:08<06:03,  9.09s/it]"
     ]
    },
    {
     "name": "stdout",
     "output_type": "stream",
     "text": [
      "Model output: user\n",
      "\n",
      "On a scale from 0 to 100, how well does the abstract word 'taypay' describe the following image? 0 means the word and image have no connection and 100 means the word perfectly fits the image. Answer only with a single number between 0 and 100. Do not include any other words.assistant\n",
      "\n",
      "100\n",
      "The stripped generated text is:  ['user', 'On', 'a', 'scale', 'from', '0', 'to', '100,', 'how', 'well', 'does', 'the', 'abstract', 'word', \"'taypay'\", 'describe', 'the', 'following', 'image?', '0', 'means', 'the', 'word', 'and', 'image', 'have', 'no', 'connection', 'and', '100', 'means', 'the', 'word', 'perfectly', 'fits', 'the', 'image.', 'Answer', 'only', 'with', 'a', 'single', 'number', 'between', '0', 'and', '100.', 'Do', 'not', 'include', 'any', 'other', 'words.assistant', '100']\n",
      "The probability is:  100\n"
     ]
    },
    {
     "name": "stderr",
     "output_type": "stream",
     "text": [
      "Processing llama:  71%|███████▏  | 97/136 [15:15<05:34,  8.59s/it]"
     ]
    },
    {
     "name": "stdout",
     "output_type": "stream",
     "text": [
      "Model output: user\n",
      "\n",
      "On a scale from 0 to 100, how well does the abstract word'mohloo' describe the following image? 0 means the word and image have no connection and 100 means the word perfectly fits the image. Answer only with a single number between 0 and 100. Do not include any other words.assistant\n",
      "\n",
      "80\n",
      "The stripped generated text is:  ['user', 'On', 'a', 'scale', 'from', '0', 'to', '100,', 'how', 'well', 'does', 'the', 'abstract', \"word'mohloo'\", 'describe', 'the', 'following', 'image?', '0', 'means', 'the', 'word', 'and', 'image', 'have', 'no', 'connection', 'and', '100', 'means', 'the', 'word', 'perfectly', 'fits', 'the', 'image.', 'Answer', 'only', 'with', 'a', 'single', 'number', 'between', '0', 'and', '100.', 'Do', 'not', 'include', 'any', 'other', 'words.assistant', '80']\n",
      "The probability is:  80\n"
     ]
    },
    {
     "name": "stderr",
     "output_type": "stream",
     "text": [
      "Processing llama:  72%|███████▏  | 98/136 [15:23<05:13,  8.24s/it]"
     ]
    },
    {
     "name": "stdout",
     "output_type": "stream",
     "text": [
      "Model output: user\n",
      "\n",
      "On a scale from 0 to 100, how well does the abstract word 'lahmoo' describe the following image? 0 means the word and image have no connection and 100 means the word perfectly fits the image. Answer only with a single number between 0 and 100. Do not include any other words.assistant\n",
      "\n",
      "50\n",
      "The stripped generated text is:  ['user', 'On', 'a', 'scale', 'from', '0', 'to', '100,', 'how', 'well', 'does', 'the', 'abstract', 'word', \"'lahmoo'\", 'describe', 'the', 'following', 'image?', '0', 'means', 'the', 'word', 'and', 'image', 'have', 'no', 'connection', 'and', '100', 'means', 'the', 'word', 'perfectly', 'fits', 'the', 'image.', 'Answer', 'only', 'with', 'a', 'single', 'number', 'between', '0', 'and', '100.', 'Do', 'not', 'include', 'any', 'other', 'words.assistant', '50']\n",
      "The probability is:  50\n"
     ]
    },
    {
     "name": "stderr",
     "output_type": "stream",
     "text": [
      "Processing llama:  73%|███████▎  | 99/136 [15:30<04:55,  8.00s/it]"
     ]
    },
    {
     "name": "stdout",
     "output_type": "stream",
     "text": [
      "Model output: user\n",
      "\n",
      "On a scale from 0 to 100, how well does the abstract word 'kuhtuh' describe the following image? 0 means the word and image have no connection and 100 means the word perfectly fits the image. Answer only with a single number between 0 and 100. Do not include any other words.assistant\n",
      "\n",
      "20\n",
      "The stripped generated text is:  ['user', 'On', 'a', 'scale', 'from', '0', 'to', '100,', 'how', 'well', 'does', 'the', 'abstract', 'word', \"'kuhtuh'\", 'describe', 'the', 'following', 'image?', '0', 'means', 'the', 'word', 'and', 'image', 'have', 'no', 'connection', 'and', '100', 'means', 'the', 'word', 'perfectly', 'fits', 'the', 'image.', 'Answer', 'only', 'with', 'a', 'single', 'number', 'between', '0', 'and', '100.', 'Do', 'not', 'include', 'any', 'other', 'words.assistant', '20']\n",
      "The probability is:  20\n"
     ]
    },
    {
     "name": "stderr",
     "output_type": "stream",
     "text": [
      "Processing llama:  74%|███████▎  | 100/136 [15:37<04:41,  7.82s/it]"
     ]
    },
    {
     "name": "stdout",
     "output_type": "stream",
     "text": [
      "Model output: user\n",
      "\n",
      "On a scale from 0 to 100, how well does the abstract word 'taypay' describe the following image? 0 means the word and image have no connection and 100 means the word perfectly fits the image. Answer only with a single number between 0 and 100. Do not include any other words.assistant\n",
      "\n",
      "0\n",
      "The stripped generated text is:  ['user', 'On', 'a', 'scale', 'from', '0', 'to', '100,', 'how', 'well', 'does', 'the', 'abstract', 'word', \"'taypay'\", 'describe', 'the', 'following', 'image?', '0', 'means', 'the', 'word', 'and', 'image', 'have', 'no', 'connection', 'and', '100', 'means', 'the', 'word', 'perfectly', 'fits', 'the', 'image.', 'Answer', 'only', 'with', 'a', 'single', 'number', 'between', '0', 'and', '100.', 'Do', 'not', 'include', 'any', 'other', 'words.assistant', '0']\n",
      "The probability is:  0\n"
     ]
    },
    {
     "name": "stderr",
     "output_type": "stream",
     "text": [
      "Processing llama:  74%|███████▍  | 101/136 [15:54<06:05, 10.45s/it]"
     ]
    },
    {
     "name": "stdout",
     "output_type": "stream",
     "text": [
      "Model output: user\n",
      "\n",
      "On a scale from 0 to 100, how well does the abstract word'mohloo' describe the following image? 0 means the word and image have no connection and 100 means the word perfectly fits the image. Answer only with a single number between 0 and 100. Do not include any other words.assistant\n",
      "\n",
      "The answer is: \n",
      "The stripped generated text is:  ['user', 'On', 'a', 'scale', 'from', '0', 'to', '100,', 'how', 'well', 'does', 'the', 'abstract', \"word'mohloo'\", 'describe', 'the', 'following', 'image?', '0', 'means', 'the', 'word', 'and', 'image', 'have', 'no', 'connection', 'and', '100', 'means', 'the', 'word', 'perfectly', 'fits', 'the', 'image.', 'Answer', 'only', 'with', 'a', 'single', 'number', 'between', '0', 'and', '100.', 'Do', 'not', 'include', 'any', 'other', 'words.assistant', 'The', 'answer', 'is:']\n",
      "The probability is:  is:\n"
     ]
    },
    {
     "name": "stderr",
     "output_type": "stream",
     "text": [
      "Processing llama:  75%|███████▌  | 102/136 [16:04<05:55, 10.45s/it]"
     ]
    },
    {
     "name": "stdout",
     "output_type": "stream",
     "text": [
      "Model output: user\n",
      "\n",
      "On a scale from 0 to 100, how well does the abstract word 'lahmoo' describe the following image? 0 means the word and image have no connection and 100 means the word perfectly fits the image. Answer only with a single number between 0 and 100. Do not include any other words.assistant\n",
      "\n",
      "95.\n",
      "The stripped generated text is:  ['user', 'On', 'a', 'scale', 'from', '0', 'to', '100,', 'how', 'well', 'does', 'the', 'abstract', 'word', \"'lahmoo'\", 'describe', 'the', 'following', 'image?', '0', 'means', 'the', 'word', 'and', 'image', 'have', 'no', 'connection', 'and', '100', 'means', 'the', 'word', 'perfectly', 'fits', 'the', 'image.', 'Answer', 'only', 'with', 'a', 'single', 'number', 'between', '0', 'and', '100.', 'Do', 'not', 'include', 'any', 'other', 'words.assistant', '95.']\n",
      "The probability is:  95.\n"
     ]
    },
    {
     "name": "stderr",
     "output_type": "stream",
     "text": [
      "Processing llama:  76%|███████▌  | 103/136 [16:12<05:14,  9.54s/it]"
     ]
    },
    {
     "name": "stdout",
     "output_type": "stream",
     "text": [
      "Model output: user\n",
      "\n",
      "On a scale from 0 to 100, how well does the abstract word 'kuhtuh' describe the following image? 0 means the word and image have no connection and 100 means the word perfectly fits the image. Answer only with a single number between 0 and 100. Do not include any other words.assistant\n",
      "\n",
      "90\n",
      "The stripped generated text is:  ['user', 'On', 'a', 'scale', 'from', '0', 'to', '100,', 'how', 'well', 'does', 'the', 'abstract', 'word', \"'kuhtuh'\", 'describe', 'the', 'following', 'image?', '0', 'means', 'the', 'word', 'and', 'image', 'have', 'no', 'connection', 'and', '100', 'means', 'the', 'word', 'perfectly', 'fits', 'the', 'image.', 'Answer', 'only', 'with', 'a', 'single', 'number', 'between', '0', 'and', '100.', 'Do', 'not', 'include', 'any', 'other', 'words.assistant', '90']\n",
      "The probability is:  90\n"
     ]
    },
    {
     "name": "stderr",
     "output_type": "stream",
     "text": [
      "Processing llama:  76%|███████▋  | 104/136 [16:19<04:45,  8.92s/it]"
     ]
    },
    {
     "name": "stdout",
     "output_type": "stream",
     "text": [
      "Model output: user\n",
      "\n",
      "On a scale from 0 to 100, how well does the abstract word 'taypay' describe the following image? 0 means the word and image have no connection and 100 means the word perfectly fits the image. Answer only with a single number between 0 and 100. Do not include any other words.assistant\n",
      "\n",
      "90\n",
      "The stripped generated text is:  ['user', 'On', 'a', 'scale', 'from', '0', 'to', '100,', 'how', 'well', 'does', 'the', 'abstract', 'word', \"'taypay'\", 'describe', 'the', 'following', 'image?', '0', 'means', 'the', 'word', 'and', 'image', 'have', 'no', 'connection', 'and', '100', 'means', 'the', 'word', 'perfectly', 'fits', 'the', 'image.', 'Answer', 'only', 'with', 'a', 'single', 'number', 'between', '0', 'and', '100.', 'Do', 'not', 'include', 'any', 'other', 'words.assistant', '90']\n",
      "The probability is:  90\n"
     ]
    },
    {
     "name": "stderr",
     "output_type": "stream",
     "text": [
      "Processing llama:  77%|███████▋  | 105/136 [16:36<05:47, 11.21s/it]"
     ]
    },
    {
     "name": "stdout",
     "output_type": "stream",
     "text": [
      "Model output: user\n",
      "\n",
      "On a scale from 0 to 100, how well does the abstract word'mohloo' describe the following image? 0 means the word and image have no connection and 100 means the word perfectly fits the image. Answer only with a single number between 0 and 100. Do not include any other words.assistant\n",
      "\n",
      "The word'moh\n",
      "The stripped generated text is:  ['user', 'On', 'a', 'scale', 'from', '0', 'to', '100,', 'how', 'well', 'does', 'the', 'abstract', \"word'mohloo'\", 'describe', 'the', 'following', 'image?', '0', 'means', 'the', 'word', 'and', 'image', 'have', 'no', 'connection', 'and', '100', 'means', 'the', 'word', 'perfectly', 'fits', 'the', 'image.', 'Answer', 'only', 'with', 'a', 'single', 'number', 'between', '0', 'and', '100.', 'Do', 'not', 'include', 'any', 'other', 'words.assistant', 'The', \"word'moh\"]\n",
      "The probability is:  word'moh\n"
     ]
    },
    {
     "name": "stderr",
     "output_type": "stream",
     "text": [
      "Processing llama:  78%|███████▊  | 106/136 [16:43<05:02, 10.08s/it]"
     ]
    },
    {
     "name": "stdout",
     "output_type": "stream",
     "text": [
      "Model output: user\n",
      "\n",
      "On a scale from 0 to 100, how well does the abstract word 'lahmoo' describe the following image? 0 means the word and image have no connection and 100 means the word perfectly fits the image. Answer only with a single number between 0 and 100. Do not include any other words.assistant\n",
      "\n",
      "70\n",
      "The stripped generated text is:  ['user', 'On', 'a', 'scale', 'from', '0', 'to', '100,', 'how', 'well', 'does', 'the', 'abstract', 'word', \"'lahmoo'\", 'describe', 'the', 'following', 'image?', '0', 'means', 'the', 'word', 'and', 'image', 'have', 'no', 'connection', 'and', '100', 'means', 'the', 'word', 'perfectly', 'fits', 'the', 'image.', 'Answer', 'only', 'with', 'a', 'single', 'number', 'between', '0', 'and', '100.', 'Do', 'not', 'include', 'any', 'other', 'words.assistant', '70']\n",
      "The probability is:  70\n"
     ]
    },
    {
     "name": "stderr",
     "output_type": "stream",
     "text": [
      "Processing llama:  79%|███████▊  | 107/136 [16:51<04:29,  9.28s/it]"
     ]
    },
    {
     "name": "stdout",
     "output_type": "stream",
     "text": [
      "Model output: user\n",
      "\n",
      "On a scale from 0 to 100, how well does the abstract word 'kuhtuh' describe the following image? 0 means the word and image have no connection and 100 means the word perfectly fits the image. Answer only with a single number between 0 and 100. Do not include any other words.assistant\n",
      "\n",
      "60\n",
      "The stripped generated text is:  ['user', 'On', 'a', 'scale', 'from', '0', 'to', '100,', 'how', 'well', 'does', 'the', 'abstract', 'word', \"'kuhtuh'\", 'describe', 'the', 'following', 'image?', '0', 'means', 'the', 'word', 'and', 'image', 'have', 'no', 'connection', 'and', '100', 'means', 'the', 'word', 'perfectly', 'fits', 'the', 'image.', 'Answer', 'only', 'with', 'a', 'single', 'number', 'between', '0', 'and', '100.', 'Do', 'not', 'include', 'any', 'other', 'words.assistant', '60']\n",
      "The probability is:  60\n"
     ]
    },
    {
     "name": "stderr",
     "output_type": "stream",
     "text": [
      "Processing llama:  79%|███████▉  | 108/136 [17:07<05:20, 11.46s/it]"
     ]
    },
    {
     "name": "stdout",
     "output_type": "stream",
     "text": [
      "Model output: user\n",
      "\n",
      "On a scale from 0 to 100, how well does the abstract word 'taypay' describe the following image? 0 means the word and image have no connection and 100 means the word perfectly fits the image. Answer only with a single number between 0 and 100. Do not include any other words.assistant\n",
      "\n",
      "The word 'tay\n",
      "The stripped generated text is:  ['user', 'On', 'a', 'scale', 'from', '0', 'to', '100,', 'how', 'well', 'does', 'the', 'abstract', 'word', \"'taypay'\", 'describe', 'the', 'following', 'image?', '0', 'means', 'the', 'word', 'and', 'image', 'have', 'no', 'connection', 'and', '100', 'means', 'the', 'word', 'perfectly', 'fits', 'the', 'image.', 'Answer', 'only', 'with', 'a', 'single', 'number', 'between', '0', 'and', '100.', 'Do', 'not', 'include', 'any', 'other', 'words.assistant', 'The', 'word', \"'tay\"]\n",
      "The probability is:  'tay\n"
     ]
    },
    {
     "name": "stderr",
     "output_type": "stream",
     "text": [
      "Processing llama:  80%|████████  | 109/136 [17:15<04:37, 10.26s/it]"
     ]
    },
    {
     "name": "stdout",
     "output_type": "stream",
     "text": [
      "Model output: user\n",
      "\n",
      "On a scale from 0 to 100, how well does the abstract word'mohloo' describe the following image? 0 means the word and image have no connection and 100 means the word perfectly fits the image. Answer only with a single number between 0 and 100. Do not include any other words.assistant\n",
      "\n",
      "70\n",
      "The stripped generated text is:  ['user', 'On', 'a', 'scale', 'from', '0', 'to', '100,', 'how', 'well', 'does', 'the', 'abstract', \"word'mohloo'\", 'describe', 'the', 'following', 'image?', '0', 'means', 'the', 'word', 'and', 'image', 'have', 'no', 'connection', 'and', '100', 'means', 'the', 'word', 'perfectly', 'fits', 'the', 'image.', 'Answer', 'only', 'with', 'a', 'single', 'number', 'between', '0', 'and', '100.', 'Do', 'not', 'include', 'any', 'other', 'words.assistant', '70']\n",
      "The probability is:  70\n"
     ]
    },
    {
     "name": "stderr",
     "output_type": "stream",
     "text": [
      "Processing llama:  81%|████████  | 110/136 [17:25<04:28, 10.32s/it]"
     ]
    },
    {
     "name": "stdout",
     "output_type": "stream",
     "text": [
      "Model output: user\n",
      "\n",
      "On a scale from 0 to 100, how well does the abstract word 'lahmoo' describe the following image? 0 means the word and image have no connection and 100 means the word perfectly fits the image. Answer only with a single number between 0 and 100. Do not include any other words.assistant\n",
      "\n",
      "100.\n",
      "The stripped generated text is:  ['user', 'On', 'a', 'scale', 'from', '0', 'to', '100,', 'how', 'well', 'does', 'the', 'abstract', 'word', \"'lahmoo'\", 'describe', 'the', 'following', 'image?', '0', 'means', 'the', 'word', 'and', 'image', 'have', 'no', 'connection', 'and', '100', 'means', 'the', 'word', 'perfectly', 'fits', 'the', 'image.', 'Answer', 'only', 'with', 'a', 'single', 'number', 'between', '0', 'and', '100.', 'Do', 'not', 'include', 'any', 'other', 'words.assistant', '100.']\n",
      "The probability is:  100.\n"
     ]
    },
    {
     "name": "stderr",
     "output_type": "stream",
     "text": [
      "Processing llama:  82%|████████▏ | 111/136 [17:33<03:56,  9.46s/it]"
     ]
    },
    {
     "name": "stdout",
     "output_type": "stream",
     "text": [
      "Model output: user\n",
      "\n",
      "On a scale from 0 to 100, how well does the abstract word 'kuhtuh' describe the following image? 0 means the word and image have no connection and 100 means the word perfectly fits the image. Answer only with a single number between 0 and 100. Do not include any other words.assistant\n",
      "\n",
      "0\n",
      "The stripped generated text is:  ['user', 'On', 'a', 'scale', 'from', '0', 'to', '100,', 'how', 'well', 'does', 'the', 'abstract', 'word', \"'kuhtuh'\", 'describe', 'the', 'following', 'image?', '0', 'means', 'the', 'word', 'and', 'image', 'have', 'no', 'connection', 'and', '100', 'means', 'the', 'word', 'perfectly', 'fits', 'the', 'image.', 'Answer', 'only', 'with', 'a', 'single', 'number', 'between', '0', 'and', '100.', 'Do', 'not', 'include', 'any', 'other', 'words.assistant', '0']\n",
      "The probability is:  0\n"
     ]
    },
    {
     "name": "stderr",
     "output_type": "stream",
     "text": [
      "Processing llama:  82%|████████▏ | 112/136 [17:40<03:32,  8.86s/it]"
     ]
    },
    {
     "name": "stdout",
     "output_type": "stream",
     "text": [
      "Model output: user\n",
      "\n",
      "On a scale from 0 to 100, how well does the abstract word 'taypay' describe the following image? 0 means the word and image have no connection and 100 means the word perfectly fits the image. Answer only with a single number between 0 and 100. Do not include any other words.assistant\n",
      "\n",
      "99\n",
      "The stripped generated text is:  ['user', 'On', 'a', 'scale', 'from', '0', 'to', '100,', 'how', 'well', 'does', 'the', 'abstract', 'word', \"'taypay'\", 'describe', 'the', 'following', 'image?', '0', 'means', 'the', 'word', 'and', 'image', 'have', 'no', 'connection', 'and', '100', 'means', 'the', 'word', 'perfectly', 'fits', 'the', 'image.', 'Answer', 'only', 'with', 'a', 'single', 'number', 'between', '0', 'and', '100.', 'Do', 'not', 'include', 'any', 'other', 'words.assistant', '99']\n",
      "The probability is:  99\n"
     ]
    },
    {
     "name": "stderr",
     "output_type": "stream",
     "text": [
      "Processing llama:  83%|████████▎ | 113/136 [17:48<03:13,  8.42s/it]"
     ]
    },
    {
     "name": "stdout",
     "output_type": "stream",
     "text": [
      "Model output: user\n",
      "\n",
      "On a scale from 0 to 100, how well does the abstract word'mohloo' describe the following image? 0 means the word and image have no connection and 100 means the word perfectly fits the image. Answer only with a single number between 0 and 100. Do not include any other words.assistant\n",
      "\n",
      "0\n",
      "The stripped generated text is:  ['user', 'On', 'a', 'scale', 'from', '0', 'to', '100,', 'how', 'well', 'does', 'the', 'abstract', \"word'mohloo'\", 'describe', 'the', 'following', 'image?', '0', 'means', 'the', 'word', 'and', 'image', 'have', 'no', 'connection', 'and', '100', 'means', 'the', 'word', 'perfectly', 'fits', 'the', 'image.', 'Answer', 'only', 'with', 'a', 'single', 'number', 'between', '0', 'and', '100.', 'Do', 'not', 'include', 'any', 'other', 'words.assistant', '0']\n",
      "The probability is:  0\n"
     ]
    },
    {
     "name": "stderr",
     "output_type": "stream",
     "text": [
      "Processing llama:  84%|████████▍ | 114/136 [17:55<02:58,  8.12s/it]"
     ]
    },
    {
     "name": "stdout",
     "output_type": "stream",
     "text": [
      "Model output: user\n",
      "\n",
      "On a scale from 0 to 100, how well does the abstract word 'lahmoo' describe the following image? 0 means the word and image have no connection and 100 means the word perfectly fits the image. Answer only with a single number between 0 and 100. Do not include any other words.assistant\n",
      "\n",
      "0\n",
      "The stripped generated text is:  ['user', 'On', 'a', 'scale', 'from', '0', 'to', '100,', 'how', 'well', 'does', 'the', 'abstract', 'word', \"'lahmoo'\", 'describe', 'the', 'following', 'image?', '0', 'means', 'the', 'word', 'and', 'image', 'have', 'no', 'connection', 'and', '100', 'means', 'the', 'word', 'perfectly', 'fits', 'the', 'image.', 'Answer', 'only', 'with', 'a', 'single', 'number', 'between', '0', 'and', '100.', 'Do', 'not', 'include', 'any', 'other', 'words.assistant', '0']\n",
      "The probability is:  0\n"
     ]
    },
    {
     "name": "stderr",
     "output_type": "stream",
     "text": [
      "Processing llama:  85%|████████▍ | 115/136 [18:02<02:46,  7.91s/it]"
     ]
    },
    {
     "name": "stdout",
     "output_type": "stream",
     "text": [
      "Model output: user\n",
      "\n",
      "On a scale from 0 to 100, how well does the abstract word 'kuhtuh' describe the following image? 0 means the word and image have no connection and 100 means the word perfectly fits the image. Answer only with a single number between 0 and 100. Do not include any other words.assistant\n",
      "\n",
      "0\n",
      "The stripped generated text is:  ['user', 'On', 'a', 'scale', 'from', '0', 'to', '100,', 'how', 'well', 'does', 'the', 'abstract', 'word', \"'kuhtuh'\", 'describe', 'the', 'following', 'image?', '0', 'means', 'the', 'word', 'and', 'image', 'have', 'no', 'connection', 'and', '100', 'means', 'the', 'word', 'perfectly', 'fits', 'the', 'image.', 'Answer', 'only', 'with', 'a', 'single', 'number', 'between', '0', 'and', '100.', 'Do', 'not', 'include', 'any', 'other', 'words.assistant', '0']\n",
      "The probability is:  0\n"
     ]
    },
    {
     "name": "stderr",
     "output_type": "stream",
     "text": [
      "Processing llama:  85%|████████▌ | 116/136 [18:10<02:35,  7.77s/it]"
     ]
    },
    {
     "name": "stdout",
     "output_type": "stream",
     "text": [
      "Model output: user\n",
      "\n",
      "On a scale from 0 to 100, how well does the abstract word 'taypay' describe the following image? 0 means the word and image have no connection and 100 means the word perfectly fits the image. Answer only with a single number between 0 and 100. Do not include any other words.assistant\n",
      "\n",
      "0\n",
      "The stripped generated text is:  ['user', 'On', 'a', 'scale', 'from', '0', 'to', '100,', 'how', 'well', 'does', 'the', 'abstract', 'word', \"'taypay'\", 'describe', 'the', 'following', 'image?', '0', 'means', 'the', 'word', 'and', 'image', 'have', 'no', 'connection', 'and', '100', 'means', 'the', 'word', 'perfectly', 'fits', 'the', 'image.', 'Answer', 'only', 'with', 'a', 'single', 'number', 'between', '0', 'and', '100.', 'Do', 'not', 'include', 'any', 'other', 'words.assistant', '0']\n",
      "The probability is:  0\n"
     ]
    },
    {
     "name": "stderr",
     "output_type": "stream",
     "text": [
      "Processing llama:  86%|████████▌ | 117/136 [18:17<02:25,  7.67s/it]"
     ]
    },
    {
     "name": "stdout",
     "output_type": "stream",
     "text": [
      "Model output: user\n",
      "\n",
      "On a scale from 0 to 100, how well does the abstract word'mohloo' describe the following image? 0 means the word and image have no connection and 100 means the word perfectly fits the image. Answer only with a single number between 0 and 100. Do not include any other words.assistant\n",
      "\n",
      "25\n",
      "The stripped generated text is:  ['user', 'On', 'a', 'scale', 'from', '0', 'to', '100,', 'how', 'well', 'does', 'the', 'abstract', \"word'mohloo'\", 'describe', 'the', 'following', 'image?', '0', 'means', 'the', 'word', 'and', 'image', 'have', 'no', 'connection', 'and', '100', 'means', 'the', 'word', 'perfectly', 'fits', 'the', 'image.', 'Answer', 'only', 'with', 'a', 'single', 'number', 'between', '0', 'and', '100.', 'Do', 'not', 'include', 'any', 'other', 'words.assistant', '25']\n",
      "The probability is:  25\n"
     ]
    },
    {
     "name": "stderr",
     "output_type": "stream",
     "text": [
      "Processing llama:  87%|████████▋ | 118/136 [18:25<02:16,  7.60s/it]"
     ]
    },
    {
     "name": "stdout",
     "output_type": "stream",
     "text": [
      "Model output: user\n",
      "\n",
      "On a scale from 0 to 100, how well does the abstract word 'lahmoo' describe the following image? 0 means the word and image have no connection and 100 means the word perfectly fits the image. Answer only with a single number between 0 and 100. Do not include any other words.assistant\n",
      "\n",
      "35\n",
      "The stripped generated text is:  ['user', 'On', 'a', 'scale', 'from', '0', 'to', '100,', 'how', 'well', 'does', 'the', 'abstract', 'word', \"'lahmoo'\", 'describe', 'the', 'following', 'image?', '0', 'means', 'the', 'word', 'and', 'image', 'have', 'no', 'connection', 'and', '100', 'means', 'the', 'word', 'perfectly', 'fits', 'the', 'image.', 'Answer', 'only', 'with', 'a', 'single', 'number', 'between', '0', 'and', '100.', 'Do', 'not', 'include', 'any', 'other', 'words.assistant', '35']\n",
      "The probability is:  35\n"
     ]
    },
    {
     "name": "stderr",
     "output_type": "stream",
     "text": [
      "Processing llama:  88%|████████▊ | 119/136 [18:32<02:08,  7.54s/it]"
     ]
    },
    {
     "name": "stdout",
     "output_type": "stream",
     "text": [
      "Model output: user\n",
      "\n",
      "On a scale from 0 to 100, how well does the abstract word 'kuhtuh' describe the following image? 0 means the word and image have no connection and 100 means the word perfectly fits the image. Answer only with a single number between 0 and 100. Do not include any other words.assistant\n",
      "\n",
      "40\n",
      "The stripped generated text is:  ['user', 'On', 'a', 'scale', 'from', '0', 'to', '100,', 'how', 'well', 'does', 'the', 'abstract', 'word', \"'kuhtuh'\", 'describe', 'the', 'following', 'image?', '0', 'means', 'the', 'word', 'and', 'image', 'have', 'no', 'connection', 'and', '100', 'means', 'the', 'word', 'perfectly', 'fits', 'the', 'image.', 'Answer', 'only', 'with', 'a', 'single', 'number', 'between', '0', 'and', '100.', 'Do', 'not', 'include', 'any', 'other', 'words.assistant', '40']\n",
      "The probability is:  40\n"
     ]
    },
    {
     "name": "stderr",
     "output_type": "stream",
     "text": [
      "Processing llama:  88%|████████▊ | 120/136 [18:40<02:00,  7.51s/it]"
     ]
    },
    {
     "name": "stdout",
     "output_type": "stream",
     "text": [
      "Model output: user\n",
      "\n",
      "On a scale from 0 to 100, how well does the abstract word 'taypay' describe the following image? 0 means the word and image have no connection and 100 means the word perfectly fits the image. Answer only with a single number between 0 and 100. Do not include any other words.assistant\n",
      "\n",
      "90\n",
      "The stripped generated text is:  ['user', 'On', 'a', 'scale', 'from', '0', 'to', '100,', 'how', 'well', 'does', 'the', 'abstract', 'word', \"'taypay'\", 'describe', 'the', 'following', 'image?', '0', 'means', 'the', 'word', 'and', 'image', 'have', 'no', 'connection', 'and', '100', 'means', 'the', 'word', 'perfectly', 'fits', 'the', 'image.', 'Answer', 'only', 'with', 'a', 'single', 'number', 'between', '0', 'and', '100.', 'Do', 'not', 'include', 'any', 'other', 'words.assistant', '90']\n",
      "The probability is:  90\n"
     ]
    },
    {
     "name": "stderr",
     "output_type": "stream",
     "text": [
      "Processing llama:  89%|████████▉ | 121/136 [18:50<02:06,  8.40s/it]"
     ]
    },
    {
     "name": "stdout",
     "output_type": "stream",
     "text": [
      "Model output: user\n",
      "\n",
      "On a scale from 0 to 100, how well does the abstract word'mohloo' describe the following image? 0 means the word and image have no connection and 100 means the word perfectly fits the image. Answer only with a single number between 0 and 100. Do not include any other words.assistant\n",
      "\n",
      "0.\n",
      "The stripped generated text is:  ['user', 'On', 'a', 'scale', 'from', '0', 'to', '100,', 'how', 'well', 'does', 'the', 'abstract', \"word'mohloo'\", 'describe', 'the', 'following', 'image?', '0', 'means', 'the', 'word', 'and', 'image', 'have', 'no', 'connection', 'and', '100', 'means', 'the', 'word', 'perfectly', 'fits', 'the', 'image.', 'Answer', 'only', 'with', 'a', 'single', 'number', 'between', '0', 'and', '100.', 'Do', 'not', 'include', 'any', 'other', 'words.assistant', '0.']\n",
      "The probability is:  0.\n"
     ]
    },
    {
     "name": "stderr",
     "output_type": "stream",
     "text": [
      "Processing llama:  90%|████████▉ | 122/136 [18:57<01:53,  8.11s/it]"
     ]
    },
    {
     "name": "stdout",
     "output_type": "stream",
     "text": [
      "Model output: user\n",
      "\n",
      "On a scale from 0 to 100, how well does the abstract word 'lahmoo' describe the following image? 0 means the word and image have no connection and 100 means the word perfectly fits the image. Answer only with a single number between 0 and 100. Do not include any other words.assistant\n",
      "\n",
      "0\n",
      "The stripped generated text is:  ['user', 'On', 'a', 'scale', 'from', '0', 'to', '100,', 'how', 'well', 'does', 'the', 'abstract', 'word', \"'lahmoo'\", 'describe', 'the', 'following', 'image?', '0', 'means', 'the', 'word', 'and', 'image', 'have', 'no', 'connection', 'and', '100', 'means', 'the', 'word', 'perfectly', 'fits', 'the', 'image.', 'Answer', 'only', 'with', 'a', 'single', 'number', 'between', '0', 'and', '100.', 'Do', 'not', 'include', 'any', 'other', 'words.assistant', '0']\n",
      "The probability is:  0\n"
     ]
    },
    {
     "name": "stderr",
     "output_type": "stream",
     "text": [
      "Processing llama:  90%|█████████ | 123/136 [19:05<01:42,  7.91s/it]"
     ]
    },
    {
     "name": "stdout",
     "output_type": "stream",
     "text": [
      "Model output: user\n",
      "\n",
      "On a scale from 0 to 100, how well does the abstract word 'kuhtuh' describe the following image? 0 means the word and image have no connection and 100 means the word perfectly fits the image. Answer only with a single number between 0 and 100. Do not include any other words.assistant\n",
      "\n",
      "0\n",
      "The stripped generated text is:  ['user', 'On', 'a', 'scale', 'from', '0', 'to', '100,', 'how', 'well', 'does', 'the', 'abstract', 'word', \"'kuhtuh'\", 'describe', 'the', 'following', 'image?', '0', 'means', 'the', 'word', 'and', 'image', 'have', 'no', 'connection', 'and', '100', 'means', 'the', 'word', 'perfectly', 'fits', 'the', 'image.', 'Answer', 'only', 'with', 'a', 'single', 'number', 'between', '0', 'and', '100.', 'Do', 'not', 'include', 'any', 'other', 'words.assistant', '0']\n",
      "The probability is:  0\n"
     ]
    },
    {
     "name": "stderr",
     "output_type": "stream",
     "text": [
      "Processing llama:  91%|█████████ | 124/136 [19:12<01:33,  7.76s/it]"
     ]
    },
    {
     "name": "stdout",
     "output_type": "stream",
     "text": [
      "Model output: user\n",
      "\n",
      "On a scale from 0 to 100, how well does the abstract word 'taypay' describe the following image? 0 means the word and image have no connection and 100 means the word perfectly fits the image. Answer only with a single number between 0 and 100. Do not include any other words.assistant\n",
      "\n",
      "0\n",
      "The stripped generated text is:  ['user', 'On', 'a', 'scale', 'from', '0', 'to', '100,', 'how', 'well', 'does', 'the', 'abstract', 'word', \"'taypay'\", 'describe', 'the', 'following', 'image?', '0', 'means', 'the', 'word', 'and', 'image', 'have', 'no', 'connection', 'and', '100', 'means', 'the', 'word', 'perfectly', 'fits', 'the', 'image.', 'Answer', 'only', 'with', 'a', 'single', 'number', 'between', '0', 'and', '100.', 'Do', 'not', 'include', 'any', 'other', 'words.assistant', '0']\n",
      "The probability is:  0\n"
     ]
    },
    {
     "name": "stderr",
     "output_type": "stream",
     "text": [
      "Processing llama:  92%|█████████▏| 125/136 [19:20<01:24,  7.67s/it]"
     ]
    },
    {
     "name": "stdout",
     "output_type": "stream",
     "text": [
      "Model output: user\n",
      "\n",
      "On a scale from 0 to 100, how well does the abstract word'mohloo' describe the following image? 0 means the word and image have no connection and 100 means the word perfectly fits the image. Answer only with a single number between 0 and 100. Do not include any other words.assistant\n",
      "\n",
      "40\n",
      "The stripped generated text is:  ['user', 'On', 'a', 'scale', 'from', '0', 'to', '100,', 'how', 'well', 'does', 'the', 'abstract', \"word'mohloo'\", 'describe', 'the', 'following', 'image?', '0', 'means', 'the', 'word', 'and', 'image', 'have', 'no', 'connection', 'and', '100', 'means', 'the', 'word', 'perfectly', 'fits', 'the', 'image.', 'Answer', 'only', 'with', 'a', 'single', 'number', 'between', '0', 'and', '100.', 'Do', 'not', 'include', 'any', 'other', 'words.assistant', '40']\n",
      "The probability is:  40\n"
     ]
    },
    {
     "name": "stderr",
     "output_type": "stream",
     "text": [
      "Processing llama:  93%|█████████▎| 126/136 [19:27<01:15,  7.59s/it]"
     ]
    },
    {
     "name": "stdout",
     "output_type": "stream",
     "text": [
      "Model output: user\n",
      "\n",
      "On a scale from 0 to 100, how well does the abstract word 'lahmoo' describe the following image? 0 means the word and image have no connection and 100 means the word perfectly fits the image. Answer only with a single number between 0 and 100. Do not include any other words.assistant\n",
      "\n",
      "20\n",
      "The stripped generated text is:  ['user', 'On', 'a', 'scale', 'from', '0', 'to', '100,', 'how', 'well', 'does', 'the', 'abstract', 'word', \"'lahmoo'\", 'describe', 'the', 'following', 'image?', '0', 'means', 'the', 'word', 'and', 'image', 'have', 'no', 'connection', 'and', '100', 'means', 'the', 'word', 'perfectly', 'fits', 'the', 'image.', 'Answer', 'only', 'with', 'a', 'single', 'number', 'between', '0', 'and', '100.', 'Do', 'not', 'include', 'any', 'other', 'words.assistant', '20']\n",
      "The probability is:  20\n"
     ]
    },
    {
     "name": "stderr",
     "output_type": "stream",
     "text": [
      "Processing llama:  93%|█████████▎| 127/136 [19:35<01:07,  7.56s/it]"
     ]
    },
    {
     "name": "stdout",
     "output_type": "stream",
     "text": [
      "Model output: user\n",
      "\n",
      "On a scale from 0 to 100, how well does the abstract word 'kuhtuh' describe the following image? 0 means the word and image have no connection and 100 means the word perfectly fits the image. Answer only with a single number between 0 and 100. Do not include any other words.assistant\n",
      "\n",
      "40\n",
      "The stripped generated text is:  ['user', 'On', 'a', 'scale', 'from', '0', 'to', '100,', 'how', 'well', 'does', 'the', 'abstract', 'word', \"'kuhtuh'\", 'describe', 'the', 'following', 'image?', '0', 'means', 'the', 'word', 'and', 'image', 'have', 'no', 'connection', 'and', '100', 'means', 'the', 'word', 'perfectly', 'fits', 'the', 'image.', 'Answer', 'only', 'with', 'a', 'single', 'number', 'between', '0', 'and', '100.', 'Do', 'not', 'include', 'any', 'other', 'words.assistant', '40']\n",
      "The probability is:  40\n"
     ]
    },
    {
     "name": "stderr",
     "output_type": "stream",
     "text": [
      "Processing llama:  94%|█████████▍| 128/136 [19:42<01:00,  7.51s/it]"
     ]
    },
    {
     "name": "stdout",
     "output_type": "stream",
     "text": [
      "Model output: user\n",
      "\n",
      "On a scale from 0 to 100, how well does the abstract word 'taypay' describe the following image? 0 means the word and image have no connection and 100 means the word perfectly fits the image. Answer only with a single number between 0 and 100. Do not include any other words.assistant\n",
      "\n",
      "20\n",
      "The stripped generated text is:  ['user', 'On', 'a', 'scale', 'from', '0', 'to', '100,', 'how', 'well', 'does', 'the', 'abstract', 'word', \"'taypay'\", 'describe', 'the', 'following', 'image?', '0', 'means', 'the', 'word', 'and', 'image', 'have', 'no', 'connection', 'and', '100', 'means', 'the', 'word', 'perfectly', 'fits', 'the', 'image.', 'Answer', 'only', 'with', 'a', 'single', 'number', 'between', '0', 'and', '100.', 'Do', 'not', 'include', 'any', 'other', 'words.assistant', '20']\n",
      "The probability is:  20\n"
     ]
    },
    {
     "name": "stderr",
     "output_type": "stream",
     "text": [
      "Processing llama:  95%|█████████▍| 129/136 [19:49<00:52,  7.49s/it]"
     ]
    },
    {
     "name": "stdout",
     "output_type": "stream",
     "text": [
      "Model output: user\n",
      "\n",
      "On a scale from 0 to 100, how well does the abstract word'mohloo' describe the following image? 0 means the word and image have no connection and 100 means the word perfectly fits the image. Answer only with a single number between 0 and 100. Do not include any other words.assistant\n",
      "\n",
      "0\n",
      "The stripped generated text is:  ['user', 'On', 'a', 'scale', 'from', '0', 'to', '100,', 'how', 'well', 'does', 'the', 'abstract', \"word'mohloo'\", 'describe', 'the', 'following', 'image?', '0', 'means', 'the', 'word', 'and', 'image', 'have', 'no', 'connection', 'and', '100', 'means', 'the', 'word', 'perfectly', 'fits', 'the', 'image.', 'Answer', 'only', 'with', 'a', 'single', 'number', 'between', '0', 'and', '100.', 'Do', 'not', 'include', 'any', 'other', 'words.assistant', '0']\n",
      "The probability is:  0\n"
     ]
    },
    {
     "name": "stderr",
     "output_type": "stream",
     "text": [
      "Processing llama:  96%|█████████▌| 130/136 [19:57<00:44,  7.47s/it]"
     ]
    },
    {
     "name": "stdout",
     "output_type": "stream",
     "text": [
      "Model output: user\n",
      "\n",
      "On a scale from 0 to 100, how well does the abstract word 'lahmoo' describe the following image? 0 means the word and image have no connection and 100 means the word perfectly fits the image. Answer only with a single number between 0 and 100. Do not include any other words.assistant\n",
      "\n",
      "10\n",
      "The stripped generated text is:  ['user', 'On', 'a', 'scale', 'from', '0', 'to', '100,', 'how', 'well', 'does', 'the', 'abstract', 'word', \"'lahmoo'\", 'describe', 'the', 'following', 'image?', '0', 'means', 'the', 'word', 'and', 'image', 'have', 'no', 'connection', 'and', '100', 'means', 'the', 'word', 'perfectly', 'fits', 'the', 'image.', 'Answer', 'only', 'with', 'a', 'single', 'number', 'between', '0', 'and', '100.', 'Do', 'not', 'include', 'any', 'other', 'words.assistant', '10']\n",
      "The probability is:  10\n"
     ]
    },
    {
     "name": "stderr",
     "output_type": "stream",
     "text": [
      "Processing llama:  96%|█████████▋| 131/136 [20:04<00:37,  7.45s/it]"
     ]
    },
    {
     "name": "stdout",
     "output_type": "stream",
     "text": [
      "Model output: user\n",
      "\n",
      "On a scale from 0 to 100, how well does the abstract word 'kuhtuh' describe the following image? 0 means the word and image have no connection and 100 means the word perfectly fits the image. Answer only with a single number between 0 and 100. Do not include any other words.assistant\n",
      "\n",
      "0\n",
      "The stripped generated text is:  ['user', 'On', 'a', 'scale', 'from', '0', 'to', '100,', 'how', 'well', 'does', 'the', 'abstract', 'word', \"'kuhtuh'\", 'describe', 'the', 'following', 'image?', '0', 'means', 'the', 'word', 'and', 'image', 'have', 'no', 'connection', 'and', '100', 'means', 'the', 'word', 'perfectly', 'fits', 'the', 'image.', 'Answer', 'only', 'with', 'a', 'single', 'number', 'between', '0', 'and', '100.', 'Do', 'not', 'include', 'any', 'other', 'words.assistant', '0']\n",
      "The probability is:  0\n"
     ]
    },
    {
     "name": "stderr",
     "output_type": "stream",
     "text": [
      "Processing llama:  97%|█████████▋| 132/136 [20:15<00:33,  8.36s/it]"
     ]
    },
    {
     "name": "stdout",
     "output_type": "stream",
     "text": [
      "Model output: user\n",
      "\n",
      "On a scale from 0 to 100, how well does the abstract word 'taypay' describe the following image? 0 means the word and image have no connection and 100 means the word perfectly fits the image. Answer only with a single number between 0 and 100. Do not include any other words.assistant\n",
      "\n",
      "0.\n",
      "The stripped generated text is:  ['user', 'On', 'a', 'scale', 'from', '0', 'to', '100,', 'how', 'well', 'does', 'the', 'abstract', 'word', \"'taypay'\", 'describe', 'the', 'following', 'image?', '0', 'means', 'the', 'word', 'and', 'image', 'have', 'no', 'connection', 'and', '100', 'means', 'the', 'word', 'perfectly', 'fits', 'the', 'image.', 'Answer', 'only', 'with', 'a', 'single', 'number', 'between', '0', 'and', '100.', 'Do', 'not', 'include', 'any', 'other', 'words.assistant', '0.']\n",
      "The probability is:  0.\n"
     ]
    },
    {
     "name": "stderr",
     "output_type": "stream",
     "text": [
      "Processing llama:  98%|█████████▊| 133/136 [20:22<00:24,  8.08s/it]"
     ]
    },
    {
     "name": "stdout",
     "output_type": "stream",
     "text": [
      "Model output: user\n",
      "\n",
      "On a scale from 0 to 100, how well does the abstract word'mohloo' describe the following image? 0 means the word and image have no connection and 100 means the word perfectly fits the image. Answer only with a single number between 0 and 100. Do not include any other words.assistant\n",
      "\n",
      "0\n",
      "The stripped generated text is:  ['user', 'On', 'a', 'scale', 'from', '0', 'to', '100,', 'how', 'well', 'does', 'the', 'abstract', \"word'mohloo'\", 'describe', 'the', 'following', 'image?', '0', 'means', 'the', 'word', 'and', 'image', 'have', 'no', 'connection', 'and', '100', 'means', 'the', 'word', 'perfectly', 'fits', 'the', 'image.', 'Answer', 'only', 'with', 'a', 'single', 'number', 'between', '0', 'and', '100.', 'Do', 'not', 'include', 'any', 'other', 'words.assistant', '0']\n",
      "The probability is:  0\n"
     ]
    },
    {
     "name": "stderr",
     "output_type": "stream",
     "text": [
      "Processing llama:  99%|█████████▊| 134/136 [20:30<00:15,  7.88s/it]"
     ]
    },
    {
     "name": "stdout",
     "output_type": "stream",
     "text": [
      "Model output: user\n",
      "\n",
      "On a scale from 0 to 100, how well does the abstract word 'lahmoo' describe the following image? 0 means the word and image have no connection and 100 means the word perfectly fits the image. Answer only with a single number between 0 and 100. Do not include any other words.assistant\n",
      "\n",
      "0\n",
      "The stripped generated text is:  ['user', 'On', 'a', 'scale', 'from', '0', 'to', '100,', 'how', 'well', 'does', 'the', 'abstract', 'word', \"'lahmoo'\", 'describe', 'the', 'following', 'image?', '0', 'means', 'the', 'word', 'and', 'image', 'have', 'no', 'connection', 'and', '100', 'means', 'the', 'word', 'perfectly', 'fits', 'the', 'image.', 'Answer', 'only', 'with', 'a', 'single', 'number', 'between', '0', 'and', '100.', 'Do', 'not', 'include', 'any', 'other', 'words.assistant', '0']\n",
      "The probability is:  0\n"
     ]
    },
    {
     "name": "stderr",
     "output_type": "stream",
     "text": [
      "Processing llama:  99%|█████████▉| 135/136 [20:37<00:07,  7.74s/it]"
     ]
    },
    {
     "name": "stdout",
     "output_type": "stream",
     "text": [
      "Model output: user\n",
      "\n",
      "On a scale from 0 to 100, how well does the abstract word 'kuhtuh' describe the following image? 0 means the word and image have no connection and 100 means the word perfectly fits the image. Answer only with a single number between 0 and 100. Do not include any other words.assistant\n",
      "\n",
      "0\n",
      "The stripped generated text is:  ['user', 'On', 'a', 'scale', 'from', '0', 'to', '100,', 'how', 'well', 'does', 'the', 'abstract', 'word', \"'kuhtuh'\", 'describe', 'the', 'following', 'image?', '0', 'means', 'the', 'word', 'and', 'image', 'have', 'no', 'connection', 'and', '100', 'means', 'the', 'word', 'perfectly', 'fits', 'the', 'image.', 'Answer', 'only', 'with', 'a', 'single', 'number', 'between', '0', 'and', '100.', 'Do', 'not', 'include', 'any', 'other', 'words.assistant', '0']\n",
      "The probability is:  0\n"
     ]
    },
    {
     "name": "stderr",
     "output_type": "stream",
     "text": [
      "Processing llama: 100%|██████████| 136/136 [20:44<00:00,  9.15s/it]"
     ]
    },
    {
     "name": "stdout",
     "output_type": "stream",
     "text": [
      "Model output: user\n",
      "\n",
      "On a scale from 0 to 100, how well does the abstract word 'taypay' describe the following image? 0 means the word and image have no connection and 100 means the word perfectly fits the image. Answer only with a single number between 0 and 100. Do not include any other words.assistant\n",
      "\n",
      "0\n",
      "The stripped generated text is:  ['user', 'On', 'a', 'scale', 'from', '0', 'to', '100,', 'how', 'well', 'does', 'the', 'abstract', 'word', \"'taypay'\", 'describe', 'the', 'following', 'image?', '0', 'means', 'the', 'word', 'and', 'image', 'have', 'no', 'connection', 'and', '100', 'means', 'the', 'word', 'perfectly', 'fits', 'the', 'image.', 'Answer', 'only', 'with', 'a', 'single', 'number', 'between', '0', 'and', '100.', 'Do', 'not', 'include', 'any', 'other', 'words.assistant', '0']\n",
      "The probability is:  0\n",
      "Analysis complete. Results saved to CSV files.\n"
     ]
    },
    {
     "name": "stderr",
     "output_type": "stream",
     "text": [
      "\n"
     ]
    }
   ],
   "source": [
    "class CrossModalAnalyzer:\n",
    "    def __init__(self, image_folder=\"images\"):\n",
    "        \"\"\"\n",
    "        Initialize the analyzer with the path to the image folder.\n",
    "        \n",
    "        Args:\n",
    "            image_folder: Path to the folder containing images\n",
    "        \"\"\"\n",
    "        self.image_folder = image_folder\n",
    "        self.results = []\n",
    "        self.models = {}\n",
    "        \n",
    "    def load_model(self, model_name):\n",
    "        \"\"\"\n",
    "        Load a multimodal model.\n",
    "        \n",
    "        Args:\n",
    "            model_name: Name of the model to load ('llama')\n",
    "        \"\"\"\n",
    "        if model_name == 'llama':\n",
    "            processor = AutoProcessor.from_pretrained(\"meta-llama/Llama-3.2-11B-Vision-Instruct\")\n",
    "            model = MllamaForConditionalGeneration.from_pretrained(\n",
    "                \"meta-llama/Llama-3.2-11B-Vision-Instruct\",\n",
    "                torch_dtype=torch.float16,\n",
    "                device_map=\"auto\"\n",
    "            )\n",
    "            self.models['llama'] = {'model': model, 'processor': processor}\n",
    "        else:\n",
    "            raise ValueError(f\"Unsupported model: {model_name}, Model not Found.\")\n",
    "\n",
    "    def extract_image_type_from_filename(self, filename):\n",
    "        \"\"\"\n",
    "        Extract the image type (curved/jagged) from the filename.\n",
    "        \n",
    "        Args:\n",
    "            filename: Image filename\n",
    "            \n",
    "        Returns:\n",
    "            Image type as a string ('curved' or 'jagged')\n",
    "        \"\"\"\n",
    "        filename_lower = filename.lower()\n",
    "        \n",
    "        if any(shape in filename_lower for shape in ['curved', 'round', 'bouba', 'maluma']):\n",
    "            return 'curved'\n",
    "        elif any(shape in filename_lower for shape in ['jagged', 'sharp', 'kiki', 'takete']):\n",
    "            return 'jagged'\n",
    "        else:\n",
    "            # * Exta support if more data is added\n",
    "            # If no clear indicator, try to find using regex for more complex patterns\n",
    "            # For example, if the filename format is like \"img_curved_001.jpg\"\n",
    "            match = re.search(r'_(curved|jagged|round|sharp)_', filename_lower)\n",
    "            if match:\n",
    "                shape_group = match.group(1)\n",
    "                if shape_group in ['curved', 'round']:\n",
    "                    return 'curved'\n",
    "                elif shape_group in ['jagged', 'sharp']:\n",
    "                    return 'jagged'\n",
    "            \n",
    "            # If still no match, raise an error or use a default\n",
    "            raise ValueError(f\"Cannot determine image type from filename: {filename}\")\n",
    "    \n",
    "    def scan_image_folder(self):\n",
    "        \"\"\"\n",
    "        Scan the image folder and extract image paths and types.\n",
    "        \n",
    "        Returns:\n",
    "            Tuple of (image_paths, image_types)\n",
    "        \"\"\"\n",
    "        image_paths = []\n",
    "        image_types = []\n",
    "        \n",
    "        for filename in os.listdir(self.image_folder):\n",
    "            if filename.lower().endswith(('.png', '.jpg', '.jpeg', '.bmp', '.gif')):\n",
    "                image_path = os.path.join(self.image_folder, filename)\n",
    "                \n",
    "                try:\n",
    "                    image_type = self.extract_image_type_from_filename(filename)\n",
    "                    \n",
    "                    image_paths.append(image_path)\n",
    "                    image_types.append(image_type)\n",
    "                except ValueError as e:\n",
    "                    print(f\"Warning: {str(e)}\")\n",
    "        \n",
    "        return image_paths, image_types\n",
    "    \n",
    "    def prepare_dataset(self, text_prompts, text_types, image_paths=None, image_types=None):\n",
    "        \"\"\"\n",
    "        Prepare dataset of all possible image-text pairs.\n",
    "        \n",
    "        Args:\n",
    "            text_prompts: List of text prompts\n",
    "            text_types: List of text types (bouba-like/kiki-like)\n",
    "            image_paths: List of paths to images (if None, scan the image folder)\n",
    "            image_types: List of image types (if None, extract from filenames)\n",
    "            \n",
    "        Returns:\n",
    "            List of dicts containing all possible pairs\n",
    "        \"\"\"\n",
    "        if image_paths is None or image_types is None:\n",
    "            image_paths, image_types = self.scan_image_folder()\n",
    "            \n",
    "        pairs = []\n",
    "        for i, img_path in enumerate(image_paths):\n",
    "            img_type = image_types[i]\n",
    "            for j, text in enumerate(text_prompts):\n",
    "                text_type = text_types[j]\n",
    "                pairs.append({\n",
    "                    'image_path': img_path,\n",
    "                    'text_prompt': text,\n",
    "                    'image_type': img_type,\n",
    "                    'text_type': text_type,\n",
    "                    'image_filename': os.path.basename(img_path)\n",
    "                })\n",
    "        return pairs\n",
    "    \n",
    "    def get_sequence_prob(sequence_token_ids, scores):\n",
    "        prob = 1.0\n",
    "        for i, token_id in enumerate(sequence_token_ids):\n",
    "            token_probs = torch.softmax(scores[i], dim=-1)\n",
    "            prob *= token_probs[token_id].item() + 1e-5\n",
    "        return prob\n",
    "    \n",
    "    def compute_llama_probabilities(self, image_path, text_prompt):\n",
    "        \"\"\"\n",
    "        Compute log-probability-based confidence score for a 'yes'/'no' answer from a LLaMA model.\n",
    "\n",
    "        Args:\n",
    "            image_path: Path to the image\n",
    "            text_prompt: Text prompt to pair with image\n",
    "\n",
    "        Returns:\n",
    "            match_probability: Normalized probability that the model would say \"yes\"\n",
    "        \"\"\"\n",
    "        model_info = self.models['llama']\n",
    "        model = model_info['model']\n",
    "        processor = model_info['processor']\n",
    "\n",
    "        image = Image.open(image_path).convert('RGB')\n",
    "\n",
    "        # Prompt setup\n",
    "        messages = [\n",
    "            {\"role\": \"user\", \"content\": [\n",
    "                {\"type\": \"image\"},\n",
    "                {\"type\": \"text\", \"text\":    f\"On a scale from 0 to 100, how well does the abstract word '{text_prompt}' describe the following image? \"\n",
    "                                            \"0 means the word and image have no connection and 100 means the word perfectly fits the image. \"\n",
    "                                            \"Answer only with a single number between 0 and 100. Do not include any other words.\"\n",
    "                    }\n",
    "            ]}\n",
    "        ]\n",
    "\n",
    "        input_text = processor.apply_chat_template(messages, add_generation_prompt=True)\n",
    "\n",
    "        inputs = processor(\n",
    "            image,\n",
    "            input_text,\n",
    "            add_special_tokens=False,\n",
    "            return_tensors=\"pt\"\n",
    "        ).to(model.device)\n",
    "\n",
    "        # Generate with output scores to compute probabilities\n",
    "        with torch.no_grad():\n",
    "            try:\n",
    "                outputs = model.generate(\n",
    "                    **inputs,\n",
    "                    max_new_tokens=5,\n",
    "                    output_scores=True,\n",
    "                    return_dict_in_generate=True,\n",
    "                    temperature=0.7,\n",
    "                    do_sample=True,\n",
    "                    top_p=0.9,\n",
    "                    top_k=40\n",
    "                )\n",
    "\n",
    "                generated_tokens = outputs[0][inputs['input_ids'].size(1):]\n",
    "                generated_text = processor.tokenizer.decode(generated_tokens, skip_special_tokens=True)\n",
    "\n",
    "                scores = outputs.scores # List of logits at each token generation step\n",
    "\n",
    "                generated_text = processor.tokenizer.decode(outputs.sequences[0], skip_special_tokens=True)\n",
    "                print(\"Model output:\", generated_text)\n",
    "\n",
    "                ans = generated_text.split()\n",
    "                print(\"The stripped generated text is: \", ans)\n",
    "                ans = ans[-1]\n",
    "                print(\"The probability is: \", ans)\n",
    "\n",
    "                # Explicitly clean up memory\n",
    "                del outputs, inputs, scores\n",
    "                if torch.cuda.is_available():\n",
    "                    torch.cuda.empty_cache()\n",
    "\n",
    "                try:\n",
    "                    prob = float(ans)\n",
    "                except ValueError:\n",
    "                    prob = np.nan # If LLaMA returns non-integer value\n",
    "\n",
    "                return prob\n",
    "\n",
    "            except Exception as e:\n",
    "                raise Exception(f\"Error in LLaMA generation: {str(e)}\")\n",
    "\n",
    "    def analyze(self, model_name, dataset):\n",
    "        \"\"\"\n",
    "        Analyze all image-text pairs for a given model.\n",
    "        \n",
    "        Args:\n",
    "            model_name: Name of the model to use (only 'llama' is supported)\n",
    "            dataset: List of image-text pairs\n",
    "            \n",
    "        Returns:\n",
    "            DataFrame with results\n",
    "        \"\"\"\n",
    "        if model_name != 'llama':\n",
    "            raise ValueError(f\"Unsupported model: {model_name}. This analyzer only supports 'llama'.\")\n",
    "            \n",
    "        if model_name not in self.models:\n",
    "            self.load_model(model_name)\n",
    "            \n",
    "        for pair in tqdm(dataset, desc=f\"Processing {model_name}\"):\n",
    "            image_path = pair['image_path']\n",
    "            text_prompt = pair['text_prompt']\n",
    "            image_type = pair['image_type']\n",
    "            text_type = pair['text_type']\n",
    "            \n",
    "            # Compute probability\n",
    "            probability = self.compute_llama_probabilities(image_path, text_prompt)\n",
    "            \n",
    "            # Store result\n",
    "            self.results.append({\n",
    "                'model': model_name,\n",
    "                'image_path': image_path,\n",
    "                'text_prompt': text_prompt,\n",
    "                'image_type': image_type,\n",
    "                'text_type': text_type,\n",
    "                'probability': probability,\n",
    "                'congruent': (image_type == 'curved' and text_type == 'bouba-like') or \n",
    "                              (image_type == 'jagged' and text_type == 'kiki-like')\n",
    "            })\n",
    "            \n",
    "        return pd.DataFrame(self.results)\n",
    "    \n",
    "    def calculate_metrics(self, results_df=None):\n",
    "        \"\"\"\n",
    "        Calculate metrics for each model.\n",
    "        \n",
    "        Args:\n",
    "            results_df: Results DataFrame (if None, uses self.results)\n",
    "            \n",
    "        Returns:\n",
    "            DataFrame with metrics\n",
    "        \"\"\"\n",
    "        if results_df is None:\n",
    "            results_df = pd.DataFrame(self.results)\n",
    "            \n",
    "        metrics = []\n",
    "        model_name = 'llama'\n",
    "        model_df = results_df[results_df['model'] == model_name]\n",
    "        \n",
    "        # Calculate average probabilities for congruent and incongruent pairs\n",
    "        congruent_prob = model_df[model_df['congruent']]['probability'].mean()\n",
    "        incongruent_prob = model_df[~model_df['congruent']]['probability'].mean()\n",
    "        \n",
    "        # Calculate bouba-kiki effect strength (difference between congruent and incongruent)\n",
    "        effect_strength = congruent_prob - incongruent_prob\n",
    "        \n",
    "        # Calculate bias towards yes/no\n",
    "        avg_probability = model_df['probability'].mean()\n",
    "        \n",
    "        # Calculate by image and text type\n",
    "        curved_bouba = model_df[(model_df['image_type'] == 'curved') & \n",
    "                               (model_df['text_type'] == 'bouba-like')]['probability'].mean()\n",
    "        curved_kiki = model_df[(model_df['image_type'] == 'curved') & \n",
    "                              (model_df['text_type'] == 'kiki-like')]['probability'].mean()\n",
    "        jagged_bouba = model_df[(model_df['image_type'] == 'jagged') & \n",
    "                               (model_df['text_type'] == 'bouba-like')]['probability'].mean()\n",
    "        jagged_kiki = model_df[(model_df['image_type'] == 'jagged') & \n",
    "                              (model_df['text_type'] == 'kiki-like')]['probability'].mean()\n",
    "        \n",
    "        # Store metrics\n",
    "        metrics.append({\n",
    "            'model': model_name,\n",
    "            'congruent_probability': congruent_prob,\n",
    "            'incongruent_probability': incongruent_prob,\n",
    "            'effect_strength': effect_strength,\n",
    "            'overall_bias': avg_probability - 50.0,\n",
    "            'curved_bouba_prob': curved_bouba,\n",
    "            'curved_kiki_prob': curved_kiki,\n",
    "            'jagged_bouba_prob': jagged_bouba,\n",
    "            'jagged_kiki_prob': jagged_kiki,\n",
    "            'n_samples': len(model_df)\n",
    "        })\n",
    "            \n",
    "        return pd.DataFrame(metrics)\n",
    "    \n",
    "    def summarize_per_image(self, results_df=None):\n",
    "        if results_df is None:\n",
    "            results_df = pd.DataFrame(self.results)\n",
    "\n",
    "        image_summary = (\n",
    "            results_df\n",
    "            .groupby('image_path')\n",
    "            .agg(\n",
    "                n_pairs=('probability', 'count'),\n",
    "                avg_score=('probability', 'mean'),\n",
    "                variance=('probability', 'var'),\n",
    "                std_dev=('probability', 'std'),\n",
    "                curved=('image_type', lambda x: x.iloc[0] == 'curved'),\n",
    "                jagged=('image_type', lambda x: x.iloc[0] == 'jagged')\n",
    "            )\n",
    "            .reset_index()\n",
    "        )\n",
    "\n",
    "        return image_summary\n",
    "\n",
    "if __name__ == \"__main__\":\n",
    "    # Initialize\n",
    "    analyzer = CrossModalAnalyzer(image_folder=\"images\")\n",
    "    text_prompts = final_list\n",
    "    text_types = [\"bouba-like\", \"bouba-like\", \"kiki-like\", \"kiki-like\"]\n",
    "\n",
    "    # Prepare dataset\n",
    "    dataset = analyzer.prepare_dataset(text_prompts, text_types)\n",
    "\n",
    "    # Run analysis\n",
    "    analyzer.analyze(\"llama\", dataset)\n",
    "\n",
    "    ## Change folder to [1,2,3,...]\n",
    "    # Save results\n",
    "    metrics = analyzer.calculate_metrics()\n",
    "    metrics.to_csv(\"10/llama_metrics.csv\", index=False)\n",
    "    \n",
    "    pd.DataFrame(analyzer.results).to_csv(\"10/llama_results.csv\", index=False)\n",
    "\n",
    "    image_stats = analyzer.summarize_per_image()\n",
    "    pd.DataFrame(image_stats).to_csv(\"10/image_stats.csv\", index=False)\n",
    "\n",
    "    print(\"Analysis complete. Results saved to CSV files.\")"
   ]
  }
 ],
 "metadata": {
  "kernelspec": {
   "display_name": "base",
   "language": "python",
   "name": "python3"
  },
  "language_info": {
   "codemirror_mode": {
    "name": "ipython",
    "version": 3
   },
   "file_extension": ".py",
   "mimetype": "text/x-python",
   "name": "python",
   "nbconvert_exporter": "python",
   "pygments_lexer": "ipython3",
   "version": "3.12.7"
  }
 },
 "nbformat": 4,
 "nbformat_minor": 2
}
